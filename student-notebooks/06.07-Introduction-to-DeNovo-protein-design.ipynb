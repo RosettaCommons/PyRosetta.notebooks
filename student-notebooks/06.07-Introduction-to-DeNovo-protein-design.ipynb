{
 "cells": [
  {
   "cell_type": "markdown",
   "metadata": {},
   "source": [
    "Before you turn this problem in, make sure everything runs as expected. First, **restart the kernel** (in the menubar, select Kernel$\\rightarrow$Restart) and then **run all cells** (in the menubar, select Cell$\\rightarrow$Run All).\n",
    "\n",
    "Make sure you fill in any place that says `YOUR CODE HERE` or \"YOUR ANSWER HERE\", as well as your name and collaborators below:"
   ]
  },
  {
   "cell_type": "code",
   "execution_count": null,
   "metadata": {},
   "outputs": [],
   "source": [
    "NAME = \"\"\n",
    "COLLABORATORS = \"\""
   ]
  },
  {
   "cell_type": "markdown",
   "metadata": {},
   "source": [
    "---"
   ]
  },
  {
   "cell_type": "markdown",
   "metadata": {},
   "source": [
    "<!--NOTEBOOK_HEADER-->\n",
    "*This notebook contains material from [PyRosetta](https://RosettaCommons.github.io/PyRosetta.notebooks);\n",
    "content is available [on Github](https://github.com/RosettaCommons/PyRosetta.notebooks.git).*"
   ]
  },
  {
   "cell_type": "markdown",
   "metadata": {},
   "source": [
    "<!--NAVIGATION-->\n",
    "< [*De Novo* Parametric Backbone Design](http://nbviewer.jupyter.org/github/RosettaCommons/PyRosetta.notebooks/blob/master/notebooks/06.06-Introduction-to-Parametric-backbone-design.ipynb) | [Contents](toc.ipynb) | [Index](index.ipynb) | [**Point Mutation Scan**](http://nbviewer.jupyter.org/github/RosettaCommons/PyRosetta.notebooks/blob/master/notebooks/06.08-Point-Mutation-Scan.ipynb) ><p><a href=\"https://colab.research.google.com/github/RosettaCommons/PyRosetta.notebooks/blob/master/notebooks/06.07-Introduction-to-DeNovo-protein-design.ipynb\"><img align=\"left\" src=\"https://colab.research.google.com/assets/colab-badge.svg\" alt=\"Open in Colab\" title=\"Open in Google Colaboratory\"></a>"
   ]
  },
  {
   "cell_type": "markdown",
   "metadata": {},
   "source": [
    "# *De Novo* Protein Design with PyRosetta\n",
    "Keywords:\n",
    "\n",
    "## Overview"
   ]
  },
  {
   "cell_type": "markdown",
   "metadata": {},
   "source": [
    "**Make sure you are in the directory with the `.pdb` files:**\n",
    "\n",
    "`cd google_drive/My\\ Drive/student-notebooks/`"
   ]
  },
  {
   "cell_type": "markdown",
   "metadata": {},
   "source": [
    "*Warning*: This notebook uses `pyrosetta.distributed.viewer` code, which runs in `jupyter notebook` and might not run if you're using `jupyterlab`."
   ]
  },
  {
   "cell_type": "markdown",
   "metadata": {},
   "source": [
    "*Note:* This Jupyter notebook requires the PyRosetta distributed layer which is obtained by building PyRosetta with the `--serialization` flag or installing PyRosetta from the RosettaCommons conda channel (for more information, visit: http://www.pyrosetta.org/dow)."
   ]
  },
  {
   "cell_type": "code",
   "execution_count": null,
   "metadata": {},
   "outputs": [],
   "source": [
    "!pip install pyrosettacolabsetup\n",
    "import pyrosettacolabsetup; pyrosettacolabsetup.install_pyrosetta()\n",
    "import pyrosetta; pyrosetta.init()\n",
    "\n",
    "import Bio.Data.IUPACData as IUPACData\n",
    "import Bio.SeqUtils\n",
    "import logging\n",
    "logging.basicConfig(level=logging.INFO)\n",
    "import os\n",
    "import pyrosetta\n",
    "import pyrosetta.distributed\n",
    "import pyrosetta.distributed.viewer as viewer\n",
    "import site\n",
    "import sys\n",
    "\n"
   ]
  },
  {
   "cell_type": "markdown",
   "metadata": {},
   "source": [
    "Initialize PyRosetta:"
   ]
  },
  {
   "cell_type": "code",
   "execution_count": null,
   "metadata": {},
   "outputs": [],
   "source": [
    "flags = \"\"\"\n",
    "-linmem_ig 10\n",
    "-ignore_unrecognized_res 1\n",
    "-mute core.select.residue_selector.SecondaryStructureSelector\n",
    "-mute core.select.residue_selector.PrimarySequenceNeighborhoodSelector\n",
    "-mute protocols.DsspMover\n",
    "\"\"\"\n",
    "pyrosetta.distributed.init(flags)"
   ]
  },
  {
   "cell_type": "markdown",
   "metadata": {},
   "source": [
    " Let's setup the pose of a *de novo* helical bundle from the PDB for downstream design: https://www.rcsb.org/structure/5J0J"
   ]
  },
  {
   "cell_type": "code",
   "execution_count": null,
   "metadata": {},
   "outputs": [],
   "source": [
    "start_pose = pyrosetta.io.pose_from_file(\"inputs/5J0J.clean.pdb\")\n",
    "pose = start_pose.clone()"
   ]
  },
  {
   "cell_type": "markdown",
   "metadata": {},
   "source": [
    "## Design Strategy \n",
    "\n",
    "Minimize the crystal structure coordinates, then convert chain \"A\" to poly-alanine, and then perform one-sided protein-protein interface design designing chain A while only re-packing the homotrimer interface residues of chains B and C! Therefore, we are designing a homotrimer into a heterotrimer. Furthermore, prevent backbone torsions from minimizing and only minimize the side-chains of the homotrimer interface and all of chain A using the `FastDesign` mover! After design, repack and minimize all side-chains."
   ]
  },
  {
   "cell_type": "markdown",
   "metadata": {},
   "source": [
    " Prior to and after design, we want to relax the protein with a scorefunction that packs the rotamers and minimizes the side-chain degrees of freedom while optimizing for realistic energies. If you were to allow backbone minimization (which you may optionally choose to), we would want use a Cartesian scorefunction (in this case, `ref2015_cart.wts`) which automatically sets `cart_bonded` scoreterm to a weight of 1.0, which helps to close chain breaks in the backbone. Similarly, you might want to also turn on the `coordinate_constraint` scoreterm to penalize deviations of the backbone coordinates from their initial coordinates during minimization. In this tutorial, we demonstrate that concept but will prevent backbone torsions from being minimized (however, feel free to turn on backbone minimization!):"
   ]
  },
  {
   "cell_type": "code",
   "execution_count": null,
   "metadata": {},
   "outputs": [],
   "source": [
    "relax_scorefxn = pyrosetta.create_score_function(\"ref2015_cart.wts\")\n",
    "relax_scorefxn.set_weight(pyrosetta.rosetta.core.scoring.ScoreType.coordinate_constraint, 1.0)\n",
    "print(\"The starting pose total_score is {}\".format(relax_scorefxn(start_pose)))"
   ]
  },
  {
   "cell_type": "markdown",
   "metadata": {},
   "source": [
    " For *design*, if we allowed backbone minimzation we again would turn on the `coordinate_constraint` scoreterm to penalize deviations of the backbone coordinates from their initial coordinates during minimization. Additionally, we will use \"non-pairwise decomposable\" scoreterms to guide the packer trajectories (i.e. fixed backbone sequence design trajectories) in favor of our hypothetical design requirements to solve our biological problem. In this tutorial, we will make use of the following additional scoreterms during design:\n",
    "- `aa_composition`: This scoring term is intended for use during design, to penalize deviations from a desired residue type composition. Applies to any amino acid composition requirements specified by the user within a ResidueSelector. This scoreterm also applies to the `AddHelixSequenceConstraints` mover which sets up ideal sequence constraints for each helix in a pose or in a selection.\n",
    "- `voids_penalty`: This scoring term is intended for use during design, to penalize buried voids or cavities and to guide the packer to design solutions in which all buried volume is filled with side-chains.\n",
    "- `aa_repeat`: This wholebody scoring term is intended for use during design, to penalize long stretches in which the same residue type repeats over and over (e.g. poly-Q sequences). \n",
    "- `buried_unsatisfied_penalty`: This scoring term is intended for use during design, to provide a penalty for buried hydrogen bond donors or acceptors that are unsatisfied. \n",
    "- `netcharge`: This scoring term is intended for use during design, to penalize deviations from a desired net charge in a pose or in a selection.\n",
    "- `hbnet`: This scoring term is intended for use during design, to provide a bonus for hydrogen bond network formation."
   ]
  },
  {
   "cell_type": "code",
   "execution_count": null,
   "metadata": {},
   "outputs": [],
   "source": [
    "design_scorefxn = pyrosetta.create_score_function(\"ref2015_cart.wts\")\n",
    "design_scorefxn.set_weight(pyrosetta.rosetta.core.scoring.ScoreType.coordinate_constraint, 10.0)\n",
    "design_scorefxn.set_weight(pyrosetta.rosetta.core.scoring.ScoreType.aa_composition, 1.0)\n",
    "design_scorefxn.set_weight(pyrosetta.rosetta.core.scoring.ScoreType.voids_penalty, 0.25)\n",
    "design_scorefxn.set_weight(pyrosetta.rosetta.core.scoring.ScoreType.aa_repeat, 1.0)\n",
    "design_scorefxn.set_weight(pyrosetta.rosetta.core.scoring.ScoreType.buried_unsatisfied_penalty, 1.0)\n",
    "design_scorefxn.set_weight(pyrosetta.rosetta.core.scoring.ScoreType.hbnet, 1.0)\n",
    "design_scorefxn.set_weight(pyrosetta.rosetta.core.scoring.ScoreType.netcharge, 1.0)\n",
    "print(\"The starting pose total_score is {}\".format(design_scorefxn(start_pose)))"
   ]
  },
  {
   "cell_type": "markdown",
   "metadata": {},
   "source": [
    " By using the `relax_scorefxn` before and after the `design_scorefxn`, we ensure that these \"non-pairwise decomposable\" scoreterms are not forcing unrealistic rotamers that would otherwise not be held in place without these additional scoreterms."
   ]
  },
  {
   "cell_type": "markdown",
   "metadata": {},
   "source": [
    " Prior to any deviation from crystal structure coordinates, apply coordinate constraints to all of the backbone heavy atoms:"
   ]
  },
  {
   "cell_type": "code",
   "execution_count": null,
   "metadata": {},
   "outputs": [],
   "source": [
    "true_selector = pyrosetta.rosetta.core.select.residue_selector.TrueResidueSelector() # Select all residues\n",
    "\n",
    "# Apply a virtual root onto the pose to prevent large lever-arm effects while minimizing with coordinate constraints\n",
    "virtual_root = pyrosetta.rosetta.protocols.simple_moves.VirtualRootMover()\n",
    "virtual_root.set_removable(True)\n",
    "virtual_root.set_remove(False)\n",
    "virtual_root.apply(pose)\n",
    "\n",
    "# Construct the CoordinateConstraintGenerator\n",
    "coord_constraint_gen = pyrosetta.rosetta.protocols.constraint_generator.CoordinateConstraintGenerator()\n",
    "coord_constraint_gen.set_id(\"contrain_all_backbone_atoms!\")\n",
    "coord_constraint_gen.set_ambiguous_hnq(False)\n",
    "coord_constraint_gen.set_bounded(False)\n",
    "coord_constraint_gen.set_sidechain(False)\n",
    "coord_constraint_gen.set_sd(1.0) # Sets a standard deviation of contrained atoms to (an arbitrary) 1.0 Angstroms RMSD. Set higher or lower for different results.\n",
    "coord_constraint_gen.set_ca_only(False)\n",
    "coord_constraint_gen.set_residue_selector(true_selector)\n",
    "\n",
    "# Apply the CoordinateConstraintGenerator using the AddConstraints mover\n",
    "add_constraints = pyrosetta.rosetta.protocols.constraint_generator.AddConstraints()\n",
    "add_constraints.add_generator(coord_constraint_gen)\n",
    "add_constraints.apply(pose)"
   ]
  },
  {
   "cell_type": "markdown",
   "metadata": {},
   "source": [
    " Prior to design, minimize with the `FastRelax` mover to optimize the pose within the `relax_scorefxn` scorefunction. Note: this takes ~1min 10s"
   ]
  },
  {
   "cell_type": "code",
   "execution_count": null,
   "metadata": {},
   "outputs": [],
   "source": [
    "tf = pyrosetta.rosetta.core.pack.task.TaskFactory()\n",
    "tf.push_back(pyrosetta.rosetta.core.pack.task.operation.InitializeFromCommandline())\n",
    "tf.push_back(pyrosetta.rosetta.core.pack.task.operation.IncludeCurrent())\n",
    "tf.push_back(pyrosetta.rosetta.core.pack.task.operation.NoRepackDisulfides())\n",
    "tf.push_back(pyrosetta.rosetta.core.pack.task.operation.OperateOnResidueSubset(\n",
    "    pyrosetta.rosetta.core.pack.task.operation.PreventRepackingRLT(), true_selector)) # Set to RestrictToRepackingRLT for slower/better results\n",
    "mm = pyrosetta.rosetta.core.kinematics.MoveMap()\n",
    "mm.set_bb(False) # Set to true if desired\n",
    "mm.set_chi(True)\n",
    "mm.set_jump(False)\n",
    "fast_relax = pyrosetta.rosetta.protocols.relax.FastRelax(scorefxn_in=relax_scorefxn, standard_repeats=1) # 2-5 repeats suggested for real applications\n",
    "fast_relax.cartesian(True)\n",
    "fast_relax.set_task_factory(tf)\n",
    "fast_relax.set_movemap(mm)\n",
    "fast_relax.minimize_bond_angles(True)\n",
    "fast_relax.minimize_bond_lengths(True)\n",
    "fast_relax.min_type(\"lbfgs_armijo_nonmonotone\")\n",
    "fast_relax.ramp_down_constraints(False)\n",
    "\n",
    "if not os.getenv(\"DEBUG\"):\n",
    "    %time fast_relax.apply(pose)\n",
    "\n",
    "# Optionally, instead of running this you could reload the saved pose from a previously run trajectory:\n",
    "#pose = pyrosetta.pose_from_file(\"minimized_start_pose.pdb\")"
   ]
  },
  {
   "cell_type": "markdown",
   "metadata": {},
   "source": [
    " Let's check the delta `total_score` per residue after minimizing in the `relax_scorefxn` scorefunction:"
   ]
  },
  {
   "cell_type": "code",
   "execution_count": null,
   "metadata": {},
   "outputs": [],
   "source": [
    "if not os.getenv(\"DEBUG\"):\n",
    "    initial_score_res = relax_scorefxn(start_pose)/start_pose.size()\n",
    "    final_score_res = relax_scorefxn(pose)/pose.size()\n",
    "    delta_total_score_res = final_score_res - initial_score_res\n",
    "    print(\"{0} kcal/(mol*res) - {1} kcal/(mol*res) = {2} kcal/(mol*res)\".format(final_score_res, initial_score_res, delta_total_score_res))"
   ]
  },
  {
   "cell_type": "markdown",
   "metadata": {},
   "source": [
    " We can see that the crystal structure coordinates were not quite optimal according to the `relax_scorefxn` scorefunction. So which model is correct?\n",
    "\n",
    "By how many Angstroms RMSD did the backbone Cα atoms move?"
   ]
  },
  {
   "cell_type": "code",
   "execution_count": null,
   "metadata": {
    "deletable": false,
    "nbgrader": {
     "cell_type": "code",
     "checksum": "e32058b3c1f4bf597cf22bb74e5e7d20",
     "grade": true,
     "grade_id": "cell-8da10817eefb8d88",
     "locked": false,
     "points": 0,
     "schema_version": 3,
     "solution": true
    }
   },
   "outputs": [],
   "source": [
    "# YOUR CODE HERE\n",
    "raise NotImplementedError()"
   ]
  },
  {
   "cell_type": "markdown",
   "metadata": {},
   "source": [
    " For downstream analysis, we want to save the pose:"
   ]
  },
  {
   "cell_type": "code",
   "execution_count": null,
   "metadata": {},
   "outputs": [],
   "source": [
    "minimized_start_pose = pose.clone()\n",
    "pyrosetta.dump_pdb(minimized_start_pose, \"outputs/minimized_start_pose.pdb\")"
   ]
  },
  {
   "cell_type": "markdown",
   "metadata": {},
   "source": [
    "## *De Novo* Protein Design\n",
    "\n",
    "Prior to designing chain A, first let's make chain A poly-alanine so that we can re-design the sidechains onto the backbone:"
   ]
  },
  {
   "cell_type": "code",
   "execution_count": null,
   "metadata": {},
   "outputs": [],
   "source": [
    "# Since we will do direct pose manipulation, first remove the constraints\n",
    "remove_constraints = pyrosetta.rosetta.protocols.constraint_generator.RemoveConstraints()\n",
    "remove_constraints.add_generator(coord_constraint_gen)\n",
    "remove_constraints.apply(pose)"
   ]
  },
  {
   "cell_type": "markdown",
   "metadata": {},
   "source": [
    " Obtain chain A and convert it to poly-alanine"
   ]
  },
  {
   "cell_type": "code",
   "execution_count": null,
   "metadata": {},
   "outputs": [],
   "source": [
    "keep_chA = pyrosetta.rosetta.protocols.grafting.simple_movers.KeepRegionMover(res_start=str(pose.chain_begin(1)), res_end=str(pose.chain_end(1)))\n",
    "keep_chA.apply(pose)\n",
    "polyA_chA = pyrosetta.rosetta.protocols.pose_creation.MakePolyXMover(aa=\"ALA\", keep_pro=0, keep_gly=0, keep_disulfide_cys=0)\n",
    "polyA_chA.apply(pose)"
   ]
  },
  {
   "cell_type": "markdown",
   "metadata": {},
   "source": [
    " Obtain chains B and C"
   ]
  },
  {
   "cell_type": "code",
   "execution_count": null,
   "metadata": {},
   "outputs": [],
   "source": [
    "pose_chBC = minimized_start_pose.clone()\n",
    "keep_chBC = pyrosetta.rosetta.protocols.grafting.simple_movers.KeepRegionMover(res_start=str(pose_chBC.chain_begin(2)), res_end=str(pose_chBC.chain_end(3)-1))\n",
    "keep_chBC.apply(pose_chBC)"
   ]
  },
  {
   "cell_type": "markdown",
   "metadata": {},
   "source": [
    " Append chains B and C onto the poly-alanine version of chain A"
   ]
  },
  {
   "cell_type": "code",
   "execution_count": null,
   "metadata": {},
   "outputs": [],
   "source": [
    "pyrosetta.rosetta.core.pose.append_pose_to_pose(pose1=pose, pose2=pose_chBC, new_chain=True)"
   ]
  },
  {
   "cell_type": "markdown",
   "metadata": {},
   "source": [
    " Pose is now considered to have only 2 chains."
   ]
  },
  {
   "cell_type": "code",
   "execution_count": null,
   "metadata": {},
   "outputs": [],
   "source": [
    "pose.num_chains()"
   ]
  },
  {
   "cell_type": "markdown",
   "metadata": {},
   "source": [
    " Let's re-establish that there are 3 chains."
   ]
  },
  {
   "cell_type": "code",
   "execution_count": null,
   "metadata": {},
   "outputs": [],
   "source": [
    "switch_chains = pyrosetta.rosetta.protocols.simple_moves.SwitchChainOrderMover()\n",
    "switch_chains.chain_order(\"12\")\n",
    "switch_chains.apply(pose)\n",
    "\n",
    "print(pose.pdb_info())\n",
    "print(\"Now the number of chains = {}\".format(pose.num_chains()))"
   ]
  },
  {
   "cell_type": "markdown",
   "metadata": {},
   "source": [
    " Re-apply backbone coordinate constraints:"
   ]
  },
  {
   "cell_type": "code",
   "execution_count": null,
   "metadata": {},
   "outputs": [],
   "source": [
    "virtual_root.apply(pose)\n",
    "add_constraints.apply(pose)"
   ]
  },
  {
   "cell_type": "markdown",
   "metadata": {},
   "source": [
    " Have a look at the new pose, chain A in which is ready to be designed!"
   ]
  },
  {
   "cell_type": "markdown",
   "metadata": {},
   "source": [
    " Next, we need to apply certain movers with our design specifications to activate certain non-pairwise decomposable scoreterms in the `design_scorefxn` scorefunction, that will be implemented when we run the `FastDesign` mover (or any downstream mover that calls the packer).\n",
    "\n",
    " We will frequently be using the following residue selectors:"
   ]
  },
  {
   "cell_type": "code",
   "execution_count": null,
   "metadata": {},
   "outputs": [],
   "source": [
    "chain_A = pyrosetta.rosetta.core.select.residue_selector.ChainSelector(\"A\")\n",
    "chain_BC = pyrosetta.rosetta.core.select.residue_selector.NotResidueSelector(chain_A)"
   ]
  },
  {
   "cell_type": "markdown",
   "metadata": {},
   "source": [
    " Apply the `AddCompositionConstraintMover` mover, which utilizes the `aa_composition` scoreterm. Applying the following mover to the pose imposes the design constraints that the ResidueSelector have 40% aliphatic or aromatic residues other than leucine (i.e. ALA, PHE, ILE, MET, PRO, VAL, TRP, or TYR), and 5% leucines. For documentation, see: https://www.rosettacommons.org/docs/latest/rosetta_basics/scoring/AACompositionEnergy"
   ]
  },
  {
   "cell_type": "code",
   "execution_count": null,
   "metadata": {},
   "outputs": [],
   "source": [
    "add_composition_constraint = pyrosetta.rosetta.protocols.aa_composition.AddCompositionConstraintMover()\n",
    "add_composition_constraint.create_constraint_from_file_contents(\"\"\"\n",
    "PENALTY_DEFINITION\n",
    "OR_PROPERTIES AROMATIC ALIPHATIC\n",
    "NOT_TYPE LEU\n",
    "FRACT_DELTA_START -0.05\n",
    "FRACT_DELTA_END 0.05\n",
    "PENALTIES 1 0 1 # The above two lines mean that if we're 5% below or 5% above the desired content, we get a 1-point penalty.\n",
    "FRACTION 0.4 # Forty percent aromatic or aliphatic, but not leucine\n",
    "BEFORE_FUNCTION CONSTANT\n",
    "AFTER_FUNCTION CONSTANT\n",
    "END_PENALTY_DEFINITION\n",
    "\n",
    "PENALTY_DEFINITION\n",
    "TYPE LEU\n",
    "DELTA_START -1\n",
    "DELTA_END 1\n",
    "PENALTIES 1 0 1\n",
    "FRACTION 0.05 # Five percent leucine\n",
    "BEFORE_FUNCTION CONSTANT\n",
    "AFTER_FUNCTION CONSTANT\n",
    "END_PENALTY_DEFINITION\n",
    "\"\"\")\n",
    "add_composition_constraint.add_residue_selector(chain_A)\n",
    "add_composition_constraint.apply(pose)"
   ]
  },
  {
   "cell_type": "markdown",
   "metadata": {},
   "source": [
    " Apply the `AddHelixSequenceConstraints` mover, which utilizes the `aa_composition` scoreterm. By default, this mover adds five types of sequence constraints to the designable residues in each alpha helix in the pose. Any of these behaviours may be disabled or modified by invoking advanced options, but no advanced options need be set in most cases. The five types of sequence constraints are:\n",
    "\n",
    "- A strong sequence constraint requiring at least two negatively-charged residues in the first (N-terminal) three residues of each alpha-helix.\n",
    "\n",
    "- A strong sequence constraint requiring at least two positively-charged residues in the last (C-terminal) three residues of each alpha-helix.\n",
    "\n",
    "- A weak but strongly ramping sequence constraint penalizing helix-disfavoring residue types (by default, Asn, Asp, Ser, Gly, Thr, and Val) throughout each helix. (A single such residue is sometimes tolerated, but the penalty for having more than one residue in this category increases quadratically with the count of helix-disfavouring residues.)\n",
    "\n",
    "- A weak sequence constraint coaxing the helix to have 10% alanine. Because this constraint is weak, deviations from this value are tolerated, but this should prevent an excessive abundance of alanine residues.\n",
    "\n",
    "- A weak sequence constraint coaxing the helix to have at least 25% hydrophobic content. This constraint is also weak, so slightly less hydrophobic helices will be tolerated to some degree. Note that alanine is not considered to be \"hydrophobic\" within Rosetta. \n",
    "\n",
    "### For documentation, see: https://www.rosettacommons.org/docs/latest/rosetta_basics/scoring/AACompositionEnergy"
   ]
  },
  {
   "cell_type": "code",
   "execution_count": null,
   "metadata": {},
   "outputs": [],
   "source": [
    "add_helix_sequence_constraints = pyrosetta.rosetta.protocols.aa_composition.AddHelixSequenceConstraintsMover()\n",
    "add_helix_sequence_constraints.set_residue_selector(chain_A)\n",
    "add_helix_sequence_constraints.apply(pose)"
   ]
  },
  {
   "cell_type": "markdown",
   "metadata": {},
   "source": [
    "Note: the `aa_repeat` scoreterm works out-of-the-box, and does not need to be applied to the pose to work, it just needs to have a weight of >0 in the scorefunction used by the packer. It imposes a penalty for each stretch of repeating amino acids, with the penalty value depending nonlinearly on the length of the repeating stretch. By default, 1- or 2-residue stretches incur no penalty, 3-residue stretches incur a penalty of +1, 4-residue stretches incur a penalty of +10, and 5-residue stretches or longer incur a penalty of +100. Since the term is sequence-based, it is really only useful for design -- that is, it will impose an identical penalty for a fixed-sequence pose, regardless its conformation. This also means that the term has no conformational derivatives: the minimizer ignores it completely. The term is not pairwise-decomposible, but has been made packer-compatible, so it can direct the sequence composition during a packer run. For documentation, see: https://www.rosettacommons.org/docs/latest/rosetta_basics/scoring/Repeat-stretch-energy"
   ]
  },
  {
   "cell_type": "markdown",
   "metadata": {},
   "source": [
    " Similarly, the `voids_penalty` scoreterm does not need to be applied to the pose to work, it just needs to have a weight of >0 in the scorefunction used by the packer. For documentation, see: https://www.rosettacommons.org/docs/latest/rosetta_basics/scoring/VoidsPenaltyEnergy"
   ]
  },
  {
   "cell_type": "markdown",
   "metadata": {},
   "source": [
    " Similarly, the `buried_unsatisfied_penalty` scoreterm does not need to be applied to the pose to work, it just needs to have a weight of >0 in the scorefunction used by the packer. For documentation, see: https://www.rosettacommons.org/docs/latest/rosetta_basics/scoring/BuriedUnsatPenalty"
   ]
  },
  {
   "cell_type": "markdown",
   "metadata": {},
   "source": [
    " Similarly, the `hbnet` scoreterm does not need to be applied to the pose to work, it just needs to have a weight of >0 (ideally between 1.0 to 10.0) in the scorefunction used by the packer. For documentation, see: https://www.rosettacommons.org/docs/latest/rosetta_basics/scoring/HBNetEnergy"
   ]
  },
  {
   "cell_type": "markdown",
   "metadata": {},
   "source": [
    " Apply the `AddNetChargeConstraintMover` mover, which utilizes the `netcharge` scoreterm. In this case, we require that the net charge in chain A must be exactly 0."
   ]
  },
  {
   "cell_type": "code",
   "execution_count": null,
   "metadata": {},
   "outputs": [],
   "source": [
    "add_net_charge_constraint = pyrosetta.rosetta.protocols.aa_composition.AddNetChargeConstraintMover()\n",
    "add_net_charge_constraint.create_constraint_from_file_contents(\"\"\"\n",
    "DESIRED_CHARGE 0 #Desired net charge is zero.\n",
    "PENALTIES_CHARGE_RANGE -1 1 #Penalties are listed in the observed net charge range of -1 to +1.\n",
    "PENALTIES 1 0 1 #The penalties are 1 for an observed charge of -1, 0 for an observed charge of 0, and 1 for an observed charge of +1.\n",
    "BEFORE_FUNCTION QUADRATIC #Ramp quadratically for observed net charges of -2 or less.\n",
    "AFTER_FUNCTION QUADRATIC #Ramp quadratically for observed net charges of +2 or greater.\n",
    "\"\"\")\n",
    "add_net_charge_constraint.add_residue_selector(chain_A)\n",
    "add_net_charge_constraint.apply(pose)"
   ]
  },
  {
   "cell_type": "markdown",
   "metadata": {},
   "source": [
    " Specify a custom `relaxscript` that optimizes the `ramp_repack_min` weights to prevent too many alanines from being designed (demonstrated at Pre-RosettaCON 2018):"
   ]
  },
  {
   "cell_type": "markdown",
   "metadata": {},
   "source": [
    " Specify TaskOperations to be applied to chain A. In this case, let's use the latest LayerDesign implementation (Note: this is still being actively developed) using the XmlObjects class."
   ]
  },
  {
   "cell_type": "code",
   "execution_count": null,
   "metadata": {},
   "outputs": [],
   "source": [
    "layer_design_task = pyrosetta.rosetta.protocols.rosetta_scripts.XmlObjects.create_from_string(\"\"\"\n",
    "<RESIDUE_SELECTORS>\n",
    "  <Layer name=\"surface\" select_core=\"false\" select_boundary=\"false\" select_surface=\"true\" use_sidechain_neighbors=\"true\"/>\n",
    "  <Layer name=\"boundary\" select_core=\"false\" select_boundary=\"true\" select_surface=\"false\" use_sidechain_neighbors=\"true\"/>\n",
    "  <Layer name=\"core\" select_core=\"true\" select_boundary=\"false\" select_surface=\"false\" use_sidechain_neighbors=\"true\"/>\n",
    "  <SecondaryStructure name=\"sheet\" overlap=\"0\" minH=\"3\" minE=\"2\" include_terminal_loops=\"false\" use_dssp=\"true\" ss=\"E\"/>\n",
    "  <SecondaryStructure name=\"entire_loop\" overlap=\"0\" minH=\"3\" minE=\"2\" include_terminal_loops=\"true\" use_dssp=\"true\" ss=\"L\"/>\n",
    "  <SecondaryStructure name=\"entire_helix\" overlap=\"0\" minH=\"3\" minE=\"2\" include_terminal_loops=\"false\" use_dssp=\"true\" ss=\"H\"/>\n",
    "  <And name=\"helix_cap\" selectors=\"entire_loop\">\n",
    "   <PrimarySequenceNeighborhood lower=\"1\" upper=\"0\" selector=\"entire_helix\"/>\n",
    "  </And>\n",
    "  <And name=\"helix_start\" selectors=\"entire_helix\">\n",
    "    <PrimarySequenceNeighborhood lower=\"0\" upper=\"1\" selector=\"helix_cap\"/>\n",
    "  </And>\n",
    "  <And name=\"helix\" selectors=\"entire_helix\">\n",
    "    <Not selector=\"helix_start\"/>\n",
    "  </And>\n",
    "  <And name=\"loop\" selectors=\"entire_loop\">\n",
    "    <Not selector=\"helix_cap\"/>\n",
    "  </And>\n",
    "</RESIDUE_SELECTORS>\n",
    "<TASKOPERATIONS>\n",
    "  <DesignRestrictions name=\"layer_design\">\n",
    "    <Action selector_logic=\"surface AND helix_start\" aas=\"EHKPQR\"/>\n",
    "    <Action selector_logic=\"surface AND helix\" aas=\"EHKQR\"/>\n",
    "    <Action selector_logic=\"surface AND sheet\" aas=\"DEHKNQRST\"/>\n",
    "    <Action selector_logic=\"surface AND loop\" aas=\"DEGHKNPQRST\"/>\n",
    "    <Action selector_logic=\"boundary AND helix_start\" aas=\"ADEIKLMNPQRSTVWY\"/>\n",
    "    <Action selector_logic=\"boundary AND helix\" aas=\"ADEIKLMNQRSTVWY\"/>\n",
    "    <Action selector_logic=\"boundary AND sheet\" aas=\"DEFIKLNQRSTVWY\"/>\n",
    "    <Action selector_logic=\"boundary AND loop\" aas=\"ADEFGIKLMNPQRSTVWY\"/>\n",
    "    <Action selector_logic=\"core AND helix_start\" aas=\"AFILMPVWY\"/>\n",
    "    <Action selector_logic=\"core AND helix\" aas=\"AFILMVWY\"/>\n",
    "    <Action selector_logic=\"core AND sheet\" aas=\"FILVWY\"/>\n",
    "    <Action selector_logic=\"core AND loop\" aas=\"AFGILMPVWY\"/>\n",
    "    <Action selector_logic=\"helix_cap\" aas=\"DNST\"/>\n",
    "  </DesignRestrictions>\n",
    "</TASKOPERATIONS>\n",
    "\"\"\").get_task_operation(\"layer_design\")"
   ]
  },
  {
   "cell_type": "markdown",
   "metadata": {},
   "source": [
    " Also prepare a ResidueSelector for the heterotrimer interface within chains B and C, and the rest of chains B and C. We will use these with `RestrictAbsentCanonicalAASRLT`, `RestrictToRepackingRLT`, and `PreventRepackingRLT` TaskOperations:"
   ]
  },
  {
   "cell_type": "code",
   "execution_count": null,
   "metadata": {},
   "outputs": [],
   "source": [
    "interface = pyrosetta.rosetta.core.select.residue_selector.InterGroupInterfaceByVectorSelector()\n",
    "interface.group1_selector(chain_A)\n",
    "interface.group2_selector(chain_BC)\n",
    "chain_BC_interface = pyrosetta.rosetta.core.select.residue_selector.AndResidueSelector(interface, chain_BC)\n",
    "not_chain_BC_interface = pyrosetta.rosetta.core.select.residue_selector.NotResidueSelector(chain_BC_interface)\n",
    "chain_BC_not_interface = pyrosetta.rosetta.core.select.residue_selector.AndResidueSelector(not_chain_BC_interface, chain_BC)"
   ]
  },
  {
   "cell_type": "markdown",
   "metadata": {},
   "source": [
    " For minimization, we also need the following ResidueSelector:"
   ]
  },
  {
   "cell_type": "code",
   "execution_count": null,
   "metadata": {},
   "outputs": [],
   "source": [
    "chain_A_and_BC_interface = pyrosetta.rosetta.core.select.residue_selector.OrResidueSelector(chain_A, chain_BC_interface)"
   ]
  },
  {
   "cell_type": "markdown",
   "metadata": {},
   "source": [
    " Make sure each ResidueSelector selects the regions as desired (in the following case, the `ResidueSelector` `interface` is visualized:"
   ]
  },
  {
   "cell_type": "code",
   "execution_count": null,
   "metadata": {},
   "outputs": [],
   "source": [
    "view = viewer.init(pose) \\\n",
    "    + viewer.setStyle() \\\n",
    "    + viewer.setStyle(residue_selector=interface, colorscheme=\"greyCarbon\")\n",
    "view()"
   ]
  },
  {
   "cell_type": "markdown",
   "metadata": {},
   "source": [
    " Create TaskFactory to be used with the `FastRelax` mover (We use this instead of the FastDesign mover as the constructor allows us to set a relax script):"
   ]
  },
  {
   "cell_type": "code",
   "execution_count": null,
   "metadata": {},
   "outputs": [],
   "source": [
    "tf.clear()\n",
    "tf = pyrosetta.rosetta.core.pack.task.TaskFactory()\n",
    "\n",
    "tf.push_back(pyrosetta.rosetta.core.pack.task.operation.InitializeFromCommandline())\n",
    "tf.push_back(pyrosetta.rosetta.core.pack.task.operation.IncludeCurrent())\n",
    "tf.push_back(pyrosetta.rosetta.core.pack.task.operation.NoRepackDisulfides())\n",
    "\n",
    "# Prevent repacking on chain_BC_not_interface\n",
    "tf.push_back(pyrosetta.rosetta.core.pack.task.operation.OperateOnResidueSubset(\n",
    "    pyrosetta.rosetta.core.pack.task.operation.PreventRepackingRLT(), chain_BC_not_interface))\n",
    "\n",
    "# Repack only on chain_BC_interface\n",
    "tf.push_back(pyrosetta.rosetta.core.pack.task.operation.OperateOnResidueSubset(\n",
    "    pyrosetta.rosetta.core.pack.task.operation.RestrictToRepackingRLT(), chain_BC_interface))\n",
    "\n",
    "# Enable design on chain_A\n",
    "aa_to_design = pyrosetta.rosetta.core.pack.task.operation.RestrictAbsentCanonicalAASRLT()\n",
    "aa_to_design.aas_to_keep(\"ACDEFGHIKLMNPQRSTVWY\")\n",
    "tf.push_back(pyrosetta.rosetta.core.pack.task.operation.OperateOnResidueSubset(\n",
    "    aa_to_design, chain_A))\n",
    "\n",
    "# Apply layer design\n",
    "tf.push_back(layer_design_task)\n",
    "\n",
    "# Convert the task factory into a PackerTask\n",
    "packer_task = tf.create_task_and_apply_taskoperations(pose)\n",
    "# View the PackerTask\n",
    "print(packer_task)"
   ]
  },
  {
   "cell_type": "markdown",
   "metadata": {},
   "source": [
    "The PackerTask looks as intended. Now setup the `MoveMapFactory`:"
   ]
  },
  {
   "cell_type": "code",
   "execution_count": null,
   "metadata": {},
   "outputs": [],
   "source": [
    "# Set up a MoveMapFactory\n",
    "mmf = pyrosetta.rosetta.core.select.movemap.MoveMapFactory()\n",
    "mmf.all_bb(setting=False)  # Set to true if needed\n",
    "mmf.all_bondangles(setting=False)\n",
    "mmf.all_bondlengths(setting=False)\n",
    "mmf.all_chi(setting=True)\n",
    "mmf.all_jumps(setting=False)\n",
    "mmf.set_cartesian(setting=False)\n",
    "\n",
    "# Set movemap actions to turn on or off certain torsions, overriding the above defaults\n",
    "enable = pyrosetta.rosetta.core.select.movemap.move_map_action.mm_enable\n",
    "disable = pyrosetta.rosetta.core.select.movemap.move_map_action.mm_disable\n",
    "\n",
    "# Set custom minimizable torsions\n",
    "mmf.add_bondangles_action(action=enable, selector=chain_A_and_BC_interface)\n",
    "mmf.add_bondlengths_action(action=enable, selector=chain_A_and_BC_interface)\n",
    "mmf.add_chi_action(action=enable, selector=chain_A_and_BC_interface)\n",
    "\n",
    "mmf.add_bondangles_action(action=disable, selector=chain_BC_not_interface)\n",
    "mmf.add_bondlengths_action(action=disable, selector=chain_BC_not_interface)\n",
    "mmf.add_chi_action(action=disable, selector=chain_BC_not_interface)"
   ]
  },
  {
   "cell_type": "markdown",
   "metadata": {},
   "source": [
    " Now let's double-check some more `pose` information to verify that we are ready for `FastDesign`:"
   ]
  },
  {
   "cell_type": "code",
   "execution_count": null,
   "metadata": {},
   "outputs": [],
   "source": [
    "display_pose = pyrosetta.rosetta.protocols.fold_from_loops.movers.DisplayPoseLabelsMover()\n",
    "display_pose.tasks(tf)\n",
    "display_pose.movemap_factory(mmf)\n",
    "display_pose.apply(pose)"
   ]
  },
  {
   "cell_type": "markdown",
   "metadata": {},
   "source": [
    " We are ready to setup the `FastRelax` mover:"
   ]
  },
  {
   "cell_type": "code",
   "execution_count": null,
   "metadata": {},
   "outputs": [],
   "source": [
    "#fast_design = pyrosetta.rosetta.protocols.denovo_design.movers.FastDesign(scorefxn_in=design_scorefxn, standard_repeats=1) # 2-5 repeats suggested for real applications\n",
    "fast_design = pyrosetta.rosetta.protocols.relax.FastRelax(scorefxn_in=design_scorefxn, standard_repeats=1, script_file=\"KillA2019\")\n",
    "fast_design.cartesian(False)\n",
    "fast_design.set_task_factory(tf)\n",
    "fast_design.set_movemap_factory(mmf)\n",
    "fast_design.min_type(\"lbfgs_armijo_nonmonotone\")\n",
    "fast_design.ramp_down_constraints(False)"
   ]
  },
  {
   "cell_type": "markdown",
   "metadata": {},
   "source": [
    "Note that this takes ~37min 13s:"
   ]
  },
  {
   "cell_type": "code",
   "execution_count": null,
   "metadata": {},
   "outputs": [],
   "source": [
    "if not os.getenv(\"DEBUG\"):\n",
    "    %time fast_design.apply(pose)\n",
    "    # Optionally, instead of running this you could reload the saved pose from a previously run trajectory:\n",
    "    pose = pyrosetta.pose_from_file(\"expected_outputs/designed_pose.pdb\")"
   ]
  },
  {
   "cell_type": "markdown",
   "metadata": {},
   "source": [
    " Save this pose for downstream reference:"
   ]
  },
  {
   "cell_type": "code",
   "execution_count": null,
   "metadata": {},
   "outputs": [],
   "source": [
    "if not os.getenv(\"DEBUG\"):\n",
    "    designed_pose = pose.clone()\n",
    "    #pyrosetta.dump_pdb(designed_pose, \"outputs/designed_pose.pdb\")"
   ]
  },
  {
   "cell_type": "markdown",
   "metadata": {},
   "source": [
    " Now that we have re-designed chain A, it is strongly recommended to use `FastRelax` with a Cartesian scorefunction to repack and minimize with a realistic scorefuction. Note: this takes ~6min 27s"
   ]
  },
  {
   "cell_type": "code",
   "execution_count": null,
   "metadata": {},
   "outputs": [],
   "source": [
    "tf.clear()\n",
    "tf = pyrosetta.rosetta.core.pack.task.TaskFactory()\n",
    "tf.push_back(pyrosetta.rosetta.core.pack.task.operation.InitializeFromCommandline())\n",
    "tf.push_back(pyrosetta.rosetta.core.pack.task.operation.IncludeCurrent())\n",
    "tf.push_back(pyrosetta.rosetta.core.pack.task.operation.NoRepackDisulfides())\n",
    "tf.push_back(pyrosetta.rosetta.core.pack.task.operation.OperateOnResidueSubset(\n",
    "    pyrosetta.rosetta.core.pack.task.operation.RestrictToRepackingRLT(), true_selector))\n",
    "mm = pyrosetta.rosetta.core.kinematics.MoveMap()\n",
    "mm.set_bb(False) # Set to true if desired\n",
    "mm.set_chi(True)\n",
    "mm.set_jump(False)\n",
    "fast_relax = pyrosetta.rosetta.protocols.relax.FastRelax(scorefxn_in=relax_scorefxn, standard_repeats=1) # 2-5 repeats suggested for real applications\n",
    "fast_relax.cartesian(True)\n",
    "fast_relax.set_task_factory(tf)\n",
    "fast_relax.set_movemap(mm)\n",
    "fast_relax.minimize_bond_angles(True)\n",
    "fast_relax.minimize_bond_lengths(True)\n",
    "fast_relax.min_type(\"lbfgs_armijo_nonmonotone\") # Cartisian scorefunction\n",
    "fast_relax.ramp_down_constraints(False)\n",
    "\n",
    "# To run the FastRelax trajectory.\n",
    "if not os.getenv(\"DEBUG\"):\n",
    "    %time fast_relax.apply(pose)\n",
    "\n",
    "#Or for speed, we will load the pose from a previous trajectory.\n",
    "pose = pyrosetta.pose_from_file(\"expected_outputs/designed_relaxed_pose.pdb\")"
   ]
  },
  {
   "cell_type": "markdown",
   "metadata": {},
   "source": [
    " Save the pose for downstream analysis:"
   ]
  },
  {
   "cell_type": "code",
   "execution_count": null,
   "metadata": {},
   "outputs": [],
   "source": [
    "designed_relaxed_pose = pose.clone()\n",
    "pyrosetta.dump_pdb(designed_relaxed_pose, \"expected_outputs/designed_relaxed_pose.pdb\")"
   ]
  },
  {
   "cell_type": "markdown",
   "metadata": {},
   "source": [
    " Let's compare sequences to see what happened:"
   ]
  },
  {
   "cell_type": "code",
   "execution_count": null,
   "metadata": {},
   "outputs": [],
   "source": [
    "print(minimized_start_pose.chain_sequence(1))\n",
    "print(designed_relaxed_pose.chain_sequence(1))"
   ]
  },
  {
   "cell_type": "markdown",
   "metadata": {},
   "source": [
    "View the resulting design!"
   ]
  },
  {
   "cell_type": "code",
   "execution_count": null,
   "metadata": {},
   "outputs": [],
   "source": [
    "chA = pyrosetta.rosetta.core.select.residue_selector.ChainSelector(\"A\")\n",
    "chB = pyrosetta.rosetta.core.select.residue_selector.ChainSelector(\"B\")\n",
    "chC = pyrosetta.rosetta.core.select.residue_selector.ChainSelector(\"C\")\n",
    "view = sum(\n",
    "    [\n",
    "        viewer.init(designed_relaxed_pose),\n",
    "        viewer.setStyle(cartoon_color=\"lightgrey\", radius=0.25),\n",
    "        viewer.setSurface(residue_selector=chA, colorscheme=\"orangeCarbon\", opacity=0.5, surface_type=\"VDW\"),\n",
    "        viewer.setSurface(residue_selector=chB, color=\"greenCarbon\", opacity=0.5, surface_type=\"VDW\"),\n",
    "        viewer.setSurface(residue_selector=chB, color=\"violetCarbon\", opacity=0.5, surface_type=\"VDW\"),\n",
    "        viewer.setDisulfides(radius=0.25),\n",
    "        viewer.setZoom(factor=1.5)\n",
    "    ]\n",
    ")\n",
    "view()"
   ]
  },
  {
   "cell_type": "markdown",
   "metadata": {},
   "source": [
    "## Analysis:"
   ]
  },
  {
   "cell_type": "markdown",
   "metadata": {},
   "source": [
    " By how many Angstroms RMSD did the backbone Cα atoms move?"
   ]
  },
  {
   "cell_type": "markdown",
   "metadata": {},
   "source": [
    "\n"
   ]
  },
  {
   "cell_type": "code",
   "execution_count": null,
   "metadata": {},
   "outputs": [],
   "source": []
  },
  {
   "cell_type": "markdown",
   "metadata": {},
   "source": [
    " What is the delta `total_score` from `minimized_start_pose` to `designed_relaxed_pose`?"
   ]
  },
  {
   "cell_type": "code",
   "execution_count": null,
   "metadata": {},
   "outputs": [],
   "source": []
  },
  {
   "cell_type": "markdown",
   "metadata": {},
   "source": [
    " What is the per-residue energy difference for each mutated position between `minimized_start_pose` and `designed_relaxed_pose`?"
   ]
  },
  {
   "cell_type": "code",
   "execution_count": null,
   "metadata": {},
   "outputs": [],
   "source": []
  },
  {
   "cell_type": "markdown",
   "metadata": {},
   "source": [
    " Are the sequence constraints imposed by the `aa_repeat` scoreterm satisfied? Re-write the following python code that counts the number of residue types in chain A to check for the longest stretch of each residue type in the primary amino acid sequence in chain A:"
   ]
  },
  {
   "cell_type": "code",
   "execution_count": null,
   "metadata": {},
   "outputs": [],
   "source": [
    "for aa in IUPACData.protein_letters:\n",
    "    aa_selector = pyrosetta.rosetta.core.select.residue_selector.ResidueNameSelector(str.upper(Bio.SeqUtils.seq3(aa)))\n",
    "    aa_and_chain_A = pyrosetta.rosetta.core.select.residue_selector.AndResidueSelector(chain_A, aa_selector)\n",
    "    sel_res_count_metric = pyrosetta.rosetta.core.simple_metrics.metrics.SelectedResidueCountMetric()\n",
    "    sel_res_count_metric.set_residue_selector(aa_and_chain_A)\n",
    "    print(aa, int(sel_res_count_metric.calculate(designed_relaxed_pose)))"
   ]
  },
  {
   "cell_type": "markdown",
   "metadata": {},
   "source": [
    " Does chain A have 40% percent aromatic or aliphatic (but not leucine) and 5% leucine, satisfying the `aa_composition` scoreterm? For additional practice, re-write the following python implementation using PyRosetta ResidueSelectors and SimpleMetrics:"
   ]
  },
  {
   "cell_type": "code",
   "execution_count": null,
   "metadata": {},
   "outputs": [],
   "source": [
    "num_aro_ali = 0\n",
    "num_leucine = 0\n",
    "\n",
    "for aa in pose.chain_sequence(1):\n",
    "    if aa in \"WYFAVIMP\":\n",
    "        num_aro_ali += 1\n",
    "    if aa == \"L\":\n",
    "        num_leucine += 1\n",
    "        \n",
    "print(\"The % aromatic residues in chain A is {0}%\".format((num_aro_ali*100)/len(pose.chain_sequence(1))))\n",
    "print(\"The % leucine in chain A is {0}%\".format((num_leucine*100)/len(pose.chain_sequence(1))))"
   ]
  },
  {
   "cell_type": "markdown",
   "metadata": {},
   "source": [
    " Are the sequence constraints imposed by the `AddHelixSequenceConstraints` mover with the `aa_composition` scoreterm satisfied?"
   ]
  },
  {
   "cell_type": "markdown",
   "metadata": {},
   "source": [
    " Uses sasa (solvent-accessible surface area) to asses whether there are there more or less voids in `designed_relaxed_pose` as compared to `minimized_start_pose`, satisfying the `voids_penalty` scoreterm."
   ]
  },
  {
   "cell_type": "code",
   "execution_count": null,
   "metadata": {},
   "outputs": [],
   "source": [
    "tf.clear()\n",
    "tf = pyrosetta.rosetta.core.pack.task.TaskFactory()\n",
    "tf.push_back(pyrosetta.rosetta.core.pack.task.operation.OperateOnResidueSubset(\n",
    "    pyrosetta.rosetta.core.pack.task.operation.RestrictToRepackingRLT(), true_selector))\n",
    "sasa = pyrosetta.rosetta.protocols.simple_filters.TaskAwareSASAFilter()\n",
    "sasa.task_factory(tf)\n",
    "print(\"The sasa of minimized_start_pose is {}\".format(sasa.score(minimized_start_pose)))\n",
    "print(\"The sasa of designed_relaxed_pose is {}\".format(sasa.score(designed_relaxed_pose)))"
   ]
  },
  {
   "cell_type": "markdown",
   "metadata": {},
   "source": [
    " Is the net charge of chain A equal to exactly zero, satisfying the `netcharge` scoreterm?"
   ]
  },
  {
   "cell_type": "code",
   "execution_count": null,
   "metadata": {},
   "outputs": [],
   "source": [
    "# One method to calculate net charge of chain A\n",
    "num_negative = 0\n",
    "num_positive = 0\n",
    "for aa in pose.chain_sequence(1):\n",
    "    if aa in \"DE\":\n",
    "        num_negative += 1\n",
    "    if aa in \"KR\":\n",
    "        num_positive += 1\n",
    "print(\"The net charge of chain A = {0}\".format(num_positive - num_negative))\n",
    "\n",
    "# Another method to calculate net charge of chain A\n",
    "test_pose = pose.clone()\n",
    "keep_chA = pyrosetta.rosetta.protocols.grafting.simple_movers.KeepRegionMover(res_start=str(test_pose.chain_begin(1)), res_end=str(test_pose.chain_end(1)))\n",
    "keep_chA.apply(test_pose)\n",
    "net_charge = pyrosetta.rosetta.protocols.simple_filters.NetChargeFilter()\n",
    "print(\"The net charge of chain A = {0}\".format(net_charge.score(test_pose)))"
   ]
  },
  {
   "cell_type": "markdown",
   "metadata": {},
   "source": [
    " Are there any buried unsatisfied polar atoms, satisfying the `buried_unsatisfied_penalty` scoreterm?"
   ]
  },
  {
   "cell_type": "code",
   "execution_count": null,
   "metadata": {},
   "outputs": [],
   "source": [
    "uhb = pyrosetta.rosetta.protocols.rosetta_scripts.XmlObjects.create_from_string(\"\"\"\n",
    "<SCOREFXNS>\n",
    "  <ScoreFunction name=\"fa_default\" weights=\"ref2015\"/>\n",
    "</SCOREFXNS>\n",
    "<FILTERS>\n",
    "  <BuriedUnsatHbonds name=\"uhb_sc\" use_reporter_behavior=\"true\" use_hbnet_behavior=\"false\" scorefxn=\"fa_default\" report_bb_heavy_atom_unsats=\"false\" report_sc_heavy_atom_unsats=\"true\" cutoff=\"99999\" print_out_info_to_pdb=\"false\" ignore_surface_res=\"true\" residue_surface_cutoff=\"20.0\" ignore_bb_heavy_unsats=\"false\" confidence=\"0\"/>\n",
    "  <BuriedUnsatHbonds name=\"uhb_bb\" use_reporter_behavior=\"true\" use_hbnet_behavior=\"false\" scorefxn=\"fa_default\" report_bb_heavy_atom_unsats=\"true\" report_sc_heavy_atom_unsats=\"false\" cutoff=\"99999\" print_out_info_to_pdb=\"false\" ignore_surface_res=\"true\" residue_surface_cutoff=\"20.0\" ignore_bb_heavy_unsats=\"false\" confidence=\"0\"/>\n",
    "</FILTERS>\n",
    "\"\"\")"
   ]
  },
  {
   "cell_type": "code",
   "execution_count": null,
   "metadata": {},
   "outputs": [],
   "source": [
    "print(\"The number of unsatisfied side-chain heavy atoms in minimized_start_pose is {}\".format(uhb.get_filter(\"uhb_sc\").score(minimized_start_pose)))\n",
    "print(\"The number of unsatisfied backbone heavy atoms in minimized_start_pose is {}\".format(uhb.get_filter(\"uhb_bb\").score(minimized_start_pose)))\n",
    "\n",
    "print(\"The number of unsatisfied side-chain heavy atoms in designed_relaxed_pose is {}\".format(uhb.get_filter(\"uhb_sc\").score(designed_relaxed_pose)))\n",
    "print(\"The number of unsatisfied backbone heavy atoms in designed_relaxed_pose is {}\".format(uhb.get_filter(\"uhb_bb\").score(designed_relaxed_pose)))"
   ]
  },
  {
   "cell_type": "markdown",
   "metadata": {},
   "source": [
    " Inspect the tracer output from the `BuriedUnsatHbonds` filter, and inspect `designed_relaxed_pose` very closely in PyMol or py3Dmol. Would you agree with the `BuriedUnsatHbonds` filter? How does the number of buried unsatisfied heavy atoms compare to `minimized_start_pose`?"
   ]
  },
  {
   "cell_type": "markdown",
   "metadata": {},
   "source": [
    " Packer results are stochastic based on a random number generator, that is after running `pyrosetta.init()` you see:\n",
    ">rosetta:core.init.random: RandomGenerator:init: Normal mode, seed=937978431 RG_type=mt19937\n",
    "\n",
    "How do your results compare with your neighbors' results? Ideally you would run the same protocol hundreds of times, and filter them down using Rosetta filters that recaptiulate your design requirements to a number of designs that you can then experimentally validate to answer your biological question."
   ]
  },
  {
   "cell_type": "markdown",
   "metadata": {},
   "source": [
    "# See Also\n",
    "\n",
    "Note these may not be available in PyRosetta through code or even by xml (remodel), but they are extremely useful tools when doing denovo protein design - and you should be aware of them.\n",
    "\n",
    "- **RosettaRemodel**\n",
    " - https://www.rosettacommons.org/docs/latest/application_documentation/design/rosettaremodel\n",
    "    \n",
    "    \n",
    "- **Sewing**\n",
    "\n",
    " - https://www.rosettacommons.org/docs/latest/scripting_documentation/RosettaScripts/composite_protocols/sewing/SEWING\n",
    " \n",
    " \n",
    "-  **Parametric Design**\n",
    " - Previous Workshop!"
   ]
  },
  {
   "cell_type": "code",
   "execution_count": null,
   "metadata": {},
   "outputs": [],
   "source": []
  },
  {
   "cell_type": "markdown",
   "metadata": {},
   "source": [
    "<!--NAVIGATION-->\n",
    "< [*De Novo* Parametric Backbone Design](http://nbviewer.jupyter.org/github/RosettaCommons/PyRosetta.notebooks/blob/master/notebooks/06.06-Introduction-to-Parametric-backbone-design.ipynb) | [Contents](toc.ipynb) | [Index](index.ipynb) | [**Point Mutation Scan**](http://nbviewer.jupyter.org/github/RosettaCommons/PyRosetta.notebooks/blob/master/notebooks/06.08-Point-Mutation-Scan.ipynb) ><p><a href=\"https://colab.research.google.com/github/RosettaCommons/PyRosetta.notebooks/blob/master/notebooks/06.07-Introduction-to-DeNovo-protein-design.ipynb\"><img align=\"left\" src=\"https://colab.research.google.com/assets/colab-badge.svg\" alt=\"Open in Colab\" title=\"Open in Google Colaboratory\"></a>"
   ]
  }
 ],
 "metadata": {
  "kernelspec": {
   "display_name": "Python 3",
   "language": "python",
   "name": "python3"
  },
  "language_info": {
   "codemirror_mode": {
    "name": "ipython",
    "version": 3
   },
   "file_extension": ".py",
   "mimetype": "text/x-python",
   "name": "python",
   "nbconvert_exporter": "python",
   "pygments_lexer": "ipython3",
   "version": "3.6.0"
  },
  "toc": {
   "base_numbering": 1,
   "nav_menu": {},
   "number_sections": true,
   "sideBar": true,
   "skip_h1_title": false,
   "title_cell": "Table of Contents",
   "title_sidebar": "Contents",
   "toc_cell": false,
   "toc_position": {},
   "toc_section_display": true,
   "toc_window_display": false
  }
 },
 "nbformat": 4,
 "nbformat_minor": 2
}
