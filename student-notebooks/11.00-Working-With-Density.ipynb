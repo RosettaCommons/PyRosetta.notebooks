{
 "cells": [
  {
   "cell_type": "markdown",
   "metadata": {},
   "source": [
    "Before you turn this problem in, make sure everything runs as expected. First, **restart the kernel** (in the menubar, select Kernel$\\rightarrow$Restart) and then **run all cells** (in the menubar, select Cell$\\rightarrow$Run All).\n",
    "\n",
    "Make sure you fill in any place that says `YOUR CODE HERE` or \"YOUR ANSWER HERE\", as well as your name and collaborators below:"
   ]
  },
  {
   "cell_type": "code",
   "execution_count": null,
   "metadata": {},
   "outputs": [],
   "source": [
    "NAME = \"\"\n",
    "COLLABORATORS = \"\""
   ]
  },
  {
   "cell_type": "markdown",
   "metadata": {},
   "source": [
    "---"
   ]
  },
  {
   "cell_type": "markdown",
   "metadata": {},
   "source": [
    "<!--NOTEBOOK_HEADER-->\n",
    "*This notebook contains material from [PyRosetta](https://RosettaCommons.github.io/PyRosetta.notebooks);\n",
    "content is available [on Github](https://github.com/RosettaCommons/PyRosetta.notebooks.git).*"
   ]
  },
  {
   "cell_type": "markdown",
   "metadata": {},
   "source": [
    "<!--NAVIGATION-->\n",
    "< [Working With Symmetry](http://nbviewer.jupyter.org/github/RosettaCommons/PyRosetta.notebooks/blob/master/notebooks/10.00-Working-With-Symmetry.ipynb) | [Contents](toc.ipynb) | [Index](index.ipynb) | [Working With Antibodies](http://nbviewer.jupyter.org/github/RosettaCommons/PyRosetta.notebooks/blob/master/notebooks/12.00-Working-With-Antibodies.ipynb) ><p><a href=\"https://colab.research.google.com/github/RosettaCommons/PyRosetta.notebooks/blob/master/notebooks/11.00-Working-With-Density.ipynb\"><img align=\"left\" src=\"https://colab.research.google.com/assets/colab-badge.svg\" alt=\"Open in Colab\" title=\"Open in Google Colaboratory\"></a>"
   ]
  },
  {
   "cell_type": "markdown",
   "metadata": {},
   "source": [
    "# Working With Density\n",
    "Keywords: crystal, density, refinement, LoadDensityMapMover, map, EM, X-ray\n",
    "\n",
    "## Overview\n",
    "\n",
    "Density can be a useful tool in Rosetta and can be used to refine a PDB structure, test Rosetta structure prediction methods, and build de-novo models guided by density of different resolutions. It can also be used as an experimentally-determined guide/constraint for custom methods. \n",
    "\n",
    "Rosetta understands X-ray or electron density through scoring.  In this tutorial, we will first walk through how to create a density file that Rosetta understands, and then load it, score it, and refine a structure using it. We will also cover some common tools used while working with density. \n",
    "\n",
    "More complicated protocols exist through the use of `RosettaScripts` in PyRosetta, and even more protocols through applications built using main Rosetta.  We will not cover these in this introductory tutorial, but please refer to the original references listed below (such as De novo protein structure determination...) for how to run these applications.     \n",
    "\n",
    "Note that symmetry and density can be used together!\n",
    "\n",
    "## Documentation\n",
    "More information on Density Scoring and relavent applications can be found here:\n",
    "\n",
    "- https://www.rosettacommons.org/docs/latest/application_documentation/analysis/density-map-scoring\n",
    "- https://www.rosettacommons.org/docs/latest/application_documentation/structure_prediction/mr-protocols\n",
    "\n",
    "\n",
    "## References\n",
    "\n",
    "- _Atomic-accuracy models from 4.5-Å cryo-electron microscopy data with density-guided iterative local refinement._\n",
    " - https://www.ncbi.nlm.nih.gov/pubmed/25707030\n",
    " \n",
    " \n",
    "- _De novo protein structure determination from near-atomic-resolution cryo-EM maps._\n",
    " - https://www.ncbi.nlm.nih.gov/pubmed/25707029\n",
    " \n",
    " \n",
    "- _Tools for Model Building and Optimization into Near-Atomic Resolution Electron Cryo-Microscopy Density Maps._\n",
    " - https://www.ncbi.nlm.nih.gov/pubmed/27572730\n",
    " \n",
    " \n",
    "- _Automated structure refinement of macromolecular assemblies from cryo-EM maps using Rosetta._\n",
    " - https://www.ncbi.nlm.nih.gov/pubmed/27669148\n",
    " \n",
    " \n",
    "- _Rosetta Structure Prediction as a Tool for Solving Difficult Molecular Replacement Problems._\n",
    " - https://www.ncbi.nlm.nih.gov/pubmed/28573585\n",
    " \n",
    " \n",
    "- _RosettaES: a sampling strategy enabling automated interpretation of difficult cryo-EM maps._\n",
    " - https://www.ncbi.nlm.nih.gov/pubmed/28628127\n",
    " \n",
    " \n",
    "- _Automatically Fixing Errors in Glycoprotein Structures with Rosetta_\n",
    " - https://www.ncbi.nlm.nih.gov/pubmed/30344107\n",
    "\n"
   ]
  },
  {
   "cell_type": "code",
   "execution_count": null,
   "metadata": {},
   "outputs": [],
   "source": [
    "# Notebook setup\n",
    "import sys\n",
    "if 'google.colab' in sys.modules:\n",
    "    !pip install pyrosettacolabsetup\n",
    "    import pyrosettacolabsetup\n",
    "    pyrosettacolabsetup.setup()\n",
    "    print (\"Notebook is set for PyRosetta use in Colab.  Have fun!\")"
   ]
  },
  {
   "cell_type": "markdown",
   "metadata": {},
   "source": [
    "## Creating a Density Map\n",
    "\n",
    "We won't actually do this in the tutorial as it requires a third-party application, but the (.ccp4) density map you will be using was created this way. \n",
    "\n",
    "1) Download and install phenix.maps: https://www.phenix-online.org/documentation/reference/maps.html \n",
    "\n",
    " - Make sure phenix.maps is in your path.\n",
    "\n",
    "2) Download the CIF file from the Protein Data Bank for the structure you are interested in.\n",
    "\n",
    "3) Use this command to create a map: `phenix.maps pdb_path cif_path` \n",
    "\n",
    " - Note that depending on the cif file and structure, you may need to rarely edit the defaults to get it work properly, especially for glycan structures.  Please refer to the phenix documentation for this. "
   ]
  },
  {
   "cell_type": "markdown",
   "metadata": {},
   "source": [
    "## Setup for Density Scoring\n",
    "\n",
    "Here, we will make a scorefunction and set `fast_elec_dens` to a proper value and use the `LoadDensityMapMover` to actually load the density map.  Note that (currently) the density map is GLOBAL data within Rosetta - so only a single structure can be modeled/refined at a time. \n",
    "\n",
    "### From the docs:\n",
    "\n",
    "Several scoring functions have been added to Rosetta which describe how well a structure agrees to experimental density data. Density map data is read in CCP4/MRC format (the density has to minimally cover the asymmetric unit).  The various scoring functions trade off speed versus accuracy, and their use should be primarily determined by the resolution of the density map data:\n",
    "\n",
    "-   **elec\\_dens\\_fast** is recommended for most cases.\n",
    "\n",
    "Additionally, a slower but more precise scoring function is available.  This is only recommended if **elec\\_dens\\_fast** performs poorly (for example, if map quality varies significantly throughout the map):\n",
    "-   **elec\\_dens\\_window** - Uses the sum of correlations of a sliding window of residues versus the experimental data; structure density only uses all heavy atoms.\n",
    "\n",
    "The weights to use vary depending on resolution of data but the following give reasonable ranges:\n",
    "\n",
    "- **elec\\_dens\\_fast**: ~25 is generally good, higher for high-resolution (<3Å) and lower for low-resolution (>6Å)\n",
    "- **elec\\_dens\\_window**: ~0.2 is generally good, higher for high-resolution (<3Å) and lower for low-resolution (>6Å)\n",
    "\n",
    "\n"
   ]
  },
  {
   "cell_type": "code",
   "execution_count": null,
   "metadata": {},
   "outputs": [],
   "source": [
    "from pyrosetta import *\n",
    "from pyrosetta.rosetta import *\n",
    "from pyrosetta.teaching import *\n",
    "import os\n",
    "\n",
    "init('-ignore_unrecognized_res -load_PDB_components false -ignore_zero_occupancy false @inputs/glycan_flags')"
   ]
  },
  {
   "cell_type": "code",
   "execution_count": null,
   "metadata": {},
   "outputs": [],
   "source": [
    "from rosetta.protocols.cryst import *\n",
    "from rosetta.protocols.rosetta_scripts import *\n",
    "\n",
    "p = pose_from_pdb('inputs/1jnd.pdb')\n",
    "\n",
    "original = p.clone()\n",
    "\n",
    "#The LoadDensityMapMover unfortunately does not have getters and setters yet.  \n",
    "# This has been updated in the Rosetta C++ code, but for now, we have to use the XML interface. \n",
    "\n",
    "#setup_dens = LoadDensityMapMover(\"inputs/1jnd_2mFo-DFc_map.ccp4\")\n",
    "setup_dens = XmlObjects.static_get_mover('<LoadDensityMap name=\"loaddens\" mapfile=\"inputs/1jnd_2mFo-DFc_map.ccp4\"/>')\n",
    "setup_dens.apply(p)"
   ]
  },
  {
   "cell_type": "markdown",
   "metadata": {},
   "source": [
    "Now, we need to set the pose up for density scoring.  The `SetupForDensityScoring` mover sets a specific foldtree to the pose to allow scoring properly. We will then load a scorefunction with our density scoreterm, and load a pre-refined pose that was refined into the density using the pareto-optimal protocol with density. "
   ]
  },
  {
   "cell_type": "code",
   "execution_count": null,
   "metadata": {},
   "outputs": [],
   "source": [
    "setup_dens_pose = rosetta.protocols.electron_density.SetupForDensityScoringMover()\n",
    "\n",
    "ref = pose_from_pdb('inputs/1jnd_refined.pdb.gz')\n",
    "\n",
    "setup_dens_pose.apply(p)\n",
    "setup_dens_pose.apply(ref)\n",
    "\n",
    "score = get_score_function()\n",
    "score_dens = get_score_function()\n",
    "score_dens.set_weight(rosetta.core.scoring.elec_dens_fast, 25)\n",
    "\n",
    "print(\"crystal\", score_dens(p))\n",
    "print(\"refined\", score_dens(ref))"
   ]
  },
  {
   "cell_type": "markdown",
   "metadata": {},
   "source": [
    "Now lets minimize our pose. "
   ]
  },
  {
   "cell_type": "code",
   "execution_count": null,
   "metadata": {},
   "outputs": [],
   "source": [
    "minmover = MinMover()\n",
    "mm = MoveMap()\n",
    "mm.set_bb(True)\n",
    "mm.set_chi(True)\n",
    "minmover.set_movemap(mm)\n",
    "\n",
    "if not os.getenv(\"DEBUG\"):\n",
    "    for i in range(1, 5):\n",
    "        minmover.apply(p)\n",
    "    \n",
    "print(score_dens.score(p))"
   ]
  },
  {
   "cell_type": "markdown",
   "metadata": {},
   "source": [
    "Why has the score gotten worse here??  Because we are minimizing in dihedral space instead of cartesian space - so we make certain energies better, but crystal refinement works best in cartesian space.  Lets now minimize in cartesian and see what happens. "
   ]
  },
  {
   "cell_type": "code",
   "execution_count": null,
   "metadata": {},
   "outputs": [],
   "source": [
    "p = original.clone()\n",
    "setup_dens_pose.apply(p)\n",
    "\n",
    "score_dens_cart = create_score_function(\"ref2015_cart\")\n",
    "score_dens_cart.set_weight(rosetta.core.scoring.elec_dens_fast, 25)\n",
    "\n",
    "#Set Bondlengths and angles to true. This is easier and more straightforward to do if using a MoveMapFactory.\n",
    "mm.set(rosetta.core.id.THETA, True)\n",
    "\n",
    "minmover.cartesian(True)\n",
    "minmover.score_function(score_dens_cart)\n",
    "minmover.set_movemap(mm)\n",
    "\n",
    "if not os.getenv(\"DEBUG\"):\n",
    "    for i in range(1, 5):\n",
    "        minmover.apply(p)\n",
    "\n",
    "(print(score_dens.score(p)))\n"
   ]
  },
  {
   "cell_type": "markdown",
   "metadata": {},
   "source": [
    "Is this closer to the pre-refined model (which was pre-refined in Relax)?  Do they fit the density better?  Are they much more within the density?  How does the glycan density compare to the full protein density?"
   ]
  },
  {
   "cell_type": "markdown",
   "metadata": {},
   "source": [
    "## Conclusion\n",
    "\n",
    "That should get you started using density with typical Rosetta modeling tasks! See the references for more complex protocols. "
   ]
  },
  {
   "cell_type": "code",
   "execution_count": null,
   "metadata": {},
   "outputs": [],
   "source": []
  },
  {
   "cell_type": "markdown",
   "metadata": {},
   "source": [
    "**Chapter contributors:**\n",
    "\n",
    "- Jared Adolf-Bryfogle (Scripps; Institute for Protein Innovation)"
   ]
  },
  {
   "cell_type": "markdown",
   "metadata": {},
   "source": [
    "<!--NAVIGATION-->\n",
    "< [Working With Symmetry](http://nbviewer.jupyter.org/github/RosettaCommons/PyRosetta.notebooks/blob/master/notebooks/10.00-Working-With-Symmetry.ipynb) | [Contents](toc.ipynb) | [Index](index.ipynb) | [Working With Antibodies](http://nbviewer.jupyter.org/github/RosettaCommons/PyRosetta.notebooks/blob/master/notebooks/12.00-Working-With-Antibodies.ipynb) ><p><a href=\"https://colab.research.google.com/github/RosettaCommons/PyRosetta.notebooks/blob/master/notebooks/11.00-Working-With-Density.ipynb\"><img align=\"left\" src=\"https://colab.research.google.com/assets/colab-badge.svg\" alt=\"Open in Colab\" title=\"Open in Google Colaboratory\"></a>"
   ]
  }
 ],
 "metadata": {
  "kernelspec": {
   "display_name": "Python 3",
   "language": "python",
   "name": "python3"
  },
  "language_info": {
   "codemirror_mode": {
    "name": "ipython",
    "version": 3
   },
   "file_extension": ".py",
   "mimetype": "text/x-python",
   "name": "python",
   "nbconvert_exporter": "python",
   "pygments_lexer": "ipython3",
   "version": "3.6.1"
  },
  "toc": {
   "base_numbering": 1,
   "nav_menu": {},
   "number_sections": true,
   "sideBar": true,
   "skip_h1_title": false,
   "title_cell": "Table of Contents",
   "title_sidebar": "Contents",
   "toc_cell": false,
   "toc_position": {},
   "toc_section_display": true,
   "toc_window_display": false
  }
 },
 "nbformat": 4,
 "nbformat_minor": 1
}
