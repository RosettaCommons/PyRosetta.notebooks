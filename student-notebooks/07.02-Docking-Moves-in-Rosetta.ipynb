{
 "cells": [
  {
   "cell_type": "markdown",
   "metadata": {},
   "source": [
    "Before you turn this problem in, make sure everything runs as expected. First, **restart the kernel** (in the menubar, select Kernel$\\rightarrow$Restart) and then **run all cells** (in the menubar, select Cell$\\rightarrow$Run All).\n",
    "\n",
    "Make sure you fill in any place that says `YOUR CODE HERE` or \"YOUR ANSWER HERE\", as well as your name and collaborators below:"
   ]
  },
  {
   "cell_type": "code",
   "execution_count": null,
   "metadata": {},
   "outputs": [],
   "source": [
    "NAME = \"\"\n",
    "COLLABORATORS = \"\""
   ]
  },
  {
   "cell_type": "markdown",
   "metadata": {},
   "source": [
    "---"
   ]
  },
  {
   "cell_type": "markdown",
   "metadata": {},
   "source": [
    "<!--NOTEBOOK_HEADER-->\n",
    "*This notebook contains material from [PyRosetta](https://RosettaCommons.github.io/PyRosetta.notebooks);\n",
    "content is available [on Github](https://github.com/RosettaCommons/PyRosetta.notebooks.git).*"
   ]
  },
  {
   "cell_type": "markdown",
   "metadata": {},
   "source": [
    "<!--NAVIGATION-->\n",
    "< [Fast Fourier Transform Based Docking via ZDOCK](http://nbviewer.jupyter.org/github/RosettaCommons/PyRosetta.notebooks/blob/master/notebooks/07.01-Fast-Fourier-Transform-Based-Docking-via-ZDOCK.ipynb) | [Contents](toc.ipynb) | [Index](index.ipynb) | [Ligand Refinement in PyRosetta (a.k.a. High-Resolution Local Docking) Using the `ligand.wts` Scorefunction](http://nbviewer.jupyter.org/github/RosettaCommons/PyRosetta.notebooks/blob/master/notebooks/08.00-Ligand-Docking-PyRosetta.ipynb) ><p><a href=\"https://colab.research.google.com/github/RosettaCommons/PyRosetta.notebooks/blob/master/notebooks/07.02-Docking-Moves-in-Rosetta.ipynb\"><img align=\"left\" src=\"https://colab.research.google.com/assets/colab-badge.svg\" alt=\"Open in Colab\" title=\"Open in Google Colaboratory\"></a>"
   ]
  },
  {
   "cell_type": "markdown",
   "metadata": {},
   "source": [
    "# Docking Moves in Rosetta\n",
    "Keywords: SwitchResidueTypeMover(), fold_tree(), Jump, EDGE, RigidBodyPerturbMover(), DockingSlideIntoContact(), FaDockingSlideIntoContact(), PyJobDistributor(), output_decoy(), DockMCMProtocol(), DockingLowRes(), ReturnSidechainMover()\n",
    "\n",
    "## Overview\n",
    "Here, we will cover many types of Movers in Rosetta that can aid in docking, and cover the FoldTree used for docking.  Note that the DockMCMProtocol is the general high-resolution docking algorithm used by Rosetta, while DockingLowRes is used for low-resolution dock moves."
   ]
  },
  {
   "cell_type": "code",
   "execution_count": null,
   "metadata": {},
   "outputs": [],
   "source": [
    "!pip install pyrosettacolabsetup\n",
    "import pyrosettacolabsetup; pyrosettacolabsetup.install_pyrosetta()\n",
    "import pyrosetta; pyrosetta.init()\n"
   ]
  },
  {
   "cell_type": "markdown",
   "metadata": {},
   "source": [
    "**Make sure you are in the directory with the pdb files:**\n",
    "\n",
    "`cd google_drive/My\\ Drive/student-notebooks/`"
   ]
  },
  {
   "cell_type": "markdown",
   "metadata": {},
   "source": [
    "For the following exercises, download and clean the complex of colicin D and ImmD (1V74). Don't forget to import `pyrosetta` and initialize. Store three poses — a full-atom starting pose and centroid and full-atom “working” poses.\n",
    "\n",
    "```\n",
    "from pyrosetta import *\n",
    "from pyrosetta.teaching import *\n",
    "from pyrosetta.toolbox import cleanATOM\n",
    "\n",
    "pyrosetta.init()\n",
    "cleanATOM(\"1V74.pdb\")\n",
    "pose = pose_from_file(\"1V74.clean.pdb\")\n",
    "starting_pose = pose.clone()\n",
    "cen_pose = pose.clone()\n",
    "cen_switch = SwitchResidueTypeSetMover(\"centroid\")\n",
    "cen_switch.apply(cen_pose)\n",
    "starting_cen_pose = cen_pose.clone()\n",
    "```"
   ]
  },
  {
   "cell_type": "code",
   "execution_count": null,
   "metadata": {
    "deletable": false,
    "nbgrader": {
     "cell_type": "code",
     "checksum": "31b3cb2ea262b2fa93eed7a54b56e0d5",
     "grade": true,
     "grade_id": "cell-ae7fb3a4eb28b945",
     "locked": false,
     "points": 0,
     "schema_version": 3,
     "solution": true
    }
   },
   "outputs": [],
   "source": [
    "import os\n",
    "if not os.getenv(\"DEBUG\"):\n",
    "    # YOUR CODE HERE\n",
    "    raise NotImplementedError()"
   ]
  },
  {
   "cell_type": "markdown",
   "metadata": {},
   "source": [
    "## Rigid-body transformations and Fold Trees"
   ]
  },
  {
   "cell_type": "markdown",
   "metadata": {},
   "source": [
    "<img src=\"./Media/rigid-body.png\" width=400>"
   ]
  },
  {
   "cell_type": "markdown",
   "metadata": {},
   "source": [
    "The fundamental docking move is a rigid-body transformation consisting of a translation and rotation. Any rigid body move also needs to know which part moves and which part is fixed. In Rosetta, this division is known as a `Jump` and the set of protein segments and jumps are stored in an object attached to a pose called a `FoldTree`.\n",
    "\n",
    "```\n",
    "print(pose.fold_tree())\n",
    "```"
   ]
  },
  {
   "cell_type": "code",
   "execution_count": null,
   "metadata": {
    "deletable": false,
    "nbgrader": {
     "cell_type": "code",
     "checksum": "3f78b7e0334c692f7c8720c64baf3d60",
     "grade": true,
     "grade_id": "cell-0dfbbc9dba2f1102",
     "locked": false,
     "points": 0,
     "schema_version": 3,
     "solution": true
    }
   },
   "outputs": [],
   "source": [
    "if not os.getenv(\"DEBUG\"):\n",
    "    # YOUR CODE HERE\n",
    "    raise NotImplementedError()"
   ]
  },
  {
   "cell_type": "markdown",
   "metadata": {},
   "source": [
    "In the `FoldTree` printout, each three number sequence following the word `EDGE` is the beginning and ending residue number, then a code. The codes are -1 for stretches of protein and any positive integer for a `Jump`, which represents the `Jump` number.\n",
    "\n",
    "__Question:__ View the fold tree of your full-atom pose. How many `Jumps` are there in your pose?"
   ]
  },
  {
   "cell_type": "code",
   "execution_count": null,
   "metadata": {
    "deletable": false,
    "nbgrader": {
     "cell_type": "code",
     "checksum": "43af07f5aa25b7831bd8979012fbc2d5",
     "grade": true,
     "grade_id": "cell-4ce3891fb851b098",
     "locked": false,
     "points": 0,
     "schema_version": 3,
     "solution": true
    }
   },
   "outputs": [],
   "source": [
    "if not os.getenv(\"DEBUG\"):\n",
    "    # YOUR CODE HERE\n",
    "    raise NotImplementedError()"
   ]
  },
  {
   "cell_type": "markdown",
   "metadata": {},
   "source": [
    "<img src=\"./Media/first-jump.png\" width=400>"
   ]
  },
  {
   "cell_type": "markdown",
   "metadata": {},
   "source": [
    "By default, there is a `Jump` between the N-terminus of chain A and the N-terminus of chain B, but we can change this using the exposed method `setup_foldtree()`.\n",
    "\n",
    "```\n",
    "from pyrosetta.rosetta.protocols.docking import setup_foldtree\n",
    "print(pose.fold_tree())\n",
    "setup_foldtree(pose, \"A_B\", Vector1([1]))\n",
    "setup_foldtree(starting_pose, \"A_B\", Vector1([1]))\n",
    "print(pose.fold_tree())\n",
    "```"
   ]
  },
  {
   "cell_type": "code",
   "execution_count": null,
   "metadata": {
    "deletable": false,
    "nbgrader": {
     "cell_type": "code",
     "checksum": "aaa4de38f1699f837ac0a62370ac5643",
     "grade": true,
     "grade_id": "cell-c53839744b464f66",
     "locked": false,
     "points": 0,
     "schema_version": 3,
     "solution": true
    }
   },
   "outputs": [],
   "source": [
    "# YOUR CODE HERE\n",
    "raise NotImplementedError()"
   ]
  },
  {
   "cell_type": "markdown",
   "metadata": {},
   "source": [
    "The argument \"A_B\" tells Rosetta to make chain A the “rigid” chain and allow chain B to move. If there were more chains in the pdb structure, supplying \"AB_C\" would hold chains A and B rigid together as a single unit and allow chain C to move. (The third argument `Vector1([1]`) is required, it creates a Rosetta vector object — indexed from 1 — with one element that identifies the first `Jump` in the `FoldTree` for docking use.)\n",
    "\n",
    "__Question:__ The above command changed the `FoldTree` and prepared it for docking. What has changed?"
   ]
  },
  {
   "cell_type": "code",
   "execution_count": null,
   "metadata": {
    "deletable": false,
    "nbgrader": {
     "cell_type": "code",
     "checksum": "04446727dc6001098c97a62f2104ea42",
     "grade": true,
     "grade_id": "cell-9068e50ed6a35668",
     "locked": false,
     "points": 0,
     "schema_version": 3,
     "solution": true
    }
   },
   "outputs": [],
   "source": [
    "# YOUR CODE HERE\n",
    "raise NotImplementedError()"
   ]
  },
  {
   "cell_type": "markdown",
   "metadata": {},
   "source": [
    "<img src=\"./Media/second-jump.png\" width=400>"
   ]
  },
  {
   "cell_type": "markdown",
   "metadata": {},
   "source": [
    "You can see the type of information in the `Jump` by printing it from the `pose`:\n",
    "\n",
    "```\n",
    "jump_num = 1\n",
    "print(pose.jump(jump_num).get_rotation())    # rotation matrix\n",
    "print(pose.jump(jump_num).get_translation())    # translation vector\n",
    "```"
   ]
  },
  {
   "cell_type": "code",
   "execution_count": null,
   "metadata": {
    "deletable": false,
    "nbgrader": {
     "cell_type": "code",
     "checksum": "dd524434d0c9a58e09368a76fa485e52",
     "grade": true,
     "grade_id": "cell-3bca4e6665b082af",
     "locked": false,
     "points": 0,
     "schema_version": 3,
     "solution": true
    }
   },
   "outputs": [],
   "source": [
    "if not os.getenv(\"DEBUG\"):\n",
    "    # YOUR CODE HERE\n",
    "    raise NotImplementedError()"
   ]
  },
  {
   "cell_type": "markdown",
   "metadata": {},
   "source": [
    "## RigidBody Movers"
   ]
  },
  {
   "cell_type": "markdown",
   "metadata": {},
   "source": [
    "The two basic manipulations are translations and rotations. For translation, the change in x, y, and z coordinates are needed as well as the `Jump` number. A rotation requires a center and an axis about which to rotate. The rigid-body displacement can be altered directly with the `RigidBodyTransMover` for translations or the `RigidBodySpinMover` for rotations.\n",
    "\n",
    "\n",
    "However, for structure prediction calculations, we have a `Mover` that is preconfigured to make random movements varying around set magnitudes (in this case, a mean of 8° rotation and 3 Å translation) located in the `rosetta.protocols.rigid` namespace, (which we will rename with an alias `rigid_moves` for our convenience) :\n",
    "\n",
    "```\n",
    "import pyrosetta.rosetta.protocols.rigid as rigid_moves\n",
    "pert_mover = rigid_moves.RigidBodyPerturbMover(jump_num, 8, 3)\n",
    "```"
   ]
  },
  {
   "cell_type": "code",
   "execution_count": null,
   "metadata": {
    "deletable": false,
    "nbgrader": {
     "cell_type": "code",
     "checksum": "a8269e3b16c031b0f0d6452a9766fae6",
     "grade": true,
     "grade_id": "cell-7b2dbeed859262d0",
     "locked": false,
     "points": 0,
     "schema_version": 3,
     "solution": true
    }
   },
   "outputs": [],
   "source": [
    "if not os.getenv(\"DEBUG\"):\n",
    "    # YOUR CODE HERE\n",
    "    raise NotImplementedError()"
   ]
  },
  {
   "cell_type": "markdown",
   "metadata": {},
   "source": [
    "Apply the `RigidBodyPerturbMover` to a full-atom pose and (optional) use a `PyMOLMover` to confirm that the motions are what you expect.\n",
    "\n",
    "__Question:__ What are the new rotation matrix and translation vector in the `Jump`? How many ångströms did the downstream protein move?"
   ]
  },
  {
   "cell_type": "code",
   "execution_count": null,
   "metadata": {},
   "outputs": [],
   "source": [
    "if not os.getenv(\"DEBUG\"):\n",
    "    from pyrosetta import PyMOLMover\n",
    "    pymol = PyMOLMover()\n",
    "    pymol.apply(pose)"
   ]
  },
  {
   "cell_type": "code",
   "execution_count": null,
   "metadata": {},
   "outputs": [],
   "source": [
    "if not os.getenv(\"DEBUG\"):\n",
    "    pert_mover.apply(pose)\n",
    "    pymol.apply(pose)"
   ]
  },
  {
   "cell_type": "markdown",
   "metadata": {},
   "source": [
    "Global perturbations are useful for making completely randomized starting structures. The following `Mover` will rotate a protein about its geometric center. The final orientation is equally distributed over the “globe”.\n",
    "\n",
    "```\n",
    "randomize1 = rigid_moves.RigidBodyRandomizeMover(pose, jump_num, rigid_moves.partner_upstream)\n",
    "randomize2 = rigid_moves.RigidBodyRandomizeMover(pose, jump_num, rigid_moves.partner_downstream)\n",
    "```\n",
    "\n",
    "(`partner_upstream` and `partner_downstream` are predefined terms within the `pyrosetta.rosetta.protocols.rigid` namespace, which in our case refer to chains A and B, respectively.)"
   ]
  },
  {
   "cell_type": "code",
   "execution_count": null,
   "metadata": {
    "deletable": false,
    "nbgrader": {
     "cell_type": "code",
     "checksum": "8a3e7d8c7a30236cb674a85843e537cd",
     "grade": true,
     "grade_id": "cell-77746475c8095eed",
     "locked": false,
     "points": 0,
     "schema_version": 3,
     "solution": true
    }
   },
   "outputs": [],
   "source": [
    "if not os.getenv(\"DEBUG\"):\n",
    "    # YOUR CODE HERE\n",
    "    raise NotImplementedError()"
   ]
  },
  {
   "cell_type": "markdown",
   "metadata": {},
   "source": [
    "Apply both `Movers` to the starting structure, and view the structure in PyMOL. (You might view it along with the original pose).\n",
    "\n",
    "__Question:__ Does the new conformation look like a candidate docked structure yet?"
   ]
  },
  {
   "cell_type": "code",
   "execution_count": null,
   "metadata": {
    "deletable": false,
    "nbgrader": {
     "cell_type": "code",
     "checksum": "f86c95527c593716636ff30acd8fa97e",
     "grade": true,
     "grade_id": "cell-fed3e3b657a9cb75",
     "locked": false,
     "points": 0,
     "schema_version": 3,
     "solution": true
    }
   },
   "outputs": [],
   "source": [
    "if not os.getenv(\"DEBUG\"):\n",
    "    # YOUR CODE HERE\n",
    "    raise NotImplementedError()"
   ]
  },
  {
   "cell_type": "code",
   "execution_count": null,
   "metadata": {
    "deletable": false,
    "nbgrader": {
     "cell_type": "code",
     "checksum": "3674e166ad52e70e1f1b9785e6cf9725",
     "grade": true,
     "grade_id": "cell-15bf800907fc5880",
     "locked": false,
     "points": 0,
     "schema_version": 3,
     "solution": true
    }
   },
   "outputs": [],
   "source": [
    "if not os.getenv(\"DEBUG\"):\n",
    "    # YOUR CODE HERE\n",
    "    raise NotImplementedError()"
   ]
  },
  {
   "cell_type": "markdown",
   "metadata": {},
   "source": [
    "Since proteins are not spherical, sometimes the random orientation creates severe clashes between the docking partners, and other times it places the partners so they are no longer touching. The `FaDockingSlideIntoContact` `Mover` will translate the downstream protein along the line of protein centers until the proteins are in contact.\n",
    "\n",
    "```\n",
    "slide = DockingSlideIntoContact(jump_num)  # for centroid mode\n",
    "slide = FaDockingSlideIntoContact(jump_num)  # for full-atom mode\n",
    "slide.apply(pose)\n",
    "```"
   ]
  },
  {
   "cell_type": "code",
   "execution_count": null,
   "metadata": {
    "deletable": false,
    "nbgrader": {
     "cell_type": "code",
     "checksum": "7b7a284b2e5af89c866099552df07bf0",
     "grade": true,
     "grade_id": "cell-bfe80cc1f480e909",
     "locked": false,
     "points": 0,
     "schema_version": 3,
     "solution": true
    }
   },
   "outputs": [],
   "source": [
    "if not os.getenv(\"DEBUG\"):\n",
    "    # YOUR CODE HERE\n",
    "    raise NotImplementedError()"
   ]
  },
  {
   "cell_type": "markdown",
   "metadata": {},
   "source": [
    "The `MinMover`, which we have previously used to change torsion angles to find the nearest minimum in the score function, can also operate on the jump translation and rotation. It suffices to set the `Jump` variable as moveable in the `MoveMap`:\n",
    "\n",
    "```\n",
    "movemap = MoveMap()\n",
    "movemap.set_jump(jump_num, True)\n",
    "min_mover = MinMover()\n",
    "min_mover.movemap(movemap)\n",
    "scorefxn = get_fa_scorefxn()\n",
    "min_mover.score_function(scorefxn)\n",
    "```"
   ]
  },
  {
   "cell_type": "code",
   "execution_count": null,
   "metadata": {
    "deletable": false,
    "nbgrader": {
     "cell_type": "code",
     "checksum": "71ed859be393798aa54fdc6d4876b61d",
     "grade": true,
     "grade_id": "cell-ce507c3fde8bfe9f",
     "locked": false,
     "points": 0,
     "schema_version": 3,
     "solution": true
    }
   },
   "outputs": [],
   "source": [
    "if not os.getenv(\"DEBUG\"):\n",
    "    # YOUR CODE HERE\n",
    "    raise NotImplementedError()"
   ]
  },
  {
   "cell_type": "markdown",
   "metadata": {},
   "source": [
    "Apply the above `MinMover` to the working pose\n",
    "\n",
    "```\n",
    "scorefxn(pose)\n",
    "min_mover.apply(pose)\n",
    "print(pose.jump(jump_num).get_rotation())\n",
    "print(pose.jump(jump_num).get_translation())\n",
    "```\n",
    "\n",
    "__Question:__ How much does the score change? What are the new rotation matrix and translation vector in the `Jump`? How many Ångstroms did the downstream protein move?"
   ]
  },
  {
   "cell_type": "code",
   "execution_count": null,
   "metadata": {
    "deletable": false,
    "nbgrader": {
     "cell_type": "code",
     "checksum": "d58e4b7e11ae032b5c85096b13c436de",
     "grade": true,
     "grade_id": "cell-090435272f2b6509",
     "locked": false,
     "points": 0,
     "schema_version": 3,
     "solution": true
    }
   },
   "outputs": [],
   "source": [
    "#Skip for tests\n",
    "if not os.getenv(\"DEBUG\"):\n",
    "    # YOUR CODE HERE\n",
    "    raise NotImplementedError()"
   ]
  },
  {
   "cell_type": "markdown",
   "metadata": {},
   "source": [
    "## Low-Resolution Docking via RosettaDock\n",
    "\n",
    "\n",
    "RosettaDock can also perform global docking runs, but it can require significant time. Typically, $10^{5}$ - $10^{6}$ decoys are needed in a global run. For this workshop, we will create a much smaller number and learn the tools needed to handle large runs.\n",
    "\n",
    "\n",
    "Docking is available as a mover that completely encompasses the protocol. To use the `Mover`, you will need a starting pose with both chains and a jump defined. The structure must be in low-resolution (centroid) mode, and you will need the low-resolution docking score function:\n",
    "\n",
    "```\n",
    "scorefxn_low = create_score_function(\"interchain_cen\")\n",
    "```"
   ]
  },
  {
   "cell_type": "code",
   "execution_count": null,
   "metadata": {
    "deletable": false,
    "nbgrader": {
     "cell_type": "code",
     "checksum": "a014a0e725e9d0d956d4c5bf81a00648",
     "grade": true,
     "grade_id": "cell-6e9696bfbe549dac",
     "locked": false,
     "points": 0,
     "schema_version": 3,
     "solution": true
    }
   },
   "outputs": [],
   "source": [
    "if not os.getenv(\"DEBUG\"):\n",
    "    # YOUR CODE HERE\n",
    "    raise NotImplementedError()"
   ]
  },
  {
   "cell_type": "markdown",
   "metadata": {},
   "source": [
    "Randomize your centroid version of the complex. Then, create low-resolution docking structures as follows:\n",
    "\n",
    "```\n",
    "dock_lowres = DockingLowRes(scorefxn_low, jump_num)\n",
    "print(cen_pose.fold_tree())\n",
    "setup_foldtree(cen_pose, \"A_B\", Vector1([1]))\n",
    "print(cen_pose.fold_tree())\n",
    "dock_lowres.apply(cen_pose)\n",
    "```"
   ]
  },
  {
   "cell_type": "code",
   "execution_count": null,
   "metadata": {
    "deletable": false,
    "nbgrader": {
     "cell_type": "code",
     "checksum": "e6d8aeaf2b0e64758c60d3ddf5d69770",
     "grade": true,
     "grade_id": "cell-65ce19275ff9a520",
     "locked": false,
     "points": 0,
     "schema_version": 3,
     "solution": true
    }
   },
   "outputs": [],
   "source": [
    "#Skip for tests\n",
    "if not os.getenv(\"DEBUG\"):\n",
    "    # YOUR CODE HERE\n",
    "    raise NotImplementedError()"
   ]
  },
  {
   "cell_type": "markdown",
   "metadata": {},
   "source": [
    "You can compare structures by calculating the root-mean-squared deviation of all the Cα atoms, using the function `CA_rmsd(pose1, pose2)`. In docking, a more useful measure is the ligand RMSD, which is the deviation of the backbone Cα atoms of the ligand after superposition of the receptor protein backbones. You can calculate ligand RMSD with `calc_Lrmsd(pose1, pose2, Vector1([1])`).\n",
    "\n",
    "```\n",
    "print(CA_rmsd(cen_pose, starting_cen_pose))\n",
    "print(calc_Lrmsd(cen_pose, starting_cen_pose, Vector1([1])))\n",
    "```\n",
    "\n",
    "__Question:__ Using both measures, how far did your pose move from the low-resolution search?"
   ]
  },
  {
   "cell_type": "code",
   "execution_count": null,
   "metadata": {},
   "outputs": [],
   "source": [
    "if not os.getenv(\"DEBUG\"):\n",
    "    print(CA_rmsd(cen_pose, starting_cen_pose))\n",
    "    print(calc_Lrmsd(cen_pose, starting_cen_pose, Vector1([1])))"
   ]
  },
  {
   "cell_type": "markdown",
   "metadata": {},
   "source": [
    "Examine the created decoys in PyMOL directly.\n",
    "```\n",
    "pymol.keep_history(True)\n",
    "pymol.apply(cen_pose)\n",
    "pymol.apply(pose)\n",
    "```\n",
    "OR dump the pdbs to view in PyMOL.\n",
    "```\n",
    "cen_pose.dump_pdb(\"cen_pose.pdb\")\n",
    "pose.dump_pdb(\"pose.pdb\")\n",
    "```\n"
   ]
  },
  {
   "cell_type": "code",
   "execution_count": null,
   "metadata": {},
   "outputs": [],
   "source": []
  },
  {
   "cell_type": "markdown",
   "metadata": {},
   "source": [
    "__Question:__ Does it look like a reasonable structure for a protein-protein complex? Explain."
   ]
  },
  {
   "cell_type": "code",
   "execution_count": null,
   "metadata": {},
   "outputs": [],
   "source": []
  },
  {
   "cell_type": "markdown",
   "metadata": {},
   "source": [
    "## Job Distributor\n",
    "\n",
    "\n",
    "For exhaustive searches with Rosetta (docking, refinement, or folding), it is necessary to create a large number of candidate structures, termed “decoys”. This is often accomplished by spreading out the work over a large number of computers. Additionally, each decoy created needs to be individually labeled. The object that is responsible for managing the output is called a `PyJobDistributor`. Here, we will use a simple job distributor to create multiple structures. The following constructor sets the job distributor to create 10 decoys, with filenames like `output_1.pdb`, `output_2.pdb`, etc. The pdb files will also include scores according to the `ScoreFunction` provided.\n",
    "\n",
    "```\n",
    "jd = PyJobDistributor(\"output\", 10, scorefxn_low)\n",
    "```"
   ]
  },
  {
   "cell_type": "code",
   "execution_count": null,
   "metadata": {
    "deletable": false,
    "nbgrader": {
     "cell_type": "code",
     "checksum": "b323c10d2f23a27047c6d7d4ec76f812",
     "grade": true,
     "grade_id": "cell-f550a76ee39cd4ea",
     "locked": false,
     "points": 0,
     "schema_version": 3,
     "solution": true
    }
   },
   "outputs": [],
   "source": [
    "if not os.getenv(\"DEBUG\"):\n",
    "    # YOUR CODE HERE\n",
    "    raise NotImplementedError()"
   ]
  },
  {
   "cell_type": "markdown",
   "metadata": {},
   "source": [
    "It is also useful to compare each decoy to the native structure (if it is known; otherwise any reference structure can be used). The job distributor will do the RMSD calculation and final scoring upon output. To set the native pose:\n",
    "\n",
    "```\n",
    "# your starting_cen_pose should be the native crystal structure\n",
    "jd.native_pose = starting_cen_pose\n",
    "```"
   ]
  },
  {
   "cell_type": "code",
   "execution_count": null,
   "metadata": {
    "deletable": false,
    "nbgrader": {
     "cell_type": "code",
     "checksum": "a5956fdfdd1408d2ff514ee99be73eca",
     "grade": true,
     "grade_id": "cell-6ff51cd27d0588d0",
     "locked": false,
     "points": 0,
     "schema_version": 3,
     "solution": true
    }
   },
   "outputs": [],
   "source": [
    "if not os.getenv(\"DEBUG\"):\n",
    "    # your starting_cen_pose should be the native crystal structure\n",
    "    # YOUR CODE HERE\n",
    "    raise NotImplementedError()"
   ]
  },
  {
   "cell_type": "markdown",
   "metadata": {},
   "source": [
    "Create a randomized starting pose, working pose, fold tree, score function, job distributor, and low-resolution docking mover. Now, run the low-resolution docking protocol to create a structure, and output a decoy:\n",
    "\n",
    "```\n",
    "cen_pose.assign(starting_cen_pose)\n",
    "dock_lowres.apply(cen_pose)\n",
    "jd.output_decoy(cen_pose)\n",
    "```\n",
    "\n",
    "Do this twice and confirm that you have two output files in your working directory."
   ]
  },
  {
   "cell_type": "code",
   "execution_count": null,
   "metadata": {
    "deletable": false,
    "nbgrader": {
     "cell_type": "code",
     "checksum": "b0c16112b9d0e9e643003358b6783a15",
     "grade": true,
     "grade_id": "cell-8c5a14cec8a487ae",
     "locked": false,
     "points": 0,
     "schema_version": 3,
     "solution": true
    }
   },
   "outputs": [],
   "source": [
    "#Skip for tests\n",
    "if not os.getenv(\"DEBUG\"):\n",
    "    # YOUR CODE HERE\n",
    "    raise NotImplementedError()"
   ]
  },
  {
   "cell_type": "markdown",
   "metadata": {},
   "source": [
    "Whenever the `output_decoy()` method is called, the `current_num` variable of the `PyJobDistributor` is incremented, and it also outputs an updated score file: `output.fasc`. We can finish the set of 10 decoys by using the `PyJobDistributor` to set up a loop:\n",
    "\n",
    "```\n",
    "while not jd.job_complete:\n",
    "    cen_pose.assign(starting_cen_pose)\n",
    "    dock_lowres.apply(cen_pose)\n",
    "    jd.output_decoy(cen_pose)\n",
    "```\n",
    "\n",
    "Note the `jd.job_complete` Boolean variable that indicates whether all 10 decoys have been created."
   ]
  },
  {
   "cell_type": "code",
   "execution_count": null,
   "metadata": {
    "deletable": false,
    "nbgrader": {
     "cell_type": "code",
     "checksum": "268d55a27785d093c40c18857f45877f",
     "grade": true,
     "grade_id": "cell-781b05811931654d",
     "locked": false,
     "points": 0,
     "schema_version": 3,
     "solution": true
    }
   },
   "outputs": [],
   "source": [
    "#Skip for tests\n",
    "if not os.getenv(\"DEBUG\"):\n",
    "    # YOUR CODE HERE\n",
    "    raise NotImplementedError()"
   ]
  },
  {
   "cell_type": "markdown",
   "metadata": {},
   "source": [
    "Run the loop to create 10 structures. The score file, `output.fasc` summarizes the energies and RMSDs of all structures created.\n",
    "\n",
    "__Question:__ Examine that file. What is the lowest score? What is the lowest energy?"
   ]
  },
  {
   "cell_type": "code",
   "execution_count": null,
   "metadata": {},
   "outputs": [],
   "source": []
  },
  {
   "cell_type": "markdown",
   "metadata": {},
   "source": [
    "Reset the `PyJobDistributor` to create 100 decoys (or more or less, as the speed of your processor allows) by reconstructing it. Rerun the loop above to make 100 decoys. Use your score file to plot score versus RMSD. (Two easy ways to do this are to import the score file into Excel or to use the Linux command gnuplot.)\n",
    "\n",
    "```\n",
    "jd = PyJobDistributor(\"output\", 100, scorefxn_low)\n",
    "while not jd.job_complete:\n",
    "    cen_pose.assign(starting_cen_pose)\n",
    "    dock_lowres.apply(cen_pose)\n",
    "    jd.output_decoy(cen_pose)\n",
    "```\n",
    "\n",
    "__Question:__ Do you see an energy funnel?"
   ]
  },
  {
   "cell_type": "code",
   "execution_count": null,
   "metadata": {
    "deletable": false,
    "nbgrader": {
     "cell_type": "code",
     "checksum": "e1ebc2cabd5e20a3479eabf85b7af792",
     "grade": true,
     "grade_id": "cell-a45a7f72aed91bb0",
     "locked": false,
     "points": 0,
     "schema_version": 3,
     "solution": true
    }
   },
   "outputs": [],
   "source": [
    "#Skip for tests\n",
    "if not os.getenv(\"DEBUG\"):\n",
    "    # YOUR CODE HERE\n",
    "    raise NotImplementedError()"
   ]
  },
  {
   "cell_type": "markdown",
   "metadata": {},
   "source": [
    "## High-Resolution Docking\n",
    "\n",
    "\n",
    "The high-resolution stage of RosettaDock is also available as a `Mover`. This mover encompasses random rigid-body moves, side-chain packing, and gradient-based minimization in the rigid-body coordinates. High-resolution docking needs an all-atom score function. The optimized docking weights are available as a patch to the standard all-atom energy function.\n",
    "\n",
    "```\n",
    "scorefxn_high = create_score_function(\"ref2015.wts\", \"docking\")\n",
    "dock_hires = DockMCMProtocol()\n",
    "dock_hires.set_scorefxn(scorefxn_high)\n",
    "dock_hires.set_partners(\"A_B\")  # make sure the FoldTree is set up properly\n",
    "```\n",
    "\n",
    "__Note__ that unlike for `DockingLowRes`, we must supply the docking partners with `\"A_B\"` instead of `jump_num`."
   ]
  },
  {
   "cell_type": "code",
   "execution_count": null,
   "metadata": {
    "deletable": false,
    "nbgrader": {
     "cell_type": "code",
     "checksum": "93c676623bfb12ee22697bc5eef6dd89",
     "grade": true,
     "grade_id": "cell-bf648382bf33aeac",
     "locked": false,
     "points": 0,
     "schema_version": 3,
     "solution": true
    }
   },
   "outputs": [],
   "source": [
    "if not os.getenv(\"DEBUG\"):\n",
    "    # YOUR CODE HERE\n",
    "    raise NotImplementedError()"
   ]
  },
  {
   "cell_type": "markdown",
   "metadata": {},
   "source": [
    "A high-resolution decoy needs side chains. One way to place the side chains is to call the `PackMover`, which will generate a conformation from rotamers. A second way is to copy the side chains from the original monomer structures. This is often helpful for docking calculations since the monomer crystal structures have good side chain positions.\n",
    "\n",
    "```\n",
    "recover_sidechains = ReturnSidechainMover(starting_pose)\n",
    "recover_sidechains.apply(pose)\n",
    "```"
   ]
  },
  {
   "cell_type": "code",
   "execution_count": null,
   "metadata": {
    "deletable": false,
    "nbgrader": {
     "cell_type": "code",
     "checksum": "cad0b8643d8b19a23588700a7dbacb6b",
     "grade": true,
     "grade_id": "cell-5a400c39e0711fae",
     "locked": false,
     "points": 0,
     "schema_version": 3,
     "solution": true
    }
   },
   "outputs": [],
   "source": [
    "if not os.getenv(\"DEBUG\"):\n",
    "    # YOUR CODE HERE\n",
    "    raise NotImplementedError()"
   ]
  },
  {
   "cell_type": "markdown",
   "metadata": {},
   "source": [
    "Load one of your low-resolution decoys, add the side chains from the starting pose, and refine the decoy using high-resolution docking.\n",
    "\n",
    "__Question:__ How far did the structure move during refinement? How much did the score improve?"
   ]
  },
  {
   "cell_type": "code",
   "execution_count": null,
   "metadata": {},
   "outputs": [],
   "source": []
  },
  {
   "cell_type": "markdown",
   "metadata": {},
   "source": [
    "Starting from your lowest-scoring low-resolution decoy, create three high-resolution decoys. (You might use the `PyJobDistributor`.) Do the same starting from the native structure.\n",
    "\n",
    "__Questions:__\n",
    "\n",
    "- How do the refined-native scores compare to the refined-decoy scores?\n",
    "\n",
    "- What is the RMSD of the refined native? Why is it not zero?\n",
    "\n",
    "- How much variation do you see in the refined native scores? In the refined decoy scores? Is the difference between the refined natives and the refined decoys significant?"
   ]
  },
  {
   "cell_type": "code",
   "execution_count": null,
   "metadata": {},
   "outputs": [],
   "source": []
  },
  {
   "cell_type": "markdown",
   "metadata": {},
   "source": [
    "## Docking Funnel\n",
    "\n",
    "Using a `PyJobDistributor` and `DockMCMProtocol`, create 10 decoys starting with a `RigidBodyRandomizeMover` perturbation of `partner_downstream`, 10 decoys starting from different local random perturbations (8°, 3 Å), 10 decoys starting from low-resolution decoys, and 10 starting from the native structure. Plot all of these points on a funnel plot.\n",
    "\n",
    "__Question:__ How is the sampling from each method? Does the scoring function discriminate good complexes?"
   ]
  },
  {
   "cell_type": "code",
   "execution_count": null,
   "metadata": {},
   "outputs": [],
   "source": []
  },
  {
   "cell_type": "markdown",
   "metadata": {},
   "source": [
    "## Programming Exercises\n",
    "\n",
    "\n",
    "- Output a structure with a 10 Å translation and another with a 30° rotation (both starting from the same starting structure), and load them into PyMOL to confirm the motions are what you expect.\n",
    "\n",
    "\n",
    "- Diffusion. Make a series of random rigid body perturbations and record the RMSD after each. Plot RMSD versus the number of moves. Does this process emulate diffusion? If it did, how would you know? (Hint: there is a way to plot these data to make them linear.)\n",
    "\n",
    "\n",
    "- Starting from a low-resolution docking decoy, refine the structure in three separate ways:\n",
    "\n",
    "    - side-chain packing\n",
    "    \n",
    "    - gradient-based minimization in the rigid-body coordinates\n",
    "\n",
    "    - gradient-based minimization in the torsional coordinates\n",
    "\n",
    "    - the docking high-resolution protocol\n",
    "\n",
    "For each, note the change in RMSD and the change in score. Which operations move the protein the most? Which make the most difference in the score?\n",
    "    \n",
    "- Using the `MonteCarlo` object, the `RigidBodyMover`, `PackRotamers`, and the `MinMover`, create your own high-resolution docking protocol. Bonus: Can you tune it to beat the standard protocol? “Beating” the standard protocol could mean achieving lower energies, running in faster time, and/or being able to better predict complexes."
   ]
  },
  {
   "cell_type": "code",
   "execution_count": null,
   "metadata": {},
   "outputs": [],
   "source": []
  },
  {
   "cell_type": "markdown",
   "metadata": {},
   "source": [
    "<!--NAVIGATION-->\n",
    "< [Fast Fourier Transform Based Docking via ZDOCK](http://nbviewer.jupyter.org/github/RosettaCommons/PyRosetta.notebooks/blob/master/notebooks/07.01-Fast-Fourier-Transform-Based-Docking-via-ZDOCK.ipynb) | [Contents](toc.ipynb) | [Index](index.ipynb) | [Ligand Refinement in PyRosetta (a.k.a. High-Resolution Local Docking) Using the `ligand.wts` Scorefunction](http://nbviewer.jupyter.org/github/RosettaCommons/PyRosetta.notebooks/blob/master/notebooks/08.00-Ligand-Docking-PyRosetta.ipynb) ><p><a href=\"https://colab.research.google.com/github/RosettaCommons/PyRosetta.notebooks/blob/master/notebooks/07.02-Docking-Moves-in-Rosetta.ipynb\"><img align=\"left\" src=\"https://colab.research.google.com/assets/colab-badge.svg\" alt=\"Open in Colab\" title=\"Open in Google Colaboratory\"></a>"
   ]
  }
 ],
 "metadata": {
  "anaconda-cloud": {},
  "kernelspec": {
   "display_name": "Python 3",
   "language": "python",
   "name": "python3"
  },
  "language_info": {
   "codemirror_mode": {
    "name": "ipython",
    "version": 3
   },
   "file_extension": ".py",
   "mimetype": "text/x-python",
   "name": "python",
   "nbconvert_exporter": "python",
   "pygments_lexer": "ipython3",
   "version": "3.7.6"
  },
  "toc": {
   "base_numbering": 1,
   "nav_menu": {},
   "number_sections": true,
   "sideBar": true,
   "skip_h1_title": false,
   "title_cell": "Table of Contents",
   "title_sidebar": "Contents",
   "toc_cell": false,
   "toc_position": {
    "height": "calc(100% - 180px)",
    "left": "10px",
    "top": "150px",
    "width": "256px"
   },
   "toc_section_display": true,
   "toc_window_display": true
  }
 },
 "nbformat": 4,
 "nbformat_minor": 1
}
