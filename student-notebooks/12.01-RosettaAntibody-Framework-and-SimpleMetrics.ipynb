{
 "cells": [
  {
   "cell_type": "markdown",
   "metadata": {},
   "source": [
    "Before you turn this problem in, make sure everything runs as expected. First, **restart the kernel** (in the menubar, select Kernel$\\rightarrow$Restart) and then **run all cells** (in the menubar, select Cell$\\rightarrow$Run All).\n",
    "\n",
    "Make sure you fill in any place that says `YOUR CODE HERE` or \"YOUR ANSWER HERE\", as well as your name and collaborators below:"
   ]
  },
  {
   "cell_type": "code",
   "execution_count": null,
   "metadata": {},
   "outputs": [],
   "source": [
    "NAME = \"\"\n",
    "COLLABORATORS = \"\""
   ]
  },
  {
   "cell_type": "markdown",
   "metadata": {},
   "source": [
    "---"
   ]
  },
  {
   "cell_type": "markdown",
   "metadata": {},
   "source": [
    "<!--NOTEBOOK_HEADER-->\n",
    "*This notebook contains material from [PyRosetta](https://RosettaCommons.github.io/PyRosetta.notebooks);\n",
    "content is available [on Github](https://github.com/RosettaCommons/PyRosetta.notebooks.git).*"
   ]
  },
  {
   "cell_type": "markdown",
   "metadata": {},
   "source": [
    "<!--NAVIGATION-->\n",
    "< [Working With Antibodies](http://nbviewer.jupyter.org/github/RosettaCommons/PyRosetta.notebooks/blob/master/notebooks/12.00-Working-With-Antibodies.ipynb) | [Contents](toc.ipynb) | [Index](index.ipynb) | [RosettaAntibodyDesign](http://nbviewer.jupyter.org/github/RosettaCommons/PyRosetta.notebooks/blob/master/notebooks/12.02-RosettaAntibodyDesign-RAbD.ipynb) ><p><a href=\"https://colab.research.google.com/github/RosettaCommons/PyRosetta.notebooks/blob/master/notebooks/12.01-RosettaAntibody-Framework-and-SimpleMetrics.ipynb\"><img align=\"left\" src=\"https://colab.research.google.com/assets/colab-badge.svg\" alt=\"Open in Colab\" title=\"Open in Google Colaboratory\"></a>"
   ]
  },
  {
   "cell_type": "markdown",
   "metadata": {},
   "source": [
    "# RosettaAntibody Framework\n",
    "Keywords: CDRResidueSelector\n",
    "\n",
    "## Overview\n",
    "In this workshop we will learn how to use the RosettaAntibody framework.  The full RosettaAntibody (modeling) code is not available in PyRosetta, unfortunately - as it is based around an application. To use that, you will have to use either the ROSIE server, or the Rosetta application. \n",
    "\n",
    "For a full overview of the RosettaAntibody modeling application, see this paper: \n",
    "https://www.ncbi.nlm.nih.gov/pubmed/28125104\n",
    "\n",
    "Snugdock, and H3 modeling component of RosettaAntibody are available here as movers. "
   ]
  },
  {
   "cell_type": "code",
   "execution_count": null,
   "metadata": {},
   "outputs": [],
   "source": [
    "!pip install pyrosettacolabsetup\n",
    "import pyrosettacolabsetup; pyrosettacolabsetup.install_pyrosetta()\n",
    "import pyrosetta; pyrosetta.init()\n"
   ]
  },
  {
   "cell_type": "markdown",
   "metadata": {},
   "source": [
    "**Make sure you are in the directory with the pdb files:**\n",
    "\n",
    "`cd google_drive/My\\ Drive/student-notebooks/`"
   ]
  },
  {
   "cell_type": "markdown",
   "metadata": {},
   "source": [
    "## Imports\n",
    "\n",
    "Lets import the antibody namespace so we can start using it.  Take a look at the different modules that are a part of the antibody module.\n",
    "\n",
    "Note that we can also do `from rosetta.protocols.antibody import *` in order to make accessing the enums much easier.  For the purpose of this workshop, we will use `antibody` to traverse the contents.  This makes it easier for you to use tab completion for exploration."
   ]
  },
  {
   "cell_type": "code",
   "execution_count": null,
   "metadata": {},
   "outputs": [],
   "source": [
    "#Python\n",
    "from pyrosetta import *\n",
    "from pyrosetta.rosetta import *\n",
    "from pyrosetta.teaching import *\n",
    "\n",
    "#Core Includes\n",
    "from rosetta.core.select import residue_selector as selections\n",
    "\n",
    "from rosetta.protocols import antibody\n"
   ]
  },
  {
   "cell_type": "markdown",
   "metadata": {},
   "source": [
    "## Intitlialization \n",
    "\n",
    "Here, we will initialize a typical run of Rosetta. We could use the `-input_ab_scheme` option with `AHo_Scheme`, but we will learn to instead pass this to our main antibody framework code. "
   ]
  },
  {
   "cell_type": "code",
   "execution_count": null,
   "metadata": {},
   "outputs": [],
   "source": [
    "init('-use_input_sc -ignore_unrecognized_res \\\n",
    "     -ignore_zero_occupancy false -load_PDB_components false -no_fconfig')"
   ]
  },
  {
   "cell_type": "markdown",
   "metadata": {},
   "source": [
    "## Import and copy pose\n",
    "\n",
    "Let's load an antibody - this this the same antibody we used to learn packing and design. :)"
   ]
  },
  {
   "cell_type": "code",
   "execution_count": null,
   "metadata": {},
   "outputs": [],
   "source": [
    "#Import a pose\n",
    "pose = pose_from_pdb(\"inputs/2r0l_1_1.pdb\")\n",
    "original_pose = pose.clone()"
   ]
  },
  {
   "cell_type": "markdown",
   "metadata": {},
   "source": [
    "## AntibodyInfo\n",
    "\n",
    "The main tool that we will use is the `AntibodyInfo` object.  This allows you to get a TON of information about the antibody to use in various custom protocols.  \n",
    "\n",
    "Note that this antibody has already been renumbered using the PyIgClassify server.\n",
    "\n",
    "Since we are not defining the numbering scheme and cdr definition during init, we will need to pass an Enum to the AntibodyInfo object."
   ]
  },
  {
   "cell_type": "code",
   "execution_count": null,
   "metadata": {},
   "outputs": [],
   "source": [
    "ab_info = antibody.AntibodyInfo(pose, antibody.AHO_Scheme, antibody.North)"
   ]
  },
  {
   "cell_type": "markdown",
   "metadata": {},
   "source": [
    "Lets take a look at what AntibodyInfo prints"
   ]
  },
  {
   "cell_type": "code",
   "execution_count": null,
   "metadata": {},
   "outputs": [],
   "source": [
    "print(ab_info)"
   ]
  },
  {
   "cell_type": "markdown",
   "metadata": {},
   "source": [
    "**Isn't that AWESOME!!**  I think so.  But I wrote a lot of that code!  \n",
    "\n",
    "Anyway, as you can see you can get a pretty fair bit of information out of the AntibodyInfo object.  In fact, most antibody-related code actually takes an AntibodyInfo object or constructs one from set numbering scheme, cdr definitions, and pose passed to it.  You will see this as we go.  \n",
    "\n",
    "Note the north_cluster here.  This is useful in some modeling tasks, but becomes much more relevant during antibody design.  More information on what we mean by north_cluster can be found in this paper, if you want to read ahead a bit. https://www.ncbi.nlm.nih.gov/pubmed/21035459"
   ]
  },
  {
   "cell_type": "markdown",
   "metadata": {},
   "source": [
    "## Basic AntibodyInfo Access\n",
    "Now, lets use the AntibodyInfo class to get a bit of useful information out of our antibody."
   ]
  },
  {
   "cell_type": "code",
   "execution_count": null,
   "metadata": {},
   "outputs": [],
   "source": [
    "print(\"h1\", ab_info.get_CDR_start(antibody.h1, pose))\n",
    "print(\"h2\", ab_info.get_CDR_end(antibody.h2, pose))"
   ]
  },
  {
   "cell_type": "markdown",
   "metadata": {},
   "source": [
    "Now lets use these enums a bit more.  They go in order from 1 to 8, with 7 and 8 being CDR4 loops - also known as H3 loops.  We won't worry about them just yet.  "
   ]
  },
  {
   "cell_type": "code",
   "execution_count": null,
   "metadata": {},
   "outputs": [],
   "source": [
    "for i in range(1, 7):\n",
    "    print(i, ab_info.get_CDR_name(antibody.CDRNameEnum(i)))\n",
    "    \n",
    "for cdr in ['L1', 'l1', 'L2', 'l2', 'L3', 'H1', 'H2', 'H3']:\n",
    "    print(cdr, str(ab_info.get_CDR_name_enum(cdr)))\n",
    "          \n",
    "print(str(antibody.h3))\n",
    "print(int(antibody.h3))"
   ]
  },
  {
   "cell_type": "markdown",
   "metadata": {},
   "source": [
    "Does this make enums a bit less confusing?  These are named integers.  The last function allows us to print either the actual cdr name enum or the integer from it.  The cool thing here is that we can loop through all of the CDRs just by using a range 1-6 and rosetta will understand it.  \n",
    "\n",
    "Note that we convert the integer into a `CDRNameEnum` in the function.  If we are storing the cdr name enums as indexes to a dictionary or list, we don't need this.  That is simply for the C++ code to work properly. "
   ]
  },
  {
   "cell_type": "markdown",
   "metadata": {},
   "source": [
    "### AntibodyEnumManager\n",
    "So we have seen that some of this code we can do directly within AntibodyInfo itself.  Cool. But what if we need something more advanced?  Lets use the class that actually does all this conversion.\n"
   ]
  },
  {
   "cell_type": "code",
   "execution_count": null,
   "metadata": {},
   "outputs": [],
   "source": [
    "enum_manager = antibody.AntibodyEnumManager()\n",
    "print(enum_manager.numbering_scheme_enum_to_string(antibody.AHO_Scheme))\n",
    "print(enum_manager.cdr_definition_enum_to_string(antibody.North))\n",
    "print(enum_manager.cdr_name_string_to_enum(\"H1\"))\n",
    "print(enum_manager.antibody_region_enum_to_string(antibody.framework_region))"
   ]
  },
  {
   "cell_type": "markdown",
   "metadata": {},
   "source": [
    "Use the function, `get_region_or_residue` and `get_CDRNameEnum_of_residue` and the manager to traverse the antibody and get relevant regions of all residues in the pose"
   ]
  },
  {
   "cell_type": "code",
   "execution_count": null,
   "metadata": {
    "deletable": false,
    "nbgrader": {
     "cell_type": "code",
     "checksum": "6131d91879747ff5164ce811d44c5091",
     "grade": true,
     "grade_id": "cell-bb8eb8b9a8a8e905",
     "locked": false,
     "points": 0,
     "schema_version": 3,
     "solution": true
    }
   },
   "outputs": [],
   "source": [
    "# YOUR CODE HERE\n",
    "raise NotImplementedError()"
   ]
  },
  {
   "cell_type": "markdown",
   "metadata": {},
   "source": [
    "### CDR Clusters\n",
    "\n",
    "Use either the PyRosetta docs on AntibodyInfo, or the interactive notebook to use AntibodyInfo to get the length and cluster of L1."
   ]
  },
  {
   "cell_type": "code",
   "execution_count": null,
   "metadata": {
    "deletable": false,
    "nbgrader": {
     "cell_type": "code",
     "checksum": "32f6433f9ac81955b0565d6e91b6a9e8",
     "grade": true,
     "grade_id": "cell-060502f6442e80a9",
     "locked": false,
     "points": 0,
     "schema_version": 3,
     "solution": true
    }
   },
   "outputs": [],
   "source": [
    "# YOUR CODE HERE\n",
    "raise NotImplementedError()"
   ]
  },
  {
   "cell_type": "markdown",
   "metadata": {},
   "source": [
    "The CDRCluster object has a lot of information about a particular cluster.  Lets use it to get the normalized distance in degrees of the L1 cluster. "
   ]
  },
  {
   "cell_type": "code",
   "execution_count": null,
   "metadata": {},
   "outputs": [],
   "source": [
    "L1_cluster = ab_info.get_CDR_cluster(antibody.l1)\n",
    "print(L1_cluster.normalized_distance_in_degrees())"
   ]
  },
  {
   "cell_type": "markdown",
   "metadata": {},
   "source": [
    "Anything below 35 or 40 degrees is very close to the cluster center.  This is a structure with a very well-defined L1-11-1 loop - one of the most common L1 lengths and clusters."
   ]
  },
  {
   "cell_type": "markdown",
   "metadata": {},
   "source": [
    "### Numbering Scheme Translation\n",
    "It may not seem like much, but numbering scheme translation is a very difficult thing to do without mistakes.   Rosetta now has this ability to make it much easier to understand antibody structural or sequence papers in a highly tested and fairly easy-to-use implementation.  Lets take a look.  We'll use `AntibodyInfo` and the `get_landmark_resnum()` function for this, but you could also use function `get_antibody_numbering_info()` that will give you all the conversions - though it is certainly a bit more tricky to use. \n",
    "\n",
    "#### Conserved Inter-Domain Cysteine\n",
    "\n",
    "The conserved cysteine residue forming the intradomain disulfide bridge always carries the label \"23\" as in the IMGT numbering scheme, while according to Kabat, it was labeled L23 in Vk and Vl, H22 in VH.  Let's find this residue in our antibody. https://www.bioc.uzh.ch/plueckthun/antibody/Numbering/FR1/index.html"
   ]
  },
  {
   "cell_type": "code",
   "execution_count": null,
   "metadata": {},
   "outputs": [],
   "source": [
    "rosetta_num = ab_info.get_landmark_resnum(pose, antibody.Kabat_Scheme, 'H', 22)"
   ]
  },
  {
   "cell_type": "markdown",
   "metadata": {},
   "source": [
    "What is the chain and resnum in OUR Aho numbering scheme?  Is this a cysteine?  How about a disulfide?"
   ]
  },
  {
   "cell_type": "code",
   "execution_count": null,
   "metadata": {
    "deletable": false,
    "nbgrader": {
     "cell_type": "code",
     "checksum": "e6685727d4989747e3bdd23e76806b60",
     "grade": true,
     "grade_id": "cell-497c180f7a03995a",
     "locked": false,
     "points": 0,
     "schema_version": 3,
     "solution": true
    }
   },
   "outputs": [],
   "source": [
    "# YOUR CODE HERE\n",
    "raise NotImplementedError()"
   ]
  },
  {
   "cell_type": "markdown",
   "metadata": {},
   "source": [
    "Ok.  Cool.  Lets do the same thing for the Cysteine that is connected to this residue. \n",
    "In IMGT this is residue 104 on the heavy chain.  Lets do the same thing here.  Use tab completion for  `antibody.IMGT_Scheme` for the enum.  https://www.bioc.uzh.ch/plueckthun/antibody/Numbering/FR3a/index.html"
   ]
  },
  {
   "cell_type": "code",
   "execution_count": null,
   "metadata": {
    "deletable": false,
    "nbgrader": {
     "cell_type": "code",
     "checksum": "2025d5e60a6a7285a65529865f1a0e06",
     "grade": true,
     "grade_id": "cell-83b0649623e4b481",
     "locked": false,
     "points": 0,
     "schema_version": 3,
     "solution": true
    }
   },
   "outputs": [],
   "source": [
    "# YOUR CODE HERE\n",
    "raise NotImplementedError()"
   ]
  },
  {
   "cell_type": "markdown",
   "metadata": {},
   "source": [
    "Once again, what is the residue in our AHO-numbered antibody?  Is it a Cysteine?  Is it disulfide bonded?"
   ]
  },
  {
   "cell_type": "code",
   "execution_count": null,
   "metadata": {
    "deletable": false,
    "nbgrader": {
     "cell_type": "code",
     "checksum": "079ccd6140c1c1015d619945a5b33648",
     "grade": true,
     "grade_id": "cell-f462d92f2b7fc64c",
     "locked": false,
     "points": 0,
     "schema_version": 3,
     "solution": true
    }
   },
   "outputs": [],
   "source": [
    "# YOUR CODE HERE\n",
    "raise NotImplementedError()"
   ]
  },
  {
   "cell_type": "markdown",
   "metadata": {},
   "source": [
    "### Sequence\n",
    "Lets expore the sequence of this antibody"
   ]
  },
  {
   "cell_type": "code",
   "execution_count": null,
   "metadata": {},
   "outputs": [],
   "source": [
    "ab_seq = ab_info.get_antibody_sequence()\n",
    "print(ab_seq)\n",
    "\n",
    "L1_seq = ab_info.get_CDR_sequence_with_stem(antibody.l1, pose)\n",
    "print(\"L1\", L1_seq)\n",
    "\n",
    "for i in range(1, 7):\n",
    "    cdr = antibody.CDRNameEnum(i)\n",
    "    print(cdr, ab_info.get_CDR_sequence_with_stem(cdr, pose))"
   ]
  },
  {
   "cell_type": "markdown",
   "metadata": {},
   "source": [
    "### Other AntibodyInfo functions\n",
    "Use tab completion to find other useful functions.  This includes movemap, loops, and fold-tree creation for specific tasks.  With ResidueSelectors, this functionality is not quite as useful, but you should know that it is here."
   ]
  },
  {
   "cell_type": "markdown",
   "metadata": {},
   "source": [
    "### AntibodyInfo Deprecated Functions\n",
    "All functions are fair-game, except these: `get_TaskFactory_AllCDRs` and `get_TaskFactory_OneCDR`  - This will be removed from AntibodyInfo as it is extremely specific to a particular antibody modeling task."
   ]
  },
  {
   "cell_type": "markdown",
   "metadata": {},
   "source": [
    "## Antibody Util and SimpleMetrics\n",
    "Util functions in Rosetta are stored in the `util.hh` file in each directory that has one.  Within PyRosetta, when you import the namespace, these come with.  There are many that you should be aware of to make modeling and design tasks easier for custom protocols.\n",
    "\n",
    "We will go through some examples here.\n",
    "\n",
    "### Function: get_cdr_loops()\n",
    "The get_cdr_loops function takes a vector1 bool of CDRs.  Use the Enums to set H3 and L3 to true.\n",
    "Vector1 bool starts as all negative."
   ]
  },
  {
   "cell_type": "code",
   "execution_count": null,
   "metadata": {},
   "outputs": [],
   "source": [
    "h3_l3 = rosetta.utility.vector1_bool(6)\n",
    "print(h3_l3)\n",
    "\n",
    "h3_l3[antibody.h3] = True\n",
    "h3_l3[antibody.l3] = True\n",
    "\n",
    "#Here, we get cdr loops, and set the stem size to 2, \n",
    "# so we include 2 residues on either side of the CDR loop (called the stem), to help us in modeling.\n",
    "h3_l3_loops = antibody.get_cdr_loops(ab_info, pose, h3_l3, 2)\n",
    "print(h3_l3_loops)"
   ]
  },
  {
   "cell_type": "markdown",
   "metadata": {},
   "source": [
    "### Function: select_epitope_residues()\n",
    "We could use the NeighborhoodResidueSelector as you have used in the passed to get neighbors.  Instead, lets use a general function to get all the epitope residues within an 8 Angstrum distance of the paratope."
   ]
  },
  {
   "cell_type": "code",
   "execution_count": null,
   "metadata": {},
   "outputs": [],
   "source": [
    "epi_residues = antibody.select_epitope_residues(ab_info, pose, 8)\n",
    "total=0\n",
    "for i in range(1, len(epi_residues)+1):\n",
    "    if epi_residues[i]:\n",
    "        print(i)\n",
    "        total+=1\n",
    "print(\"Total Epitope Residues:\", total)"
   ]
  },
  {
   "cell_type": "markdown",
   "metadata": {},
   "source": [
    "So that was cool.  But lets the wonderful `ReturnResidueSubsetSelector` to take this `ResidueSubset` of the epitope residues and store the data as a `ResidueSelector`!"
   ]
  },
  {
   "cell_type": "code",
   "execution_count": null,
   "metadata": {},
   "outputs": [],
   "source": [
    "epi_res_selector = selections.ReturnResidueSubsetSelector(epi_residues)"
   ]
  },
  {
   "cell_type": "markdown",
   "metadata": {},
   "source": [
    "Now what?  Lets use some SimpleMetrics using the selector to calculate something about these epitope residues."
   ]
  },
  {
   "cell_type": "markdown",
   "metadata": {},
   "source": [
    "### SasaMetric, TotalEnergyMetric, SelectedResiduesPyMOLMetric"
   ]
  },
  {
   "cell_type": "code",
   "execution_count": null,
   "metadata": {},
   "outputs": [],
   "source": [
    "import rosetta.core.simple_metrics.metrics as sm\n",
    "sasa_metric = sm.SasaMetric(epi_res_selector)\n",
    "print(\"\\nSASA\", sasa_metric.calculate(pose))\n",
    "\n",
    "total_metric = sm.TotalEnergyMetric(epi_res_selector)\n",
    "print(\"\\nTOTAL RESIDUE ENERGY\", total_metric.calculate(pose))\n",
    "\n",
    "#Lets use a useful metric to select these residues in pymol\n",
    "pymol_metric = sm.SelectedResiduesPyMOLMetric(epi_res_selector)\n",
    "print(\"\\nSELECTION\", pymol_metric.calculate(pose))"
   ]
  },
  {
   "cell_type": "markdown",
   "metadata": {},
   "source": [
    "Now lets see which of these residues are most buried in the interface and the residues which have the lowest energy. Note that this is not ddG - we would need to separate the chains for this.  We can use the `protocols.toolbox.rigid_body.translate` function to do that. \n",
    "\n",
    "Use the pymol selection (copy from select...) and lets take a look at them in PyMol.  Then run the code below."
   ]
  },
  {
   "cell_type": "markdown",
   "metadata": {},
   "source": [
    "### PerResidueSasaMetric"
   ]
  },
  {
   "cell_type": "code",
   "execution_count": null,
   "metadata": {},
   "outputs": [],
   "source": [
    "import rosetta.core.simple_metrics.per_residue_metrics as residue_sm\n",
    "import operator\n",
    "\n",
    "res_sasa_metric = residue_sm.PerResidueSasaMetric()\n",
    "res_sasa_metric.set_residue_selector(epi_res_selector)\n",
    "per_res_sasa = res_sasa_metric.calculate(pose)\n",
    "#print(per_res_sasa)\n",
    "\n",
    "#Convert the Map to a Dictionary, which are essentially the same thing. \n",
    "for ele in sorted(per_res_sasa.items(), key=operator.itemgetter(1), reverse=False):\n",
    "    print(ele)"
   ]
  },
  {
   "cell_type": "markdown",
   "metadata": {},
   "source": [
    "Cool. So the most buried residues at the interface are 300, 303, 305.  Convert those to the PDB chain/num using PDBInfo and take a look at them in PyMOL.\n",
    "\n",
    "### PerResidueEnergyMetric"
   ]
  },
  {
   "cell_type": "code",
   "execution_count": null,
   "metadata": {},
   "outputs": [],
   "source": [
    "res_energy_metric = residue_sm.PerResidueEnergyMetric()\n",
    "res_energy_metric.set_residue_selector(epi_res_selector)\n",
    "\n",
    "per_res_energy = res_sasa_metric.calculate(pose)\n",
    "#print(per_res_sasa)\n",
    "\n",
    "#Convert the Map to a Dictionary, which are essentially the same thing. \n",
    "for ele in sorted(per_res_energy.items(), key=operator.itemgetter(1), reverse=False):\n",
    "    print(ele[0], pose.pdb_info().pose2pdb(ele[0]), ele[1])"
   ]
  },
  {
   "cell_type": "markdown",
   "metadata": {},
   "source": [
    "Wow!  Why is 48A so high in energy!?  This may be due to the fact that we are working with a crystal structure that has not been pre-relaxed using the pareto-optimal protocol.  Be sure when using PDBs from the data bank for production runs to do this, outputting about 10 models and selecting the lowest energy residue.  Or, you could use density to relax within the crystal denstiy.  Either works well. \n",
    "\n",
    "https://journals.plos.org/plosone/article?id=10.1371/journal.pone.0059004"
   ]
  },
  {
   "cell_type": "markdown",
   "metadata": {},
   "source": [
    "## Other Useful Antibody Tools\n",
    "\n",
    "### CDRResidueSelector"
   ]
  },
  {
   "cell_type": "code",
   "execution_count": null,
   "metadata": {},
   "outputs": [],
   "source": [
    "from rosetta.protocols.antibody.residue_selector import *\n",
    "\n",
    "cdr_selector = CDRResidueSelector(ab_info)\n",
    "cdr_selector.set_cdrs(h3_l3)\n",
    "sele = cdr_selector.apply(pose)\n",
    "for i in range(1, len(sele)):\n",
    "    if sele[i]:\n",
    "        print(i, pose.pdb_info().pose2pdb(i))"
   ]
  },
  {
   "cell_type": "markdown",
   "metadata": {},
   "source": [
    "### AntibodyRegionSelector\n",
    "We can use the AntibodyRegionSelector to select a specific region:\n",
    "`antigen_region`, `framework_region`, and `cdr_region`"
   ]
  },
  {
   "cell_type": "code",
   "execution_count": null,
   "metadata": {},
   "outputs": [],
   "source": [
    "region_selector = AntibodyRegionSelector(ab_info)\n",
    "region_selector.set_region(antibody.antigen_region)\n",
    "sele = region_selector.apply(pose)\n",
    "\n",
    "for i in range(1, len(sele)):\n",
    "    if sele[i]:\n",
    "        print(i, pose.pdb_info().pose2pdb(i))\n"
   ]
  },
  {
   "cell_type": "markdown",
   "metadata": {},
   "source": [
    "### Other\n",
    "-  **TaskOperations** - Antibody specific Task Operations will be covered in the next workshop\n",
    "-  **SnugDock** - Snugdock is available in the `rosetta.protocols.antibody.snugdock` namespace.  Both the full protocol, `SnugDockProtocol` and the mover, `Snugdock` are available and easy to setup through code - but their run time is extremely long.\n",
    "-  **AntibodyModelerProtocol** - this is the `Antibody_H3` app. Personally, I would use the Rosetta C++ application for this with specific options specified in the docs, however you can call this in PyRosetta.\n",
    "-  **AntibodyCDRGrafter** This is the main grafting class used for RosettaAntibody and RosettaAntibodyDesign. Is is in the `protocols.antibody` namespace. Documentation on this mover can be found here (XML or code-level interface is available): https://www.rosettacommons.org/docs/latest/scripting_documentation/RosettaScripts/Movers/movers_pages/antibodies/AntibodyCDRGrafter   "
   ]
  },
  {
   "cell_type": "markdown",
   "metadata": {},
   "source": [
    "## References\n",
    "Please site these papers when using any of RosettaAntibody.\n",
    "\n",
    "- J. Adolf-Bryfogle, O Kalyuzhniy, M Kubitz, B. D. Weitzner, X Hu, Y Adachi, W R. Schief, R L. Dunbrack Jr., \n",
    "    - \"Rosetta Antibody Design (RAbD): A General Framework for Computational Antibody Design\", PLOS Computational Biology (2018)\n",
    "\n",
    "- B. D. Weitzner*, J. R. Jeliazkov*, S. Lyskov*, N. M. Marze, D. Kuroda, R. Frick, J. Adolf-Bryfogle, N. Biswas, R. L. Dunbrack Jr., and J. J. Gray, \n",
    "    - \"Modeling and docking of antibody structures with Rosetta.\" Nature Protocols 12, 401–416 (2017)\n",
    "\n",
    "- B. D. Weitzner, D. Kuroda, N. M. Marze, J. Xu & J. J. Gray, \n",
    "    - \"Blind prediction performance of RosettaAntibody 3.0: Grafting, relaxation, kinematic loop modeling, and full CDR optimization.\" Proteins 82(8), 1611–1623 (2014)\n",
    "\n",
    "- A. Sivasubramanian,* A. Sircar,* S. Chaudhury & J. J. Gray, \n",
    "    - \"Toward high-resolution homology modeling of antibody Fv regions and application to antibody-antigen docking,\" Proteins 74(2), 497–514 (2009)"
   ]
  },
  {
   "cell_type": "markdown",
   "metadata": {},
   "source": [
    "<!--NAVIGATION-->\n",
    "< [Side Chain Conformations and Dunbrack Energies](http://nbviewer.jupyter.org/github/RosettaCommons/PyRosetta.notebooks/blob/master/notebooks/06.01-Side-Chain-Conformations-and-Dunbrack-Energies.ipynb) | [Contents](toc.ipynb) | [Index](index.ipynb) | [Protein Design with a Resfile and FastRelax](http://nbviewer.jupyter.org/github/RosettaCommons/PyRosetta.notebooks/blob/master/notebooks/06.03-Design-with-a-resfile-and-relax.ipynb) ><p><a href=\"https://colab.research.google.com/github/RosettaCommons/PyRosetta.notebooks/blob/master/notebooks/06.02-Packing-design-and-regional-relax.ipynb\"><img align=\"left\" src=\"https://colab.research.google.com/assets/colab-badge.svg\" alt=\"Open in Colab\" title=\"Open in Google Colaboratory\"></a>"
   ]
  },
  {
   "cell_type": "code",
   "execution_count": null,
   "metadata": {},
   "outputs": [],
   "source": []
  },
  {
   "cell_type": "markdown",
   "metadata": {},
   "source": [
    "<!--NAVIGATION-->\n",
    "< [Working With Antibodies](http://nbviewer.jupyter.org/github/RosettaCommons/PyRosetta.notebooks/blob/master/notebooks/12.00-Working-With-Antibodies.ipynb) | [Contents](toc.ipynb) | [Index](index.ipynb) | [RosettaAntibodyDesign](http://nbviewer.jupyter.org/github/RosettaCommons/PyRosetta.notebooks/blob/master/notebooks/12.02-RosettaAntibodyDesign-RAbD.ipynb) ><p><a href=\"https://colab.research.google.com/github/RosettaCommons/PyRosetta.notebooks/blob/master/notebooks/12.01-RosettaAntibody-Framework-and-SimpleMetrics.ipynb\"><img align=\"left\" src=\"https://colab.research.google.com/assets/colab-badge.svg\" alt=\"Open in Colab\" title=\"Open in Google Colaboratory\"></a>"
   ]
  }
 ],
 "metadata": {
  "kernelspec": {
   "display_name": "Python 3",
   "language": "python",
   "name": "python3"
  },
  "language_info": {
   "codemirror_mode": {
    "name": "ipython",
    "version": 3
   },
   "file_extension": ".py",
   "mimetype": "text/x-python",
   "name": "python",
   "nbconvert_exporter": "python",
   "pygments_lexer": "ipython3",
   "version": "3.6.0"
  },
  "toc": {
   "base_numbering": 1,
   "nav_menu": {},
   "number_sections": true,
   "sideBar": true,
   "skip_h1_title": false,
   "title_cell": "Table of Contents",
   "title_sidebar": "Contents",
   "toc_cell": false,
   "toc_position": {},
   "toc_section_display": true,
   "toc_window_display": false
  }
 },
 "nbformat": 4,
 "nbformat_minor": 1
}
