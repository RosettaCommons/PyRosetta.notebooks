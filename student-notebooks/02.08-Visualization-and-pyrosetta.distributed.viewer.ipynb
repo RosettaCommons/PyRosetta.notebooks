{
 "cells": [
  {
   "cell_type": "markdown",
   "metadata": {},
   "source": [
    "Before you turn this problem in, make sure everything runs as expected. First, **restart the kernel** (in the menubar, select Kernel$\\rightarrow$Restart) and then **run all cells** (in the menubar, select Cell$\\rightarrow$Run All).\n",
    "\n",
    "Make sure you fill in any place that says `YOUR CODE HERE` or \"YOUR ANSWER HERE\", as well as your name and collaborators below:"
   ]
  },
  {
   "cell_type": "code",
   "execution_count": null,
   "metadata": {},
   "outputs": [],
   "source": [
    "NAME = \"\"\n",
    "COLLABORATORS = \"\""
   ]
  },
  {
   "cell_type": "markdown",
   "metadata": {},
   "source": [
    "---"
   ]
  },
  {
   "cell_type": "markdown",
   "metadata": {},
   "source": [
    "<!--NOTEBOOK_HEADER-->\n",
    "*This notebook contains material from [PyRosetta](https://RosettaCommons.github.io/PyRosetta.notebooks);\n",
    "content is available [on Github](https://github.com/RosettaCommons/PyRosetta.notebooks.git).*"
   ]
  },
  {
   "cell_type": "markdown",
   "metadata": {},
   "source": [
    "<!--NAVIGATION-->\n",
    "< [RosettaScripts in PyRosetta](http://nbviewer.jupyter.org/github/RosettaCommons/PyRosetta.notebooks/blob/master/notebooks/02.07-RosettaScripts-in-PyRosetta.ipynb) | [Contents](toc.ipynb) | [Index](index.ipynb) | [Rosetta Energy Score Functions](http://nbviewer.jupyter.org/github/RosettaCommons/PyRosetta.notebooks/blob/master/notebooks/03.00-Rosetta-Energy-Score-Functions.ipynb) ><p><a href=\"https://colab.research.google.com/github/RosettaCommons/PyRosetta.notebooks/blob/master/notebooks/02.08-Visualization-and-pyrosetta.distributed.viewer.ipynb\"><img align=\"left\" src=\"https://colab.research.google.com/assets/colab-badge.svg\" alt=\"Open in Colab\" title=\"Open in Google Colaboratory\"></a>"
   ]
  },
  {
   "cell_type": "markdown",
   "metadata": {},
   "source": [
    "# Visualization and `pyrosetta.distributed.viewer`"
   ]
  },
  {
   "cell_type": "markdown",
   "metadata": {},
   "source": [
    "*Warning*: This notebook uses `pyrosetta.distributed.viewer` code, which runs in `jupyter notebook` and might not run if you're using `jupyterlab`."
   ]
  },
  {
   "cell_type": "markdown",
   "metadata": {},
   "source": [
    "The `pyrosetta.distributed` Viewer quickly renders `.pdb` files, dynamically instantiating `Pose` objects if required for certain visualization modules (matching the name `viewer.set*`). So when adding\n",
    "visualization modules to the Viewer or using presets, passing `Pose` or `PackedPose` objects to the Viewer is suggested for quicker rendering. If a `Pose` object or `list`, `tuple`, or `set` of `Pose`\n",
    "objects are provided to the Viewer, the Viewer will dynamically update upon `Pose` conformational changes by calling the `view.show()` method or equivalently `view()`. The Viewer applies visualization modules in the same order they are added (from left to right), so layering different styles (and `ResidueSelectors`) on top of one another becomes possible. The user must have already initialized PyRosetta providing `.params` files for any ligands and non-canonical residues in the input `Pose`(s)/`PackedPose`(s)/`.pdb` file(s), otherwise `pyrosetta.distributed` automatically initializes PyRosetta with default command line options.\n",
    "\n",
    "Throughout this notebook, different syntaxes for constructing visualizations are demonstrated to show the flexibility of the `pyrosetta.distributed.viewer` API, with hopes you find your favorite."
   ]
  },
  {
   "cell_type": "markdown",
   "metadata": {},
   "source": [
    "**If you are using Google Colab:** Currently, `pyrosetta.distributed.viewer` does **not** require the local machine's PyMOL. You can always dump any `Pose` object into a `.pdb` file and open that in PyMOL on your own computer.\n",
    "```\n",
    "pose.dump_pdb(\"output_file.pdb\")\n",
    "```"
   ]
  },
  {
   "cell_type": "markdown",
   "metadata": {},
   "source": [
    "**Note:** If you are having trouble using this notebook, please use the `PyRosetta.notebooks` conda environment.  Please see chapter 1.0 for instructions on how to setup and use this environment. "
   ]
  },
  {
   "cell_type": "code",
   "execution_count": null,
   "metadata": {},
   "outputs": [],
   "source": [
    "!pip install pyrosettacolabsetup\n",
    "import pyrosettacolabsetup; pyrosettacolabsetup.install_pyrosetta()\n",
    "import pyrosetta; pyrosetta.init()\n",
    "\n",
    "import glob\n",
    "import logging\n",
    "logging.basicConfig(level=logging.INFO)\n",
    "import numpy as np\n",
    "import os\n",
    "import pyrosetta\n",
    "import pyrosetta.distributed\n",
    "import pyrosetta.distributed.io as io\n",
    "import pyrosetta.distributed.viewer as viewer\n",
    "import sys\n",
    "\n"
   ]
  },
  {
   "cell_type": "markdown",
   "metadata": {},
   "source": [
    "### Available `viewer` objects:"
   ]
  },
  {
   "cell_type": "code",
   "execution_count": null,
   "metadata": {},
   "outputs": [],
   "source": [
    "viewer.__all__"
   ]
  },
  {
   "cell_type": "markdown",
   "metadata": {},
   "source": [
    "For example: `viewer.init()`"
   ]
  },
  {
   "cell_type": "markdown",
   "metadata": {},
   "source": [
    "### Available `viewer.presets` objects:"
   ]
  },
  {
   "cell_type": "code",
   "execution_count": null,
   "metadata": {},
   "outputs": [],
   "source": [
    "viewer.presets.__all__"
   ]
  },
  {
   "cell_type": "markdown",
   "metadata": {},
   "source": [
    "For example: `viewer.presets.coreBoundarySurface()`"
   ]
  },
  {
   "cell_type": "markdown",
   "metadata": {},
   "source": [
    "### `viewer` objects contain docstrings as user documentation:"
   ]
  },
  {
   "cell_type": "code",
   "execution_count": null,
   "metadata": {},
   "outputs": [],
   "source": [
    "help(viewer.init)"
   ]
  },
  {
   "cell_type": "markdown",
   "metadata": {},
   "source": [
    "### `viewer.presets` objects contain docstrings as brief descriptions of each preset visualization"
   ]
  },
  {
   "cell_type": "code",
   "execution_count": null,
   "metadata": {},
   "outputs": [],
   "source": [
    "help(viewer.presets.coreBoundarySurface)"
   ]
  },
  {
   "cell_type": "code",
   "execution_count": null,
   "metadata": {},
   "outputs": [],
   "source": [
    "help(viewer.presets.ligandsAndMetals)"
   ]
  },
  {
   "cell_type": "markdown",
   "metadata": {},
   "source": [
    "**From previous section:**\n",
    "Make sure you are in the right directory for accessing the `.pdb` files:\n",
    "\n",
    "`cd google_drive/My\\ Drive/student-notebooks/`"
   ]
  },
  {
   "cell_type": "markdown",
   "metadata": {},
   "source": [
    "**Note**: `import pyrosetta.distributed.viewer` expands the Jupyter notebook cell width to fit your internet browser, and can be called anytime using `pyrosetta.distributed.viewer.expand_notebook()`"
   ]
  },
  {
   "cell_type": "code",
   "execution_count": null,
   "metadata": {},
   "outputs": [],
   "source": [
    "flags = \"\"\"\n",
    "-auto_setup_metals 1\n",
    "-detect_disulf 1\n",
    "\"\"\"\n",
    "pyrosetta.distributed.init(flags)"
   ]
  },
  {
   "cell_type": "markdown",
   "metadata": {},
   "source": [
    "Show basic line representation of `.pdb` file on disk:\n",
    "\n",
    ">```\n",
    "view = viewer.init(\"path/to/my.pdb\")\n",
    "view.show()\n",
    "```"
   ]
  },
  {
   "cell_type": "markdown",
   "metadata": {},
   "source": [
    "Change the `window_size` option of `viewer.init()` to fit your screen size, which should prevent the need to scroll to view your macromolecular objects.\n",
    "\n",
    "Show basic line representation of `Pose` or `PackedPose` objects in memory:"
   ]
  },
  {
   "cell_type": "code",
   "execution_count": null,
   "metadata": {},
   "outputs": [],
   "source": [
    "pose = pyrosetta.io.pose_from_file(\"inputs/3EK4.pdb\")"
   ]
  },
  {
   "cell_type": "code",
   "execution_count": null,
   "metadata": {},
   "outputs": [],
   "source": [
    "view = viewer.init(pose, window_size=(800, 600))\n",
    "view()"
   ]
  },
  {
   "cell_type": "markdown",
   "metadata": {},
   "source": [
    "To show basic cartoon representation, add `viewer.setStyle()`:"
   ]
  },
  {
   "cell_type": "code",
   "execution_count": null,
   "metadata": {},
   "outputs": [],
   "source": [
    "view = viewer.init(pose, window_size=(800, 600)) + viewer.setStyle()\n",
    "view()"
   ]
  },
  {
   "cell_type": "markdown",
   "metadata": {},
   "source": [
    "To visualize ligands, non-conanical residues, metals, etc., `viewer.setStyle()` (and several other `viewer.set*` objects) optionally accept PyRosetta `ResidueSelector` objects. In the case of `inputs/3EK4.pdb` which is a $Ca^{2+}$-saturated GCaMP2 monomer, a ligand is a $Ca^{2+}$ ion and a non-canonical residue is the chromophore \"CRO\", both of which are aleady parameterized and available in the PyRosetta residue type set database. Therefore, we do not need to initialize PyRosetta with custom \"CA\" or \"CRO\" `.params` files. However, if one wishes to visualize ligands and non-canonical residues for which `.params` files are not available in the PyRosetta residue type set database, one must first initialize PyRosetta providing `.params` files for any ligands and non-canonical residues in the input `Pose`(s) or `PackedPose`(s):\n",
    "\n",
    "> pyrosetta.init(\"-extra_res_fa /path/to/LIG.fa.params\")\n",
    "\n",
    "`pyrosetta.distributed.viewer` passes the `Pose`'s PDB numbering of selected residues to `py3dmol` for macromolecular rendering. Also, one may layer any visualization modules with any `ResidueSelectors` in the order they are summed (from left to right). In this case:"
   ]
  },
  {
   "cell_type": "code",
   "execution_count": null,
   "metadata": {},
   "outputs": [],
   "source": [
    "metals_selector = pyrosetta.rosetta.core.select.residue_selector.ResiduePropertySelector(\n",
    "     pyrosetta.rosetta.core.chemical.ResidueProperty.METAL\n",
    ")\n",
    "ligands_selector = pyrosetta.rosetta.core.select.residue_selector.ResiduePropertySelector(\n",
    "     pyrosetta.rosetta.core.chemical.ResidueProperty.LIGAND\n",
    ")\n",
    "\n",
    "view = viewer.init(pose, window_size=(800, 600)) \\\n",
    "    + viewer.setStyle() \\\n",
    "    + viewer.setStyle(residue_selector=ligands_selector, style=\"stick\", colorscheme=\"magentaCarbon\", radius=0.5) \\\n",
    "    + viewer.setStyle(residue_selector=metals_selector, style=\"sphere\", colorscheme=\"chainHetatm\", radius=1.5)"
   ]
  },
  {
   "cell_type": "markdown",
   "metadata": {},
   "source": [
    " 1. `viewer.setStyle()` layers the cartoon backbone and stick side-chain representation by default\n",
    " 2. `viewer.setStyle(residue_selector=ligands_selector, style=\"stick\", colorscheme=\"magentaCarbon\", radius=0.5)` layers any residue with the `LIGAND` property a 0.5 radius stick with magenta carbon atoms.\n",
    " 3. `viewer.setStyle(residue_selector=metals_selector, style=\"sphere\", colorscheme=\"chainHetatm\", radius=1.5)` layers any residue with the `METAL` property a 1.5 radius sphere with the `py3dmol` color scheme \"chainHetatm\". "
   ]
  },
  {
   "cell_type": "code",
   "execution_count": null,
   "metadata": {},
   "outputs": [],
   "source": [
    "view()"
   ]
  },
  {
   "cell_type": "markdown",
   "metadata": {},
   "source": [
    "Show many `Pose`s in memory using the interactive slider widget:"
   ]
  },
  {
   "cell_type": "code",
   "execution_count": null,
   "metadata": {},
   "outputs": [],
   "source": [
    "poses = [pyrosetta.io.pose_from_sequence(\"TESTVIEWER\" * i) for i in range(1, 10)]"
   ]
  },
  {
   "cell_type": "code",
   "execution_count": null,
   "metadata": {},
   "outputs": [],
   "source": [
    "view = viewer.init(poses, continuous_update=True)\n",
    "view.add(viewer.setStyle(colorscheme=\"lightgreyCarbon\"))\n",
    "view.add(viewer.setHydrogenBonds(radius=0.1, dashed=False))\n",
    "view()"
   ]
  },
  {
   "cell_type": "markdown",
   "metadata": {},
   "source": [
    "Below, layer a `ResidueSelector` of residues with `ResidueProperty.POLAR`, then hydrogen atoms, hydrogen bonds, and disulfide bonds:"
   ]
  },
  {
   "cell_type": "code",
   "execution_count": null,
   "metadata": {},
   "outputs": [],
   "source": [
    "polar_residue_selector = pyrosetta.rosetta.core.select.residue_selector.ResiduePropertySelector(\n",
    "    pyrosetta.rosetta.core.chemical.ResidueProperty.POLAR\n",
    ")\n",
    "# Optionally, initialize the visualizer with a PackedPose object:\n",
    "# NOTE: PackedPose requires the serialization build of PyRosetta. \n",
    "# pose = io.to_packed(pose) # Test the Viewer with a PackedPose object\n",
    "view = viewer.init(pose)\n",
    "view.add(viewer.setStyle(radius=0.1))\n",
    "view.add(viewer.setStyle(residue_selector=polar_residue_selector, colorscheme=\"whiteCarbon\", radius=0.25, label=False))\n",
    "view.add(viewer.setHydrogens(color=\"white\", polar_only=True, radius=0.1))\n",
    "view.add(viewer.setHydrogenBonds(color=\"black\"))\n",
    "view.add(viewer.setDisulfides(radius=0.1))\n",
    "view()"
   ]
  },
  {
   "cell_type": "code",
   "execution_count": null,
   "metadata": {},
   "outputs": [],
   "source": [
    "view = sum(\n",
    "    [\n",
    "        viewer.init(pose),\n",
    "        viewer.setStyle(cartoon=False, style=\"sphere\", radius=1.5, colorscheme=\"darkgreyCarbon\"),\n",
    "        viewer.setZoom(factor=0.95)\n",
    "    ]\n",
    ")\n",
    "view()"
   ]
  },
  {
   "cell_type": "code",
   "execution_count": null,
   "metadata": {},
   "outputs": [],
   "source": [
    "pose = pyrosetta.io.pose_from_file(\"inputs/6MSR.pdb\")"
   ]
  },
  {
   "cell_type": "code",
   "execution_count": null,
   "metadata": {},
   "outputs": [],
   "source": [
    "chA = pyrosetta.rosetta.core.select.residue_selector.ChainSelector(\"A\")\n",
    "chB = pyrosetta.rosetta.core.select.residue_selector.ChainSelector(\"B\")\n",
    "view = sum(\n",
    "    [\n",
    "        viewer.init(pose),\n",
    "        viewer.setStyle(cartoon_color=\"lightgrey\", radius=0.25),\n",
    "        viewer.setSurface(residue_selector=chA, colorscheme=\"greenCarbon\", opacity=0.65, surface_type=\"VDW\"),\n",
    "        viewer.setSurface(residue_selector=chB, color=\"blue\", opacity=0.75, surface_type=\"SAS\"),\n",
    "        viewer.setDisulfides(radius=0.25),\n",
    "        viewer.setZoom(factor=1.5)\n",
    "    ]\n",
    ")\n",
    "view()"
   ]
  },
  {
   "cell_type": "code",
   "execution_count": null,
   "metadata": {},
   "outputs": [],
   "source": [
    "view.reinit() # Subtract all visualization modules previously added to the Viewer\n",
    "view()"
   ]
  },
  {
   "cell_type": "markdown",
   "metadata": {},
   "source": [
    "`viewer.setZoomTo()` can zoom into a PyRosetta `ResidueSelector`:"
   ]
  },
  {
   "cell_type": "code",
   "execution_count": null,
   "metadata": {},
   "outputs": [],
   "source": [
    "pose = pyrosetta.io.pose_from_file(\"inputs/1QCQ.pdb\")"
   ]
  },
  {
   "cell_type": "code",
   "execution_count": null,
   "metadata": {},
   "outputs": [],
   "source": [
    "helix_selector = pyrosetta.rosetta.core.select.residue_selector.SecondaryStructureSelector(\"H\")\n",
    "sheet_selector = pyrosetta.rosetta.core.select.residue_selector.SecondaryStructureSelector(\"E\")\n",
    "loop_selector = pyrosetta.rosetta.core.select.residue_selector.SecondaryStructureSelector(\"L\")\n",
    "\n",
    "modules = [\n",
    "    viewer.setBackgroundColor(color=\"black\"),\n",
    "    viewer.setStyle(residue_selector=helix_selector, cartoon_color=\"cyan\", label=False, radius=0),\n",
    "    viewer.setStyle(residue_selector=sheet_selector, cartoon_color=\"red\", label=False, radius=0),\n",
    "    viewer.setStyle(residue_selector=loop_selector, cartoon_color=\"white\", label=False, radius=0),\n",
    "    viewer.setZoomTo(residue_selector=sheet_selector)\n",
    "]"
   ]
  },
  {
   "cell_type": "code",
   "execution_count": null,
   "metadata": {},
   "outputs": [],
   "source": [
    "viewer.init(pose, window_size=(1200, 600), modules=modules).show()"
   ]
  },
  {
   "cell_type": "markdown",
   "metadata": {},
   "source": [
    "View live trajectories:"
   ]
  },
  {
   "cell_type": "code",
   "execution_count": null,
   "metadata": {},
   "outputs": [],
   "source": [
    "pose = pyrosetta.io.pose_from_file(\"inputs/2FD7.pdb\")"
   ]
  },
  {
   "cell_type": "code",
   "execution_count": null,
   "metadata": {},
   "outputs": [],
   "source": [
    "view = viewer.init(pose, delay=0.15) \\\n",
    "    + viewer.setStyle(radius=0.1) \\\n",
    "    + viewer.setDisulfides(radius=0.1)\n",
    "backrub = pyrosetta.rosetta.protocols.backrub.BackrubMover()\n",
    "minimize = pyrosetta.rosetta.protocols.minimization_packing.MinMover()"
   ]
  },
  {
   "cell_type": "code",
   "execution_count": null,
   "metadata": {},
   "outputs": [],
   "source": [
    "for _ in range(100):\n",
    "    backrub.apply(pose)\n",
    "    minimize.apply(pose)\n",
    "    view.show()"
   ]
  },
  {
   "cell_type": "code",
   "execution_count": null,
   "metadata": {},
   "outputs": [],
   "source": [
    "pose = pyrosetta.Pose()\n",
    "view = viewer.init(pose, delay=0.5) + viewer.setStyle(radius=0.1)\n",
    "\n",
    "add_pdb_info_mover = pyrosetta.rosetta.protocols.simple_moves.AddPDBInfoMover()\n",
    "mb = pyrosetta.rosetta.protocols.helical_bundle.MakeBundle()\n",
    "bpc = pyrosetta.rosetta.protocols.helical_bundle.BPC_Parameters\n",
    "\n",
    "n_helices = 4\n",
    "for h in range(1, (n_helices + 1)):\n",
    "    mb.add_helix()\n",
    "    mb.helix(h).calculator_op().real_parameter(bpc.BPC_delta_omega0).set_value(h * (np.radians(360) / n_helices))\n",
    "for i in range(2, 42, 3):\n",
    "    for h in range(1, (n_helices + 1)):\n",
    "        mb.helix(h).set_helix_length(i)\n",
    "        mb.helix(h).calculator_op().real_parameter(bpc.BPC_r0).set_value(n_helices * 2)\n",
    "        mb.helix(h).calculator_op().real_parameter(bpc.BPC_omega0).set_value(np.radians(5))\n",
    "    mb.apply(pose)\n",
    "    add_pdb_info_mover.apply(pose)\n",
    "    view()"
   ]
  },
  {
   "cell_type": "code",
   "execution_count": null,
   "metadata": {},
   "outputs": [],
   "source": [
    "pose = pyrosetta.Pose()\n",
    "view = viewer.init(pose, delay=0.5) + viewer.setStyle(radius=0.1)\n",
    "\n",
    "add_pdb_info_mover = pyrosetta.rosetta.protocols.simple_moves.AddPDBInfoMover()\n",
    "mb = pyrosetta.rosetta.protocols.helical_bundle.MakeBundle()\n",
    "bpc = pyrosetta.rosetta.protocols.helical_bundle.BPC_Parameters\n",
    "\n",
    "n_helices = 6\n",
    "for h in range(1, (n_helices + 1)):\n",
    "    mb.add_helix()\n",
    "    mb.helix(h).calculator_op().real_parameter(bpc.BPC_delta_omega0).set_value(h * (np.radians(360) / n_helices))\n",
    "for i in np.arange(1, 15):\n",
    "    for h in range(1, (n_helices + 1)):\n",
    "        mb.helix(h).set_helix_length(20)\n",
    "        mb.helix(h).calculator_op().real_parameter(bpc.BPC_r0).set_value(i)\n",
    "        mb.helix(h).calculator_op().real_parameter(bpc.BPC_omega0).set_value(np.radians(4))\n",
    "    mb.apply(pose)\n",
    "    add_pdb_info_mover.apply(pose)\n",
    "    view()"
   ]
  },
  {
   "cell_type": "markdown",
   "metadata": {},
   "source": [
    "Display preset custom viewers for routine visualizations:"
   ]
  },
  {
   "cell_type": "code",
   "execution_count": null,
   "metadata": {},
   "outputs": [],
   "source": [
    "pdbfiles = [os.path.join(\"inputs\", f) for f in [\"3EK4.pdb\", \"6MSR.pdb\", \"1QCQ.pdb\", \"2FD7.pdb\"]]\n",
    "poses = [pyrosetta.io.pose_from_file(p) for p in pdbfiles]"
   ]
  },
  {
   "cell_type": "code",
   "execution_count": null,
   "metadata": {},
   "outputs": [],
   "source": [
    "# Display preset custom viewers for routine visualizations:\n",
    "viewer.presets.coreBoundarySurface(poses, window_size=(800, 600), continuous_update=True)"
   ]
  },
  {
   "cell_type": "code",
   "execution_count": null,
   "metadata": {},
   "outputs": [],
   "source": [
    "viewer.presets.ligandsAndMetals(poses, window_size=(800, 600), continuous_update=False)"
   ]
  },
  {
   "cell_type": "markdown",
   "metadata": {},
   "source": [
    "**For Developers**: contribute your custom preset visualizations to PyRosetta:\n",
    "\n",
    " 1. Edit `~Rosetta/main/source/src/python/PyRosetta/src/pyrosetta/distributed/viewer/presets/\\_\\_init\\_\\_.py`\n",
    " 2. Copy and modify the `templatePreset` function, renaming it to the name of your new preset Viewer (e.g. `myCustomPreset` in step #5).\n",
    " 3. Add the name of your new preset Viewer to the `__all__` list.\n",
    " 4. Merge Github pull request into `RosettaCommons/main`\n",
    " 5. Example using it:\n",
    " ```\n",
    "    import pyrosetta.distributed.viewer as viewer\n",
    "    viewer.presets.myCustomPreset(poses)\n",
    " ```"
   ]
  },
  {
   "cell_type": "code",
   "execution_count": null,
   "metadata": {},
   "outputs": [],
   "source": [
    "def myCustomPreset(packed_and_poses_and_pdbs=None, *args, **kwargs):\n",
    "    \"\"\"\n",
    "    Add a description of the preset Viewer here\n",
    "    \"\"\"\n",
    "    # Add custrom ResidueSelectors\n",
    "    metals_selector = pyrosetta.rosetta.core.select.residue_selector.ResiduePropertySelector(\n",
    "         pyrosetta.rosetta.core.chemical.ResidueProperty.METAL\n",
    "    )\n",
    "    ligands_selector = pyrosetta.rosetta.core.select.residue_selector.ResiduePropertySelector(\n",
    "         pyrosetta.rosetta.core.chemical.ResidueProperty.LIGAND\n",
    "    )\n",
    "    \n",
    "    # Add custom Viewer commands\n",
    "    view = viewer.init(packed_and_poses_and_pdbs=packed_and_poses_and_pdbs, *args, **kwargs) \\\n",
    "        + viewer.setBackgroundColor(\"white\") \\\n",
    "        + viewer.setStyle(style=\"stick\", colorscheme=\"lightgreyCarbon\", radius=0.15) \\\n",
    "        + viewer.setStyle(residue_selector=ligands_selector, style=\"stick\", colorscheme=\"brownCarbon\", radius=0.5, label=True) \\\n",
    "        + viewer.setStyle(residue_selector=metals_selector, style=\"sphere\", colorscheme=\"chainHetatm\", radius=1.5, label=True) \\\n",
    "        + viewer.setHydrogenBonds() \\\n",
    "        + viewer.setDisulfides(radius=0.15) \\\n",
    "        + viewer.setHydrogens(color=\"white\", radius=0.033, polar_only=True) \\\n",
    "        + viewer.setSurface(residue_selector=ligands_selector, surface_type=\"VDW\", opacity=0.5, color=\"magenta\") \\\n",
    "        + viewer.setSurface(residue_selector=metals_selector, surface_type=\"VDW\", opacity=0.5, color=\"magenta\") \\\n",
    "        + viewer.setZoomTo(residue_selector=ligands_selector)\n",
    "\n",
    "    return view()\n",
    "\n",
    "myCustomPreset(poses[0])"
   ]
  },
  {
   "cell_type": "markdown",
   "metadata": {},
   "source": [
    "# Documentation for `pyrosetta.distributed.viewer` visualization modules"
   ]
  },
  {
   "cell_type": "code",
   "execution_count": null,
   "metadata": {},
   "outputs": [],
   "source": [
    "help(viewer.setBackgroundColor)"
   ]
  },
  {
   "cell_type": "code",
   "execution_count": null,
   "metadata": {},
   "outputs": [],
   "source": [
    "help(viewer.setDisulfides)"
   ]
  },
  {
   "cell_type": "code",
   "execution_count": null,
   "metadata": {},
   "outputs": [],
   "source": [
    "help(viewer.setHydrogenBonds)"
   ]
  },
  {
   "cell_type": "code",
   "execution_count": null,
   "metadata": {},
   "outputs": [],
   "source": [
    "help(viewer.setHydrogens)"
   ]
  },
  {
   "cell_type": "code",
   "execution_count": null,
   "metadata": {},
   "outputs": [],
   "source": [
    "help(viewer.setStyle)"
   ]
  },
  {
   "cell_type": "code",
   "execution_count": null,
   "metadata": {},
   "outputs": [],
   "source": [
    "help(viewer.setSurface)"
   ]
  },
  {
   "cell_type": "code",
   "execution_count": null,
   "metadata": {},
   "outputs": [],
   "source": [
    "help(viewer.setZoom)"
   ]
  },
  {
   "cell_type": "code",
   "execution_count": null,
   "metadata": {},
   "outputs": [],
   "source": [
    "help(viewer.setZoomTo)"
   ]
  },
  {
   "cell_type": "markdown",
   "metadata": {},
   "source": [
    "<!--NAVIGATION-->\n",
    "< [RosettaScripts in PyRosetta](http://nbviewer.jupyter.org/github/RosettaCommons/PyRosetta.notebooks/blob/master/notebooks/02.07-RosettaScripts-in-PyRosetta.ipynb) | [Contents](toc.ipynb) | [Index](index.ipynb) | [Rosetta Energy Score Functions](http://nbviewer.jupyter.org/github/RosettaCommons/PyRosetta.notebooks/blob/master/notebooks/03.00-Rosetta-Energy-Score-Functions.ipynb) ><p><a href=\"https://colab.research.google.com/github/RosettaCommons/PyRosetta.notebooks/blob/master/notebooks/02.08-Visualization-and-pyrosetta.distributed.viewer.ipynb\"><img align=\"left\" src=\"https://colab.research.google.com/assets/colab-badge.svg\" alt=\"Open in Colab\" title=\"Open in Google Colaboratory\"></a>"
   ]
  }
 ],
 "metadata": {
  "kernelspec": {
   "display_name": "Python (PyRosetta.notebooks)",
   "language": "python",
   "name": "pyrosetta.notebooks"
  },
  "language_info": {
   "codemirror_mode": {
    "name": "ipython",
    "version": 3
   },
   "file_extension": ".py",
   "mimetype": "text/x-python",
   "name": "python",
   "nbconvert_exporter": "python",
   "pygments_lexer": "ipython3",
   "version": "3.7.6"
  },
  "toc": {
   "base_numbering": 1,
   "nav_menu": {},
   "number_sections": true,
   "sideBar": true,
   "skip_h1_title": false,
   "title_cell": "Table of Contents",
   "title_sidebar": "Contents",
   "toc_cell": false,
   "toc_position": {},
   "toc_section_display": true,
   "toc_window_display": false
  }
 },
 "nbformat": 4,
 "nbformat_minor": 2
}
