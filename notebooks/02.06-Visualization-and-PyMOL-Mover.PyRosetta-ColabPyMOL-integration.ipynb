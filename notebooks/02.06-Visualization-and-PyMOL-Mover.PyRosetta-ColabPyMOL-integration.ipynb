{
  "cells": [
    {
      "cell_type": "markdown",
      "metadata": {
        "id": "7f8797b6"
      },
      "source": [
        "<!--NOTEBOOK_HEADER-->\n",
        "*This notebook contains material from [PyRosetta](https://RosettaCommons.github.io/PyRosetta.notebooks);\n",
        "content is available [on Github](https://github.com/RosettaCommons/PyRosetta.notebooks.git).*"
      ]
    },
    {
      "cell_type": "markdown",
      "metadata": {
        "id": "d0108d4f"
      },
      "source": [
        "<!--NAVIGATION-->\n",
        "< [Protein Geometry](http://nbviewer.jupyter.org/github/RosettaCommons/PyRosetta.notebooks/blob/master/notebooks/02.05-Protein-Geometry.ipynb) | [Contents](toc.ipynb) | [Index](index.ipynb) | [Visualization with the `PyMOLMover`](http://nbviewer.jupyter.org/github/RosettaCommons/PyRosetta.notebooks/blob/master/notebooks/02.06-Visualization-and-PyMOL-Mover.ipynb) ><p><a href=\"https://colab.research.google.com/github/RosettaCommons/PyRosetta.notebooks/blob/master/notebooks/02.06-Visualization-and-PyMOL-Mover.PyRosetta-ColabPyMOL-integration.ipynb\"><img align=\"left\" src=\"https://colab.research.google.com/assets/colab-badge.svg\" alt=\"Open in Colab\" title=\"Open in Google Colaboratory\"></a>"
      ]
    },
    {
      "cell_type": "code",
      "execution_count": null,
      "metadata": {
        "id": "waD9y-x4eJAm"
      },
      "outputs": [],
      "source": [
        "!pip install pyrosettacolabsetup\n",
        "import pyrosettacolabsetup; pyrosettacolabsetup.install_pyrosetta()\n",
        "import pyrosetta; pyrosetta.init()\n"
      ]
    },
    {
      "cell_type": "code",
      "execution_count": null,
      "metadata": {
        "id": "VTAcelKGbS3y"
      },
      "outputs": [],
      "source": [
        "import pyrosetta \n",
        "pyrosetta.init()\n"
      ]
    },
    {
      "cell_type": "code",
      "execution_count": null,
      "metadata": {
        "id": "NIkg3u--tA0M"
      },
      "outputs": [],
      "source": [
        "import os, sys\n",
        "if os.getenv(\"DEBUG\"): sys.exit(0)\n",
        "import pyrosetta.network\n",
        "\n",
        "# make sure to supply unique secret here and use _the same_ secrete when running PyMOL-Rosetta-relay-client.python3.py in PyMOL on your desktop machine\n",
        "# note that PyMOL-Rosetta-relay-client scripts could be downloaded from: https://www.pyrosetta.org/downloads (see section 'PyMOL-RosettaServer scripts')\n",
        "pyrosetta.network.start_udp_to_tcp_bridge_daemon(secret='my-super-unique-secret-please-change-me')\n",
        "\n",
        "# note that you can use random numbers to generate _good_ unique secret, like this: \n",
        "# import random, string; print( \"\".join( random.sample( string.ascii_letters + string.digits, 16 ) ) )\n"
      ]
    },
    {
      "cell_type": "code",
      "execution_count": null,
      "metadata": {
        "id": "jna_I3lJJ7EK"
      },
      "outputs": [],
      "source": [
        "import time as time_module\n",
        "\n",
        "import pyrosetta\n",
        "import pyrosetta.rosetta as rosetta\n",
        "\n",
        "pose = pyrosetta.pose_from_sequence('SERGEY'*2)\n",
        "rosetta.protocols.moves.AddPyMOLObserver(pose, keep_history=False)\n",
        "\n",
        "scorefxn = pyrosetta.get_fa_scorefxn() #  rosetta.create_score_function('standard')\n",
        "\n",
        "psi = 0.0\n",
        "phi = 0.0\n",
        "i = 1\n",
        "while True:\n",
        "    pose.set_psi(i, pose.psi(i) + 87)\n",
        "    pose.set_phi(i, pose.phi(i) + 19)\n",
        "    scorefxn(pose)\n",
        "\n",
        "    time_module.sleep(.05)\n",
        "    i += 1\n",
        "    if i >pose.size(): i=1\n"
      ]
    },
    {
      "cell_type": "markdown",
      "metadata": {
        "id": "2cb23ec1"
      },
      "source": [
        "<!--NAVIGATION-->\n",
        "< [Protein Geometry](http://nbviewer.jupyter.org/github/RosettaCommons/PyRosetta.notebooks/blob/master/notebooks/02.05-Protein-Geometry.ipynb) | [Contents](toc.ipynb) | [Index](index.ipynb) | [Visualization with the `PyMOLMover`](http://nbviewer.jupyter.org/github/RosettaCommons/PyRosetta.notebooks/blob/master/notebooks/02.06-Visualization-and-PyMOL-Mover.ipynb) ><p><a href=\"https://colab.research.google.com/github/RosettaCommons/PyRosetta.notebooks/blob/master/notebooks/02.06-Visualization-and-PyMOL-Mover.PyRosetta-ColabPyMOL-integration.ipynb\"><img align=\"left\" src=\"https://colab.research.google.com/assets/colab-badge.svg\" alt=\"Open in Colab\" title=\"Open in Google Colaboratory\"></a>"
      ]
    }
  ],
  "metadata": {
    "kernelspec": {
      "display_name": "Python 3",
      "name": "python3"
    },
    "language_info": {
      "codemirror_mode": {
        "name": "ipython",
        "version": 3
      },
      "file_extension": ".py",
      "mimetype": "text/x-python",
      "name": "python",
      "nbconvert_exporter": "python",
      "pygments_lexer": "ipython3",
      "version": "3.7.0"
    },
    "colab": {
      "provenance": []
    }
  },
  "nbformat": 4,
  "nbformat_minor": 0
}