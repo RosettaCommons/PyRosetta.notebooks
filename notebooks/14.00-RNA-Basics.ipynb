{
 "cells": [
  {
   "cell_type": "markdown",
   "metadata": {},
   "source": [
    "<!--NOTEBOOK_HEADER-->\n",
    "*This notebook contains material from [PyRosetta](https://RosettaCommons.github.io/PyRosetta.notebooks);\n",
    "content is available [on Github](https://github.com/RosettaCommons/PyRosetta.notebooks.git).*"
   ]
  },
  {
   "cell_type": "markdown",
   "metadata": {},
   "source": [
    "<!--NAVIGATION-->\n",
    "< [RosettaCarbohydrates: Modeling and Design](http://nbviewer.jupyter.org/github/RosettaCommons/PyRosetta.notebooks/blob/master/notebooks/13.02-Glycan-Modeling-and-Design.ipynb) | [Contents](toc.ipynb) | [Index](index.ipynb) | [Modeling Membrane Proteins](http://nbviewer.jupyter.org/github/RosettaCommons/PyRosetta.notebooks/blob/master/notebooks/15.00-Modeling-Membrane-Proteins.ipynb) ><p><a href=\"https://colab.research.google.com/github/RosettaCommons/PyRosetta.notebooks/blob/master/notebooks/14.00-RNA-Basics.ipynb\"><img align=\"left\" src=\"https://colab.research.google.com/assets/colab-badge.svg\" alt=\"Open in Colab\" title=\"Open in Google Colaboratory\"></a>"
   ]
  },
  {
   "cell_type": "markdown",
   "metadata": {},
   "source": [
    "# RNA in PyRosetta\n",
    "Keywords: classify_base_pairs, RNA torsions, RNA score terms, RNA motifs, mutate_position, RNA thread, RNA minimize, RNA_HelixAssembler, RNA fragment assembly, FARFAR protocol, rna_denovo"
   ]
  },
  {
   "cell_type": "markdown",
   "metadata": {},
   "source": [
    "## References"
   ]
  },
  {
   "cell_type": "markdown",
   "metadata": {},
   "source": [
    "1. R. Das et al., \"Atomic accuracy in predicting and designing noncanonical RNA structure,\" Nature Methods 7:4, 291-294 (2010).\n",
    "\n",
    "\n",
    "2. A. Watkins et al., \"Blind prediction of noncanonical RNA structure at atomic accuracy,\" Science Advances 4:5 (2018).\n"
   ]
  },
  {
   "cell_type": "markdown",
   "metadata": {},
   "source": [
    "## Introduction"
   ]
  },
  {
   "cell_type": "markdown",
   "metadata": {},
   "source": [
    "In this lab, we will explore common tasks and approaches for working with RNA using Rosetta. We will be focusing on a simple system that includes a helix capped by a tetraloop for this exercise."
   ]
  },
  {
   "cell_type": "code",
   "execution_count": 1,
   "metadata": {},
   "outputs": [],
   "source": [
    "!pip install pyrosettacolabsetup\n",
    "import pyrosettacolabsetup; pyrosettacolabsetup.install_pyrosetta()\n",
    "import pyrosetta; pyrosetta.init()\n"
   ]
  },
  {
   "cell_type": "code",
   "execution_count": 2,
   "metadata": {
    "scrolled": true
   },
   "outputs": [
    {
     "name": "stdout",
     "output_type": "stream",
     "text": [
      "PyRosetta-4 2020 [Rosetta PyRosetta4.Release.python37.mac 2020.04+release.4fcf80033aebbcdf7c379387df97fd3d51a2c079 2020-01-24T11:08:55] retrieved from: http://www.pyrosetta.org\n",
      "(C) Copyright Rosetta Commons Member Institutions. Created in JHU by Sergey Lyskov and PyRosetta Team.\n",
      "\u001b[0mcore.init: \u001b[0mChecking for fconfig files in pwd and ./rosetta/flags\n",
      "\u001b[0mcore.init: \u001b[0mRosetta version: PyRosetta4.Release.python37.mac r244 2020.04+release.4fcf80033ae 4fcf80033aebbcdf7c379387df97fd3d51a2c079 http://www.pyrosetta.org 2020-01-24T11:08:55\n",
      "\u001b[0mcore.init: \u001b[0mcommand: PyRosetta -ex1 -ex2aro -database /Users/ramyar/Dropbox/GradSchool/Research/packages/PyRosetta4.Release.python37.mac.release-244/setup/build/lib/pyrosetta/database\n",
      "\u001b[0mbasic.random.init_random_generator: \u001b[0m'RNG device' seed mode, using '/dev/urandom', seed=1108316389 seed_offset=0 real_seed=1108316389\n",
      "\u001b[0mbasic.random.init_random_generator: \u001b[0mRandomGenerator:init: Normal mode, seed=1108316389 RG_type=mt19937\n"
     ]
    }
   ],
   "source": [
    "from pyrosetta import *\n",
    "init()"
   ]
  },
  {
   "cell_type": "code",
   "execution_count": 3,
   "metadata": {},
   "outputs": [],
   "source": [
    "from pyrosetta.rosetta import *\n",
    "from pyrosetta.rosetta.core.pose.rna import *\n",
    "from pyrosetta.rosetta.core.pose import *"
   ]
  },
  {
   "cell_type": "markdown",
   "metadata": {},
   "source": [
    "## Exploring geometry for RNA ##"
   ]
  },
  {
   "cell_type": "markdown",
   "metadata": {},
   "source": [
    "Let's load in this structure with PyRosetta (make sure that you have the PDB file located in your current directory):\n",
    "\n",
    "`cd google_drive/My\\ Drive/student-notebooks/\n",
    "pose = pose_from_pdb(\"inputs/stem_loop.pdb\")`"
   ]
  },
  {
   "cell_type": "code",
   "execution_count": 4,
   "metadata": {
    "nbgrader": {
     "grade": true,
     "grade_id": "cell-690a147764ad96d7",
     "locked": false,
     "points": 0,
     "schema_version": 3,
     "solution": true
    },
    "scrolled": true
   },
   "outputs": [
    {
     "name": "stdout",
     "output_type": "stream",
     "text": [
      "\u001b[0mcore.chemical.GlobalResidueTypeSet: \u001b[0mFinished initializing fa_standard residue type set.  Created 980 residue types\n",
      "\u001b[0mcore.chemical.GlobalResidueTypeSet: \u001b[0mTotal time to initialize 1.05791 seconds.\n",
      "\u001b[0mcore.import_pose.import_pose: \u001b[0mFile 'inputs/stem_loop.pdb' automatically determined to be of type PDB\n",
      "\u001b[0mcore.io.pose_from_sfr.chirality_resolution: \u001b[0mFlipping atom xyz for H5' and H5'' for residue   C\n"
     ]
    }
   ],
   "source": [
    "### BEGIN SOLUTION\n",
    "pose = pose_from_pdb(\"inputs/stem_loop.pdb\")\n",
    "### END SOLUTION"
   ]
  },
  {
   "cell_type": "markdown",
   "metadata": {},
   "source": [
    "Let's explore the structure in this PDB file. First, use `pose.sequence()` to look at the sequence:"
   ]
  },
  {
   "cell_type": "code",
   "execution_count": 6,
   "metadata": {
    "nbgrader": {
     "grade": true,
     "grade_id": "cell-61e3c7efb8ae6b94",
     "locked": false,
     "points": 0,
     "schema_version": 3,
     "solution": true
    },
    "scrolled": true
   },
   "outputs": [
    {
     "data": {
      "text/plain": [
       "'cauccgaaaggaug'"
      ]
     },
     "execution_count": 6,
     "metadata": {},
     "output_type": "execute_result"
    }
   ],
   "source": [
    "# print out the sequence of the pose\n",
    "### BEGIN SOLUTION\n",
    "pose.sequence()\n",
    "### END SOLUTION"
   ]
  },
  {
   "cell_type": "markdown",
   "metadata": {},
   "source": [
    "We can see that the pose seems to contain RNA residues. To check this, let's go through the pose residue by residue, checking if each one is RNA."
   ]
  },
  {
   "cell_type": "code",
   "execution_count": 7,
   "metadata": {},
   "outputs": [
    {
     "name": "stdout",
     "output_type": "stream",
     "text": [
      "True\n",
      "True\n",
      "True\n",
      "True\n",
      "True\n",
      "True\n",
      "True\n",
      "True\n",
      "True\n",
      "True\n",
      "True\n",
      "True\n",
      "True\n",
      "True\n"
     ]
    }
   ],
   "source": [
    "for ii in range(pose.size()):\n",
    "    print(pose.residue_type(5).is_RNA())"
   ]
  },
  {
   "cell_type": "markdown",
   "metadata": {},
   "source": [
    "RNA bases interact with each other via **base pairing**, either through the Watson-Crick base pairs that make up standard A-form helices or through non-canonical base pairing interactions. We can use the `classify_base_pairs` function (this lives in `core:pose:rna` which was loaded above) to find and classify all the base pairs in the current pose. Let's take a look."
   ]
  },
  {
   "cell_type": "code",
   "execution_count": 8,
   "metadata": {},
   "outputs": [
    {
     "name": "stdout",
     "output_type": "stream",
     "text": [
      "\u001b[0mbasic.io.database: \u001b[0mDatabase file opened: scoring/score_functions/hbonds/ref2015_params/HBPoly1D.csv\n",
      "\u001b[0mbasic.io.database: \u001b[0mDatabase file opened: scoring/score_functions/hbonds/ref2015_params/HBFadeIntervals.csv\n",
      "\u001b[0mbasic.io.database: \u001b[0mDatabase file opened: scoring/score_functions/hbonds/ref2015_params/HBEval.csv\n",
      "\u001b[0mbasic.io.database: \u001b[0mDatabase file opened: scoring/score_functions/hbonds/ref2015_params/DonStrength.csv\n",
      "\u001b[0mbasic.io.database: \u001b[0mDatabase file opened: scoring/score_functions/hbonds/ref2015_params/AccStrength.csv\n",
      "1 14 WC WC ANTI\n",
      "2 13 WC WC ANTI\n",
      "3 12 WC WC ANTI\n",
      "4 11 WC WC ANTI\n",
      "5 10 WC WC ANTI\n",
      "6 9 SUGAR HOOG ANTI\n"
     ]
    }
   ],
   "source": [
    "base_pairs = classify_base_pairs(pose)\n",
    "for base_pair in base_pairs:\n",
    "    print(base_pair)"
   ]
  },
  {
   "cell_type": "markdown",
   "metadata": {},
   "source": [
    "We can see that the RNA molecule consists of Watson-Crick base pairs between residues 1-5 and residues 10-14 forming a standard RNA helix. We can also see that residues 6 and 9 form a non-canonical base pair interaction between the sugar and Hoogsteen edges of the respective bases. We can think of this structure as a simple stem-loop, with an idealized A-form helix between residues 1-5 and residues 10-14, and with a tetraloop connecting these chains."
   ]
  },
  {
   "cell_type": "markdown",
   "metadata": {},
   "source": [
    "Let's use some of Rosetta's tools for measuring **distances and torsions** to understand the typical geometry of an idealized A-form helix.\n",
    "\n",
    "What is the distance between the phosphate atoms of two consecutive residues in one strand of a helix? Check this for a couple pairs of residues."
   ]
  },
  {
   "cell_type": "code",
   "execution_count": 9,
   "metadata": {},
   "outputs": [
    {
     "name": "stdout",
     "output_type": "stream",
     "text": [
      "5.923353746008057\n",
      "5.846964169549871\n"
     ]
    }
   ],
   "source": [
    "P1_xyz = pose.residue(1).xyz(\"P\")\n",
    "P2_xyz = pose.residue(2).xyz(\"P\")\n",
    "P3_xyz = pose.residue(3).xyz(\"P\")\n",
    "print((P1_xyz - P2_xyz).norm())\n",
    "print((P2_xyz - P3_xyz).norm())"
   ]
  },
  {
   "cell_type": "markdown",
   "metadata": {},
   "source": [
    "RNA nucleotides are quite large compared to amino acids, with many more torsion angles. In the diagram of a nucleotide below, we can see the backbone torsions applicable to RNA: $\\alpha$, $\\beta$, $\\gamma$, $\\delta$, $\\epsilon$, $\\zeta$, and $\\chi$."
   ]
  },
  {
   "cell_type": "code",
   "execution_count": 10,
   "metadata": {},
   "outputs": [
    {
     "data": {
      "image/png": "[encoded data removed]",
      "text/plain": [
       "<IPython.core.display.Image object>"
      ]
     },
     "execution_count": 10,
     "metadata": {
      "image/png": {
       "width": "500"
      }
     },
     "output_type": "execute_result"
    }
   ],
   "source": [
    "from IPython.display import Image\n",
    "Image('./Media/nucleotide_torsions.png',width='500')"
   ]
  },
  {
   "cell_type": "markdown",
   "metadata": {},
   "source": [
    "We can access the values of these torsions through the pose object. Just like protein torsions can be accessed with functions like `pose.phi(resid)`, RNA torsions can be accessed with analogous functions like `pose.alpha(resid)`.\n",
    "\n",
    "**Exercise**: Below, make a function that prints out all the torsions for a given residue. Then, using that function, check the torsions for three different residues in the RNA helix. How similar are torsion angles for different residues in an idealized helix?"
   ]
  },
  {
   "cell_type": "code",
   "execution_count": 11,
   "metadata": {
    "nbgrader": {
     "grade": true,
     "grade_id": "cell-7f8e1ca8cd0481da",
     "locked": false,
     "points": 0,
     "schema_version": 3,
     "solution": true
    }
   },
   "outputs": [],
   "source": [
    "### BEGIN SOLUTION\n",
    "def print_torsions(pose, resi):\n",
    "    print(\"%s: %f\" % (\"alpha\", pose.alpha(resi)))\n",
    "    print(\"%s: %f\" % (\"beta\", pose.beta(resi)))\n",
    "    print(\"%s: %f\" % (\"gamma\", pose.gamma(resi)))\n",
    "    print(\"%s: %f\" % (\"delta\", pose.delta(resi)))\n",
    "    print(\"%s: %f\" % (\"epsilon\", pose.epsilon(resi)))\n",
    "    print(\"%s: %f\" % (\"zeta\", pose.zeta(resi)))\n",
    "    print(\"%s: %f\" % (\"chi\", pose.chi(resi)))\n",
    "### END SOLUTION"
   ]
  },
  {
   "cell_type": "code",
   "execution_count": 12,
   "metadata": {
    "nbgrader": {
     "grade": true,
     "grade_id": "cell-0050cf688492fbb4",
     "locked": false,
     "points": 0,
     "schema_version": 3,
     "solution": true
    }
   },
   "outputs": [
    {
     "name": "stdout",
     "output_type": "stream",
     "text": [
      "Torsions for residue 2:\n",
      "alpha: -72.516450\n",
      "beta: 178.544461\n",
      "gamma: 58.327244\n",
      "delta: 79.813633\n",
      "epsilon: -152.375244\n",
      "zeta: -70.561778\n",
      "chi: 74.780524\n",
      "Torsions for residue 3:\n",
      "alpha: -65.899308\n",
      "beta: 173.462004\n",
      "gamma: 56.858161\n",
      "delta: 79.609718\n",
      "epsilon: -152.592269\n",
      "zeta: -70.540365\n",
      "chi: 77.981938\n",
      "Torsions for residue 12:\n",
      "alpha: -67.502850\n",
      "beta: 174.408225\n",
      "gamma: 56.171977\n",
      "delta: 81.812182\n",
      "epsilon: -149.905716\n",
      "zeta: -76.028946\n",
      "chi: 75.291052\n"
     ]
    }
   ],
   "source": [
    "### BEGIN SOLUTION\n",
    "print(\"Torsions for residue 2:\")\n",
    "print_torsions(pose, 2)\n",
    "print(\"Torsions for residue 3:\")\n",
    "print_torsions(pose, 3)\n",
    "print(\"Torsions for residue 12:\")\n",
    "print_torsions(pose, 12)\n",
    "### END SOLUTION"
   ]
  },
  {
   "cell_type": "markdown",
   "metadata": {},
   "source": [
    "## Scoring RNA poses ##"
   ]
  },
  {
   "cell_type": "markdown",
   "metadata": {},
   "source": [
    "Rosetta's energy functions provide a mechanism to score RNA structures, rewarding realistic conformations using a variety of score terms. In this section, we will see how to score RNA poses, and we will use these score terms to better understand our structure.\n",
    "\n",
    "To score structures with RNA in Rosetta, it is best to use a high-resolution energy function designed to work with RNA, for instance `stepwise/rna/rna_res_level_energy4.wts`. In fact, the standard high resolution energy function used in Rosetta does not include the score terms that are quite helpful for modeling RNA. To see this, we will evaluate our RNA pose with the `ref2015` score function and `stepwise/rna/rna_res_level_energy4.wts`, comparing the resulting score term values."
   ]
  },
  {
   "cell_type": "code",
   "execution_count": 13,
   "metadata": {
    "scrolled": true
   },
   "outputs": [
    {
     "name": "stdout",
     "output_type": "stream",
     "text": [
      "\u001b[0mcore.scoring.etable: \u001b[0mStarting energy table calculation\n",
      "\u001b[0mcore.scoring.etable: \u001b[0msmooth_etable: changing atr/rep split to bottom of energy well\n",
      "\u001b[0mcore.scoring.etable: \u001b[0msmooth_etable: spline smoothing lj etables (maxdis = 6)\n",
      "\u001b[0mcore.scoring.etable: \u001b[0msmooth_etable: spline smoothing solvation etables (max_dis = 6)\n",
      "\u001b[0mcore.scoring.etable: \u001b[0mFinished calculating energy tables.\n",
      "\u001b[0mbasic.io.database: \u001b[0mDatabase file opened: scoring/score_functions/rama/fd/all.ramaProb\n",
      "\u001b[0mbasic.io.database: \u001b[0mDatabase file opened: scoring/score_functions/rama/fd/prepro.ramaProb\n",
      "\u001b[0mbasic.io.database: \u001b[0mDatabase file opened: scoring/score_functions/omega/omega_ppdep.all.txt\n",
      "\u001b[0mbasic.io.database: \u001b[0mDatabase file opened: scoring/score_functions/omega/omega_ppdep.gly.txt\n",
      "\u001b[0mbasic.io.database: \u001b[0mDatabase file opened: scoring/score_functions/omega/omega_ppdep.pro.txt\n",
      "\u001b[0mbasic.io.database: \u001b[0mDatabase file opened: scoring/score_functions/omega/omega_ppdep.valile.txt\n",
      "\u001b[0mbasic.io.database: \u001b[0mDatabase file opened: scoring/score_functions/P_AA_pp/P_AA\n",
      "\u001b[0mbasic.io.database: \u001b[0mDatabase file opened: scoring/score_functions/P_AA_pp/P_AA_n\n",
      "\u001b[0mcore.scoring.P_AA: \u001b[0mshapovalov_lib::shap_p_aa_pp_smooth_level of 1( aka low_smooth ) got activated.\n",
      "\u001b[0mbasic.io.database: \u001b[0mDatabase file opened: scoring/score_functions/P_AA_pp/shapovalov/10deg/kappa131/a20.prop\n"
     ]
    }
   ],
   "source": [
    "hires_sf = core.scoring.ScoreFunctionFactory.create_score_function(\"ref2015\");"
   ]
  },
  {
   "cell_type": "code",
   "execution_count": 14,
   "metadata": {
    "scrolled": true
   },
   "outputs": [
    {
     "name": "stdout",
     "output_type": "stream",
     "text": [
      "\u001b[0mcore.scoring.ScoreFunction: \u001b[0m\n",
      "------------------------------------------------------------\n",
      " Scores                       Weight   Raw Score Wghtd.Score\n",
      "------------------------------------------------------------\n",
      " fa_atr                       1.000    -146.195    -146.195\n",
      " fa_rep                       0.550      21.661      11.914\n",
      " fa_sol                       1.000     181.903     181.903\n",
      " fa_intra_rep                 0.005     104.969       0.525\n",
      " fa_intra_sol_xover4          1.000      43.757      43.757\n",
      " lk_ball_wtd                  1.000     -23.168     -23.168\n",
      " fa_elec                      1.000     -11.254     -11.254\n",
      " pro_close                    1.250       0.000       0.000\n",
      " hbond_sr_bb                  1.000       0.000       0.000\n",
      " hbond_lr_bb                  1.000       0.000       0.000\n",
      " hbond_bb_sc                  1.000       0.000       0.000\n",
      " hbond_sc                     1.000     -23.799     -23.799\n",
      " dslf_fa13                    1.250       0.000       0.000\n",
      " omega                        0.400       0.000       0.000\n",
      " fa_dun                       0.700       0.000       0.000\n",
      " p_aa_pp                      0.600       0.000       0.000\n",
      " yhh_planarity                0.625       0.000       0.000\n",
      " ref                          1.000       0.000       0.000\n",
      " rama_prepro                  0.450       0.000       0.000\n",
      "---------------------------------------------------\n",
      " Total weighted score:                       33.681\n"
     ]
    }
   ],
   "source": [
    "hires_sf.show(pose)"
   ]
  },
  {
   "cell_type": "markdown",
   "metadata": {},
   "source": [
    "Note that `ref2015` does contain some terms that are used for RNA modeling like VDW and hydrogen bonding score terms. What extra terms are included in the RNA high resolution score function?"
   ]
  },
  {
   "cell_type": "code",
   "execution_count": 15,
   "metadata": {
    "scrolled": true
   },
   "outputs": [
    {
     "name": "stdout",
     "output_type": "stream",
     "text": [
      "\u001b[0mcore.scoring.etable: \u001b[0mStarting energy table calculation\n",
      "\u001b[0mcore.scoring.etable: \u001b[0msmooth_etable: changing atr/rep split to bottom of energy well\n",
      "\u001b[0mcore.scoring.etable: \u001b[0msmooth_etable: spline smoothing lj etables (maxdis = 6)\n",
      "\u001b[0mcore.scoring.etable: \u001b[0msmooth_etable: spline smoothing solvation etables (max_dis = 6)\n",
      "\u001b[0mcore.scoring.etable: \u001b[0mFinished calculating energy tables.\n"
     ]
    }
   ],
   "source": [
    "rna_hires_sf = core.scoring.ScoreFunctionFactory.create_score_function(\"stepwise/rna/rna_res_level_energy4.wts\");"
   ]
  },
  {
   "cell_type": "code",
   "execution_count": 16,
   "metadata": {},
   "outputs": [
    {
     "name": "stdout",
     "output_type": "stream",
     "text": [
      "\u001b[0mcore.scoring.ScoreFunction: \u001b[0m\n",
      "------------------------------------------------------------\n",
      " Scores                       Weight   Raw Score Wghtd.Score\n",
      "------------------------------------------------------------\n",
      " fa_atr                       0.210    -212.399     -44.604\n",
      " fa_rep                       0.200      57.744      11.549\n",
      " fa_intra_rep                 0.003     186.211       0.540\n",
      " lk_nonpolar                  0.250      -9.222      -2.305\n",
      " fa_elec_rna_phos_phos        1.700       0.378       0.643\n",
      " rna_torsion                  1.000       3.751       3.751\n",
      " suiteness_bonus              1.000       0.000       0.000\n",
      " rna_sugar_close              0.820       3.938       3.229\n",
      " fa_stack                     0.130    -234.442     -30.477\n",
      " stack_elec                   0.760      -0.903      -0.686\n",
      " geom_sol_fast                0.170      74.843      12.723\n",
      " hbond_sr_bb_sc               0.960       0.000       0.000\n",
      " hbond_lr_bb_sc               0.960       0.000       0.000\n",
      " hbond_sc                     0.960     -23.799     -22.848\n",
      " ref                          1.000      50.440      50.440\n",
      " free_suite                   2.000       0.000       0.000\n",
      " free_2HOprime                1.000       0.000       0.000\n",
      " intermol                     1.000       0.000       0.000\n",
      " other_pose                   1.000       0.000       0.000\n",
      " loop_close                   1.000       0.000       0.000\n",
      " linear_chainbreak            5.000       0.000       0.000\n",
      "---------------------------------------------------\n",
      " Total weighted score:                      -18.046\n"
     ]
    }
   ],
   "source": [
    "rna_hires_sf.show(pose)"
   ]
  },
  {
   "cell_type": "markdown",
   "metadata": {},
   "source": [
    "We can see that some new score terms in the high resolution RNA potential, including `rna_torsion`, `suiteness_bonus`, `rna_sugar_close`, and `fa_stack`. We will explore a few of these terms below. To learn about these and other score terms that have been included to more realistically model RNA, check out the papers referenced at the beginning of this notebook."
   ]
  },
  {
   "cell_type": "markdown",
   "metadata": {},
   "source": [
    "Analogous to the protein low-resolution potential, an RNA low-resolution potential has been developed to more quickly score RNA structures represented in centroid mode. Lets take a look at the score terms involved."
   ]
  },
  {
   "cell_type": "code",
   "execution_count": 17,
   "metadata": {
    "scrolled": true
   },
   "outputs": [
    {
     "name": "stdout",
     "output_type": "stream",
     "text": [
      "\u001b[0mbasic.io.database: \u001b[0mDatabase file opened: scoring/rna/rna_atom_vdw.txt\n",
      "\u001b[0mbasic.io.database: \u001b[0mDatabase file opened: scoring/rna/rnp_atom_vdw_min_distances_reformat_MIN.txt\n",
      "\u001b[0mcore.scoring.ScoringManager: \u001b[0mReading in: /Users/ramyar/Dropbox/GradSchool/Research/packages/PyRosetta4.Release.python37.mac.release-244/setup/build/lib/pyrosetta/database/scoring/rna/rna_base_pair_xy.dat\n",
      "\u001b[0mcore.scoring.rna.RNA_LowResolutionPotential: \u001b[0mReading basepair x - y potential file: scoring/rna/rna_base_pair_xy.dat\n",
      "\u001b[0mcore.scoring.rna.RNA_LowResolutionPotential: \u001b[0mFinished reading basepair x - y potential file: scoring/rna/rna_base_pair_xy.dat\n",
      "\u001b[0mcore.scoring.rna.RNA_LowResolutionPotential: \u001b[0mReading non - base - base x - y potential file: scoring/rna/rna_base_backbone_xy.dat\n",
      "\u001b[0mcore.scoring.rna.RNA_LowResolutionPotential: \u001b[0mReading RNA backbone backbone potential file: scoring/rna/rna_backbone_backbone.dat\n",
      "\u001b[0mcore.scoring.rna.RNP_LowResPotential: \u001b[0mReading RNP basepair x - y potential file: scoring/rna/rnp_base_pair.txt\n",
      "\u001b[0mcore.scoring.rna.RNP_LowResPotential: \u001b[0mFinished reading RNP basepair x - y potential file: scoring/rna/rnp_base_pair.txt\n",
      "\u001b[0mcore.scoring.rna.RNP_LowResPotential: \u001b[0mReading RNP AA RNA backbone potential file: scoring/rna/rnp_backbone_potential.txt\n",
      "\u001b[0mcore.scoring.rna.RNP_LowResPotential: \u001b[0mFinished reading RNP AA RNA backbone potential file: scoring/rna/rnp_backbone_potential.txt\n",
      "\u001b[0mcore.scoring.rna.RNP_LowResPairDistPotential: \u001b[0mReading RNP pair distance potential file: scoring/rna/rnp_pair_dist_potential_renorm.txt\n",
      "\u001b[0mcore.scoring.rna.RNP_LowResPairDistPotential: \u001b[0mFinished reading RNP pair distance potential file: scoring/rna/rnp_pair_dist_potential_renorm.txt\n"
     ]
    }
   ],
   "source": [
    "rna_lowres_sf = core.scoring.ScoreFunctionFactory.create_score_function(\"rna/denovo/rna_lores_with_rnp_aug.wts\");"
   ]
  },
  {
   "cell_type": "code",
   "execution_count": 18,
   "metadata": {
    "scrolled": true
   },
   "outputs": [
    {
     "name": "stdout",
     "output_type": "stream",
     "text": [
      "\u001b[0mcore.scoring.ScoreFunction: \u001b[0m\n",
      "------------------------------------------------------------\n",
      " Scores                       Weight   Raw Score Wghtd.Score\n",
      "------------------------------------------------------------\n",
      " rna_data_backbone            2.000       0.000       0.000\n",
      " rna_vdw                      2.000       0.221       0.442\n",
      " rnp_vdw                     50.000       0.000       0.000\n",
      " rna_base_backbone            2.000      -1.884      -3.769\n",
      " rna_backbone_backbone        2.000       0.000       0.000\n",
      " rna_repulsive                5.000       0.000       0.000\n",
      " rna_base_pair                2.000     -53.214    -106.429\n",
      " rna_base_axis                0.400     -32.234     -12.894\n",
      " rna_base_stagger             2.000     -28.072     -56.143\n",
      " rna_base_stack               2.000      -3.243      -6.486\n",
      " rna_base_stack_axis          0.400     -20.598      -8.239\n",
      " rnp_base_pair                2.000       0.000       0.000\n",
      " rnp_stack                    5.000       0.000       0.000\n",
      " rnp_pair_dist                0.200       0.000       0.000\n",
      " rnp_aa_to_rna_backbone       1.000       0.000       0.000\n",
      " rna_rg                       0.500       8.609       4.304\n",
      " atom_pair_constraint         1.000       0.000       0.000\n",
      " base_pair_constraint         1.000       0.000       0.000\n",
      " linear_chainbreak            8.000       0.000       0.000\n",
      "---------------------------------------------------\n",
      " Total weighted score:                     -189.213\n"
     ]
    }
   ],
   "source": [
    "rna_lowres_sf.show(pose)"
   ]
  },
  {
   "cell_type": "markdown",
   "metadata": {},
   "source": [
    "We can see that when modeling an RNA molecule using centroid positions for nucleotides, we need to separately include terms for base pairing (`rna_base_pair`), base-backbone interactions (`rna_base_backbone`), and so on. "
   ]
  },
  {
   "cell_type": "markdown",
   "metadata": {},
   "source": [
    "Returning to the high resolution RNA score function, let us see if we can decompose the energies further to understand which parts of the structure contribute positively and negatively to its energy. First, we can decompose the energies per residue like below."
   ]
  },
  {
   "cell_type": "code",
   "execution_count": 19,
   "metadata": {},
   "outputs": [
    {
     "name": "stdout",
     "output_type": "stream",
     "text": [
      " fa_atr: -16.0481 fa_rep: 4.95774 fa_intra_atr: -10.6601 fa_intra_rep: 10.4003 fa_intra_sol: 6.2042 fa_intra_atr_nonprotein: -10.6601 fa_intra_rep_nonprotein: 10.4003 fa_intra_sol_nonprotein: 6.2042 lk_nonpolar: -0.837546 fa_elec_rna_phos_phos: -0.0122409 rna_torsion: 0.105802 rna_torsion_sc: 0.054655 rna_sugar_close: 0.471854 fa_stack: -14.7643 stack_elec: 0.0989445 geom_sol_fast: 6.69203 geom_sol_fast_intra_RNA: 0.348984 hbond_sc: -2.22045 ref: 2.82 total_score: -2.10402\n"
     ]
    }
   ],
   "source": [
    "rna_hires_sf(pose)\n",
    "nonzero_scores = pose.energies().residue_total_energies(4).show_nonzero()\n",
    "print(nonzero_scores)"
   ]
  },
  {
   "cell_type": "markdown",
   "metadata": {},
   "source": [
    "A lot of the RNA specific energy terms make more sense when we look at pairs of residues. The energy graph object allows you to explore pairwise energies. The function below uses the energy graph to print out all non-zero scores between residues for a particular score term."
   ]
  },
  {
   "cell_type": "code",
   "execution_count": 20,
   "metadata": {},
   "outputs": [],
   "source": [
    "def print_nonzero_pairwise_energies(pose, energy_term, sf):\n",
    "    sf(pose)\n",
    "    energy_graph = pose.energies().energy_graph()\n",
    "    for ii in range(1, pose.size() + 1):\n",
    "        for jj in range(ii + 1, pose.size() + 1):\n",
    "            edge = energy_graph.find_energy_edge(ii, jj)\n",
    "            if (edge != None):\n",
    "                emap = edge.fill_energy_map()\n",
    "                resid1 = str(ii) + \" \" + pose.residue(ii).name1()\n",
    "                resid2 = str(jj) + \" \" + pose.residue(jj).name1()\n",
    "                resid_pair = resid1 + \" \" + resid2\n",
    "                score = emap[ energy_term ]\n",
    "                if score != 0:\n",
    "                    print(\"%s: %f\" % (resid_pair, score))"
   ]
  },
  {
   "cell_type": "markdown",
   "metadata": {},
   "source": [
    "Using the function above, we're going to look at the stacking energies in the high resolution potential."
   ]
  },
  {
   "cell_type": "code",
   "execution_count": 21,
   "metadata": {},
   "outputs": [
    {
     "name": "stdout",
     "output_type": "stream",
     "text": [
      "1 c 2 a: -8.786457\n",
      "1 c 13 u: -0.021402\n",
      "1 c 14 g: -0.014325\n",
      "2 a 3 u: -17.195315\n",
      "2 a 12 a: -1.166573\n",
      "2 a 13 u: -0.021531\n",
      "2 a 14 g: -18.136998\n",
      "3 u 4 c: -10.651433\n",
      "3 u 11 g: -0.182032\n",
      "3 u 12 a: -0.025817\n",
      "3 u 13 u: -2.437063\n",
      "4 c 5 c: -11.016306\n",
      "4 c 6 g: -0.042999\n",
      "4 c 10 g: -0.170933\n",
      "4 c 11 g: -0.003559\n",
      "4 c 12 a: -7.643363\n",
      "5 c 6 g: -14.998700\n",
      "5 c 9 a: -0.055888\n",
      "5 c 10 g: -0.004817\n",
      "5 c 11 g: -9.170599\n",
      "6 g 8 a: -1.056694\n",
      "6 g 9 a: -0.381851\n",
      "6 g 10 g: -11.820445\n",
      "7 a 8 a: -21.526270\n",
      "8 a 9 a: -22.045880\n",
      "9 a 10 g: -13.441684\n",
      "10 g 11 g: -18.409410\n",
      "11 g 12 a: -18.811699\n",
      "12 a 13 u: -16.199935\n",
      "13 u 14 g: -9.002159\n"
     ]
    }
   ],
   "source": [
    "print_nonzero_pairwise_energies(pose, core.scoring.ScoreType.fa_stack, rna_hires_sf)"
   ]
  },
  {
   "cell_type": "markdown",
   "metadata": {},
   "source": [
    "We can see that the **stacking energies** are highest for consecutive residues. In the idealized helix, the best stacking energy bonuses are given to stacked purine residues."
   ]
  },
  {
   "cell_type": "markdown",
   "metadata": {},
   "source": [
    "Now lets take a look at the **torsion energies**. Which energies are the highest? Where are these torsions in the structure?"
   ]
  },
  {
   "cell_type": "code",
   "execution_count": 22,
   "metadata": {
    "scrolled": true
   },
   "outputs": [
    {
     "name": "stdout",
     "output_type": "stream",
     "text": [
      "1 c 2 a: 0.041018\n",
      "2 a 3 u: 0.003446\n",
      "3 u 4 c: 0.012547\n",
      "4 c 5 c: 0.015482\n",
      "5 c 6 g: 0.048322\n",
      "6 g 7 a: 0.273854\n",
      "7 a 8 a: 0.096358\n",
      "8 a 9 a: 0.020082\n",
      "9 a 10 g: 0.248952\n",
      "10 g 11 g: 0.019879\n",
      "11 g 12 a: 0.012364\n",
      "12 a 13 u: 0.017076\n",
      "13 u 14 g: 0.002773\n"
     ]
    }
   ],
   "source": [
    "print_nonzero_pairwise_energies(pose, core.scoring.ScoreType.rna_torsion, rna_hires_sf)"
   ]
  },
  {
   "cell_type": "markdown",
   "metadata": {},
   "source": [
    "RNA structures are often viewed as being composed of small building blocks called **RNA motifs**. These motifs can be as simple as stacks of base pairs, which we have seen above. Typical motifs also include stereotyped loops, junctions, and tertiary contacts present across many common RNA molecules. Let's take a look to see whether any of these common RNA motifs are present in our simple stem loop structure."
   ]
  },
  {
   "cell_type": "code",
   "execution_count": 23,
   "metadata": {
    "scrolled": true
   },
   "outputs": [
    {
     "name": "stdout",
     "output_type": "stream",
     "text": [
      "\u001b[0mcore.scoring.rna.RNA_LowResolutionPotential: \u001b[0mReading basepair x - y potential file: scoring/rna/rna_base_pair_xy.dat\n",
      "\u001b[0mcore.scoring.rna.RNA_LowResolutionPotential: \u001b[0mFinished reading basepair x - y potential file: scoring/rna/rna_base_pair_xy.dat\n",
      "\u001b[0mcore.scoring.rna.RNA_LowResolutionPotential: \u001b[0mReading non - base - base x - y potential file: scoring/rna/rna_base_backbone_xy.dat\n",
      "\u001b[0mcore.scoring.rna.RNA_LowResolutionPotential: \u001b[0mReading RNA backbone backbone potential file: scoring/rna/rna_backbone_backbone.dat\n",
      "WC_STACKED_PAIR [1, 2, 13, 14]\n",
      "WC_STACKED_PAIR [4, 5, 10, 11]\n",
      "WC_STACKED_PAIR [11, 12, 3, 4]\n",
      "WC_STACKED_PAIR [10, 11, 4, 5]\n",
      "WC_STACKED_PAIR [3, 4, 11, 12]\n",
      "WC_STACKED_PAIR [12, 13, 2, 3]\n",
      "WC_STACKED_PAIR [2, 3, 12, 13]\n",
      "WC_STACKED_PAIR [13, 14, 1, 2]\n",
      "U_TURN [6, 7, 8]\n",
      "GNRA_TETRALOOP [6, 7, 8, 9]\n",
      "\n"
     ]
    }
   ],
   "source": [
    "lowres_potential = core.scoring.rna.RNA_LowResolutionPotential( \"scoring/rna/rna_base_pair_xy.dat\" )\n",
    "rna_scoring_info = core.scoring.rna.rna_scoring_info_from_pose(pose).rna_filtered_base_base_info()\n",
    "rna_motifs = core.scoring.rna.get_rna_motifs( pose, lowres_potential, rna_scoring_info)\n",
    "print(rna_motifs)"
   ]
  },
  {
   "cell_type": "markdown",
   "metadata": {},
   "source": [
    "We can see that our RNA structure includes many stacked Watson-Crick base pair, making the idealized A-form helix. In addition, the loop connecting the strands of the helix in our structure is a stereotyped \"GNRA\" tetraloop, taking a loop conformation that is common across many RNA structures in the PDB."
   ]
  },
  {
   "cell_type": "markdown",
   "metadata": {},
   "source": [
    "## Manipulating RNA poses ##"
   ]
  },
  {
   "cell_type": "markdown",
   "metadata": {},
   "source": [
    "Rosetta allows you to not just explore a given PDB structure, but to manipulate and design structures. In this section, we discuss some basic ways to manipulate RNA structures, and we observe the effects of these manipulations on the structure's energy. For each manipulation, we will make a new copy of the pose to make sure that our changes do not affect the original structure we loaded in."
   ]
  },
  {
   "cell_type": "markdown",
   "metadata": {},
   "source": [
    "One basic manipulation we can make to an RNA structure is to change torsion angles for individual residues. Let's try this out on a residue in the A-form helix, and observe the effect on the rna_torsion score. Did the change we made make the score better or worse?"
   ]
  },
  {
   "cell_type": "code",
   "execution_count": 24,
   "metadata": {},
   "outputs": [
    {
     "name": "stdout",
     "output_type": "stream",
     "text": [
      "Torsion score before: 3.750853\n",
      "Torsion score after: 4.166565\n"
     ]
    }
   ],
   "source": [
    "new_pose = Pose()\n",
    "new_pose.assign(pose)\n",
    "rna_hires_sf(pose)\n",
    "torsion_score_before = pose.energies().total_energies()[core.scoring.ScoreType.rna_torsion]\n",
    "new_pose.set_beta(2, 110)\n",
    "rna_hires_sf(new_pose)\n",
    "torsion_score_after = new_pose.energies().total_energies()[core.scoring.ScoreType.rna_torsion]\n",
    "print(\"%s: %f\" % (\"Torsion score before\", torsion_score_before))\n",
    "print(\"%s: %f\" % (\"Torsion score after\", torsion_score_after))"
   ]
  },
  {
   "cell_type": "markdown",
   "metadata": {},
   "source": [
    "If you want to replace residues in an RNA molecule with their idealized versions, you can use the RNA_IdealCoord class in Rosetta. Below is an example for using that method to first replace a single residue with its idealized version, and then to replace all residues with their idealized versions across the whole pose."
   ]
  },
  {
   "cell_type": "code",
   "execution_count": 25,
   "metadata": {},
   "outputs": [],
   "source": [
    "ideal_pose_one = Pose()\n",
    "ideal_pose_one.assign(pose)\n",
    "resid = 2\n",
    "core.pose.rna.RNA_IdealCoord().apply(ideal_pose_one, resid, core.chemical.rna.PuckerState.ANY_PUCKER, False)\n",
    "\n",
    "ideal_pose = Pose()\n",
    "ideal_pose.assign(pose)\n",
    "core.pose.rna.RNA_IdealCoord().apply(ideal_pose, False)"
   ]
  },
  {
   "cell_type": "markdown",
   "metadata": {},
   "source": [
    "**Exercise**: Figure out if the total energy of the pose went up or down after replacing one or all of the residues with their idealized versions. What can explain the difference? What about the total torsion energy only - does that go up or down in the pose with idealized residues compared to the original pose?"
   ]
  },
  {
   "cell_type": "code",
   "execution_count": 26,
   "metadata": {
    "nbgrader": {
     "grade": true,
     "grade_id": "cell-405c334dbcb470b1",
     "locked": false,
     "points": 0,
     "schema_version": 3,
     "solution": true
    }
   },
   "outputs": [
    {
     "name": "stdout",
     "output_type": "stream",
     "text": [
      "-18.045673691089746\n",
      "22.63480325590245\n",
      "-1.1025695607212\n"
     ]
    }
   ],
   "source": [
    "### BEGIN SOLUTION\n",
    "rna_hires_sf(pose)\n",
    "rna_hires_sf(ideal_pose)\n",
    "rna_hires_sf(ideal_pose_one)\n",
    "print(pose.energies().total_energy())\n",
    "print(ideal_pose.energies().total_energy())\n",
    "print(ideal_pose_one.energies().total_energy())\n",
    "### END SOLUTION"
   ]
  },
  {
   "cell_type": "code",
   "execution_count": 27,
   "metadata": {
    "nbgrader": {
     "grade": true,
     "grade_id": "cell-8d8090023caba9ad",
     "locked": false,
     "points": 0,
     "schema_version": 3,
     "solution": true
    },
    "scrolled": true
   },
   "outputs": [
    {
     "name": "stdout",
     "output_type": "stream",
     "text": [
      "3.7508527554837183\n",
      "2.334597688825869\n"
     ]
    }
   ],
   "source": [
    "### BEGIN SOLUTION\n",
    "print(pose.energies().total_energies()[core.scoring.ScoreType.rna_torsion])\n",
    "print(ideal_pose.energies().total_energies()[core.scoring.ScoreType.rna_torsion])\n",
    "### END SOLUTION"
   ]
  },
  {
   "cell_type": "markdown",
   "metadata": {},
   "source": [
    "Another common manipulation for an RNA structure is to mutate the nucleotides to different bases. This is a manipulation that is commonly used while modeling one RNA structure using coordinates from another homologous (but not identical) structure. Below we can see how to mutate one residue of our RNA structure to another one."
   ]
  },
  {
   "cell_type": "code",
   "execution_count": 35,
   "metadata": {
    "scrolled": true
   },
   "outputs": [
    {
     "name": "stdout",
     "output_type": "stream",
     "text": [
      "cauccgaaaggaug\n",
      "aauccgaaaggaug\n"
     ]
    }
   ],
   "source": [
    "mutated_pose = Pose()\n",
    "mutated_pose.assign(pose)\n",
    "print(pose.sequence())\n",
    "rosetta.core.pose.rna.mutate_position(mutated_pose, 1, 'a')\n",
    "print(mutated_pose.sequence())"
   ]
  },
  {
   "cell_type": "markdown",
   "metadata": {},
   "source": [
    "**Exercise**: Make a function that mimics the 'rna_thread' Rosetta application, which takes in a pose and a new sequence and replaces all pose residues with the new sequence's residues. Remember to check that the pose's sequence and the new sequence have the same length. \n",
    "\n",
    "The pose's current sequence is `cauccgaaaggaug`. Use the function you wrote to make a version that has sequence `cauccuucgggaug` and one that has sequence `aaaaagaaauuuuu`."
   ]
  },
  {
   "cell_type": "code",
   "execution_count": 36,
   "metadata": {
    "nbgrader": {
     "grade": true,
     "grade_id": "cell-f1ea3d070c9bd97b",
     "locked": false,
     "points": 0,
     "schema_version": 3,
     "solution": true
    }
   },
   "outputs": [],
   "source": [
    "### BEGIN SOLUTION\n",
    "def rna_thread(pose, new_seq):\n",
    "    if len(pose.sequence()) != len(new_seq):\n",
    "        print(\"Sequences have different length; cannot rethread\")\n",
    "        return pose\n",
    "    for ii in range(1, pose.size()+1):\n",
    "        rosetta.core.pose.rna.mutate_position(pose, ii, new_seq[ii-1])\n",
    "    return pose\n",
    "### END SOLUTION"
   ]
  },
  {
   "cell_type": "code",
   "execution_count": 37,
   "metadata": {
    "nbgrader": {
     "grade": true,
     "grade_id": "cell-933a0b69cf8657e5",
     "locked": false,
     "points": 0,
     "schema_version": 3,
     "solution": true
    }
   },
   "outputs": [
    {
     "name": "stdout",
     "output_type": "stream",
     "text": [
      "cauccuucgggaug\n",
      "aaaaagaaauuuuu\n"
     ]
    }
   ],
   "source": [
    "### BEGIN SOLUTION\n",
    "uucg_pose = Pose()\n",
    "uucg_pose.assign(pose)\n",
    "uucg_pose = rna_thread(uucg_pose, 'cauccuucgggaug')\n",
    "print(uucg_pose.sequence())\n",
    "\n",
    "auhelix_pose = Pose()\n",
    "auhelix_pose.assign(pose)\n",
    "auhelix_pose = rna_thread(auhelix_pose, 'aaaaagaaauuuuu')\n",
    "print(auhelix_pose.sequence())\n",
    "### END SOLUTION"
   ]
  },
  {
   "cell_type": "markdown",
   "metadata": {},
   "source": [
    "**Exercise**: The RNA high resolution potential includes hydrogen bonding terms. CG base pairs have more hydrogen bonds than AU base pairs. Compare the original pose with the pose that has all AU base pairs. What happens to the hydrogen bonding energy in the high resolution potential? "
   ]
  },
  {
   "cell_type": "code",
   "execution_count": 38,
   "metadata": {
    "nbgrader": {
     "grade": true,
     "grade_id": "cell-905f30b7cab546cd",
     "locked": false,
     "points": 0,
     "schema_version": 3,
     "solution": true
    },
    "scrolled": true
   },
   "outputs": [
    {
     "name": "stdout",
     "output_type": "stream",
     "text": [
      "AU Helix: -18.166948\n",
      "CG Helix: -23.799493\n"
     ]
    }
   ],
   "source": [
    "### BEGIN SOLUTION\n",
    "rna_hires_sf(auhelix_pose)\n",
    "rna_hires_sf(pose)\n",
    "auhelix_hbond_sc = auhelix_pose.energies().total_energies()[core.scoring.ScoreType.hbond_sc]\n",
    "pose_hbond_sc = pose.energies().total_energies()[core.scoring.ScoreType.hbond_sc]\n",
    "print('%s: %f' % (\"AU Helix\", auhelix_hbond_sc))\n",
    "print('%s: %f' % (\"CG Helix\", pose_hbond_sc))\n",
    "### END SOLUTION"
   ]
  },
  {
   "cell_type": "markdown",
   "metadata": {},
   "source": [
    "**Exercise**: The stacking energies of the GAAA and UUCG tetraloops differ from each other. Which tetraloop provides the most favorable stacking energies overall? Can you figure out which pairs of residues have different stacking energies when the structure has changed (hint: you can base your code here off of the function `print_nonzero_pairwise_energies` above)?"
   ]
  },
  {
   "cell_type": "code",
   "execution_count": 39,
   "metadata": {
    "nbgrader": {
     "grade": true,
     "grade_id": "cell-5238d5e4cce441ce",
     "locked": false,
     "points": 0,
     "schema_version": 3,
     "solution": true
    }
   },
   "outputs": [
    {
     "name": "stdout",
     "output_type": "stream",
     "text": [
      "UUCG Loop: -214.060807\n",
      "GAAA Loop: -234.442137\n"
     ]
    }
   ],
   "source": [
    "### BEGIN SOLUTION\n",
    "rna_hires_sf(uucg_pose)\n",
    "rna_hires_sf(pose)\n",
    "uucg_fa_stack = uucg_pose.energies().total_energies()[core.scoring.ScoreType.fa_stack]\n",
    "pose_fa_stack = pose.energies().total_energies()[core.scoring.ScoreType.fa_stack]\n",
    "print('%s: %f' % (\"UUCG Loop\", uucg_fa_stack))\n",
    "print('%s: %f' % (\"GAAA Loop\", pose_fa_stack))\n",
    "### END SOLUTION"
   ]
  },
  {
   "cell_type": "code",
   "execution_count": 40,
   "metadata": {
    "nbgrader": {
     "grade": true,
     "grade_id": "cell-5451c79d29dd2993",
     "locked": false,
     "points": 0,
     "schema_version": 3,
     "solution": true
    }
   },
   "outputs": [
    {
     "name": "stdout",
     "output_type": "stream",
     "text": [
      "4 c, 6 g: -0.042999; 4 c, 6 u: -0.020146\n",
      "5 c, 6 g: -14.998700; 5 c, 6 u: -14.424303\n",
      "5 c, 9 a: -0.055888; 5 c, 9 g: -0.040952\n",
      "6 g, 8 a: -1.056694; 6 u, 8 c: -0.798130\n",
      "6 g, 9 a: -0.381851; 6 u, 9 g: -0.142689\n",
      "6 g, 10 g: -11.820445; 6 u, 10 g: -5.138552\n",
      "7 a, 8 a: -21.526270; 7 u, 8 c: -14.881668\n",
      "8 a, 9 a: -22.045880; 8 c, 9 g: -16.479345\n",
      "9 a, 10 g: -13.441684; 9 g, 10 g: -13.063297\n"
     ]
    }
   ],
   "source": [
    "### BEGIN SOLUTION\n",
    "# The code below goes through the original pose with the GNRA loop and the uucg_pose, \n",
    "# printing out pairs of residues and the fa_stack score term between these residues\n",
    "# if this score differs between the two poses.\n",
    "rna_hires_sf(uucg_pose)\n",
    "rna_hires_sf(pose)\n",
    "pose_energy_graph = pose.energies().energy_graph()\n",
    "uucg_energy_graph = uucg_pose.energies().energy_graph()\n",
    "for ii in range(1, pose.size() + 1):\n",
    "    for jj in range(ii + 1, pose.size() + 1):\n",
    "        pose_edge = pose_energy_graph.find_energy_edge(ii, jj)\n",
    "        uucg_edge = uucg_energy_graph.find_energy_edge(ii, jj)\n",
    "        if (pose_edge != None)  and (uucg_edge != None):\n",
    "            pose_emap = pose_edge.fill_energy_map()\n",
    "            uucg_emap = uucg_edge.fill_energy_map()\n",
    "            resid1 = str(ii) + \" \" + pose.residue(ii).name1()\n",
    "            resid1_uucg = str(ii) + \" \" + uucg_pose.residue(ii).name1()\n",
    "            resid2 = str(jj) + \" \" + pose.residue(jj).name1() \n",
    "            resid2_uucg = str(jj) + \" \" + uucg_pose.residue(jj).name1()\n",
    "            resid_pair = resid1 + \", \" + resid2\n",
    "            resid_pair_uucg = resid1_uucg + \", \" + resid2_uucg\n",
    "            pose_score = pose_emap[ core.scoring.ScoreType.fa_stack ]\n",
    "            uucg_score = uucg_emap[ core.scoring.ScoreType.fa_stack ]\n",
    "            if pose_score != uucg_score:\n",
    "                print(\"%s: %f; %s: %f\" % (resid_pair, pose_score, resid_pair_uucg, uucg_score))\n",
    "### END SOLUTION"
   ]
  },
  {
   "cell_type": "markdown",
   "metadata": {},
   "source": [
    "## Elements of RNA Structure Prediction"
   ]
  },
  {
   "cell_type": "markdown",
   "metadata": {},
   "source": [
    "Many of the same strategies are used when modeling RNA as when modeling proteins. Below, we shall explore some of these procedures specifically applied to RNA molecules to appreciate how they may come together to give a modern structure prediction method."
   ]
  },
  {
   "cell_type": "markdown",
   "metadata": {},
   "source": [
    "### Generating an ideal A-form Helix"
   ]
  },
  {
   "cell_type": "markdown",
   "metadata": {},
   "source": [
    "On a not wholly unrelated tangent, let us first see how we can quickly generate poses of ideal A-form RNA. You can think of this procedure as analogous to the `pose_from_seq` function used to generate protein poses from primary sequences. Let's use it now to generate a single-strand RNA pose with A-form torsions and the same sequence as the hairpin we've been examining so far.\n",
    "\n",
    "```python\n",
    "assembler = core.import_pose.RNA_HelixAssembler()\n",
    "assembled_pose = assembler.build_init_pose(pose.sequence(), '')\n",
    "```\n",
    "\n"
   ]
  },
  {
   "cell_type": "code",
   "execution_count": 41,
   "metadata": {
    "nbgrader": {
     "grade": true,
     "grade_id": "cell-8a96120ce6ea942f",
     "locked": false,
     "points": 0,
     "schema_version": 3,
     "solution": true
    }
   },
   "outputs": [],
   "source": [
    "### BEGIN SOLUTION\n",
    "assembler = core.import_pose.RNA_HelixAssembler()\n",
    "assembled_pose = assembler.build_init_pose(pose.sequence(), '')\n",
    "### END SOLUTION"
   ]
  },
  {
   "cell_type": "markdown",
   "metadata": {},
   "source": [
    "Let's get a `PyMOLMover` up and running so we can examine our new pose."
   ]
  },
  {
   "cell_type": "code",
   "execution_count": 42,
   "metadata": {},
   "outputs": [],
   "source": [
    "pmm = PyMOLMover()\n",
    "pmm.set_PyMOL_model_name('assembled_pose')\n",
    "pmm.apply(assembled_pose)"
   ]
  },
  {
   "cell_type": "markdown",
   "metadata": {},
   "source": [
    "You can also use `RNA_HelixAssmebler` to generate poses that comprise two strands that form an ideal A-form helical stack, like residues 1-5 and 10-14 in the hairpin from above."
   ]
  },
  {
   "cell_type": "code",
   "execution_count": 43,
   "metadata": {},
   "outputs": [],
   "source": [
    "pmm_helix = PyMOLMover()\n",
    "pmm_helix.set_PyMOL_model_name('helix_pose')\n",
    "helix_pose = assembler.build_init_pose('ggg','ccc')"
   ]
  },
  {
   "cell_type": "markdown",
   "metadata": {},
   "source": [
    "Looking in PyMOL, you may be able to appreciate that, true to its name, the `RNA_HelixAssembler` has generated a pose that looks quite helical."
   ]
  },
  {
   "cell_type": "code",
   "execution_count": 44,
   "metadata": {},
   "outputs": [],
   "source": [
    "pmm_helix.apply(helix_pose)"
   ]
  },
  {
   "cell_type": "markdown",
   "metadata": {},
   "source": [
    "**Exercise**: Examine the torsions in several of the residues of `assembled_pose` using the `print_torsions` function you wrote earlier. How do they compare to the torsions from the starting stem loop?"
   ]
  },
  {
   "cell_type": "markdown",
   "metadata": {},
   "source": [
    "### RNA Fragments"
   ]
  },
  {
   "cell_type": "markdown",
   "metadata": {},
   "source": [
    "Given a library of RNA torsions excised from a published structure, fragment assembly methods will choose an n-mer in the current structure and replace the backbone geometry with the geometry of a corresponding n-mer from the library. Those of you familiar with protein structure prediction methods will recognize this strategy of fragment assembly.\n",
    "\n",
    "We will implement a rudimentary version of this protocol for RNA below."
   ]
  },
  {
   "cell_type": "markdown",
   "metadata": {},
   "source": [
    "For the present exercise, we will use the torsions file `inputs/1jj2.torsions`, which comes from the crystal structure of a large ribosomal subunit. This library will be used to initialize a `Mover` specifically designed to perform fragment assembly on RNA molecules, `RNA_FragmentMover`.\n",
    "```python\n",
    "fragset = core.import_pose.libraries.RNA_LibraryManager.get_instance().rna_fragment_library(\"inputs/1jj2.torsions\")\n",
    "atom_level_domain_map = core.pose.toolbox.AtomLevelDomainMap(assembled_pose)\n",
    "frag_mover = protocols.rna.denovo.movers.RNA_FragmentMover(fragset, atom_level_domain_map, 1, 0)\n",
    "```\n",
    "Don't worry too much about the other options that `RNA_FragmentMover`  requires at this point, but remember to include them if using this mover outside of this notebook."
   ]
  },
  {
   "cell_type": "code",
   "execution_count": 45,
   "metadata": {
    "nbgrader": {
     "grade": true,
     "grade_id": "cell-e28d1be460f75e10",
     "locked": false,
     "points": 0,
     "schema_version": 3,
     "solution": true
    }
   },
   "outputs": [
    {
     "name": "stdout",
     "output_type": "stream",
     "text": [
      "\u001b[0mprotocols.rna.denovo.fragments.FullAtomRNA_Fragments: \u001b[0mReading in vall_torsions file: ./inputs/1jj2.torsions\n",
      "\u001b[0mprotocols.rna.denovo.fragments.FullAtomRNA_Fragments: \u001b[0mLines read from vall_torsions file: 2754\n"
     ]
    }
   ],
   "source": [
    "### BEGIN SOLUTION\n",
    "fragset = core.import_pose.libraries.RNA_LibraryManager.get_instance().rna_fragment_library(\"./inputs/1jj2.torsions\")\n",
    "atom_level_domain_map = core.pose.toolbox.AtomLevelDomainMap(assembled_pose)\n",
    "frag_mover = protocols.rna.denovo.movers.RNA_FragmentMover(fragset, atom_level_domain_map, 1, 0)\n",
    "### END SOLUTION"
   ]
  },
  {
   "cell_type": "markdown",
   "metadata": {},
   "source": [
    "Let's practice applying this mover to a `Pose`. To actually make a fragment assembly move, you can call the `random_fragment_insertion` method which requires two arguments:\n",
    "\n",
    "1. An input `Pose`\n",
    "2. The size of the fragment to substitute.\n",
    "\n",
    "There is also an `apply()` method that can be called in a similar manner, but it simply calls `random_fragment_insertion()`, so the recommendation is to decrease overhead by calling `random_fragment_insertion()` where possible.\n",
    "\n",
    "Let's pratice calling this method below.\n",
    "```python\n",
    "practice_pose = Pose()\n",
    "practice_pose.assign(assembled_pose)\n",
    "frag_mover.random_fragment_insertion(practice_pose, 3)\n",
    "pmm.apply(practice_pose)\n",
    "```\n"
   ]
  },
  {
   "cell_type": "code",
   "execution_count": 46,
   "metadata": {
    "nbgrader": {
     "grade": true,
     "grade_id": "cell-7ebd40e5cc7a1a5c",
     "locked": false,
     "points": 0,
     "schema_version": 3,
     "solution": true
    }
   },
   "outputs": [
    {
     "name": "stdout",
     "output_type": "stream",
     "text": [
      "\u001b[0mprotocols.rna.denovo.fragments.FullAtomRNA_Fragments: \u001b[0mPicked Fragment Library for sequence aaa  and sec. struct XXX ... found 45 potential fragments\n"
     ]
    }
   ],
   "source": [
    "### BEGIN SOLUTION\n",
    "practice_pose = Pose()\n",
    "practice_pose.assign(assembled_pose)\n",
    "frag_mover.random_fragment_insertion(practice_pose, 3)\n",
    "pmm.apply(practice_pose)\n",
    "### END SOLUTION"
   ]
  },
  {
   "cell_type": "markdown",
   "metadata": {},
   "source": [
    "Now that we know how to set up a fragment assembly mover in PyRosetta, try the excise below to write a quick folding routine that uses a fragment assembly strategy to try and fold the hairpin sequence. "
   ]
  },
  {
   "cell_type": "markdown",
   "metadata": {},
   "source": [
    "**Exercise**: Fill in the function below such that `fragment_assembly`\n",
    "* Accepts an input `Pose`, `RNA_FragmentMover`, fragment size to substitute (`frag_size`), and number of trials (`n_trials`).\n",
    "* Uses by default the `rna_lowres_sf` energy function from earlier but allows the user to specify a different energy function, if desired\n",
    "* Performs a fragment substitution and accepts the substitution subject to the Metropolis criterion (assume $kT = 1$)\n",
    "* Returns the lowest-energy pose found.\n",
    "\n",
    "\\* See section 4.1 of these notebooks for a review on Monte Carlo algorithms, if desired. \n",
    "\n",
    "Then, apply it to our newly assembled pose using the following recipe:\n",
    "\n",
    "1. Run `fragment_assembly` using 3 nucleotide fragments for 400 trials. \n",
    "2. Then, run `fragment_assembly` using 2 nucleotide fragments for 300 trials.\n",
    "3. Finally, run `fragment_assembly` using 1 nucleotide fragments for 300 trials."
   ]
  },
  {
   "cell_type": "code",
   "execution_count": 47,
   "metadata": {
    "nbgrader": {
     "grade": true,
     "grade_id": "cell-17cc8abff43d174a",
     "locked": false,
     "points": 0,
     "schema_version": 3,
     "solution": true
    }
   },
   "outputs": [
    {
     "name": "stdout",
     "output_type": "stream",
     "text": [
      "\u001b[0mprotocols.rna.denovo.fragments.FullAtomRNA_Fragments: \u001b[0mPicked Fragment Library for sequence gau  and sec. struct XXX ... found 37 potential fragments\n",
      "\u001b[0mprotocols.rna.denovo.fragments.FullAtomRNA_Fragments: \u001b[0mPicked Fragment Library for sequence aug  and sec. struct XXX ... found 38 potential fragments\n",
      "\u001b[0mprotocols.rna.denovo.fragments.FullAtomRNA_Fragments: \u001b[0mPicked Fragment Library for sequence aag  and sec. struct XXX ... found 64 potential fragments\n",
      "\u001b[0mprotocols.rna.denovo.fragments.FullAtomRNA_Fragments: \u001b[0mPicked Fragment Library for sequence ccg  and sec. struct XXX ... found 63 potential fragments\n",
      "\u001b[0mprotocols.rna.denovo.fragments.FullAtomRNA_Fragments: \u001b[0mPicked Fragment Library for sequence gga  and sec. struct XXX ... found 62 potential fragments\n",
      "\u001b[0mprotocols.rna.denovo.fragments.FullAtomRNA_Fragments: \u001b[0mPicked Fragment Library for sequence cau  and sec. struct XXX ... found 29 potential fragments\n",
      "\u001b[0mprotocols.rna.denovo.fragments.FullAtomRNA_Fragments: \u001b[0mPicked Fragment Library for sequence cga  and sec. struct XXX ... found 77 potential fragments\n",
      "\u001b[0mprotocols.rna.denovo.fragments.FullAtomRNA_Fragments: \u001b[0mPicked Fragment Library for sequence ucc  and sec. struct XXX ... found 38 potential fragments\n",
      "\u001b[0mprotocols.rna.denovo.fragments.FullAtomRNA_Fragments: \u001b[0mPicked Fragment Library for sequence agg  and sec. struct XXX ... found 64 potential fragments\n",
      "\u001b[0mprotocols.rna.denovo.fragments.FullAtomRNA_Fragments: \u001b[0mPicked Fragment Library for sequence auc  and sec. struct XXX ... found 32 potential fragments\n",
      "\u001b[0mprotocols.rna.denovo.fragments.FullAtomRNA_Fragments: \u001b[0mPicked Fragment Library for sequence gaa  and sec. struct XXX ... found 76 potential fragments\n",
      "\u001b[0mprotocols.rna.denovo.fragments.FullAtomRNA_Fragments: \u001b[0mPicked Fragment Library for sequence ga  and sec. struct XX ... found 243 potential fragments\n",
      "\u001b[0mprotocols.rna.denovo.fragments.FullAtomRNA_Fragments: \u001b[0mPicked Fragment Library for sequence cg  and sec. struct XX ... found 214 potential fragments\n",
      "\u001b[0mprotocols.rna.denovo.fragments.FullAtomRNA_Fragments: \u001b[0mPicked Fragment Library for sequence ca  and sec. struct XX ... found 156 potential fragments\n",
      "\u001b[0mprotocols.rna.denovo.fragments.FullAtomRNA_Fragments: \u001b[0mPicked Fragment Library for sequence au  and sec. struct XX ... found 113 potential fragments\n",
      "\u001b[0mprotocols.rna.denovo.fragments.FullAtomRNA_Fragments: \u001b[0mPicked Fragment Library for sequence ag  and sec. struct XX ... found 224 potential fragments\n",
      "\u001b[0mprotocols.rna.denovo.fragments.FullAtomRNA_Fragments: \u001b[0mPicked Fragment Library for sequence cc  and sec. struct XX ... found 182 potential fragments\n",
      "\u001b[0mprotocols.rna.denovo.fragments.FullAtomRNA_Fragments: \u001b[0mPicked Fragment Library for sequence gg  and sec. struct XX ... found 235 potential fragments\n",
      "\u001b[0mprotocols.rna.denovo.fragments.FullAtomRNA_Fragments: \u001b[0mPicked Fragment Library for sequence aa  and sec. struct XX ... found 197 potential fragments\n",
      "\u001b[0mprotocols.rna.denovo.fragments.FullAtomRNA_Fragments: \u001b[0mPicked Fragment Library for sequence ug  and sec. struct XX ... found 171 potential fragments\n",
      "\u001b[0mprotocols.rna.denovo.fragments.FullAtomRNA_Fragments: \u001b[0mPicked Fragment Library for sequence uc  and sec. struct XX ... found 142 potential fragments\n",
      "\u001b[0mprotocols.rna.denovo.fragments.FullAtomRNA_Fragments: \u001b[0mPicked Fragment Library for sequence g  and sec. struct X ... found 844 potential fragments\n",
      "\u001b[0mprotocols.rna.denovo.fragments.FullAtomRNA_Fragments: \u001b[0mPicked Fragment Library for sequence a  and sec. struct X ... found 716 potential fragments\n",
      "\u001b[0mprotocols.rna.denovo.fragments.FullAtomRNA_Fragments: \u001b[0mPicked Fragment Library for sequence c  and sec. struct X ... found 690 potential fragments\n",
      "\u001b[0mprotocols.rna.denovo.fragments.FullAtomRNA_Fragments: \u001b[0mPicked Fragment Library for sequence u  and sec. struct X ... found 504 potential fragments\n"
     ]
    }
   ],
   "source": [
    "import math\n",
    "import random\n",
    "\n",
    "def fragment_assembly(start_pose, frag_mover, frag_size, n_trials, sf=rna_lowres_sf):\n",
    "    curr_pose = Pose()\n",
    "    curr_pose.assign(start_pose)\n",
    "    trial_pose = Pose()\n",
    "    trial_pose.assign(curr_pose)\n",
    "    opt_pose = Pose()\n",
    "    opt_pose.assign(curr_pose)\n",
    "    currE = newE = optE = sf(curr_pose)\n",
    "### BEGIN SOLUTION\n",
    "    for _ in range(n_trials):\n",
    "        frag_mover.random_fragment_insertion(trial_pose, frag_size)\n",
    "        newE = sf(trial_pose)\n",
    "        if random.random() < math.exp(currE-newE):\n",
    "            curr_pose.assign(trial_pose)\n",
    "            currE = newE\n",
    "            if currE < optE:\n",
    "                optE = currE\n",
    "                opt_pose.assign(curr_pose)\n",
    "    return curr_pose\n",
    "### END SOLUTION\n",
    "    #return curr_pose\n",
    "\n",
    "frag_pose = fragment_assembly(assembled_pose, frag_mover, 3, 400)\n",
    "frag_pose = fragment_assembly(frag_pose, frag_mover, 2, 300)\n",
    "frag_pose = fragment_assembly(frag_pose, frag_mover, 1, 300)"
   ]
  },
  {
   "cell_type": "markdown",
   "metadata": {},
   "source": [
    "Examine the fragment assembled `Pose` in PyMOL. Do you recognize any of the motifs from before?\n",
    "```python\n",
    "frag_pmm = PyMOLMover()\n",
    "frag_pmm.set_PyMOL_model_name('frag_pose')\n",
    "frag_pmm.apply(frag_pose)\n",
    "```\n"
   ]
  },
  {
   "cell_type": "code",
   "execution_count": 48,
   "metadata": {
    "nbgrader": {
     "grade": true,
     "grade_id": "cell-454affa682c5f1d0",
     "locked": false,
     "points": 0,
     "schema_version": 3,
     "solution": true
    }
   },
   "outputs": [],
   "source": [
    "### BEGIN SOLUTION\n",
    "frag_pmm = PyMOLMover()\n",
    "frag_pmm.set_PyMOL_model_name('frag_pose')\n",
    "frag_pmm.apply(frag_pose)\n",
    "### END SOLUTION"
   ]
  },
  {
   "cell_type": "markdown",
   "metadata": {},
   "source": [
    "### Minimizing Structures with RNA"
   ]
  },
  {
   "cell_type": "markdown",
   "metadata": {},
   "source": [
    "In principle, the standard `MinMover` that has been introduced previously in the context of minimizing purely protein structures can also be used to minimize poses with RNA (as long as the assigned energy function has score terms relevant to RNA and an appropriate `MoveMap` is provided).\n",
    "\n",
    "However, as part of the `rna_denovo` protocol, Das and coworkers have developed a subroutine, `RNA_Minimize`, that is specifically geared toward handling minimization of poses with RNA, the use of which is detailed below."
   ]
  },
  {
   "cell_type": "markdown",
   "metadata": {},
   "source": [
    "We can access the `RNA_Minimize` mover from the `protocols` namespace. The relevant options object, `RNA_MinimizerOptions`, lives in the `import_pose.options` namespace. We will set the maximum number of iterations to 1000, using default values for other options.\n",
    "```python\n",
    "rna_min_options = core.import_pose.options.RNA_MinimizerOptions()\n",
    "rna_min_options.set_max_iter(1000)\n",
    "rna_minmizer = protocols.rna.denovo.movers.RNA_Minimizer(rna_min_options)\n",
    "```"
   ]
  },
  {
   "cell_type": "code",
   "execution_count": 49,
   "metadata": {
    "nbgrader": {
     "grade": true,
     "grade_id": "cell-df0b5d2d61c42654",
     "locked": false,
     "points": 0,
     "schema_version": 3,
     "solution": true
    }
   },
   "outputs": [],
   "source": [
    "### BEGIN SOLUTION\n",
    "rna_min_options = core.import_pose.options.RNA_MinimizerOptions()\n",
    "rna_min_options.set_max_iter(1000)\n",
    "rna_minimizer = protocols.rna.denovo.movers.RNA_Minimizer(rna_min_options)\n",
    "### END SOLUTION"
   ]
  },
  {
   "cell_type": "markdown",
   "metadata": {},
   "source": [
    "Unlike in the case of using `MinMover`, things like an appropriate energy function and `MoveMap` are generated by default by the `RNA_Minimizer` object. By default, `RNA_Minimizer` uses the same high-resolution energy function as above (`stepwise/rna/rna_res_level_energy4.wts`).\n",
    "\n",
    "All that remains is to apply it to the relevant pose.\n",
    "```python\n",
    "rna_minimizer.apply(frag_pose)\n",
    "```"
   ]
  },
  {
   "cell_type": "code",
   "execution_count": 50,
   "metadata": {
    "nbgrader": {
     "grade": true,
     "grade_id": "cell-e80552b2026767ce",
     "locked": false,
     "points": 0,
     "schema_version": 3,
     "solution": true
    }
   },
   "outputs": [
    {
     "name": "stdout",
     "output_type": "stream",
     "text": [
      "\u001b[0mprotocols.rna.denovo.movers.RNA_Minimizer: \u001b[0mOrienting 2' hydroxyls...\n",
      "\u001b[0mprotocols.rna.denovo.movers.RNA_Minimizer: \u001b[0mMinimizing...round= 1\n",
      "\u001b[0mprotocols.rna.denovo.movers.RNA_Minimizer: \u001b[0mOrienting 2' hydroxyls...\n",
      "\u001b[0mprotocols.rna.denovo.movers.RNA_Minimizer: \u001b[0mMinimizing...round= 2\n",
      "\u001b[0mprotocols.rna.denovo.movers.RNA_Minimizer: \u001b[0m\n",
      "------------------------------------------------------------\n",
      " Scores                       Weight   Raw Score Wghtd.Score\n",
      "------------------------------------------------------------\n",
      " fa_atr                       0.210    -213.189     -44.770\n",
      " fa_rep                       0.200      28.665       5.733\n",
      " fa_intra_rep                 0.003     171.212       0.497\n",
      " lk_nonpolar                  0.250       3.414       0.854\n",
      " fa_elec_rna_phos_phos        1.700      -0.635      -1.079\n",
      " rna_torsion                  1.000       5.304       5.304\n",
      " suiteness_bonus              1.000       0.000       0.000\n",
      " rna_sugar_close              0.820       0.474       0.388\n",
      " fa_stack                     0.130    -209.236     -27.201\n",
      " stack_elec                   0.760      -4.052      -3.079\n",
      " geom_sol_fast                0.170      64.031      10.885\n",
      " hbond_sr_bb_sc               0.960      -1.318      -1.265\n",
      " hbond_lr_bb_sc               0.960       0.000       0.000\n",
      " hbond_sc                     0.960      -8.280      -7.949\n",
      " ref                          1.000      50.440      50.440\n",
      " free_suite                   2.000       0.000       0.000\n",
      " free_2HOprime                1.000       0.000       0.000\n",
      " intermol                     1.000       0.000       0.000\n",
      " other_pose                   1.000       0.000       0.000\n",
      " loop_close                   1.000       0.000       0.000\n",
      " linear_chainbreak            5.000       0.000       0.000\n",
      "---------------------------------------------------\n",
      " Total weighted score:                      -11.241\n",
      "\u001b[0mprotocols.rna.denovo.movers.RNA_Minimizer: \u001b[0mRNA minimizer finished in 12 seconds.\n"
     ]
    }
   ],
   "source": [
    "### BEGIN SOLUTION\n",
    "rna_minimizer.apply(frag_pose)\n",
    "### END SOLUTION"
   ]
  },
  {
   "cell_type": "markdown",
   "metadata": {},
   "source": [
    "Let's see what changes minimization has wrought on our structure:\n",
    "```python\n",
    "min_pmm = PyMOLMover()\n",
    "min_pmm.set_PyMOL_model_name('min_pose')\n",
    "min_pmm.apply(frag_pose)\n",
    "```"
   ]
  },
  {
   "cell_type": "code",
   "execution_count": 51,
   "metadata": {
    "nbgrader": {
     "grade": true,
     "grade_id": "cell-4138129b3ff0e1e2",
     "locked": false,
     "points": 0,
     "schema_version": 3,
     "solution": true
    }
   },
   "outputs": [],
   "source": [
    "### BEGIN SOLUTION\n",
    "min_pmm = PyMOLMover()\n",
    "min_pmm.set_PyMOL_model_name('min_pose')\n",
    "min_pmm.apply(frag_pose)\n",
    "### END SOLUTION"
   ]
  },
  {
   "cell_type": "markdown",
   "metadata": {},
   "source": [
    "**Exercise**: Using the functions described in the first part of the notebook, report on the following with respect to our de novo folded sequence:\n",
    "1. Which base pairs, if any, were recovered?\n",
    "2. Which motifs, if any, were recovered?\n"
   ]
  },
  {
   "cell_type": "code",
   "execution_count": 52,
   "metadata": {
    "nbgrader": {
     "grade": true,
     "grade_id": "cell-d3c9218512f85a39",
     "locked": false,
     "points": 0,
     "schema_version": 3,
     "solution": true
    }
   },
   "outputs": [
    {
     "name": "stdout",
     "output_type": "stream",
     "text": [
      "5 10 WC WC ANTI\n",
      "\u001b[0mcore.scoring.rna.RNA_LowResolutionPotential: \u001b[0mReading basepair x - y potential file: scoring/rna/rna_base_pair_xy.dat\n",
      "\u001b[0mcore.scoring.rna.RNA_LowResolutionPotential: \u001b[0mFinished reading basepair x - y potential file: scoring/rna/rna_base_pair_xy.dat\n",
      "\u001b[0mcore.scoring.rna.RNA_LowResolutionPotential: \u001b[0mReading non - base - base x - y potential file: scoring/rna/rna_base_backbone_xy.dat\n",
      "\u001b[0mcore.scoring.rna.RNA_LowResolutionPotential: \u001b[0mReading RNA backbone backbone potential file: scoring/rna/rna_backbone_backbone.dat\n",
      "\n"
     ]
    }
   ],
   "source": [
    "### BEGIN SOLUTION\n",
    "base_pairs = classify_base_pairs(frag_pose)\n",
    "for base_pair in base_pairs:\n",
    "    print(base_pair)\n",
    "\n",
    "lowres_potential = core.scoring.rna.RNA_LowResolutionPotential( \"scoring/rna/rna_base_pair_xy.dat\" )\n",
    "rna_scoring_info = core.scoring.rna.rna_scoring_info_from_pose(frag_pose).rna_filtered_base_base_info()\n",
    "rna_motifs = core.scoring.rna.get_rna_motifs( frag_pose, lowres_potential, rna_scoring_info)\n",
    "print(rna_motifs)\n",
    "### END SOLUTION"
   ]
  },
  {
   "cell_type": "markdown",
   "metadata": {},
   "source": [
    "## Additional Exercises"
   ]
  },
  {
   "cell_type": "markdown",
   "metadata": {},
   "source": [
    "### Post-mortem"
   ]
  },
  {
   "cell_type": "markdown",
   "metadata": {},
   "source": [
    "Examine our final folded structure and the hairpin from the first part of the tutorial and think about the following questions:\n",
    "* How well did our brief structure prediction algorithm do at recovering the hairpin we examined at the beginning? \n",
    "* Which parts were more successfully recovered? Which parts less so? Why might this be? \n",
    "* What would you do to improve on this method as it stands? Feel free to implement any ideas you have."
   ]
  },
  {
   "cell_type": "markdown",
   "metadata": {},
   "source": [
    "### FAR + FAR = FARFAR"
   ]
  },
  {
   "cell_type": "markdown",
   "metadata": {},
   "source": [
    "Write a function analogous to the `fragment_assembly` function above that \n",
    "* Accepts an input `Pose`\n",
    "* Performs a round of minimization using an `RNA_Minimizer`\n",
    "* Returns the minimized structure\n",
    "\n",
    "Using this new suboutine, craft your own `farfar` ( [Fragment Assembly of RNA with Full Atom Refinement](https://www.rosettacommons.org/docs/latest/application_documentation/rna/rna-denovo)) routine that performs multiple rounds of fragment assembly in a low-resolution potential followed by minimization in a high-resolution energy function. \n",
    "\n",
    "Try playing around with the various parameters and see how well you can recover the hairpin starting from just the sequence.\n"
   ]
  },
  {
   "cell_type": "markdown",
   "metadata": {},
   "source": [
    "## RNA Structure Prediction Protocol"
   ]
  },
  {
   "cell_type": "markdown",
   "metadata": {},
   "source": [
    "Below we will be running a short RNA de novo modeling run for the stem-loop sequence we have been working with thus far, making use of the **FARFAR protocol** (which you can run with the `rna_denovo` command in Rosetta). As discussed above, the FARFAR protocol involves a mixture of fragment assembly moves and full atom minimization moves. We will generate a small set of structures using FARFAR and compare the energy of the resulting structures to those constructed in the previous exercise. "
   ]
  },
  {
   "cell_type": "markdown",
   "metadata": {},
   "source": [
    "FARFAR builds models for a structure as specified in a FASTA file, making use of any structures of known sub-pieces (for instance, A-form helices for regions known to form stems). In this case, we will provide the helical portion of our structure between residues 1-5 and residues 10-14 as an input to the FARFAR protocol, so that the protocol only has to worry about sampling the loop. In a real modeling scenario, it is often the case that information about the secondary structure of the RNA is known, allowing us to make use of A-form helix rigid bodies to accelerate modeling.\n",
    "\n",
    "Let's set up the fasta file and input PDB files to use as options for FARFAR; these files should be in the `inputs/` folder."
   ]
  },
  {
   "cell_type": "code",
   "execution_count": 53,
   "metadata": {},
   "outputs": [],
   "source": [
    "input_pdbs = rosetta.utility.vector1_std_string()\n",
    "fasta_files = rosetta.utility.vector1_std_string()\n",
    "input_pdbs.append(\"inputs/stem.pdb\")\n",
    "fasta_files = rosetta.utility.vector1_std_string()\n",
    "fasta_files.append(\"inputs/stem_loop.fasta\")"
   ]
  },
  {
   "cell_type": "markdown",
   "metadata": {},
   "source": [
    "We will set up options for `rna_denovo` below, specifying the FASTA file, the input PDBs, the number of structures we would like to generate, and the output file (silent file format)."
   ]
  },
  {
   "cell_type": "code",
   "execution_count": 54,
   "metadata": {},
   "outputs": [],
   "source": [
    "rna_de_novo_setup = core.import_pose.RNA_DeNovoSetup()\n",
    "rna_de_novo_setup.set_fasta_files(fasta_files)\n",
    "rna_de_novo_setup.set_minimize_rna(True)\n",
    "rna_de_novo_setup.set_input_pdbs(input_pdbs)"
   ]
  },
  {
   "cell_type": "code",
   "execution_count": 55,
   "metadata": {},
   "outputs": [
    {
     "name": "stdout",
     "output_type": "stream",
     "text": [
      "\u001b[0mcore.import_pose.options.RNA_DeNovoProtocolOptions: \u001b[0m\u001b[32mSetting silent file name based on directory: notebooks.out\n",
      "\u001b[0mcore.import_pose.import_pose: \u001b[0mFile 'inputs/stem.pdb' automatically determined to be of type PDB\n",
      "\u001b[0mcore.import_pose.RNA_DeNovoSetup: \u001b[0mSequence:            cauccgaaaggaug\n",
      "\u001b[0mcore.import_pose.RNA_DeNovoSetup: \u001b[0mSecstruct:           ..............\n"
     ]
    }
   ],
   "source": [
    "rna_de_novo_setup.initialize_from_command_line()"
   ]
  },
  {
   "cell_type": "code",
   "execution_count": 56,
   "metadata": {},
   "outputs": [],
   "source": [
    "rna_de_novo_options = rna_de_novo_setup.options()\n",
    "rna_de_novo_options.set_nstruct(10)\n",
    "rna_de_novo_options.set_silent_file(\"outputs/stem_loop.out\")\n",
    "rna_de_novo_options.set_vall_torsions_file(\"./inputs/1jj2.torsions\")"
   ]
  },
  {
   "cell_type": "markdown",
   "metadata": {},
   "source": [
    "Now we will run FARFAR by generating an `RNA_DeNovoProtocol` object and running it with `apply` on a starting pose. This will take a few minutes to run, and will generate 10 structures to the silent file specified above. As the protocol is running, take a look at the output to understand how it works. Note that for each structure generated, the protocol goes through various rounds of fragment assembly with fragments of size 3, 2, and 1, and then runs the RNA minimizer. This is similar to the protocol you made above!"
   ]
  },
  {
   "cell_type": "code",
   "execution_count": 57,
   "metadata": {},
   "outputs": [],
   "source": [
    "rna_de_novo_protocol = rosetta.protocols.rna.denovo.RNA_DeNovoProtocol(rna_de_novo_options, rna_de_novo_setup.rna_params())"
   ]
  },
  {
   "cell_type": "code",
   "execution_count": 58,
   "metadata": {
    "scrolled": true
   },
   "outputs": [
    {
     "name": "stdout",
     "output_type": "stream",
     "text": [
      "\u001b[0mprotocols.rna.denovo.setup.RNA_DeNovoPoseInitializer: \u001b[0mSetting desired secondary structure to: XXXXXXXXXXXXXX\n",
      "\u001b[0mcore.conformation.Residue: \u001b[0m\u001b[1m[ WARNING ]\u001b[0m Residue connection id changed when creating a new residue at seqpos 1\n",
      "\u001b[0mcore.conformation.Residue: \u001b[0m\u001b[1m[ WARNING ]\u001b[0m ResConnID info stored on the connected residue (residue 2) is now out of date!\n",
      "\u001b[0mcore.conformation.Residue: \u001b[0m\u001b[1m[ WARNING ]\u001b[0m Connection atom name (in src):  O3'\n",
      "\u001b[0mcore.import_pose.import_pose: \u001b[0mFile 'inputs/stem.pdb' automatically determined to be of type PDB\n",
      "\u001b[0mcore.conformation.Residue: \u001b[0m\u001b[1m[ WARNING ]\u001b[0m Residue connection id changed when creating a new residue at seqpos 1\n",
      "\u001b[0mcore.conformation.Residue: \u001b[0m\u001b[1m[ WARNING ]\u001b[0m ResConnID info stored on the connected residue (residue 2) is now out of date!\n",
      "\u001b[0mcore.conformation.Residue: \u001b[0m\u001b[1m[ WARNING ]\u001b[0m Connection atom name (in src):  O3'\n",
      "\u001b[0mprotocols.rna.setup.RNA_MonteCarloJobDistributor: \u001b[0m\n",
      "\u001b[0mprotocols.rna.setup.RNA_MonteCarloJobDistributor: \u001b[0m\u001b[32mEmbarking on structure 1 of 10\u001b[0m\n",
      "\u001b[0mprotocols.rna.denovo.RNA_FragmentMonteCarlo: \u001b[0mNumber of moving residues: 5\n",
      "\u001b[0mprotocols.rna.denovo.RNA_FragmentMonteCarlo: \u001b[0mNumber of moving chunks: 0\n",
      "\u001b[0mprotocols.rna.denovo.RNA_FragmentMonteCarlo: \u001b[0mUsing 10000 cycles in de novo modeling.\n",
      "\u001b[0mprotocols.rna.denovo.libraries.RNA_JumpLibrary: \u001b[0mReading RNA jump library: /Users/ramyar/Dropbox/GradSchool/Research/packages/PyRosetta4.Release.python37.mac.release-244/setup/build/lib/pyrosetta/database/sampling/rna/RNA18_HUB_2.154_2.5.jump\n",
      "\u001b[0mprotocols.rna.denovo.movers.RNA_DeNovoMasterMover: \u001b[0mHeating up... 42 cycles.\n",
      "\u001b[0mprotocols.rna.denovo.RNA_FragmentMonteCarlo: \u001b[0mBeginning main loop...\n",
      "\u001b[0mprotocols.rna.denovo.RNA_FragmentMonteCarlo: \u001b[0m\u001b[34mBeginning round 1 of 10\u001b[0m\n",
      "\u001b[0mprotocols.moves.TrialCounter: \u001b[0m          frag 3 trials=    896;  accepts= 0.1496;  energy_drop/trial=  -0.02519\n",
      "\u001b[0mprotocols.rna.denovo.RNA_FragmentMonteCarlo: \u001b[0m\u001b[34mBeginning round 2 of 10\u001b[0m\n",
      "\u001b[0mprotocols.moves.TrialCounter: \u001b[0m          frag 3 trials=    900;  accepts= 0.1078;  energy_drop/trial=   0.00455\n",
      "\u001b[0mcore.scoring.rna.RNA_LowResolutionPotential: \u001b[0mReading basepair x - y potential file: scoring/rna/rna_base_pair_xy.dat\n",
      "\u001b[0mcore.scoring.rna.RNA_LowResolutionPotential: \u001b[0mFinished reading basepair x - y potential file: scoring/rna/rna_base_pair_xy.dat\n",
      "\u001b[0mcore.scoring.rna.RNA_LowResolutionPotential: \u001b[0mReading non - base - base x - y potential file: scoring/rna/rna_base_backbone_xy.dat\n",
      "\u001b[0mcore.scoring.rna.RNA_LowResolutionPotential: \u001b[0mReading RNA backbone backbone potential file: scoring/rna/rna_backbone_backbone.dat\n",
      "\u001b[0mprotocols.rna.denovo.RNA_FragmentMonteCarlo: \u001b[0mChecking base pairs early! Result: 1\n",
      "\u001b[0mprotocols.rna.denovo.RNA_FragmentMonteCarlo: \u001b[0m\u001b[34mBeginning round 3 of 10\u001b[0m\n",
      "\u001b[0mprotocols.moves.TrialCounter: \u001b[0m          frag 3 trials=    920;  accepts= 0.0870;  energy_drop/trial=   0.01243\n",
      "\u001b[0mprotocols.rna.denovo.RNA_FragmentMonteCarlo: \u001b[0m\u001b[34mBeginning round 4 of 10\u001b[0m\n",
      "\u001b[0mprotocols.rna.denovo.RNA_FragmentMonteCarlo: \u001b[0mFragment size: 2\n",
      "\u001b[0mprotocols.moves.TrialCounter: \u001b[0m          frag 2 trials=    902;  accepts= 0.0687;  energy_drop/trial=   0.00649\n",
      "\u001b[0mprotocols.rna.denovo.RNA_FragmentMonteCarlo: \u001b[0m\u001b[34mBeginning round 5 of 10\u001b[0m\n",
      "\u001b[0mprotocols.moves.TrialCounter: \u001b[0m          frag 2 trials=    889;  accepts= 0.0439;  energy_drop/trial=   0.00800\n",
      "\u001b[0mprotocols.rna.denovo.RNA_FragmentMonteCarlo: \u001b[0mChecking loop closure with tolerance of 12 Angstroms! Result: 1\n",
      "\u001b[0mprotocols.rna.denovo.RNA_FragmentMonteCarlo: \u001b[0m\u001b[34mBeginning round 6 of 10\u001b[0m\n",
      "\u001b[0mprotocols.moves.TrialCounter: \u001b[0m          frag 2 trials=    896;  accepts= 0.0357;  energy_drop/trial=   0.01042\n",
      "\u001b[0mprotocols.rna.denovo.RNA_FragmentMonteCarlo: \u001b[0m\u001b[34mBeginning round 7 of 10\u001b[0m\n",
      "\u001b[0mprotocols.rna.denovo.RNA_FragmentMonteCarlo: \u001b[0mFragment size: 1\n",
      "\u001b[0mprotocols.moves.TrialCounter: \u001b[0m          frag 1 trials=    894;  accepts= 0.0649;  energy_drop/trial=   0.00982\n",
      "\u001b[0mprotocols.rna.denovo.RNA_FragmentMonteCarlo: \u001b[0m\u001b[34mBeginning round 8 of 10\u001b[0m\n",
      "\u001b[0mprotocols.moves.TrialCounter: \u001b[0m          frag 1 trials=    891;  accepts= 0.0471;  energy_drop/trial=   0.00768\n",
      "\u001b[0mprotocols.rna.denovo.RNA_FragmentMonteCarlo: \u001b[0m\u001b[34mBeginning round 9 of 10\u001b[0m\n",
      "\u001b[0mprotocols.moves.TrialCounter: \u001b[0m          frag 1 trials=    898;  accepts= 0.0301;  energy_drop/trial=  -0.00188\n",
      "\u001b[0mprotocols.rna.denovo.RNA_FragmentMonteCarlo: \u001b[0m\u001b[34mBeginning round 10 of 10\u001b[0m\n",
      "\u001b[0mprotocols.moves.TrialCounter: \u001b[0m          frag 1 trials=    896;  accepts= 0.0435;  energy_drop/trial=   0.00480\n",
      "\u001b[0mprotocols.rna.denovo.RNA_FragmentMonteCarlo: \u001b[0mFinished fragment assembly of S_000001 in 6 seconds.\n",
      "\u001b[0mprotocols.rna.denovo.RNA_FragmentMonteCarlo: \u001b[0mComparing current lores score -98.4243 to automatically determined cutoff: -98.4243 based on 0.2 quantile from 1 models so far\n",
      "\u001b[0mprotocols.rna.denovo.RNA_FragmentMonteCarlo: \u001b[0m\n",
      "------------------------------------------------------------\n",
      " Scores                       Weight   Raw Score Wghtd.Score\n",
      "------------------------------------------------------------\n",
      " rna_data_backbone            1.000       0.000       0.000\n",
      " rna_vdw                      1.000       0.060       0.060\n",
      " rna_base_backbone            1.000      -7.444      -7.444\n",
      " rna_backbone_backbone        1.000       0.000       0.000\n",
      " rna_repulsive                1.000       0.000       0.000\n",
      " rna_base_pair                1.000     -56.859     -56.859\n",
      " rna_base_axis                0.200     -32.627      -6.525\n",
      " rna_base_stagger             1.000     -28.303     -28.303\n",
      " rna_base_stack               1.000      -3.516      -3.516\n",
      " rna_base_stack_axis          0.200     -23.519      -4.704\n",
      " rna_rg                       1.000       8.646       8.646\n",
      " atom_pair_constraint         1.000       0.000       0.000\n",
      " base_pair_constraint         1.000       0.000       0.000\n",
      " linear_chainbreak            5.000       0.044       0.220\n",
      "---------------------------------------------------\n",
      " Total weighted score:                      -98.424\n",
      "\u001b[0mprotocols.rna.denovo.RNA_FragmentMonteCarlo: \u001b[0m\n",
      "\u001b[0mprotocols.rna.denovo.movers.RNA_Minimizer: \u001b[0mOrienting 2' hydroxyls...\n",
      "\u001b[0mprotocols.rna.denovo.movers.RNA_Minimizer: \u001b[0mMinimizing...round= 1\n",
      "\u001b[0mprotocols.rna.denovo.movers.RNA_Minimizer: \u001b[0mOrienting 2' hydroxyls...\n",
      "\u001b[0mprotocols.rna.denovo.movers.RNA_Minimizer: \u001b[0mMinimizing...round= 2\n",
      "\u001b[0mprotocols.rna.denovo.movers.RNA_Minimizer: \u001b[0m\n",
      "------------------------------------------------------------\n",
      " Scores                       Weight   Raw Score Wghtd.Score\n",
      "------------------------------------------------------------\n",
      " fa_atr                       0.210    -204.738     -42.995\n",
      " fa_rep                       0.200      59.226      11.845\n",
      " fa_intra_rep                 0.003     155.483       0.451\n",
      " lk_nonpolar                  0.250      -7.480      -1.870\n",
      " fa_elec_rna_phos_phos        1.700       0.209       0.356\n",
      " rna_torsion                  1.000       4.773       4.773\n",
      " suiteness_bonus              1.000       0.000       0.000\n",
      " rna_sugar_close              0.820       3.803       3.118\n",
      " fa_stack                     0.130    -207.756     -27.008\n",
      " stack_elec                   0.760      -1.458      -1.108\n",
      " geom_sol_fast                0.170      74.773      12.711\n",
      " hbond_sr_bb_sc               0.960       0.000       0.000\n",
      " hbond_lr_bb_sc               0.960      -0.236      -0.227\n",
      " hbond_sc                     0.960     -22.237     -21.348\n",
      " ref                          1.000      50.440      50.440\n",
      " free_suite                   2.000       0.000       0.000\n",
      " free_2HOprime                1.000       0.000       0.000\n",
      " intermol                     1.000       0.000       0.000\n",
      " other_pose                   1.000       0.000       0.000\n",
      " loop_close                   1.000       0.000       0.000\n",
      " linear_chainbreak            5.000       0.015       0.074\n",
      "---------------------------------------------------\n",
      " Total weighted score:                      -10.788\n",
      "\u001b[0mprotocols.rna.denovo.movers.RNA_Minimizer: \u001b[0mRNA minimizer finished in 3 seconds.\n",
      "\u001b[0mprotocols.rna.denovo.RNA_DeNovoProtocol: \u001b[0mMaking silent struct for S_000011\n",
      "\u001b[0mprotocols.rna.denovo.RNA_DeNovoProtocol: \u001b[0mOutputting to silent file: outputs/stem_loop.out\n",
      "\u001b[0mprotocols.rna.setup.RNA_MonteCarloJobDistributor: \u001b[0m\n",
      "\u001b[0mprotocols.rna.setup.RNA_MonteCarloJobDistributor: \u001b[0m\u001b[32mEmbarking on structure 2 of 10\u001b[0m\n",
      "\u001b[0mprotocols.rna.denovo.RNA_FragmentMonteCarlo: \u001b[0mNumber of moving residues: 5\n",
      "\u001b[0mprotocols.rna.denovo.RNA_FragmentMonteCarlo: \u001b[0mNumber of moving chunks: 0\n",
      "\u001b[0mprotocols.rna.denovo.RNA_FragmentMonteCarlo: \u001b[0mUsing 10000 cycles in de novo modeling.\n",
      "\u001b[0mprotocols.rna.denovo.movers.RNA_DeNovoMasterMover: \u001b[0mHeating up... 42 cycles.\n",
      "\u001b[0mprotocols.rna.denovo.RNA_FragmentMonteCarlo: \u001b[0mBeginning main loop...\n",
      "\u001b[0mprotocols.rna.denovo.RNA_FragmentMonteCarlo: \u001b[0m\u001b[34mBeginning round 1 of 10\u001b[0m\n",
      "\u001b[0mprotocols.moves.TrialCounter: \u001b[0m          frag 3 trials=    912;  accepts= 0.1985;  energy_drop/trial=  -0.02832\n",
      "\u001b[0mprotocols.rna.denovo.RNA_FragmentMonteCarlo: \u001b[0m\u001b[34mBeginning round 2 of 10\u001b[0m\n",
      "\u001b[0mprotocols.moves.TrialCounter: \u001b[0m          frag 3 trials=    902;  accepts= 0.1031;  energy_drop/trial=   0.00035\n",
      "\u001b[0mprotocols.rna.denovo.RNA_FragmentMonteCarlo: \u001b[0mChecking base pairs early! Result: 1\n",
      "\u001b[0mprotocols.rna.denovo.RNA_FragmentMonteCarlo: \u001b[0m\u001b[34mBeginning round 3 of 10\u001b[0m\n",
      "\u001b[0mprotocols.moves.TrialCounter: \u001b[0m          frag 3 trials=    895;  accepts= 0.0436;  energy_drop/trial=   0.00208\n",
      "\u001b[0mprotocols.rna.denovo.RNA_FragmentMonteCarlo: \u001b[0m\u001b[34mBeginning round 4 of 10\u001b[0m\n",
      "\u001b[0mprotocols.rna.denovo.RNA_FragmentMonteCarlo: \u001b[0mFragment size: 2\n",
      "\u001b[0mprotocols.moves.TrialCounter: \u001b[0m          frag 2 trials=    885;  accepts= 0.0508;  energy_drop/trial=   0.00127\n",
      "\u001b[0mprotocols.rna.denovo.RNA_FragmentMonteCarlo: \u001b[0m\u001b[34mBeginning round 5 of 10\u001b[0m\n",
      "\u001b[0mprotocols.moves.TrialCounter: \u001b[0m          frag 2 trials=    890;  accepts= 0.0258;  energy_drop/trial=   0.00626\n",
      "\u001b[0mprotocols.rna.denovo.RNA_FragmentMonteCarlo: \u001b[0mChecking loop closure with tolerance of 12 Angstroms! Result: 1\n",
      "\u001b[0mprotocols.rna.denovo.RNA_FragmentMonteCarlo: \u001b[0m\u001b[34mBeginning round 6 of 10\u001b[0m\n",
      "\u001b[0mprotocols.moves.TrialCounter: \u001b[0m          frag 2 trials=    911;  accepts= 0.0505;  energy_drop/trial=   0.01172\n",
      "\u001b[0mprotocols.rna.denovo.RNA_FragmentMonteCarlo: \u001b[0m\u001b[34mBeginning round 7 of 10\u001b[0m\n",
      "\u001b[0mprotocols.rna.denovo.RNA_FragmentMonteCarlo: \u001b[0mFragment size: 1\n",
      "\u001b[0mprotocols.moves.TrialCounter: \u001b[0m          frag 1 trials=    925;  accepts= 0.0811;  energy_drop/trial=   0.01452\n",
      "\u001b[0mprotocols.rna.denovo.RNA_FragmentMonteCarlo: \u001b[0m\u001b[34mBeginning round 8 of 10\u001b[0m\n",
      "\u001b[0mprotocols.moves.TrialCounter: \u001b[0m          frag 1 trials=    905;  accepts= 0.0906;  energy_drop/trial=   0.00890\n",
      "\u001b[0mprotocols.rna.denovo.RNA_FragmentMonteCarlo: \u001b[0m\u001b[34mBeginning round 9 of 10\u001b[0m\n",
      "\u001b[0mprotocols.moves.TrialCounter: \u001b[0m          frag 1 trials=    911;  accepts= 0.0659;  energy_drop/trial=   0.00931\n",
      "\u001b[0mprotocols.rna.denovo.RNA_FragmentMonteCarlo: \u001b[0m\u001b[34mBeginning round 10 of 10\u001b[0m\n",
      "\u001b[0mprotocols.moves.TrialCounter: \u001b[0m          frag 1 trials=    905;  accepts= 0.0807;  energy_drop/trial=  -0.00160\n",
      "\u001b[0mprotocols.rna.denovo.RNA_FragmentMonteCarlo: \u001b[0mFinished fragment assembly of S_000002 in 6 seconds.\n",
      "\u001b[0mprotocols.rna.denovo.RNA_FragmentMonteCarlo: \u001b[0mComparing current lores score -92.8449 to automatically determined cutoff: -98.4243 based on 0.2 quantile from 2 models so far\n",
      "\u001b[0mprotocols.rna.denovo.RNA_FragmentMonteCarlo: \u001b[0mFailed score filter.\n",
      "\u001b[0mprotocols.rna.denovo.RNA_FragmentMonteCarlo: \u001b[0m\u001b[31mDid not pass filters. Trying the model again: trial 2 out of 10\u001b[0m\n",
      "\u001b[0mprotocols.rna.denovo.movers.RNA_DeNovoMasterMover: \u001b[0mHeating up... 42 cycles.\n",
      "\u001b[0mprotocols.rna.denovo.RNA_FragmentMonteCarlo: \u001b[0mBeginning main loop...\n",
      "\u001b[0mprotocols.rna.denovo.RNA_FragmentMonteCarlo: \u001b[0m\u001b[34mBeginning round 1 of 10\u001b[0m\n",
      "\u001b[0mprotocols.rna.denovo.RNA_FragmentMonteCarlo: \u001b[0mFragment size: 3\n",
      "\u001b[0mprotocols.moves.TrialCounter: \u001b[0m          frag 3 trials=    902;  accepts= 0.1530;  energy_drop/trial=  -0.01438\n",
      "\u001b[0mprotocols.rna.denovo.RNA_FragmentMonteCarlo: \u001b[0m\u001b[34mBeginning round 2 of 10\u001b[0m\n",
      "\u001b[0mprotocols.moves.TrialCounter: \u001b[0m          frag 3 trials=    893;  accepts= 0.0963;  energy_drop/trial=   0.00220\n",
      "\u001b[0mprotocols.rna.denovo.RNA_FragmentMonteCarlo: \u001b[0mChecking base pairs early! Result: 1\n",
      "\u001b[0mprotocols.rna.denovo.RNA_FragmentMonteCarlo: \u001b[0m\u001b[34mBeginning round 3 of 10\u001b[0m\n",
      "\u001b[0mprotocols.moves.TrialCounter: \u001b[0m          frag 3 trials=    904;  accepts= 0.0675;  energy_drop/trial=   0.00678\n",
      "\u001b[0mprotocols.rna.denovo.RNA_FragmentMonteCarlo: \u001b[0m\u001b[34mBeginning round 4 of 10\u001b[0m\n",
      "\u001b[0mprotocols.rna.denovo.RNA_FragmentMonteCarlo: \u001b[0mFragment size: 2\n",
      "\u001b[0mprotocols.moves.TrialCounter: \u001b[0m          frag 2 trials=    895;  accepts= 0.0726;  energy_drop/trial=   0.00289\n",
      "\u001b[0mprotocols.rna.denovo.RNA_FragmentMonteCarlo: \u001b[0m\u001b[34mBeginning round 5 of 10\u001b[0m\n",
      "\u001b[0mprotocols.moves.TrialCounter: \u001b[0m          frag 2 trials=    909;  accepts= 0.0594;  energy_drop/trial=   0.00582\n",
      "\u001b[0mprotocols.rna.denovo.RNA_FragmentMonteCarlo: \u001b[0mChecking loop closure with tolerance of 12 Angstroms! Result: 1\n",
      "\u001b[0mprotocols.rna.denovo.RNA_FragmentMonteCarlo: \u001b[0m\u001b[34mBeginning round 6 of 10\u001b[0m\n",
      "\u001b[0mprotocols.moves.TrialCounter: \u001b[0m          frag 2 trials=    904;  accepts= 0.0465;  energy_drop/trial=   0.01846\n",
      "\u001b[0mprotocols.rna.denovo.RNA_FragmentMonteCarlo: \u001b[0m\u001b[34mBeginning round 7 of 10\u001b[0m\n",
      "\u001b[0mprotocols.rna.denovo.RNA_FragmentMonteCarlo: \u001b[0mFragment size: 1\n",
      "\u001b[0mprotocols.moves.TrialCounter: \u001b[0m          frag 1 trials=    895;  accepts= 0.0525;  energy_drop/trial=   0.01473\n",
      "\u001b[0mprotocols.rna.denovo.RNA_FragmentMonteCarlo: \u001b[0m\u001b[34mBeginning round 8 of 10\u001b[0m\n",
      "\u001b[0mprotocols.moves.TrialCounter: \u001b[0m          frag 1 trials=    890;  accepts= 0.0506;  energy_drop/trial=   0.00401\n",
      "\u001b[0mprotocols.rna.denovo.RNA_FragmentMonteCarlo: \u001b[0m\u001b[34mBeginning round 9 of 10\u001b[0m\n",
      "\u001b[0mprotocols.moves.TrialCounter: \u001b[0m          frag 1 trials=    892;  accepts= 0.0359;  energy_drop/trial=   0.00562\n",
      "\u001b[0mprotocols.rna.denovo.RNA_FragmentMonteCarlo: \u001b[0m\u001b[34mBeginning round 10 of 10\u001b[0m\n",
      "\u001b[0mprotocols.moves.TrialCounter: \u001b[0m          frag 1 trials=    897;  accepts= 0.0970;  energy_drop/trial=   0.01381\n",
      "\u001b[0mprotocols.rna.denovo.RNA_FragmentMonteCarlo: \u001b[0mFinished fragment assembly of S_000002 in 6 seconds.\n",
      "\u001b[0mprotocols.rna.denovo.RNA_FragmentMonteCarlo: \u001b[0mComparing current lores score -88.8255 to automatically determined cutoff: -98.4243 based on 0.2 quantile from 3 models so far\n",
      "\u001b[0mprotocols.rna.denovo.RNA_FragmentMonteCarlo: \u001b[0mFailed score filter.\n",
      "\u001b[0mprotocols.rna.denovo.RNA_FragmentMonteCarlo: \u001b[0m\u001b[31mDid not pass filters. Trying the model again: trial 3 out of 10\u001b[0m\n",
      "\u001b[0mprotocols.rna.denovo.movers.RNA_DeNovoMasterMover: \u001b[0mHeating up... 42 cycles.\n",
      "\u001b[0mprotocols.rna.denovo.RNA_FragmentMonteCarlo: \u001b[0mBeginning main loop...\n",
      "\u001b[0mprotocols.rna.denovo.RNA_FragmentMonteCarlo: \u001b[0m\u001b[34mBeginning round 1 of 10\u001b[0m\n",
      "\u001b[0mprotocols.rna.denovo.RNA_FragmentMonteCarlo: \u001b[0mFragment size: 3\n",
      "\u001b[0mprotocols.moves.TrialCounter: \u001b[0m          frag 3 trials=    885;  accepts= 0.2373;  energy_drop/trial=  -0.01199\n",
      "\u001b[0mprotocols.rna.denovo.RNA_FragmentMonteCarlo: \u001b[0m\u001b[34mBeginning round 2 of 10\u001b[0m\n",
      "\u001b[0mprotocols.moves.TrialCounter: \u001b[0m          frag 3 trials=    904;  accepts= 0.1150;  energy_drop/trial=   0.00237\n",
      "\u001b[0mprotocols.rna.denovo.RNA_FragmentMonteCarlo: \u001b[0mChecking base pairs early! Result: 1\n",
      "\u001b[0mprotocols.rna.denovo.RNA_FragmentMonteCarlo: \u001b[0m\u001b[34mBeginning round 3 of 10\u001b[0m\n",
      "\u001b[0mprotocols.moves.TrialCounter: \u001b[0m          frag 3 trials=    885;  accepts= 0.0678;  energy_drop/trial=   0.00674\n",
      "\u001b[0mprotocols.rna.denovo.RNA_FragmentMonteCarlo: \u001b[0m\u001b[34mBeginning round 4 of 10\u001b[0m\n",
      "\u001b[0mprotocols.rna.denovo.RNA_FragmentMonteCarlo: \u001b[0mFragment size: 2\n",
      "\u001b[0mprotocols.moves.TrialCounter: \u001b[0m          frag 2 trials=    895;  accepts= 0.0860;  energy_drop/trial=   0.01003\n",
      "\u001b[0mprotocols.rna.denovo.RNA_FragmentMonteCarlo: \u001b[0m\u001b[34mBeginning round 5 of 10\u001b[0m\n",
      "\u001b[0mprotocols.moves.TrialCounter: \u001b[0m          frag 2 trials=    894;  accepts= 0.0694;  energy_drop/trial=   0.00749\n",
      "\u001b[0mprotocols.rna.denovo.RNA_FragmentMonteCarlo: \u001b[0mChecking loop closure with tolerance of 12 Angstroms! Result: 1\n",
      "\u001b[0mprotocols.rna.denovo.RNA_FragmentMonteCarlo: \u001b[0m\u001b[34mBeginning round 6 of 10\u001b[0m\n",
      "\u001b[0mprotocols.moves.TrialCounter: \u001b[0m          frag 2 trials=    875;  accepts= 0.0606;  energy_drop/trial=   0.01380\n",
      "\u001b[0mprotocols.rna.denovo.RNA_FragmentMonteCarlo: \u001b[0m\u001b[34mBeginning round 7 of 10\u001b[0m\n",
      "\u001b[0mprotocols.rna.denovo.RNA_FragmentMonteCarlo: \u001b[0mFragment size: 1\n",
      "\u001b[0mprotocols.moves.TrialCounter: \u001b[0m          frag 1 trials=    905;  accepts= 0.1182;  energy_drop/trial=   0.01549\n",
      "\u001b[0mprotocols.rna.denovo.RNA_FragmentMonteCarlo: \u001b[0m\u001b[34mBeginning round 8 of 10\u001b[0m\n",
      "\u001b[0mprotocols.moves.TrialCounter: \u001b[0m          frag 1 trials=    903;  accepts= 0.1240;  energy_drop/trial=   0.01240\n",
      "\u001b[0mprotocols.rna.denovo.RNA_FragmentMonteCarlo: \u001b[0m\u001b[34mBeginning round 9 of 10\u001b[0m\n",
      "\u001b[0mprotocols.moves.TrialCounter: \u001b[0m          frag 1 trials=    909;  accepts= 0.0506;  energy_drop/trial=   0.00005\n",
      "\u001b[0mprotocols.rna.denovo.RNA_FragmentMonteCarlo: \u001b[0m\u001b[34mBeginning round 10 of 10\u001b[0m\n",
      "\u001b[0mprotocols.moves.TrialCounter: \u001b[0m          frag 1 trials=    901;  accepts= 0.1498;  energy_drop/trial=   0.00713\n",
      "\u001b[0mprotocols.rna.denovo.RNA_FragmentMonteCarlo: \u001b[0mFinished fragment assembly of S_000002 in 7 seconds.\n",
      "\u001b[0mprotocols.rna.denovo.RNA_FragmentMonteCarlo: \u001b[0mComparing current lores score -90.2254 to automatically determined cutoff: -98.4243 based on 0.2 quantile from 4 models so far\n",
      "\u001b[0mprotocols.rna.denovo.RNA_FragmentMonteCarlo: \u001b[0mFailed score filter.\n",
      "\u001b[0mprotocols.rna.denovo.RNA_FragmentMonteCarlo: \u001b[0m\u001b[31mDid not pass filters. Trying the model again: trial 4 out of 10\u001b[0m\n",
      "\u001b[0mprotocols.rna.denovo.movers.RNA_DeNovoMasterMover: \u001b[0mHeating up... 42 cycles.\n",
      "\u001b[0mprotocols.rna.denovo.RNA_FragmentMonteCarlo: \u001b[0mBeginning main loop...\n",
      "\u001b[0mprotocols.rna.denovo.RNA_FragmentMonteCarlo: \u001b[0m\u001b[34mBeginning round 1 of 10\u001b[0m\n",
      "\u001b[0mprotocols.rna.denovo.RNA_FragmentMonteCarlo: \u001b[0mFragment size: 3\n",
      "\u001b[0mprotocols.moves.TrialCounter: \u001b[0m          frag 3 trials=    897;  accepts= 0.2386;  energy_drop/trial=  -0.04562\n",
      "\u001b[0mprotocols.rna.denovo.RNA_FragmentMonteCarlo: \u001b[0m\u001b[34mBeginning round 2 of 10\u001b[0m\n",
      "\u001b[0mprotocols.moves.TrialCounter: \u001b[0m          frag 3 trials=    894;  accepts= 0.2013;  energy_drop/trial=   0.00053\n",
      "\u001b[0mprotocols.rna.denovo.RNA_FragmentMonteCarlo: \u001b[0mChecking base pairs early! Result: 1\n",
      "\u001b[0mprotocols.rna.denovo.RNA_FragmentMonteCarlo: \u001b[0m\u001b[34mBeginning round 3 of 10\u001b[0m\n",
      "\u001b[0mprotocols.moves.TrialCounter: \u001b[0m          frag 3 trials=    897;  accepts= 0.2107;  energy_drop/trial=   0.00063\n",
      "\u001b[0mprotocols.rna.denovo.RNA_FragmentMonteCarlo: \u001b[0m\u001b[34mBeginning round 4 of 10\u001b[0m\n",
      "\u001b[0mprotocols.rna.denovo.RNA_FragmentMonteCarlo: \u001b[0mFragment size: 2\n",
      "\u001b[0mprotocols.moves.TrialCounter: \u001b[0m          frag 2 trials=    897;  accepts= 0.1918;  energy_drop/trial=   0.01017\n",
      "\u001b[0mprotocols.rna.denovo.RNA_FragmentMonteCarlo: \u001b[0m\u001b[34mBeginning round 5 of 10\u001b[0m\n",
      "\u001b[0mprotocols.moves.TrialCounter: \u001b[0m          frag 2 trials=    894;  accepts= 0.1577;  energy_drop/trial=   0.00162\n",
      "\u001b[0mprotocols.rna.denovo.RNA_FragmentMonteCarlo: \u001b[0mChecking loop closure with tolerance of 12 Angstroms! Result: 1\n",
      "\u001b[0mprotocols.rna.denovo.RNA_FragmentMonteCarlo: \u001b[0m\u001b[34mBeginning round 6 of 10\u001b[0m\n",
      "\u001b[0mprotocols.moves.TrialCounter: \u001b[0m          frag 2 trials=    905;  accepts= 0.1315;  energy_drop/trial=   0.01269\n",
      "\u001b[0mprotocols.rna.denovo.RNA_FragmentMonteCarlo: \u001b[0m\u001b[34mBeginning round 7 of 10\u001b[0m\n",
      "\u001b[0mprotocols.rna.denovo.RNA_FragmentMonteCarlo: \u001b[0mFragment size: 1\n",
      "\u001b[0mprotocols.moves.TrialCounter: \u001b[0m          frag 1 trials=    895;  accepts= 0.1821;  energy_drop/trial=   0.00288\n",
      "\u001b[0mprotocols.rna.denovo.RNA_FragmentMonteCarlo: \u001b[0m\u001b[34mBeginning round 8 of 10\u001b[0m\n",
      "\u001b[0mprotocols.moves.TrialCounter: \u001b[0m          frag 1 trials=    901;  accepts= 0.1310;  energy_drop/trial=   0.00550\n",
      "\u001b[0mprotocols.rna.denovo.RNA_FragmentMonteCarlo: \u001b[0m\u001b[34mBeginning round 9 of 10\u001b[0m\n",
      "\u001b[0mprotocols.moves.TrialCounter: \u001b[0m          frag 1 trials=    886;  accepts= 0.1501;  energy_drop/trial=   0.02005\n",
      "\u001b[0mprotocols.rna.denovo.RNA_FragmentMonteCarlo: \u001b[0m\u001b[34mBeginning round 10 of 10\u001b[0m\n",
      "\u001b[0mprotocols.moves.TrialCounter: \u001b[0m          frag 1 trials=    916;  accepts= 0.2631;  energy_drop/trial=  -0.00041\n",
      "\u001b[0mprotocols.rna.denovo.RNA_FragmentMonteCarlo: \u001b[0mFinished fragment assembly of S_000002 in 7 seconds.\n",
      "\u001b[0mprotocols.rna.denovo.RNA_FragmentMonteCarlo: \u001b[0mComparing current lores score -90.034 to automatically determined cutoff: -92.8449 based on 0.2 quantile from 5 models so far\n",
      "\u001b[0mprotocols.rna.denovo.RNA_FragmentMonteCarlo: \u001b[0mFailed score filter.\n",
      "\u001b[0mprotocols.rna.denovo.RNA_FragmentMonteCarlo: \u001b[0m\u001b[31mDid not pass filters. Trying the model again: trial 5 out of 10\u001b[0m\n",
      "\u001b[0mprotocols.rna.denovo.movers.RNA_DeNovoMasterMover: \u001b[0mHeating up... 42 cycles.\n",
      "\u001b[0mprotocols.rna.denovo.RNA_FragmentMonteCarlo: \u001b[0mBeginning main loop...\n",
      "\u001b[0mprotocols.rna.denovo.RNA_FragmentMonteCarlo: \u001b[0m\u001b[34mBeginning round 1 of 10\u001b[0m\n",
      "\u001b[0mprotocols.rna.denovo.RNA_FragmentMonteCarlo: \u001b[0mFragment size: 3\n",
      "\u001b[0mprotocols.moves.TrialCounter: \u001b[0m          frag 3 trials=    919;  accepts= 0.1262;  energy_drop/trial=  -0.02591\n",
      "\u001b[0mprotocols.rna.denovo.RNA_FragmentMonteCarlo: \u001b[0m\u001b[34mBeginning round 2 of 10\u001b[0m\n",
      "\u001b[0mprotocols.moves.TrialCounter: \u001b[0m          frag 3 trials=    899;  accepts= 0.0868;  energy_drop/trial=   0.00592\n",
      "\u001b[0mprotocols.rna.denovo.RNA_FragmentMonteCarlo: \u001b[0mChecking base pairs early! Result: 1\n",
      "\u001b[0mprotocols.rna.denovo.RNA_FragmentMonteCarlo: \u001b[0m\u001b[34mBeginning round 3 of 10\u001b[0m\n",
      "\u001b[0mprotocols.moves.TrialCounter: \u001b[0m          frag 3 trials=    904;  accepts= 0.0575;  energy_drop/trial=   0.00568\n",
      "\u001b[0mprotocols.rna.denovo.RNA_FragmentMonteCarlo: \u001b[0m\u001b[34mBeginning round 4 of 10\u001b[0m\n",
      "\u001b[0mprotocols.rna.denovo.RNA_FragmentMonteCarlo: \u001b[0mFragment size: 2\n",
      "\u001b[0mprotocols.moves.TrialCounter: \u001b[0m          frag 2 trials=    911;  accepts= 0.0626;  energy_drop/trial=   0.02642\n",
      "\u001b[0mprotocols.rna.denovo.RNA_FragmentMonteCarlo: \u001b[0m\u001b[34mBeginning round 5 of 10\u001b[0m\n",
      "\u001b[0mprotocols.moves.TrialCounter: \u001b[0m          frag 2 trials=    907;  accepts= 0.0474;  energy_drop/trial=   0.00557\n",
      "\u001b[0mprotocols.rna.denovo.RNA_FragmentMonteCarlo: \u001b[0mChecking loop closure with tolerance of 12 Angstroms! Result: 1\n",
      "\u001b[0mprotocols.rna.denovo.RNA_FragmentMonteCarlo: \u001b[0m\u001b[34mBeginning round 6 of 10\u001b[0m\n",
      "\u001b[0mprotocols.moves.TrialCounter: \u001b[0m          frag 2 trials=    891;  accepts= 0.0438;  energy_drop/trial=   0.00816\n",
      "\u001b[0mprotocols.rna.denovo.RNA_FragmentMonteCarlo: \u001b[0m\u001b[34mBeginning round 7 of 10\u001b[0m\n",
      "\u001b[0mprotocols.rna.denovo.RNA_FragmentMonteCarlo: \u001b[0mFragment size: 1\n",
      "\u001b[0mprotocols.moves.TrialCounter: \u001b[0m          frag 1 trials=    888;  accepts= 0.0800;  energy_drop/trial=   0.01689\n",
      "\u001b[0mprotocols.rna.denovo.RNA_FragmentMonteCarlo: \u001b[0m\u001b[34mBeginning round 8 of 10\u001b[0m\n",
      "\u001b[0mprotocols.moves.TrialCounter: \u001b[0m          frag 1 trials=    886;  accepts= 0.0451;  energy_drop/trial=  -0.00238\n",
      "\u001b[0mprotocols.rna.denovo.RNA_FragmentMonteCarlo: \u001b[0m\u001b[34mBeginning round 9 of 10\u001b[0m\n",
      "\u001b[0mprotocols.moves.TrialCounter: \u001b[0m          frag 1 trials=    906;  accepts= 0.0243;  energy_drop/trial=  -0.00006\n",
      "\u001b[0mprotocols.rna.denovo.RNA_FragmentMonteCarlo: \u001b[0m\u001b[34mBeginning round 10 of 10\u001b[0m\n",
      "\u001b[0mprotocols.moves.TrialCounter: \u001b[0m          frag 1 trials=    906;  accepts= 0.0684;  energy_drop/trial=   0.01162\n",
      "\u001b[0mprotocols.rna.denovo.RNA_FragmentMonteCarlo: \u001b[0mFinished fragment assembly of S_000002 in 6 seconds.\n",
      "\u001b[0mprotocols.rna.denovo.RNA_FragmentMonteCarlo: \u001b[0mComparing current lores score -90.2721 to automatically determined cutoff: -92.8449 based on 0.2 quantile from 6 models so far\n",
      "\u001b[0mprotocols.rna.denovo.RNA_FragmentMonteCarlo: \u001b[0mFailed score filter.\n",
      "\u001b[0mprotocols.rna.denovo.RNA_FragmentMonteCarlo: \u001b[0m\u001b[31mDid not pass filters. Trying the model again: trial 6 out of 10\u001b[0m\n",
      "\u001b[0mprotocols.rna.denovo.movers.RNA_DeNovoMasterMover: \u001b[0mHeating up... 42 cycles.\n",
      "\u001b[0mprotocols.rna.denovo.RNA_FragmentMonteCarlo: \u001b[0mBeginning main loop...\n",
      "\u001b[0mprotocols.rna.denovo.RNA_FragmentMonteCarlo: \u001b[0m\u001b[34mBeginning round 1 of 10\u001b[0m\n",
      "\u001b[0mprotocols.rna.denovo.RNA_FragmentMonteCarlo: \u001b[0mFragment size: 3\n",
      "\u001b[0mprotocols.moves.TrialCounter: \u001b[0m          frag 3 trials=    880;  accepts= 0.2602;  energy_drop/trial=  -0.02211\n",
      "\u001b[0mprotocols.rna.denovo.RNA_FragmentMonteCarlo: \u001b[0m\u001b[34mBeginning round 2 of 10\u001b[0m\n",
      "\u001b[0mprotocols.moves.TrialCounter: \u001b[0m          frag 3 trials=    912;  accepts= 0.1908;  energy_drop/trial=   0.00053\n",
      "\u001b[0mprotocols.rna.denovo.RNA_FragmentMonteCarlo: \u001b[0mChecking base pairs early! Result: 1\n",
      "\u001b[0mprotocols.rna.denovo.RNA_FragmentMonteCarlo: \u001b[0m\u001b[34mBeginning round 3 of 10\u001b[0m\n",
      "\u001b[0mprotocols.moves.TrialCounter: \u001b[0m          frag 3 trials=    903;  accepts= 0.1872;  energy_drop/trial=   0.00702\n",
      "\u001b[0mprotocols.rna.denovo.RNA_FragmentMonteCarlo: \u001b[0m\u001b[34mBeginning round 4 of 10\u001b[0m\n",
      "\u001b[0mprotocols.rna.denovo.RNA_FragmentMonteCarlo: \u001b[0mFragment size: 2\n",
      "\u001b[0mprotocols.moves.TrialCounter: \u001b[0m          frag 2 trials=    900;  accepts= 0.1900;  energy_drop/trial=   0.00453\n",
      "\u001b[0mprotocols.rna.denovo.RNA_FragmentMonteCarlo: \u001b[0m\u001b[34mBeginning round 5 of 10\u001b[0m\n",
      "\u001b[0mprotocols.moves.TrialCounter: \u001b[0m          frag 2 trials=    901;  accepts= 0.1265;  energy_drop/trial=   0.00477\n",
      "\u001b[0mprotocols.rna.denovo.RNA_FragmentMonteCarlo: \u001b[0mChecking loop closure with tolerance of 12 Angstroms! Result: 1\n",
      "\u001b[0mprotocols.rna.denovo.RNA_FragmentMonteCarlo: \u001b[0m\u001b[34mBeginning round 6 of 10\u001b[0m\n",
      "\u001b[0mprotocols.moves.TrialCounter: \u001b[0m          frag 2 trials=    884;  accepts= 0.1482;  energy_drop/trial=   0.00355\n",
      "\u001b[0mprotocols.rna.denovo.RNA_FragmentMonteCarlo: \u001b[0m\u001b[34mBeginning round 7 of 10\u001b[0m\n",
      "\u001b[0mprotocols.rna.denovo.RNA_FragmentMonteCarlo: \u001b[0mFragment size: 1\n",
      "\u001b[0mprotocols.moves.TrialCounter: \u001b[0m          frag 1 trials=    898;  accepts= 0.1526;  energy_drop/trial=   0.00675\n",
      "\u001b[0mprotocols.rna.denovo.RNA_FragmentMonteCarlo: \u001b[0m\u001b[34mBeginning round 8 of 10\u001b[0m\n",
      "\u001b[0mprotocols.moves.TrialCounter: \u001b[0m          frag 1 trials=    910;  accepts= 0.1747;  energy_drop/trial=   0.00806\n",
      "\u001b[0mprotocols.rna.denovo.RNA_FragmentMonteCarlo: \u001b[0m\u001b[34mBeginning round 9 of 10\u001b[0m\n",
      "\u001b[0mprotocols.moves.TrialCounter: \u001b[0m          frag 1 trials=    902;  accepts= 0.1685;  energy_drop/trial=   0.00500\n",
      "\u001b[0mprotocols.rna.denovo.RNA_FragmentMonteCarlo: \u001b[0m\u001b[34mBeginning round 10 of 10\u001b[0m\n",
      "\u001b[0mprotocols.moves.TrialCounter: \u001b[0m          frag 1 trials=    900;  accepts= 0.2300;  energy_drop/trial=   0.00582\n",
      "\u001b[0mprotocols.rna.denovo.RNA_FragmentMonteCarlo: \u001b[0mFinished fragment assembly of S_000002 in 5 seconds.\n",
      "\u001b[0mprotocols.rna.denovo.RNA_FragmentMonteCarlo: \u001b[0mComparing current lores score -89.4801 to automatically determined cutoff: -92.8449 based on 0.2 quantile from 7 models so far\n",
      "\u001b[0mprotocols.rna.denovo.RNA_FragmentMonteCarlo: \u001b[0mFailed score filter.\n",
      "\u001b[0mprotocols.rna.denovo.RNA_FragmentMonteCarlo: \u001b[0m\u001b[31mDid not pass filters. Trying the model again: trial 7 out of 10\u001b[0m\n",
      "\u001b[0mprotocols.rna.denovo.movers.RNA_DeNovoMasterMover: \u001b[0mHeating up... 42 cycles.\n",
      "\u001b[0mprotocols.rna.denovo.RNA_FragmentMonteCarlo: \u001b[0mBeginning main loop...\n",
      "\u001b[0mprotocols.rna.denovo.RNA_FragmentMonteCarlo: \u001b[0m\u001b[34mBeginning round 1 of 10\u001b[0m\n",
      "\u001b[0mprotocols.rna.denovo.RNA_FragmentMonteCarlo: \u001b[0mFragment size: 3\n",
      "\u001b[0mprotocols.moves.TrialCounter: \u001b[0m          frag 3 trials=    890;  accepts= 0.2146;  energy_drop/trial=  -0.07357\n",
      "\u001b[0mprotocols.rna.denovo.RNA_FragmentMonteCarlo: \u001b[0m\u001b[34mBeginning round 2 of 10\u001b[0m\n",
      "\u001b[0mprotocols.moves.TrialCounter: \u001b[0m          frag 3 trials=    911;  accepts= 0.0977;  energy_drop/trial=   0.00711\n",
      "\u001b[0mprotocols.rna.denovo.RNA_FragmentMonteCarlo: \u001b[0mChecking base pairs early! Result: 1\n",
      "\u001b[0mprotocols.rna.denovo.RNA_FragmentMonteCarlo: \u001b[0m\u001b[34mBeginning round 3 of 10\u001b[0m\n",
      "\u001b[0mprotocols.moves.TrialCounter: \u001b[0m          frag 3 trials=    905;  accepts= 0.0762;  energy_drop/trial=   0.01525\n",
      "\u001b[0mprotocols.rna.denovo.RNA_FragmentMonteCarlo: \u001b[0m\u001b[34mBeginning round 4 of 10\u001b[0m\n",
      "\u001b[0mprotocols.rna.denovo.RNA_FragmentMonteCarlo: \u001b[0mFragment size: 2\n",
      "\u001b[0mprotocols.moves.TrialCounter: \u001b[0m          frag 2 trials=    915;  accepts= 0.0710;  energy_drop/trial=   0.01902\n",
      "\u001b[0mprotocols.rna.denovo.RNA_FragmentMonteCarlo: \u001b[0m\u001b[34mBeginning round 5 of 10\u001b[0m\n",
      "\u001b[0mprotocols.moves.TrialCounter: \u001b[0m          frag 2 trials=    901;  accepts= 0.0311;  energy_drop/trial=   0.00380\n",
      "\u001b[0mprotocols.rna.denovo.RNA_FragmentMonteCarlo: \u001b[0mChecking loop closure with tolerance of 12 Angstroms! Result: 1\n",
      "\u001b[0mprotocols.rna.denovo.RNA_FragmentMonteCarlo: \u001b[0m\u001b[34mBeginning round 6 of 10\u001b[0m\n",
      "\u001b[0mprotocols.moves.TrialCounter: \u001b[0m          frag 2 trials=    906;  accepts= 0.0430;  energy_drop/trial=   0.03093\n",
      "\u001b[0mprotocols.rna.denovo.RNA_FragmentMonteCarlo: \u001b[0m\u001b[34mBeginning round 7 of 10\u001b[0m\n",
      "\u001b[0mprotocols.rna.denovo.RNA_FragmentMonteCarlo: \u001b[0mFragment size: 1\n",
      "\u001b[0mprotocols.moves.TrialCounter: \u001b[0m          frag 1 trials=    904;  accepts= 0.0465;  energy_drop/trial=   0.02006\n",
      "\u001b[0mprotocols.rna.denovo.RNA_FragmentMonteCarlo: \u001b[0m\u001b[34mBeginning round 8 of 10\u001b[0m\n",
      "\u001b[0mprotocols.moves.TrialCounter: \u001b[0m          frag 1 trials=    901;  accepts= 0.0832;  energy_drop/trial=   0.00790\n",
      "\u001b[0mprotocols.rna.denovo.RNA_FragmentMonteCarlo: \u001b[0m\u001b[34mBeginning round 9 of 10\u001b[0m\n",
      "\u001b[0mprotocols.moves.TrialCounter: \u001b[0m          frag 1 trials=    908;  accepts= 0.0441;  energy_drop/trial=   0.00503\n",
      "\u001b[0mprotocols.rna.denovo.RNA_FragmentMonteCarlo: \u001b[0m\u001b[34mBeginning round 10 of 10\u001b[0m\n",
      "\u001b[0mprotocols.moves.TrialCounter: \u001b[0m          frag 1 trials=    897;  accepts= 0.0836;  energy_drop/trial=  -0.00882\n",
      "\u001b[0mprotocols.rna.denovo.RNA_FragmentMonteCarlo: \u001b[0mFinished fragment assembly of S_000002 in 6 seconds.\n",
      "\u001b[0mprotocols.rna.denovo.RNA_FragmentMonteCarlo: \u001b[0mComparing current lores score -94.1246 to automatically determined cutoff: -94.1246 based on 0.2 quantile from 8 models so far\n",
      "\u001b[0mprotocols.rna.denovo.RNA_FragmentMonteCarlo: \u001b[0m\n",
      "------------------------------------------------------------\n",
      " Scores                       Weight   Raw Score Wghtd.Score\n",
      "------------------------------------------------------------\n",
      " rna_data_backbone            1.000       0.000       0.000\n",
      " rna_vdw                      1.000       0.553       0.553\n",
      " rna_base_backbone            1.000      -1.587      -1.587\n",
      " rna_backbone_backbone        1.000       0.000       0.000\n",
      " rna_repulsive                1.000       0.000       0.000\n",
      " rna_base_pair                1.000     -57.648     -57.648\n",
      " rna_base_axis                0.200     -37.206      -7.441\n",
      " rna_base_stagger             1.000     -29.375     -29.375\n",
      " rna_base_stack               1.000      -4.295      -4.295\n",
      " rna_base_stack_axis          0.200     -28.297      -5.659\n",
      " rna_rg                       1.000       9.011       9.011\n",
      " atom_pair_constraint         1.000       0.000       0.000\n",
      " base_pair_constraint         1.000       0.000       0.000\n",
      " linear_chainbreak            5.000       0.464       2.318\n",
      "---------------------------------------------------\n",
      " Total weighted score:                      -94.125\n",
      "\u001b[0mprotocols.rna.denovo.RNA_FragmentMonteCarlo: \u001b[0m\n",
      "\u001b[0mprotocols.rna.denovo.movers.RNA_Minimizer: \u001b[0mOrienting 2' hydroxyls...\n",
      "\u001b[0mprotocols.rna.denovo.movers.RNA_Minimizer: \u001b[0mMinimizing...round= 1\n",
      "\u001b[0mprotocols.rna.denovo.movers.RNA_Minimizer: \u001b[0mOrienting 2' hydroxyls...\n",
      "\u001b[0mprotocols.rna.denovo.movers.RNA_Minimizer: \u001b[0mMinimizing...round= 2\n",
      "\u001b[0mprotocols.rna.denovo.movers.RNA_Minimizer: \u001b[0m\n",
      "------------------------------------------------------------\n",
      " Scores                       Weight   Raw Score Wghtd.Score\n",
      "------------------------------------------------------------\n",
      " fa_atr                       0.210    -209.473     -43.989\n",
      " fa_rep                       0.200     187.286      37.457\n",
      " fa_intra_rep                 0.003     144.186       0.418\n",
      " lk_nonpolar                  0.250      -8.037      -2.009\n",
      " fa_elec_rna_phos_phos        1.700       0.284       0.483\n",
      " rna_torsion                  1.000       6.401       6.401\n",
      " suiteness_bonus              1.000       0.000       0.000\n",
      " rna_sugar_close              0.820       3.730       3.058\n",
      " fa_stack                     0.130    -209.077     -27.180\n",
      " stack_elec                   0.760      -1.642      -1.248\n",
      " geom_sol_fast                0.170      73.999      12.580\n",
      " hbond_sr_bb_sc               0.960       0.000       0.000\n",
      " hbond_lr_bb_sc               0.960       0.000       0.000\n",
      " hbond_sc                     0.960     -21.604     -20.740\n",
      " ref                          1.000      50.440      50.440\n",
      " free_suite                   2.000       0.000       0.000\n",
      " free_2HOprime                1.000       0.000       0.000\n",
      " intermol                     1.000       0.000       0.000\n",
      " other_pose                   1.000       0.000       0.000\n",
      " loop_close                   1.000       0.000       0.000\n",
      " linear_chainbreak            5.000       0.069       0.346\n",
      "---------------------------------------------------\n",
      " Total weighted score:                       16.017\n",
      "\u001b[0mprotocols.rna.denovo.movers.RNA_Minimizer: \u001b[0mRNA minimizer finished in 4 seconds.\n",
      "\u001b[0mprotocols.rna.denovo.RNA_DeNovoProtocol: \u001b[0mMaking silent struct for S_000012\n",
      "\u001b[0mprotocols.rna.denovo.RNA_DeNovoProtocol: \u001b[0mOutputting to silent file: outputs/stem_loop.out\n",
      "\u001b[0mprotocols.rna.setup.RNA_MonteCarloJobDistributor: \u001b[0m\n",
      "\u001b[0mprotocols.rna.setup.RNA_MonteCarloJobDistributor: \u001b[0m\u001b[32mEmbarking on structure 3 of 10\u001b[0m\n",
      "\u001b[0mprotocols.rna.denovo.RNA_FragmentMonteCarlo: \u001b[0mNumber of moving residues: 5\n",
      "\u001b[0mprotocols.rna.denovo.RNA_FragmentMonteCarlo: \u001b[0mNumber of moving chunks: 0\n",
      "\u001b[0mprotocols.rna.denovo.RNA_FragmentMonteCarlo: \u001b[0mUsing 10000 cycles in de novo modeling.\n",
      "\u001b[0mprotocols.rna.denovo.movers.RNA_DeNovoMasterMover: \u001b[0mHeating up... 42 cycles.\n",
      "\u001b[0mprotocols.rna.denovo.RNA_FragmentMonteCarlo: \u001b[0mBeginning main loop...\n",
      "\u001b[0mprotocols.rna.denovo.RNA_FragmentMonteCarlo: \u001b[0m\u001b[34mBeginning round 1 of 10\u001b[0m\n",
      "\u001b[0mprotocols.moves.TrialCounter: \u001b[0m          frag 3 trials=    917;  accepts= 0.2083;  energy_drop/trial=  -0.01818\n",
      "\u001b[0mprotocols.rna.denovo.RNA_FragmentMonteCarlo: \u001b[0m\u001b[34mBeginning round 2 of 10\u001b[0m\n",
      "\u001b[0mprotocols.moves.TrialCounter: \u001b[0m          frag 3 trials=    899;  accepts= 0.0968;  energy_drop/trial=   0.00783\n",
      "\u001b[0mprotocols.rna.denovo.RNA_FragmentMonteCarlo: \u001b[0mChecking base pairs early! Result: 1\n",
      "\u001b[0mprotocols.rna.denovo.RNA_FragmentMonteCarlo: \u001b[0m\u001b[34mBeginning round 3 of 10\u001b[0m\n",
      "\u001b[0mprotocols.moves.TrialCounter: \u001b[0m          frag 3 trials=    892;  accepts= 0.0886;  energy_drop/trial=   0.00511\n",
      "\u001b[0mprotocols.rna.denovo.RNA_FragmentMonteCarlo: \u001b[0m\u001b[34mBeginning round 4 of 10\u001b[0m\n",
      "\u001b[0mprotocols.rna.denovo.RNA_FragmentMonteCarlo: \u001b[0mFragment size: 2\n",
      "\u001b[0mprotocols.moves.TrialCounter: \u001b[0m          frag 2 trials=    898;  accepts= 0.0713;  energy_drop/trial=   0.01621\n",
      "\u001b[0mprotocols.rna.denovo.RNA_FragmentMonteCarlo: \u001b[0m\u001b[34mBeginning round 5 of 10\u001b[0m\n",
      "\u001b[0mprotocols.moves.TrialCounter: \u001b[0m          frag 2 trials=    889;  accepts= 0.0911;  energy_drop/trial=   0.00559\n",
      "\u001b[0mprotocols.rna.denovo.RNA_FragmentMonteCarlo: \u001b[0mChecking loop closure with tolerance of 12 Angstroms! Result: 1\n",
      "\u001b[0mprotocols.rna.denovo.RNA_FragmentMonteCarlo: \u001b[0m\u001b[34mBeginning round 6 of 10\u001b[0m\n",
      "\u001b[0mprotocols.moves.TrialCounter: \u001b[0m          frag 2 trials=    895;  accepts= 0.1006;  energy_drop/trial=   0.01736\n",
      "\u001b[0mprotocols.rna.denovo.RNA_FragmentMonteCarlo: \u001b[0m\u001b[34mBeginning round 7 of 10\u001b[0m\n",
      "\u001b[0mprotocols.rna.denovo.RNA_FragmentMonteCarlo: \u001b[0mFragment size: 1\n",
      "\u001b[0mprotocols.moves.TrialCounter: \u001b[0m          frag 1 trials=    903;  accepts= 0.1373;  energy_drop/trial=   0.00926\n",
      "\u001b[0mprotocols.rna.denovo.RNA_FragmentMonteCarlo: \u001b[0m\u001b[34mBeginning round 8 of 10\u001b[0m\n",
      "\u001b[0mprotocols.moves.TrialCounter: \u001b[0m          frag 1 trials=    901;  accepts= 0.1121;  energy_drop/trial=   0.00939\n",
      "\u001b[0mprotocols.rna.denovo.RNA_FragmentMonteCarlo: \u001b[0m\u001b[34mBeginning round 9 of 10\u001b[0m\n",
      "\u001b[0mprotocols.moves.TrialCounter: \u001b[0m          frag 1 trials=    901;  accepts= 0.0899;  energy_drop/trial=   0.00004\n",
      "\u001b[0mprotocols.rna.denovo.RNA_FragmentMonteCarlo: \u001b[0m\u001b[34mBeginning round 10 of 10\u001b[0m\n",
      "\u001b[0mprotocols.moves.TrialCounter: \u001b[0m          frag 1 trials=    901;  accepts= 0.1398;  energy_drop/trial=   0.00040\n",
      "\u001b[0mprotocols.rna.denovo.RNA_FragmentMonteCarlo: \u001b[0mFinished fragment assembly of S_000003 in 6 seconds.\n",
      "\u001b[0mprotocols.rna.denovo.RNA_FragmentMonteCarlo: \u001b[0mComparing current lores score -86.7151 to automatically determined cutoff: -94.1246 based on 0.2 quantile from 9 models so far\n",
      "\u001b[0mprotocols.rna.denovo.RNA_FragmentMonteCarlo: \u001b[0mFailed score filter.\n",
      "\u001b[0mprotocols.rna.denovo.RNA_FragmentMonteCarlo: \u001b[0m\u001b[31mDid not pass filters. Trying the model again: trial 2 out of 10\u001b[0m\n",
      "\u001b[0mprotocols.rna.denovo.movers.RNA_DeNovoMasterMover: \u001b[0mHeating up... 42 cycles.\n",
      "\u001b[0mprotocols.rna.denovo.RNA_FragmentMonteCarlo: \u001b[0mBeginning main loop...\n",
      "\u001b[0mprotocols.rna.denovo.RNA_FragmentMonteCarlo: \u001b[0m\u001b[34mBeginning round 1 of 10\u001b[0m\n",
      "\u001b[0mprotocols.rna.denovo.RNA_FragmentMonteCarlo: \u001b[0mFragment size: 3\n",
      "\u001b[0mprotocols.moves.TrialCounter: \u001b[0m          frag 3 trials=    892;  accepts= 0.2848;  energy_drop/trial=  -0.08165\n",
      "\u001b[0mprotocols.rna.denovo.RNA_FragmentMonteCarlo: \u001b[0m\u001b[34mBeginning round 2 of 10\u001b[0m\n",
      "\u001b[0mprotocols.moves.TrialCounter: \u001b[0m          frag 3 trials=    911;  accepts= 0.1592;  energy_drop/trial=   0.00182\n",
      "\u001b[0mprotocols.rna.denovo.RNA_FragmentMonteCarlo: \u001b[0mChecking base pairs early! Result: 1\n",
      "\u001b[0mprotocols.rna.denovo.RNA_FragmentMonteCarlo: \u001b[0m\u001b[34mBeginning round 3 of 10\u001b[0m\n",
      "\u001b[0mprotocols.moves.TrialCounter: \u001b[0m          frag 3 trials=    910;  accepts= 0.1879;  energy_drop/trial=   0.01775\n",
      "\u001b[0mprotocols.rna.denovo.RNA_FragmentMonteCarlo: \u001b[0m\u001b[34mBeginning round 4 of 10\u001b[0m\n",
      "\u001b[0mprotocols.rna.denovo.RNA_FragmentMonteCarlo: \u001b[0mFragment size: 2\n",
      "\u001b[0mprotocols.moves.TrialCounter: \u001b[0m          frag 2 trials=    897;  accepts= 0.2375;  energy_drop/trial=   0.02596\n",
      "\u001b[0mprotocols.rna.denovo.RNA_FragmentMonteCarlo: \u001b[0m\u001b[34mBeginning round 5 of 10\u001b[0m\n",
      "\u001b[0mprotocols.moves.TrialCounter: \u001b[0m          frag 2 trials=    891;  accepts= 0.1437;  energy_drop/trial=   0.00590\n",
      "\u001b[0mprotocols.rna.denovo.RNA_FragmentMonteCarlo: \u001b[0mChecking loop closure with tolerance of 12 Angstroms! Result: 1\n",
      "\u001b[0mprotocols.rna.denovo.RNA_FragmentMonteCarlo: \u001b[0m\u001b[34mBeginning round 6 of 10\u001b[0m\n",
      "\u001b[0mprotocols.moves.TrialCounter: \u001b[0m          frag 2 trials=    911;  accepts= 0.1636;  energy_drop/trial=   0.00385\n",
      "\u001b[0mprotocols.rna.denovo.RNA_FragmentMonteCarlo: \u001b[0m\u001b[34mBeginning round 7 of 10\u001b[0m\n",
      "\u001b[0mprotocols.rna.denovo.RNA_FragmentMonteCarlo: \u001b[0mFragment size: 1\n",
      "\u001b[0mprotocols.moves.TrialCounter: \u001b[0m          frag 1 trials=    897;  accepts= 0.1695;  energy_drop/trial=   0.00672\n",
      "\u001b[0mprotocols.rna.denovo.RNA_FragmentMonteCarlo: \u001b[0m\u001b[34mBeginning round 8 of 10\u001b[0m\n",
      "\u001b[0mprotocols.moves.TrialCounter: \u001b[0m          frag 1 trials=    903;  accepts= 0.1561;  energy_drop/trial=   0.00581\n",
      "\u001b[0mprotocols.rna.denovo.RNA_FragmentMonteCarlo: \u001b[0m\u001b[34mBeginning round 9 of 10\u001b[0m\n",
      "\u001b[0mprotocols.moves.TrialCounter: \u001b[0m          frag 1 trials=    906;  accepts= 0.1711;  energy_drop/trial=   0.03649\n",
      "\u001b[0mprotocols.rna.denovo.RNA_FragmentMonteCarlo: \u001b[0m\u001b[34mBeginning round 10 of 10\u001b[0m\n",
      "\u001b[0mprotocols.moves.TrialCounter: \u001b[0m          frag 1 trials=    893;  accepts= 0.2273;  energy_drop/trial=   0.00774\n",
      "\u001b[0mprotocols.rna.denovo.RNA_FragmentMonteCarlo: \u001b[0mFinished fragment assembly of S_000003 in 5 seconds.\n",
      "\u001b[0mprotocols.rna.denovo.RNA_FragmentMonteCarlo: \u001b[0mComparing current lores score -86.7368 to automatically determined cutoff: -92.8449 based on 0.2 quantile from 10 models so far\n",
      "\u001b[0mprotocols.rna.denovo.RNA_FragmentMonteCarlo: \u001b[0mFailed score filter.\n",
      "\u001b[0mprotocols.rna.denovo.RNA_FragmentMonteCarlo: \u001b[0m\u001b[31mDid not pass filters. Trying the model again: trial 3 out of 10\u001b[0m\n",
      "\u001b[0mprotocols.rna.denovo.movers.RNA_DeNovoMasterMover: \u001b[0mHeating up... 42 cycles.\n",
      "\u001b[0mprotocols.rna.denovo.RNA_FragmentMonteCarlo: \u001b[0mBeginning main loop...\n",
      "\u001b[0mprotocols.rna.denovo.RNA_FragmentMonteCarlo: \u001b[0m\u001b[34mBeginning round 1 of 10\u001b[0m\n",
      "\u001b[0mprotocols.rna.denovo.RNA_FragmentMonteCarlo: \u001b[0mFragment size: 3\n",
      "\u001b[0mprotocols.moves.TrialCounter: \u001b[0m          frag 3 trials=    897;  accepts= 0.1394;  energy_drop/trial=  -0.01516\n",
      "\u001b[0mprotocols.rna.denovo.RNA_FragmentMonteCarlo: \u001b[0m\u001b[34mBeginning round 2 of 10\u001b[0m\n",
      "\u001b[0mprotocols.moves.TrialCounter: \u001b[0m          frag 3 trials=    888;  accepts= 0.0923;  energy_drop/trial=   0.00973\n",
      "\u001b[0mprotocols.rna.denovo.RNA_FragmentMonteCarlo: \u001b[0mChecking base pairs early! Result: 1\n",
      "\u001b[0mprotocols.rna.denovo.RNA_FragmentMonteCarlo: \u001b[0m\u001b[34mBeginning round 3 of 10\u001b[0m\n",
      "\u001b[0mprotocols.moves.TrialCounter: \u001b[0m          frag 3 trials=    901;  accepts= 0.1265;  energy_drop/trial=   0.00099\n",
      "\u001b[0mprotocols.rna.denovo.RNA_FragmentMonteCarlo: \u001b[0m\u001b[34mBeginning round 4 of 10\u001b[0m\n",
      "\u001b[0mprotocols.rna.denovo.RNA_FragmentMonteCarlo: \u001b[0mFragment size: 2\n",
      "\u001b[0mprotocols.moves.TrialCounter: \u001b[0m          frag 2 trials=    896;  accepts= 0.0792;  energy_drop/trial=   0.00660\n",
      "\u001b[0mprotocols.rna.denovo.RNA_FragmentMonteCarlo: \u001b[0m\u001b[34mBeginning round 5 of 10\u001b[0m\n",
      "\u001b[0mprotocols.moves.TrialCounter: \u001b[0m          frag 2 trials=    915;  accepts= 0.0842;  energy_drop/trial=   0.00897\n",
      "\u001b[0mprotocols.rna.denovo.RNA_FragmentMonteCarlo: \u001b[0mChecking loop closure with tolerance of 12 Angstroms! Result: 1\n",
      "\u001b[0mprotocols.rna.denovo.RNA_FragmentMonteCarlo: \u001b[0m\u001b[34mBeginning round 6 of 10\u001b[0m\n",
      "\u001b[0mprotocols.moves.TrialCounter: \u001b[0m          frag 2 trials=    911;  accepts= 0.0889;  energy_drop/trial=   0.01005\n",
      "\u001b[0mprotocols.rna.denovo.RNA_FragmentMonteCarlo: \u001b[0m\u001b[34mBeginning round 7 of 10\u001b[0m\n",
      "\u001b[0mprotocols.rna.denovo.RNA_FragmentMonteCarlo: \u001b[0mFragment size: 1\n",
      "\u001b[0mprotocols.moves.TrialCounter: \u001b[0m          frag 1 trials=    899;  accepts= 0.1257;  energy_drop/trial=   0.00706\n",
      "\u001b[0mprotocols.rna.denovo.RNA_FragmentMonteCarlo: \u001b[0m\u001b[34mBeginning round 8 of 10\u001b[0m\n",
      "\u001b[0mprotocols.moves.TrialCounter: \u001b[0m          frag 1 trials=    892;  accepts= 0.1278;  energy_drop/trial=   0.00767\n",
      "\u001b[0mprotocols.rna.denovo.RNA_FragmentMonteCarlo: \u001b[0m\u001b[34mBeginning round 9 of 10\u001b[0m\n",
      "\u001b[0mprotocols.moves.TrialCounter: \u001b[0m          frag 1 trials=    898;  accepts= 0.1258;  energy_drop/trial=   0.01122\n",
      "\u001b[0mprotocols.rna.denovo.RNA_FragmentMonteCarlo: \u001b[0m\u001b[34mBeginning round 10 of 10\u001b[0m\n",
      "\u001b[0mprotocols.moves.TrialCounter: \u001b[0m          frag 1 trials=    900;  accepts= 0.1578;  energy_drop/trial=   0.00888\n",
      "\u001b[0mprotocols.rna.denovo.RNA_FragmentMonteCarlo: \u001b[0mFinished fragment assembly of S_000003 in 8 seconds.\n",
      "\u001b[0mprotocols.rna.denovo.RNA_FragmentMonteCarlo: \u001b[0mComparing current lores score -89.6628 to automatically determined cutoff: -92.8449 based on 0.2 quantile from 11 models so far\n",
      "\u001b[0mprotocols.rna.denovo.RNA_FragmentMonteCarlo: \u001b[0mFailed score filter.\n",
      "\u001b[0mprotocols.rna.denovo.RNA_FragmentMonteCarlo: \u001b[0m\u001b[31mDid not pass filters. Trying the model again: trial 4 out of 10\u001b[0m\n",
      "\u001b[0mprotocols.rna.denovo.movers.RNA_DeNovoMasterMover: \u001b[0mHeating up... 42 cycles.\n",
      "\u001b[0mprotocols.rna.denovo.RNA_FragmentMonteCarlo: \u001b[0mBeginning main loop...\n",
      "\u001b[0mprotocols.rna.denovo.RNA_FragmentMonteCarlo: \u001b[0m\u001b[34mBeginning round 1 of 10\u001b[0m\n",
      "\u001b[0mprotocols.rna.denovo.RNA_FragmentMonteCarlo: \u001b[0mFragment size: 3\n",
      "\u001b[0mprotocols.moves.TrialCounter: \u001b[0m          frag 3 trials=    910;  accepts= 0.1505;  energy_drop/trial=  -0.01623\n",
      "\u001b[0mprotocols.rna.denovo.RNA_FragmentMonteCarlo: \u001b[0m\u001b[34mBeginning round 2 of 10\u001b[0m\n",
      "\u001b[0mprotocols.moves.TrialCounter: \u001b[0m          frag 3 trials=    904;  accepts= 0.1250;  energy_drop/trial=  -0.00010\n",
      "\u001b[0mprotocols.rna.denovo.RNA_FragmentMonteCarlo: \u001b[0mChecking base pairs early! Result: 1\n",
      "\u001b[0mprotocols.rna.denovo.RNA_FragmentMonteCarlo: \u001b[0m\u001b[34mBeginning round 3 of 10\u001b[0m\n",
      "\u001b[0mprotocols.moves.TrialCounter: \u001b[0m          frag 3 trials=    889;  accepts= 0.0956;  energy_drop/trial=   0.00747\n",
      "\u001b[0mprotocols.rna.denovo.RNA_FragmentMonteCarlo: \u001b[0m\u001b[34mBeginning round 4 of 10\u001b[0m\n",
      "\u001b[0mprotocols.rna.denovo.RNA_FragmentMonteCarlo: \u001b[0mFragment size: 2\n",
      "\u001b[0mprotocols.moves.TrialCounter: \u001b[0m          frag 2 trials=    906;  accepts= 0.0905;  energy_drop/trial=   0.00601\n",
      "\u001b[0mprotocols.rna.denovo.RNA_FragmentMonteCarlo: \u001b[0m\u001b[34mBeginning round 5 of 10\u001b[0m\n",
      "\u001b[0mprotocols.moves.TrialCounter: \u001b[0m          frag 2 trials=    890;  accepts= 0.0629;  energy_drop/trial=   0.01323\n",
      "\u001b[0mprotocols.rna.denovo.RNA_FragmentMonteCarlo: \u001b[0mChecking loop closure with tolerance of 12 Angstroms! Result: 1\n",
      "\u001b[0mprotocols.rna.denovo.RNA_FragmentMonteCarlo: \u001b[0m\u001b[34mBeginning round 6 of 10\u001b[0m\n",
      "\u001b[0mprotocols.moves.TrialCounter: \u001b[0m          frag 2 trials=    889;  accepts= 0.1102;  energy_drop/trial=   0.01602\n",
      "\u001b[0mprotocols.rna.denovo.RNA_FragmentMonteCarlo: \u001b[0m\u001b[34mBeginning round 7 of 10\u001b[0m\n",
      "\u001b[0mprotocols.rna.denovo.RNA_FragmentMonteCarlo: \u001b[0mFragment size: 1\n",
      "\u001b[0mprotocols.moves.TrialCounter: \u001b[0m          frag 1 trials=    910;  accepts= 0.1000;  energy_drop/trial=   0.00501\n",
      "\u001b[0mprotocols.rna.denovo.RNA_FragmentMonteCarlo: \u001b[0m\u001b[34mBeginning round 8 of 10\u001b[0m\n",
      "\u001b[0mprotocols.moves.TrialCounter: \u001b[0m          frag 1 trials=    916;  accepts= 0.1135;  energy_drop/trial=   0.00533\n",
      "\u001b[0mprotocols.rna.denovo.RNA_FragmentMonteCarlo: \u001b[0m\u001b[34mBeginning round 9 of 10\u001b[0m\n",
      "\u001b[0mprotocols.moves.TrialCounter: \u001b[0m          frag 1 trials=    898;  accepts= 0.1247;  energy_drop/trial=   0.01046\n",
      "\u001b[0mprotocols.rna.denovo.RNA_FragmentMonteCarlo: \u001b[0m\u001b[34mBeginning round 10 of 10\u001b[0m\n",
      "\u001b[0mprotocols.moves.TrialCounter: \u001b[0m          frag 1 trials=    922;  accepts= 0.1540;  energy_drop/trial=   0.00283\n",
      "\u001b[0mprotocols.rna.denovo.RNA_FragmentMonteCarlo: \u001b[0mFinished fragment assembly of S_000003 in 7 seconds.\n",
      "\u001b[0mprotocols.rna.denovo.RNA_FragmentMonteCarlo: \u001b[0mComparing current lores score -87.6454 to automatically determined cutoff: -92.8449 based on 0.2 quantile from 12 models so far\n",
      "\u001b[0mprotocols.rna.denovo.RNA_FragmentMonteCarlo: \u001b[0mFailed score filter.\n",
      "\u001b[0mprotocols.rna.denovo.RNA_FragmentMonteCarlo: \u001b[0m\u001b[31mDid not pass filters. Trying the model again: trial 5 out of 10\u001b[0m\n",
      "\u001b[0mprotocols.rna.denovo.movers.RNA_DeNovoMasterMover: \u001b[0mHeating up... 42 cycles.\n",
      "\u001b[0mprotocols.rna.denovo.RNA_FragmentMonteCarlo: \u001b[0mBeginning main loop...\n",
      "\u001b[0mprotocols.rna.denovo.RNA_FragmentMonteCarlo: \u001b[0m\u001b[34mBeginning round 1 of 10\u001b[0m\n",
      "\u001b[0mprotocols.rna.denovo.RNA_FragmentMonteCarlo: \u001b[0mFragment size: 3\n",
      "\u001b[0mprotocols.moves.TrialCounter: \u001b[0m          frag 3 trials=    902;  accepts= 0.1807;  energy_drop/trial=  -0.03472\n",
      "\u001b[0mprotocols.rna.denovo.RNA_FragmentMonteCarlo: \u001b[0m\u001b[34mBeginning round 2 of 10\u001b[0m\n",
      "\u001b[0mprotocols.moves.TrialCounter: \u001b[0m          frag 3 trials=    912;  accepts= 0.0735;  energy_drop/trial=   0.01046\n",
      "\u001b[0mprotocols.rna.denovo.RNA_FragmentMonteCarlo: \u001b[0mChecking base pairs early! Result: 1\n",
      "\u001b[0mprotocols.rna.denovo.RNA_FragmentMonteCarlo: \u001b[0m\u001b[34mBeginning round 3 of 10\u001b[0m\n",
      "\u001b[0mprotocols.moves.TrialCounter: \u001b[0m          frag 3 trials=    898;  accepts= 0.0969;  energy_drop/trial=   0.00808\n",
      "\u001b[0mprotocols.rna.denovo.RNA_FragmentMonteCarlo: \u001b[0m\u001b[34mBeginning round 4 of 10\u001b[0m\n",
      "\u001b[0mprotocols.rna.denovo.RNA_FragmentMonteCarlo: \u001b[0mFragment size: 2\n",
      "\u001b[0mprotocols.moves.TrialCounter: \u001b[0m          frag 2 trials=    916;  accepts= 0.0207;  energy_drop/trial=  -0.00080\n",
      "\u001b[0mprotocols.rna.denovo.RNA_FragmentMonteCarlo: \u001b[0m\u001b[34mBeginning round 5 of 10\u001b[0m\n",
      "\u001b[0mprotocols.moves.TrialCounter: \u001b[0m          frag 2 trials=    895;  accepts= 0.0089;  energy_drop/trial=   0.01270\n",
      "\u001b[0mprotocols.rna.denovo.RNA_FragmentMonteCarlo: \u001b[0mChecking loop closure with tolerance of 12 Angstroms! Result: 1\n",
      "\u001b[0mprotocols.rna.denovo.RNA_FragmentMonteCarlo: \u001b[0m\u001b[34mBeginning round 6 of 10\u001b[0m\n",
      "\u001b[0mprotocols.moves.TrialCounter: \u001b[0m          frag 2 trials=    902;  accepts= 0.0144;  energy_drop/trial=   0.01826\n",
      "\u001b[0mprotocols.rna.denovo.RNA_FragmentMonteCarlo: \u001b[0m\u001b[34mBeginning round 7 of 10\u001b[0m\n",
      "\u001b[0mprotocols.rna.denovo.RNA_FragmentMonteCarlo: \u001b[0mFragment size: 1\n",
      "\u001b[0mprotocols.moves.TrialCounter: \u001b[0m          frag 1 trials=    902;  accepts= 0.0610;  energy_drop/trial=   0.00238\n",
      "\u001b[0mprotocols.rna.denovo.RNA_FragmentMonteCarlo: \u001b[0m\u001b[34mBeginning round 8 of 10\u001b[0m\n",
      "\u001b[0mprotocols.moves.TrialCounter: \u001b[0m          frag 1 trials=    910;  accepts= 0.0802;  energy_drop/trial=   0.00754\n",
      "\u001b[0mprotocols.rna.denovo.RNA_FragmentMonteCarlo: \u001b[0m\u001b[34mBeginning round 9 of 10\u001b[0m\n",
      "\u001b[0mprotocols.moves.TrialCounter: \u001b[0m          frag 1 trials=    892;  accepts= 0.0628;  energy_drop/trial=   0.00652\n",
      "\u001b[0mprotocols.rna.denovo.RNA_FragmentMonteCarlo: \u001b[0m\u001b[34mBeginning round 10 of 10\u001b[0m\n",
      "\u001b[0mprotocols.moves.TrialCounter: \u001b[0m          frag 1 trials=    890;  accepts= 0.0933;  energy_drop/trial=  -0.00322\n",
      "\u001b[0mprotocols.rna.denovo.RNA_FragmentMonteCarlo: \u001b[0mFinished fragment assembly of S_000003 in 7 seconds.\n",
      "\u001b[0mprotocols.rna.denovo.RNA_FragmentMonteCarlo: \u001b[0mComparing current lores score -89.7438 to automatically determined cutoff: -92.8449 based on 0.2 quantile from 13 models so far\n",
      "\u001b[0mprotocols.rna.denovo.RNA_FragmentMonteCarlo: \u001b[0mFailed score filter.\n",
      "\u001b[0mprotocols.rna.denovo.RNA_FragmentMonteCarlo: \u001b[0m\u001b[31mDid not pass filters. Trying the model again: trial 6 out of 10\u001b[0m\n",
      "\u001b[0mprotocols.rna.denovo.movers.RNA_DeNovoMasterMover: \u001b[0mHeating up... 42 cycles.\n",
      "\u001b[0mprotocols.rna.denovo.RNA_FragmentMonteCarlo: \u001b[0mBeginning main loop...\n",
      "\u001b[0mprotocols.rna.denovo.RNA_FragmentMonteCarlo: \u001b[0m\u001b[34mBeginning round 1 of 10\u001b[0m\n",
      "\u001b[0mprotocols.rna.denovo.RNA_FragmentMonteCarlo: \u001b[0mFragment size: 3\n",
      "\u001b[0mprotocols.moves.TrialCounter: \u001b[0m          frag 3 trials=    890;  accepts= 0.3169;  energy_drop/trial=  -0.02860\n",
      "\u001b[0mprotocols.rna.denovo.RNA_FragmentMonteCarlo: \u001b[0m\u001b[34mBeginning round 2 of 10\u001b[0m\n",
      "\u001b[0mprotocols.moves.TrialCounter: \u001b[0m          frag 3 trials=    902;  accepts= 0.2239;  energy_drop/trial=   0.00166\n",
      "\u001b[0mprotocols.rna.denovo.RNA_FragmentMonteCarlo: \u001b[0mChecking base pairs early! Result: 1\n",
      "\u001b[0mprotocols.rna.denovo.RNA_FragmentMonteCarlo: \u001b[0m\u001b[34mBeginning round 3 of 10\u001b[0m\n",
      "\u001b[0mprotocols.moves.TrialCounter: \u001b[0m          frag 3 trials=    893;  accepts= 0.1937;  energy_drop/trial=   0.00326\n",
      "\u001b[0mprotocols.rna.denovo.RNA_FragmentMonteCarlo: \u001b[0m\u001b[34mBeginning round 4 of 10\u001b[0m\n",
      "\u001b[0mprotocols.rna.denovo.RNA_FragmentMonteCarlo: \u001b[0mFragment size: 2\n",
      "\u001b[0mprotocols.moves.TrialCounter: \u001b[0m          frag 2 trials=    885;  accepts= 0.1989;  energy_drop/trial=   0.00574\n",
      "\u001b[0mprotocols.rna.denovo.RNA_FragmentMonteCarlo: \u001b[0m\u001b[34mBeginning round 5 of 10\u001b[0m\n",
      "\u001b[0mprotocols.moves.TrialCounter: \u001b[0m          frag 2 trials=    905;  accepts= 0.1768;  energy_drop/trial=   0.01289\n",
      "\u001b[0mprotocols.rna.denovo.RNA_FragmentMonteCarlo: \u001b[0mChecking loop closure with tolerance of 12 Angstroms! Result: 1\n",
      "\u001b[0mprotocols.rna.denovo.RNA_FragmentMonteCarlo: \u001b[0m\u001b[34mBeginning round 6 of 10\u001b[0m\n",
      "\u001b[0mprotocols.moves.TrialCounter: \u001b[0m          frag 2 trials=    906;  accepts= 0.1358;  energy_drop/trial=   0.00338\n",
      "\u001b[0mprotocols.rna.denovo.RNA_FragmentMonteCarlo: \u001b[0m\u001b[34mBeginning round 7 of 10\u001b[0m\n",
      "\u001b[0mprotocols.rna.denovo.RNA_FragmentMonteCarlo: \u001b[0mFragment size: 1\n",
      "\u001b[0mprotocols.moves.TrialCounter: \u001b[0m          frag 1 trials=    895;  accepts= 0.1441;  energy_drop/trial=   0.01646\n",
      "\u001b[0mprotocols.rna.denovo.RNA_FragmentMonteCarlo: \u001b[0m\u001b[34mBeginning round 8 of 10\u001b[0m\n",
      "\u001b[0mprotocols.moves.TrialCounter: \u001b[0m          frag 1 trials=    901;  accepts= 0.1543;  energy_drop/trial=   0.00178\n",
      "\u001b[0mprotocols.rna.denovo.RNA_FragmentMonteCarlo: \u001b[0m\u001b[34mBeginning round 9 of 10\u001b[0m\n",
      "\u001b[0mprotocols.moves.TrialCounter: \u001b[0m          frag 1 trials=    911;  accepts= 0.2086;  energy_drop/trial=   0.00263\n",
      "\u001b[0mprotocols.rna.denovo.RNA_FragmentMonteCarlo: \u001b[0m\u001b[34mBeginning round 10 of 10\u001b[0m\n",
      "\u001b[0mprotocols.moves.TrialCounter: \u001b[0m          frag 1 trials=    901;  accepts= 0.2120;  energy_drop/trial=   0.00515\n",
      "\u001b[0mprotocols.rna.denovo.RNA_FragmentMonteCarlo: \u001b[0mFinished fragment assembly of S_000003 in 6 seconds.\n",
      "\u001b[0mprotocols.rna.denovo.RNA_FragmentMonteCarlo: \u001b[0mComparing current lores score -87.1968 to automatically determined cutoff: -92.8449 based on 0.2 quantile from 14 models so far\n",
      "\u001b[0mprotocols.rna.denovo.RNA_FragmentMonteCarlo: \u001b[0mFailed score filter.\n",
      "\u001b[0mprotocols.rna.denovo.RNA_FragmentMonteCarlo: \u001b[0m\u001b[31mDid not pass filters. Trying the model again: trial 7 out of 10\u001b[0m\n",
      "\u001b[0mprotocols.rna.denovo.movers.RNA_DeNovoMasterMover: \u001b[0mHeating up... 42 cycles.\n",
      "\u001b[0mprotocols.rna.denovo.RNA_FragmentMonteCarlo: \u001b[0mBeginning main loop...\n",
      "\u001b[0mprotocols.rna.denovo.RNA_FragmentMonteCarlo: \u001b[0m\u001b[34mBeginning round 1 of 10\u001b[0m\n",
      "\u001b[0mprotocols.rna.denovo.RNA_FragmentMonteCarlo: \u001b[0mFragment size: 3\n",
      "\u001b[0mprotocols.moves.TrialCounter: \u001b[0m          frag 3 trials=    915;  accepts= 0.1322;  energy_drop/trial=  -0.12232\n",
      "\u001b[0mprotocols.rna.denovo.RNA_FragmentMonteCarlo: \u001b[0m\u001b[34mBeginning round 2 of 10\u001b[0m\n",
      "\u001b[0mprotocols.moves.TrialCounter: \u001b[0m          frag 3 trials=    906;  accepts= 0.0960;  energy_drop/trial=  -0.00369\n",
      "\u001b[0mprotocols.rna.denovo.RNA_FragmentMonteCarlo: \u001b[0mChecking base pairs early! Result: 1\n",
      "\u001b[0mprotocols.rna.denovo.RNA_FragmentMonteCarlo: \u001b[0m\u001b[34mBeginning round 3 of 10\u001b[0m\n",
      "\u001b[0mprotocols.moves.TrialCounter: \u001b[0m          frag 3 trials=    909;  accepts= 0.0605;  energy_drop/trial=   0.00880\n",
      "\u001b[0mprotocols.rna.denovo.RNA_FragmentMonteCarlo: \u001b[0m\u001b[34mBeginning round 4 of 10\u001b[0m\n",
      "\u001b[0mprotocols.rna.denovo.RNA_FragmentMonteCarlo: \u001b[0mFragment size: 2\n",
      "\u001b[0mprotocols.moves.TrialCounter: \u001b[0m          frag 2 trials=    885;  accepts= 0.0531;  energy_drop/trial=   0.02702\n",
      "\u001b[0mprotocols.rna.denovo.RNA_FragmentMonteCarlo: \u001b[0m\u001b[34mBeginning round 5 of 10\u001b[0m\n",
      "\u001b[0mprotocols.moves.TrialCounter: \u001b[0m          frag 2 trials=    891;  accepts= 0.0292;  energy_drop/trial=   0.00760\n",
      "\u001b[0mprotocols.rna.denovo.RNA_FragmentMonteCarlo: \u001b[0mChecking loop closure with tolerance of 12 Angstroms! Result: 1\n",
      "\u001b[0mprotocols.rna.denovo.RNA_FragmentMonteCarlo: \u001b[0m\u001b[34mBeginning round 6 of 10\u001b[0m\n",
      "\u001b[0mprotocols.moves.TrialCounter: \u001b[0m          frag 2 trials=    912;  accepts= 0.0318;  energy_drop/trial=   0.01114\n",
      "\u001b[0mprotocols.rna.denovo.RNA_FragmentMonteCarlo: \u001b[0m\u001b[34mBeginning round 7 of 10\u001b[0m\n",
      "\u001b[0mprotocols.rna.denovo.RNA_FragmentMonteCarlo: \u001b[0mFragment size: 1\n",
      "\u001b[0mprotocols.moves.TrialCounter: \u001b[0m          frag 1 trials=    905;  accepts= 0.0508;  energy_drop/trial=   0.00682\n",
      "\u001b[0mprotocols.rna.denovo.RNA_FragmentMonteCarlo: \u001b[0m\u001b[34mBeginning round 8 of 10\u001b[0m\n",
      "\u001b[0mprotocols.moves.TrialCounter: \u001b[0m          frag 1 trials=    895;  accepts= 0.0637;  energy_drop/trial=   0.01025\n",
      "\u001b[0mprotocols.rna.denovo.RNA_FragmentMonteCarlo: \u001b[0m\u001b[34mBeginning round 9 of 10\u001b[0m\n",
      "\u001b[0mprotocols.moves.TrialCounter: \u001b[0m          frag 1 trials=    892;  accepts= 0.0011;  energy_drop/trial=  -0.00028\n",
      "\u001b[0mprotocols.rna.denovo.RNA_FragmentMonteCarlo: \u001b[0m\u001b[34mBeginning round 10 of 10\u001b[0m\n",
      "\u001b[0mprotocols.moves.TrialCounter: \u001b[0m          frag 1 trials=    888;  accepts= 0.0664;  energy_drop/trial=   0.00326\n",
      "\u001b[0mprotocols.rna.denovo.RNA_FragmentMonteCarlo: \u001b[0mFinished fragment assembly of S_000003 in 6 seconds.\n",
      "\u001b[0mprotocols.rna.denovo.RNA_FragmentMonteCarlo: \u001b[0mComparing current lores score -89.417 to automatically determined cutoff: -90.2721 based on 0.2 quantile from 15 models so far\n",
      "\u001b[0mprotocols.rna.denovo.RNA_FragmentMonteCarlo: \u001b[0mFailed score filter.\n",
      "\u001b[0mprotocols.rna.denovo.RNA_FragmentMonteCarlo: \u001b[0m\u001b[31mDid not pass filters. Trying the model again: trial 8 out of 10\u001b[0m\n",
      "\u001b[0mprotocols.rna.denovo.movers.RNA_DeNovoMasterMover: \u001b[0mHeating up... 42 cycles.\n",
      "\u001b[0mprotocols.rna.denovo.RNA_FragmentMonteCarlo: \u001b[0mBeginning main loop...\n",
      "\u001b[0mprotocols.rna.denovo.RNA_FragmentMonteCarlo: \u001b[0m\u001b[34mBeginning round 1 of 10\u001b[0m\n",
      "\u001b[0mprotocols.rna.denovo.RNA_FragmentMonteCarlo: \u001b[0mFragment size: 3\n",
      "\u001b[0mprotocols.moves.TrialCounter: \u001b[0m          frag 3 trials=    910;  accepts= 0.1703;  energy_drop/trial=  -0.04866\n",
      "\u001b[0mprotocols.rna.denovo.RNA_FragmentMonteCarlo: \u001b[0m\u001b[34mBeginning round 2 of 10\u001b[0m\n",
      "\u001b[0mprotocols.moves.TrialCounter: \u001b[0m          frag 3 trials=    893;  accepts= 0.1232;  energy_drop/trial=  -0.00562\n",
      "\u001b[0mprotocols.rna.denovo.RNA_FragmentMonteCarlo: \u001b[0mChecking base pairs early! Result: 1\n",
      "\u001b[0mprotocols.rna.denovo.RNA_FragmentMonteCarlo: \u001b[0m\u001b[34mBeginning round 3 of 10\u001b[0m\n",
      "\u001b[0mprotocols.moves.TrialCounter: \u001b[0m          frag 3 trials=    892;  accepts= 0.0426;  energy_drop/trial=   0.00452\n",
      "\u001b[0mprotocols.rna.denovo.RNA_FragmentMonteCarlo: \u001b[0m\u001b[34mBeginning round 4 of 10\u001b[0m\n",
      "\u001b[0mprotocols.rna.denovo.RNA_FragmentMonteCarlo: \u001b[0mFragment size: 2\n",
      "\u001b[0mprotocols.moves.TrialCounter: \u001b[0m          frag 2 trials=    907;  accepts= 0.0452;  energy_drop/trial=   0.00239\n",
      "\u001b[0mprotocols.rna.denovo.RNA_FragmentMonteCarlo: \u001b[0m\u001b[34mBeginning round 5 of 10\u001b[0m\n",
      "\u001b[0mprotocols.moves.TrialCounter: \u001b[0m          frag 2 trials=    901;  accepts= 0.0610;  energy_drop/trial=   0.01896\n",
      "\u001b[0mprotocols.rna.denovo.RNA_FragmentMonteCarlo: \u001b[0mChecking loop closure with tolerance of 12 Angstroms! Result: 1\n",
      "\u001b[0mprotocols.rna.denovo.RNA_FragmentMonteCarlo: \u001b[0m\u001b[34mBeginning round 6 of 10\u001b[0m\n",
      "\u001b[0mprotocols.moves.TrialCounter: \u001b[0m          frag 2 trials=    882;  accepts= 0.0295;  energy_drop/trial=   0.00002\n",
      "\u001b[0mprotocols.rna.denovo.RNA_FragmentMonteCarlo: \u001b[0m\u001b[34mBeginning round 7 of 10\u001b[0m\n",
      "\u001b[0mprotocols.rna.denovo.RNA_FragmentMonteCarlo: \u001b[0mFragment size: 1\n",
      "\u001b[0mprotocols.moves.TrialCounter: \u001b[0m          frag 1 trials=    886;  accepts= 0.0158;  energy_drop/trial=  -0.00077\n",
      "\u001b[0mprotocols.rna.denovo.RNA_FragmentMonteCarlo: \u001b[0m\u001b[34mBeginning round 8 of 10\u001b[0m\n",
      "\u001b[0mprotocols.moves.TrialCounter: \u001b[0m          frag 1 trials=    906;  accepts= 0.0419;  energy_drop/trial=   0.00983\n",
      "\u001b[0mprotocols.rna.denovo.RNA_FragmentMonteCarlo: \u001b[0m\u001b[34mBeginning round 9 of 10\u001b[0m\n",
      "\u001b[0mprotocols.moves.TrialCounter: \u001b[0m          frag 1 trials=    901;  accepts= 0.0189;  energy_drop/trial=   0.00994\n",
      "\u001b[0mprotocols.rna.denovo.RNA_FragmentMonteCarlo: \u001b[0m\u001b[34mBeginning round 10 of 10\u001b[0m\n",
      "\u001b[0mprotocols.moves.TrialCounter: \u001b[0m          frag 1 trials=    892;  accepts= 0.0605;  energy_drop/trial=   0.00700\n",
      "\u001b[0mprotocols.rna.denovo.RNA_FragmentMonteCarlo: \u001b[0mFinished fragment assembly of S_000003 in 6 seconds.\n",
      "\u001b[0mprotocols.rna.denovo.RNA_FragmentMonteCarlo: \u001b[0mComparing current lores score -90.6275 to automatically determined cutoff: -90.6275 based on 0.2 quantile from 16 models so far\n",
      "\u001b[0mprotocols.rna.denovo.RNA_FragmentMonteCarlo: \u001b[0m\n",
      "------------------------------------------------------------\n",
      " Scores                       Weight   Raw Score Wghtd.Score\n",
      "------------------------------------------------------------\n",
      " rna_data_backbone            1.000       0.000       0.000\n",
      " rna_vdw                      1.000       0.576       0.576\n",
      " rna_base_backbone            1.000      -0.864      -0.864\n",
      " rna_backbone_backbone        1.000       0.000       0.000\n",
      " rna_repulsive                1.000       0.000       0.000\n",
      " rna_base_pair                1.000     -56.745     -56.745\n",
      " rna_base_axis                0.200     -35.290      -7.058\n",
      " rna_base_stagger             1.000     -27.837     -27.837\n",
      " rna_base_stack               1.000      -3.503      -3.503\n",
      " rna_base_stack_axis          0.200     -21.861      -4.372\n",
      " rna_rg                       1.000       9.025       9.025\n",
      " atom_pair_constraint         1.000       0.000       0.000\n",
      " base_pair_constraint         1.000       0.000       0.000\n",
      " linear_chainbreak            5.000       0.030       0.150\n",
      "---------------------------------------------------\n",
      " Total weighted score:                      -90.628\n",
      "\u001b[0mprotocols.rna.denovo.RNA_FragmentMonteCarlo: \u001b[0m\n",
      "\u001b[0mprotocols.rna.denovo.movers.RNA_Minimizer: \u001b[0mOrienting 2' hydroxyls...\n",
      "\u001b[0mprotocols.rna.denovo.movers.RNA_Minimizer: \u001b[0mMinimizing...round= 1\n",
      "\u001b[0mprotocols.rna.denovo.movers.RNA_Minimizer: \u001b[0mOrienting 2' hydroxyls...\n",
      "\u001b[0mprotocols.rna.denovo.movers.RNA_Minimizer: \u001b[0mMinimizing...round= 2\n",
      "\u001b[0mprotocols.rna.denovo.movers.RNA_Minimizer: \u001b[0m\n",
      "------------------------------------------------------------\n",
      " Scores                       Weight   Raw Score Wghtd.Score\n",
      "------------------------------------------------------------\n",
      " fa_atr                       0.210    -204.435     -42.931\n",
      " fa_rep                       0.200      62.991      12.598\n",
      " fa_intra_rep                 0.003     151.437       0.439\n",
      " lk_nonpolar                  0.250      -8.047      -2.012\n",
      " fa_elec_rna_phos_phos        1.700       0.804       1.366\n",
      " rna_torsion                  1.000       5.860       5.860\n",
      " suiteness_bonus              1.000      -1.135      -1.135\n",
      " rna_sugar_close              0.820       4.053       3.324\n",
      " fa_stack                     0.130    -218.297     -28.379\n",
      " stack_elec                   0.760      -2.401      -1.825\n",
      " geom_sol_fast                0.170      74.495      12.664\n",
      " hbond_sr_bb_sc               0.960      -0.641      -0.615\n",
      " hbond_lr_bb_sc               0.960      -0.875      -0.840\n",
      " hbond_sc                     0.960     -19.934     -19.137\n",
      " ref                          1.000      50.440      50.440\n",
      " free_suite                   2.000       0.000       0.000\n",
      " free_2HOprime                1.000       0.000       0.000\n",
      " intermol                     1.000       0.000       0.000\n",
      " other_pose                   1.000       0.000       0.000\n",
      " loop_close                   1.000       0.000       0.000\n",
      " linear_chainbreak            5.000       0.006       0.028\n",
      "---------------------------------------------------\n",
      " Total weighted score:                      -10.154\n",
      "\u001b[0mprotocols.rna.denovo.movers.RNA_Minimizer: \u001b[0mRNA minimizer finished in 2 seconds.\n",
      "\u001b[0mprotocols.rna.denovo.RNA_DeNovoProtocol: \u001b[0mMaking silent struct for S_000013\n",
      "\u001b[0mprotocols.rna.denovo.RNA_DeNovoProtocol: \u001b[0mOutputting to silent file: outputs/stem_loop.out\n",
      "\u001b[0mprotocols.rna.setup.RNA_MonteCarloJobDistributor: \u001b[0m\n",
      "\u001b[0mprotocols.rna.setup.RNA_MonteCarloJobDistributor: \u001b[0m\u001b[32mEmbarking on structure 4 of 10\u001b[0m\n",
      "\u001b[0mprotocols.rna.denovo.RNA_FragmentMonteCarlo: \u001b[0mNumber of moving residues: 5\n",
      "\u001b[0mprotocols.rna.denovo.RNA_FragmentMonteCarlo: \u001b[0mNumber of moving chunks: 0\n",
      "\u001b[0mprotocols.rna.denovo.RNA_FragmentMonteCarlo: \u001b[0mUsing 10000 cycles in de novo modeling.\n",
      "\u001b[0mprotocols.rna.denovo.movers.RNA_DeNovoMasterMover: \u001b[0mHeating up... 42 cycles.\n",
      "\u001b[0mprotocols.rna.denovo.RNA_FragmentMonteCarlo: \u001b[0mBeginning main loop...\n",
      "\u001b[0mprotocols.rna.denovo.RNA_FragmentMonteCarlo: \u001b[0m\u001b[34mBeginning round 1 of 10\u001b[0m\n",
      "\u001b[0mprotocols.moves.TrialCounter: \u001b[0m          frag 3 trials=    910;  accepts= 0.1132;  energy_drop/trial=  -0.01953\n",
      "\u001b[0mprotocols.rna.denovo.RNA_FragmentMonteCarlo: \u001b[0m\u001b[34mBeginning round 2 of 10\u001b[0m\n",
      "\u001b[0mprotocols.moves.TrialCounter: \u001b[0m          frag 3 trials=    900;  accepts= 0.0756;  energy_drop/trial=   0.00469\n",
      "\u001b[0mprotocols.rna.denovo.RNA_FragmentMonteCarlo: \u001b[0mChecking base pairs early! Result: 1\n",
      "\u001b[0mprotocols.rna.denovo.RNA_FragmentMonteCarlo: \u001b[0m\u001b[34mBeginning round 3 of 10\u001b[0m\n",
      "\u001b[0mprotocols.moves.TrialCounter: \u001b[0m          frag 3 trials=    886;  accepts= 0.0835;  energy_drop/trial=   0.01171\n",
      "\u001b[0mprotocols.rna.denovo.RNA_FragmentMonteCarlo: \u001b[0m\u001b[34mBeginning round 4 of 10\u001b[0m\n",
      "\u001b[0mprotocols.rna.denovo.RNA_FragmentMonteCarlo: \u001b[0mFragment size: 2\n",
      "\u001b[0mprotocols.moves.TrialCounter: \u001b[0m          frag 2 trials=    905;  accepts= 0.0475;  energy_drop/trial=   0.02135\n",
      "\u001b[0mprotocols.rna.denovo.RNA_FragmentMonteCarlo: \u001b[0m\u001b[34mBeginning round 5 of 10\u001b[0m\n",
      "\u001b[0mprotocols.moves.TrialCounter: \u001b[0m          frag 2 trials=    901;  accepts= 0.0610;  energy_drop/trial=   0.01018\n",
      "\u001b[0mprotocols.rna.denovo.RNA_FragmentMonteCarlo: \u001b[0mChecking loop closure with tolerance of 12 Angstroms! Result: 1\n",
      "\u001b[0mprotocols.rna.denovo.RNA_FragmentMonteCarlo: \u001b[0m\u001b[34mBeginning round 6 of 10\u001b[0m\n",
      "\u001b[0mprotocols.moves.TrialCounter: \u001b[0m          frag 2 trials=    902;  accepts= 0.0466;  energy_drop/trial=   0.00873\n",
      "\u001b[0mprotocols.rna.denovo.RNA_FragmentMonteCarlo: \u001b[0m\u001b[34mBeginning round 7 of 10\u001b[0m\n",
      "\u001b[0mprotocols.rna.denovo.RNA_FragmentMonteCarlo: \u001b[0mFragment size: 1\n",
      "\u001b[0mprotocols.moves.TrialCounter: \u001b[0m          frag 1 trials=    880;  accepts= 0.0932;  energy_drop/trial=   0.00164\n",
      "\u001b[0mprotocols.rna.denovo.RNA_FragmentMonteCarlo: \u001b[0m\u001b[34mBeginning round 8 of 10\u001b[0m\n",
      "\u001b[0mprotocols.moves.TrialCounter: \u001b[0m          frag 1 trials=    908;  accepts= 0.0617;  energy_drop/trial=  -0.00153\n",
      "\u001b[0mprotocols.rna.denovo.RNA_FragmentMonteCarlo: \u001b[0m\u001b[34mBeginning round 9 of 10\u001b[0m\n",
      "\u001b[0mprotocols.moves.TrialCounter: \u001b[0m          frag 1 trials=    897;  accepts= 0.0580;  energy_drop/trial=   0.00553\n",
      "\u001b[0mprotocols.rna.denovo.RNA_FragmentMonteCarlo: \u001b[0m\u001b[34mBeginning round 10 of 10\u001b[0m\n",
      "\u001b[0mprotocols.moves.TrialCounter: \u001b[0m          frag 1 trials=    907;  accepts= 0.0595;  energy_drop/trial=  -0.00205\n",
      "\u001b[0mprotocols.rna.denovo.RNA_FragmentMonteCarlo: \u001b[0mFinished fragment assembly of S_000004 in 6 seconds.\n",
      "\u001b[0mprotocols.rna.denovo.RNA_FragmentMonteCarlo: \u001b[0mComparing current lores score -95.6989 to automatically determined cutoff: -92.8449 based on 0.2 quantile from 17 models so far\n",
      "\u001b[0mprotocols.rna.denovo.RNA_FragmentMonteCarlo: \u001b[0m\n",
      "------------------------------------------------------------\n",
      " Scores                       Weight   Raw Score Wghtd.Score\n",
      "------------------------------------------------------------\n",
      " rna_data_backbone            1.000       0.000       0.000\n",
      " rna_vdw                      1.000       0.368       0.368\n",
      " rna_base_backbone            1.000      -1.619      -1.619\n",
      " rna_backbone_backbone        1.000       0.000       0.000\n",
      " rna_repulsive                1.000       0.000       0.000\n",
      " rna_base_pair                1.000     -57.032     -57.032\n",
      " rna_base_axis                0.200     -37.459      -7.492\n",
      " rna_base_stagger             1.000     -28.619     -28.619\n",
      " rna_base_stack               1.000      -4.503      -4.503\n",
      " rna_base_stack_axis          0.200     -29.887      -5.977\n",
      " rna_rg                       1.000       8.832       8.832\n",
      " atom_pair_constraint         1.000       0.000       0.000\n",
      " base_pair_constraint         1.000       0.000       0.000\n",
      " linear_chainbreak            5.000       0.069       0.344\n",
      "---------------------------------------------------\n",
      " Total weighted score:                      -95.699\n",
      "\u001b[0mprotocols.rna.denovo.RNA_FragmentMonteCarlo: \u001b[0m\n",
      "\u001b[0mprotocols.rna.denovo.movers.RNA_Minimizer: \u001b[0mOrienting 2' hydroxyls...\n",
      "\u001b[0mprotocols.rna.denovo.movers.RNA_Minimizer: \u001b[0mMinimizing...round= 1\n",
      "\u001b[0mprotocols.rna.denovo.movers.RNA_Minimizer: \u001b[0mOrienting 2' hydroxyls...\n",
      "\u001b[0mprotocols.rna.denovo.movers.RNA_Minimizer: \u001b[0mMinimizing...round= 2\n",
      "\u001b[0mprotocols.rna.denovo.movers.RNA_Minimizer: \u001b[0m\n",
      "------------------------------------------------------------\n",
      " Scores                       Weight   Raw Score Wghtd.Score\n",
      "------------------------------------------------------------\n",
      " fa_atr                       0.210    -207.517     -43.579\n",
      " fa_rep                       0.200      57.598      11.520\n",
      " fa_intra_rep                 0.003     142.906       0.414\n",
      " lk_nonpolar                  0.250      -4.073      -1.018\n",
      " fa_elec_rna_phos_phos        1.700       0.441       0.750\n",
      " rna_torsion                  1.000       3.921       3.921\n",
      " suiteness_bonus              1.000       0.000       0.000\n",
      " rna_sugar_close              0.820       3.625       2.973\n",
      " fa_stack                     0.130    -204.783     -26.622\n",
      " stack_elec                   0.760      -1.538      -1.169\n",
      " geom_sol_fast                0.170      72.951      12.402\n",
      " hbond_sr_bb_sc               0.960       0.000       0.000\n",
      " hbond_lr_bb_sc               0.960      -1.041      -1.000\n",
      " hbond_sc                     0.960     -20.384     -19.569\n",
      " ref                          1.000      50.440      50.440\n",
      " free_suite                   2.000       0.000       0.000\n",
      " free_2HOprime                1.000       0.000       0.000\n",
      " intermol                     1.000       0.000       0.000\n",
      " other_pose                   1.000       0.000       0.000\n",
      " loop_close                   1.000       0.000       0.000\n",
      " linear_chainbreak            5.000       0.014       0.068\n",
      "---------------------------------------------------\n",
      " Total weighted score:                      -10.469\n",
      "\u001b[0mprotocols.rna.denovo.movers.RNA_Minimizer: \u001b[0mRNA minimizer finished in 3 seconds.\n",
      "\u001b[0mprotocols.rna.denovo.RNA_DeNovoProtocol: \u001b[0mMaking silent struct for S_000014\n",
      "\u001b[0mprotocols.rna.denovo.RNA_DeNovoProtocol: \u001b[0mOutputting to silent file: outputs/stem_loop.out\n",
      "\u001b[0mprotocols.rna.setup.RNA_MonteCarloJobDistributor: \u001b[0m\n",
      "\u001b[0mprotocols.rna.setup.RNA_MonteCarloJobDistributor: \u001b[0m\u001b[32mEmbarking on structure 5 of 10\u001b[0m\n",
      "\u001b[0mprotocols.rna.denovo.RNA_FragmentMonteCarlo: \u001b[0mNumber of moving residues: 5\n",
      "\u001b[0mprotocols.rna.denovo.RNA_FragmentMonteCarlo: \u001b[0mNumber of moving chunks: 0\n",
      "\u001b[0mprotocols.rna.denovo.RNA_FragmentMonteCarlo: \u001b[0mUsing 10000 cycles in de novo modeling.\n",
      "\u001b[0mprotocols.rna.denovo.movers.RNA_DeNovoMasterMover: \u001b[0mHeating up... 42 cycles.\n",
      "\u001b[0mprotocols.rna.denovo.RNA_FragmentMonteCarlo: \u001b[0mBeginning main loop...\n",
      "\u001b[0mprotocols.rna.denovo.RNA_FragmentMonteCarlo: \u001b[0m\u001b[34mBeginning round 1 of 10\u001b[0m\n",
      "\u001b[0mprotocols.moves.TrialCounter: \u001b[0m          frag 3 trials=    903;  accepts= 0.1761;  energy_drop/trial=  -0.03425\n",
      "\u001b[0mprotocols.rna.denovo.RNA_FragmentMonteCarlo: \u001b[0m\u001b[34mBeginning round 2 of 10\u001b[0m\n",
      "\u001b[0mprotocols.moves.TrialCounter: \u001b[0m          frag 3 trials=    913;  accepts= 0.0789;  energy_drop/trial=  -0.00487\n",
      "\u001b[0mprotocols.rna.denovo.RNA_FragmentMonteCarlo: \u001b[0mChecking base pairs early! Result: 1\n",
      "\u001b[0mprotocols.rna.denovo.RNA_FragmentMonteCarlo: \u001b[0m\u001b[34mBeginning round 3 of 10\u001b[0m\n",
      "\u001b[0mprotocols.moves.TrialCounter: \u001b[0m          frag 3 trials=    902;  accepts= 0.0698;  energy_drop/trial=   0.01205\n",
      "\u001b[0mprotocols.rna.denovo.RNA_FragmentMonteCarlo: \u001b[0m\u001b[34mBeginning round 4 of 10\u001b[0m\n",
      "\u001b[0mprotocols.rna.denovo.RNA_FragmentMonteCarlo: \u001b[0mFragment size: 2\n",
      "\u001b[0mprotocols.moves.TrialCounter: \u001b[0m          frag 2 trials=    891;  accepts= 0.0763;  energy_drop/trial=   0.00566\n",
      "\u001b[0mprotocols.rna.denovo.RNA_FragmentMonteCarlo: \u001b[0m\u001b[34mBeginning round 5 of 10\u001b[0m\n",
      "\u001b[0mprotocols.moves.TrialCounter: \u001b[0m          frag 2 trials=    901;  accepts= 0.0744;  energy_drop/trial=   0.01003\n",
      "\u001b[0mprotocols.rna.denovo.RNA_FragmentMonteCarlo: \u001b[0mChecking loop closure with tolerance of 12 Angstroms! Result: 1\n",
      "\u001b[0mprotocols.rna.denovo.RNA_FragmentMonteCarlo: \u001b[0m\u001b[34mBeginning round 6 of 10\u001b[0m\n",
      "\u001b[0mprotocols.moves.TrialCounter: \u001b[0m          frag 2 trials=    899;  accepts= 0.0311;  energy_drop/trial=   0.00749\n",
      "\u001b[0mprotocols.rna.denovo.RNA_FragmentMonteCarlo: \u001b[0m\u001b[34mBeginning round 7 of 10\u001b[0m\n",
      "\u001b[0mprotocols.rna.denovo.RNA_FragmentMonteCarlo: \u001b[0mFragment size: 1\n",
      "\u001b[0mprotocols.moves.TrialCounter: \u001b[0m          frag 1 trials=    893;  accepts= 0.0784;  energy_drop/trial=   0.01129\n",
      "\u001b[0mprotocols.rna.denovo.RNA_FragmentMonteCarlo: \u001b[0m\u001b[34mBeginning round 8 of 10\u001b[0m\n",
      "\u001b[0mprotocols.moves.TrialCounter: \u001b[0m          frag 1 trials=    904;  accepts= 0.0465;  energy_drop/trial=   0.01077\n",
      "\u001b[0mprotocols.rna.denovo.RNA_FragmentMonteCarlo: \u001b[0m\u001b[34mBeginning round 9 of 10\u001b[0m\n",
      "\u001b[0mprotocols.moves.TrialCounter: \u001b[0m          frag 1 trials=    895;  accepts= 0.0358;  energy_drop/trial=   0.00286\n",
      "\u001b[0mprotocols.rna.denovo.RNA_FragmentMonteCarlo: \u001b[0m\u001b[34mBeginning round 10 of 10\u001b[0m\n",
      "\u001b[0mprotocols.moves.TrialCounter: \u001b[0m          frag 1 trials=    898;  accepts= 0.0668;  energy_drop/trial=   0.00066\n",
      "\u001b[0mprotocols.rna.denovo.RNA_FragmentMonteCarlo: \u001b[0mFinished fragment assembly of S_000005 in 6 seconds.\n",
      "\u001b[0mprotocols.rna.denovo.RNA_FragmentMonteCarlo: \u001b[0mComparing current lores score -90.9546 to automatically determined cutoff: -92.8449 based on 0.2 quantile from 18 models so far\n",
      "\u001b[0mprotocols.rna.denovo.RNA_FragmentMonteCarlo: \u001b[0mFailed score filter.\n",
      "\u001b[0mprotocols.rna.denovo.RNA_FragmentMonteCarlo: \u001b[0m\u001b[31mDid not pass filters. Trying the model again: trial 2 out of 10\u001b[0m\n",
      "\u001b[0mprotocols.rna.denovo.movers.RNA_DeNovoMasterMover: \u001b[0mHeating up... 42 cycles.\n",
      "\u001b[0mprotocols.rna.denovo.RNA_FragmentMonteCarlo: \u001b[0mBeginning main loop...\n",
      "\u001b[0mprotocols.rna.denovo.RNA_FragmentMonteCarlo: \u001b[0m\u001b[34mBeginning round 1 of 10\u001b[0m\n",
      "\u001b[0mprotocols.rna.denovo.RNA_FragmentMonteCarlo: \u001b[0mFragment size: 3\n",
      "\u001b[0mprotocols.moves.TrialCounter: \u001b[0m          frag 3 trials=    899;  accepts= 0.2770;  energy_drop/trial=  -0.04831\n",
      "\u001b[0mprotocols.rna.denovo.RNA_FragmentMonteCarlo: \u001b[0m\u001b[34mBeginning round 2 of 10\u001b[0m\n",
      "\u001b[0mprotocols.moves.TrialCounter: \u001b[0m          frag 3 trials=    910;  accepts= 0.2253;  energy_drop/trial=   0.00178\n",
      "\u001b[0mprotocols.rna.denovo.RNA_FragmentMonteCarlo: \u001b[0mChecking base pairs early! Result: 1\n",
      "\u001b[0mprotocols.rna.denovo.RNA_FragmentMonteCarlo: \u001b[0m\u001b[34mBeginning round 3 of 10\u001b[0m\n",
      "\u001b[0mprotocols.moves.TrialCounter: \u001b[0m          frag 3 trials=    890;  accepts= 0.1955;  energy_drop/trial=   0.00921\n",
      "\u001b[0mprotocols.rna.denovo.RNA_FragmentMonteCarlo: \u001b[0m\u001b[34mBeginning round 4 of 10\u001b[0m\n",
      "\u001b[0mprotocols.rna.denovo.RNA_FragmentMonteCarlo: \u001b[0mFragment size: 2\n",
      "\u001b[0mprotocols.moves.TrialCounter: \u001b[0m          frag 2 trials=    905;  accepts= 0.1757;  energy_drop/trial=   0.00428\n",
      "\u001b[0mprotocols.rna.denovo.RNA_FragmentMonteCarlo: \u001b[0m\u001b[34mBeginning round 5 of 10\u001b[0m\n",
      "\u001b[0mprotocols.moves.TrialCounter: \u001b[0m          frag 2 trials=    891;  accepts= 0.1347;  energy_drop/trial=   0.00817\n",
      "\u001b[0mprotocols.rna.denovo.RNA_FragmentMonteCarlo: \u001b[0mChecking loop closure with tolerance of 12 Angstroms! Result: 1\n",
      "\u001b[0mprotocols.rna.denovo.RNA_FragmentMonteCarlo: \u001b[0m\u001b[34mBeginning round 6 of 10\u001b[0m\n",
      "\u001b[0mprotocols.moves.TrialCounter: \u001b[0m          frag 2 trials=    901;  accepts= 0.1487;  energy_drop/trial=   0.00506\n",
      "\u001b[0mprotocols.rna.denovo.RNA_FragmentMonteCarlo: \u001b[0m\u001b[34mBeginning round 7 of 10\u001b[0m\n",
      "\u001b[0mprotocols.rna.denovo.RNA_FragmentMonteCarlo: \u001b[0mFragment size: 1\n",
      "\u001b[0mprotocols.moves.TrialCounter: \u001b[0m          frag 1 trials=    906;  accepts= 0.1733;  energy_drop/trial=   0.01042\n",
      "\u001b[0mprotocols.rna.denovo.RNA_FragmentMonteCarlo: \u001b[0m\u001b[34mBeginning round 8 of 10\u001b[0m\n",
      "\u001b[0mprotocols.moves.TrialCounter: \u001b[0m          frag 1 trials=    894;  accepts= 0.1409;  energy_drop/trial=   0.01070\n",
      "\u001b[0mprotocols.rna.denovo.RNA_FragmentMonteCarlo: \u001b[0m\u001b[34mBeginning round 9 of 10\u001b[0m\n",
      "\u001b[0mprotocols.moves.TrialCounter: \u001b[0m          frag 1 trials=    905;  accepts= 0.1591;  energy_drop/trial=   0.00727\n",
      "\u001b[0mprotocols.rna.denovo.RNA_FragmentMonteCarlo: \u001b[0m\u001b[34mBeginning round 10 of 10\u001b[0m\n",
      "\u001b[0mprotocols.moves.TrialCounter: \u001b[0m          frag 1 trials=    895;  accepts= 0.2291;  energy_drop/trial=   0.01465\n",
      "\u001b[0mprotocols.rna.denovo.RNA_FragmentMonteCarlo: \u001b[0mFinished fragment assembly of S_000005 in 6 seconds.\n",
      "\u001b[0mprotocols.rna.denovo.RNA_FragmentMonteCarlo: \u001b[0mComparing current lores score -91.1003 to automatically determined cutoff: -92.8449 based on 0.2 quantile from 19 models so far\n",
      "\u001b[0mprotocols.rna.denovo.RNA_FragmentMonteCarlo: \u001b[0mFailed score filter.\n",
      "\u001b[0mprotocols.rna.denovo.RNA_FragmentMonteCarlo: \u001b[0m\u001b[31mDid not pass filters. Trying the model again: trial 3 out of 10\u001b[0m\n",
      "\u001b[0mprotocols.rna.denovo.movers.RNA_DeNovoMasterMover: \u001b[0mHeating up... 42 cycles.\n",
      "\u001b[0mprotocols.rna.denovo.RNA_FragmentMonteCarlo: \u001b[0mBeginning main loop...\n",
      "\u001b[0mprotocols.rna.denovo.RNA_FragmentMonteCarlo: \u001b[0m\u001b[34mBeginning round 1 of 10\u001b[0m\n",
      "\u001b[0mprotocols.rna.denovo.RNA_FragmentMonteCarlo: \u001b[0mFragment size: 3\n",
      "\u001b[0mprotocols.moves.TrialCounter: \u001b[0m          frag 3 trials=    913;  accepts= 0.1807;  energy_drop/trial=  -0.07156\n",
      "\u001b[0mprotocols.rna.denovo.RNA_FragmentMonteCarlo: \u001b[0m\u001b[34mBeginning round 2 of 10\u001b[0m\n",
      "\u001b[0mprotocols.moves.TrialCounter: \u001b[0m          frag 3 trials=    897;  accepts= 0.0635;  energy_drop/trial=  -0.00754\n",
      "\u001b[0mprotocols.rna.denovo.RNA_FragmentMonteCarlo: \u001b[0mChecking base pairs early! Result: 1\n",
      "\u001b[0mprotocols.rna.denovo.RNA_FragmentMonteCarlo: \u001b[0m\u001b[34mBeginning round 3 of 10\u001b[0m\n",
      "\u001b[0mprotocols.moves.TrialCounter: \u001b[0m          frag 3 trials=    904;  accepts= 0.0619;  energy_drop/trial=   0.01550\n",
      "\u001b[0mprotocols.rna.denovo.RNA_FragmentMonteCarlo: \u001b[0m\u001b[34mBeginning round 4 of 10\u001b[0m\n",
      "\u001b[0mprotocols.rna.denovo.RNA_FragmentMonteCarlo: \u001b[0mFragment size: 2\n",
      "\u001b[0mprotocols.moves.TrialCounter: \u001b[0m          frag 2 trials=    892;  accepts= 0.0796;  energy_drop/trial=   0.00761\n",
      "\u001b[0mprotocols.rna.denovo.RNA_FragmentMonteCarlo: \u001b[0m\u001b[34mBeginning round 5 of 10\u001b[0m\n",
      "\u001b[0mprotocols.moves.TrialCounter: \u001b[0m          frag 2 trials=    895;  accepts= 0.0536;  energy_drop/trial=   0.01487\n",
      "\u001b[0mprotocols.rna.denovo.RNA_FragmentMonteCarlo: \u001b[0mChecking loop closure with tolerance of 12 Angstroms! Result: 1\n",
      "\u001b[0mprotocols.rna.denovo.RNA_FragmentMonteCarlo: \u001b[0m\u001b[34mBeginning round 6 of 10\u001b[0m\n",
      "\u001b[0mprotocols.moves.TrialCounter: \u001b[0m          frag 2 trials=    904;  accepts= 0.0442;  energy_drop/trial=   0.00086\n",
      "\u001b[0mprotocols.rna.denovo.RNA_FragmentMonteCarlo: \u001b[0m\u001b[34mBeginning round 7 of 10\u001b[0m\n",
      "\u001b[0mprotocols.rna.denovo.RNA_FragmentMonteCarlo: \u001b[0mFragment size: 1\n",
      "\u001b[0mprotocols.moves.TrialCounter: \u001b[0m          frag 1 trials=    907;  accepts= 0.0695;  energy_drop/trial=   0.01046\n",
      "\u001b[0mprotocols.rna.denovo.RNA_FragmentMonteCarlo: \u001b[0m\u001b[34mBeginning round 8 of 10\u001b[0m\n",
      "\u001b[0mprotocols.moves.TrialCounter: \u001b[0m          frag 1 trials=    892;  accepts= 0.0796;  energy_drop/trial=   0.01015\n",
      "\u001b[0mprotocols.rna.denovo.RNA_FragmentMonteCarlo: \u001b[0m\u001b[34mBeginning round 9 of 10\u001b[0m\n",
      "\u001b[0mprotocols.moves.TrialCounter: \u001b[0m          frag 1 trials=    900;  accepts= 0.0233;  energy_drop/trial=   0.00458\n",
      "\u001b[0mprotocols.rna.denovo.RNA_FragmentMonteCarlo: \u001b[0m\u001b[34mBeginning round 10 of 10\u001b[0m\n",
      "\u001b[0mprotocols.moves.TrialCounter: \u001b[0m          frag 1 trials=    889;  accepts= 0.0934;  energy_drop/trial=   0.00449\n",
      "\u001b[0mprotocols.rna.denovo.RNA_FragmentMonteCarlo: \u001b[0mFinished fragment assembly of S_000005 in 7 seconds.\n",
      "\u001b[0mprotocols.rna.denovo.RNA_FragmentMonteCarlo: \u001b[0mComparing current lores score -89.66 to automatically determined cutoff: -91.1003 based on 0.2 quantile from 20 models so far\n",
      "\u001b[0mprotocols.rna.denovo.RNA_FragmentMonteCarlo: \u001b[0mFailed score filter.\n",
      "\u001b[0mprotocols.rna.denovo.RNA_FragmentMonteCarlo: \u001b[0m\u001b[31mDid not pass filters. Trying the model again: trial 4 out of 10\u001b[0m\n",
      "\u001b[0mprotocols.rna.denovo.movers.RNA_DeNovoMasterMover: \u001b[0mHeating up... 42 cycles.\n",
      "\u001b[0mprotocols.rna.denovo.RNA_FragmentMonteCarlo: \u001b[0mBeginning main loop...\n",
      "\u001b[0mprotocols.rna.denovo.RNA_FragmentMonteCarlo: \u001b[0m\u001b[34mBeginning round 1 of 10\u001b[0m\n",
      "\u001b[0mprotocols.rna.denovo.RNA_FragmentMonteCarlo: \u001b[0mFragment size: 3\n",
      "\u001b[0mprotocols.moves.TrialCounter: \u001b[0m          frag 3 trials=    897;  accepts= 0.2419;  energy_drop/trial=  -0.02891\n",
      "\u001b[0mprotocols.rna.denovo.RNA_FragmentMonteCarlo: \u001b[0m\u001b[34mBeginning round 2 of 10\u001b[0m\n",
      "\u001b[0mprotocols.moves.TrialCounter: \u001b[0m          frag 3 trials=    895;  accepts= 0.2380;  energy_drop/trial=   0.00204\n",
      "\u001b[0mprotocols.rna.denovo.RNA_FragmentMonteCarlo: \u001b[0mChecking base pairs early! Result: 1\n",
      "\u001b[0mprotocols.rna.denovo.RNA_FragmentMonteCarlo: \u001b[0m\u001b[34mBeginning round 3 of 10\u001b[0m\n",
      "\u001b[0mprotocols.moves.TrialCounter: \u001b[0m          frag 3 trials=    915;  accepts= 0.2011;  energy_drop/trial=   0.00309\n",
      "\u001b[0mprotocols.rna.denovo.RNA_FragmentMonteCarlo: \u001b[0m\u001b[34mBeginning round 4 of 10\u001b[0m\n",
      "\u001b[0mprotocols.rna.denovo.RNA_FragmentMonteCarlo: \u001b[0mFragment size: 2\n",
      "\u001b[0mprotocols.moves.TrialCounter: \u001b[0m          frag 2 trials=    884;  accepts= 0.1584;  energy_drop/trial=   0.00281\n",
      "\u001b[0mprotocols.rna.denovo.RNA_FragmentMonteCarlo: \u001b[0m\u001b[34mBeginning round 5 of 10\u001b[0m\n",
      "\u001b[0mprotocols.moves.TrialCounter: \u001b[0m          frag 2 trials=    899;  accepts= 0.1413;  energy_drop/trial=   0.01224\n",
      "\u001b[0mprotocols.rna.denovo.RNA_FragmentMonteCarlo: \u001b[0mChecking loop closure with tolerance of 12 Angstroms! Result: 1\n",
      "\u001b[0mprotocols.rna.denovo.RNA_FragmentMonteCarlo: \u001b[0m\u001b[34mBeginning round 6 of 10\u001b[0m\n",
      "\u001b[0mprotocols.moves.TrialCounter: \u001b[0m          frag 2 trials=    877;  accepts= 0.1767;  energy_drop/trial=   0.00894\n",
      "\u001b[0mprotocols.rna.denovo.RNA_FragmentMonteCarlo: \u001b[0m\u001b[34mBeginning round 7 of 10\u001b[0m\n",
      "\u001b[0mprotocols.rna.denovo.RNA_FragmentMonteCarlo: \u001b[0mFragment size: 1\n",
      "\u001b[0mprotocols.moves.TrialCounter: \u001b[0m          frag 1 trials=    899;  accepts= 0.1535;  energy_drop/trial=   0.01221\n",
      "\u001b[0mprotocols.rna.denovo.RNA_FragmentMonteCarlo: \u001b[0m\u001b[34mBeginning round 8 of 10\u001b[0m\n",
      "\u001b[0mprotocols.moves.TrialCounter: \u001b[0m          frag 1 trials=    892;  accepts= 0.1648;  energy_drop/trial=   0.00227\n",
      "\u001b[0mprotocols.rna.denovo.RNA_FragmentMonteCarlo: \u001b[0m\u001b[34mBeginning round 9 of 10\u001b[0m\n",
      "\u001b[0mprotocols.moves.TrialCounter: \u001b[0m          frag 1 trials=    891;  accepts= 0.1358;  energy_drop/trial=   0.00348\n",
      "\u001b[0mprotocols.rna.denovo.RNA_FragmentMonteCarlo: \u001b[0m\u001b[34mBeginning round 10 of 10\u001b[0m\n",
      "\u001b[0mprotocols.moves.TrialCounter: \u001b[0m          frag 1 trials=    903;  accepts= 0.2436;  energy_drop/trial=   0.00457\n",
      "\u001b[0mprotocols.rna.denovo.RNA_FragmentMonteCarlo: \u001b[0mFinished fragment assembly of S_000005 in 7 seconds.\n",
      "\u001b[0mprotocols.rna.denovo.RNA_FragmentMonteCarlo: \u001b[0mComparing current lores score -90.7851 to automatically determined cutoff: -91.1003 based on 0.2 quantile from 21 models so far\n",
      "\u001b[0mprotocols.rna.denovo.RNA_FragmentMonteCarlo: \u001b[0mFailed score filter.\n",
      "\u001b[0mprotocols.rna.denovo.RNA_FragmentMonteCarlo: \u001b[0m\u001b[31mDid not pass filters. Trying the model again: trial 5 out of 10\u001b[0m\n",
      "\u001b[0mprotocols.rna.denovo.movers.RNA_DeNovoMasterMover: \u001b[0mHeating up... 42 cycles.\n",
      "\u001b[0mprotocols.rna.denovo.RNA_FragmentMonteCarlo: \u001b[0mBeginning main loop...\n",
      "\u001b[0mprotocols.rna.denovo.RNA_FragmentMonteCarlo: \u001b[0m\u001b[34mBeginning round 1 of 10\u001b[0m\n",
      "\u001b[0mprotocols.rna.denovo.RNA_FragmentMonteCarlo: \u001b[0mFragment size: 3\n",
      "\u001b[0mprotocols.moves.TrialCounter: \u001b[0m          frag 3 trials=    897;  accepts= 0.2007;  energy_drop/trial=  -0.00430\n",
      "\u001b[0mprotocols.rna.denovo.RNA_FragmentMonteCarlo: \u001b[0m\u001b[34mBeginning round 2 of 10\u001b[0m\n",
      "\u001b[0mprotocols.moves.TrialCounter: \u001b[0m          frag 3 trials=    908;  accepts= 0.1101;  energy_drop/trial=   0.00102\n",
      "\u001b[0mprotocols.rna.denovo.RNA_FragmentMonteCarlo: \u001b[0mChecking base pairs early! Result: 1\n",
      "\u001b[0mprotocols.rna.denovo.RNA_FragmentMonteCarlo: \u001b[0m\u001b[34mBeginning round 3 of 10\u001b[0m\n",
      "\u001b[0mprotocols.moves.TrialCounter: \u001b[0m          frag 3 trials=    900;  accepts= 0.0644;  energy_drop/trial=   0.00527\n",
      "\u001b[0mprotocols.rna.denovo.RNA_FragmentMonteCarlo: \u001b[0m\u001b[34mBeginning round 4 of 10\u001b[0m\n",
      "\u001b[0mprotocols.rna.denovo.RNA_FragmentMonteCarlo: \u001b[0mFragment size: 2\n",
      "\u001b[0mprotocols.moves.TrialCounter: \u001b[0m          frag 2 trials=    913;  accepts= 0.0307;  energy_drop/trial=   0.00793\n",
      "\u001b[0mprotocols.rna.denovo.RNA_FragmentMonteCarlo: \u001b[0m\u001b[34mBeginning round 5 of 10\u001b[0m\n",
      "\u001b[0mprotocols.moves.TrialCounter: \u001b[0m          frag 2 trials=    909;  accepts= 0.0407;  energy_drop/trial=   0.00567\n",
      "\u001b[0mprotocols.rna.denovo.RNA_FragmentMonteCarlo: \u001b[0mChecking loop closure with tolerance of 12 Angstroms! Result: 1\n",
      "\u001b[0mprotocols.rna.denovo.RNA_FragmentMonteCarlo: \u001b[0m\u001b[34mBeginning round 6 of 10\u001b[0m\n",
      "\u001b[0mprotocols.moves.TrialCounter: \u001b[0m          frag 2 trials=    897;  accepts= 0.0156;  energy_drop/trial=   0.00697\n",
      "\u001b[0mprotocols.rna.denovo.RNA_FragmentMonteCarlo: \u001b[0m\u001b[34mBeginning round 7 of 10\u001b[0m\n",
      "\u001b[0mprotocols.rna.denovo.RNA_FragmentMonteCarlo: \u001b[0mFragment size: 1\n",
      "\u001b[0mprotocols.moves.TrialCounter: \u001b[0m          frag 1 trials=    897;  accepts= 0.0769;  energy_drop/trial=   0.01673\n",
      "\u001b[0mprotocols.rna.denovo.RNA_FragmentMonteCarlo: \u001b[0m\u001b[34mBeginning round 8 of 10\u001b[0m\n",
      "\u001b[0mprotocols.moves.TrialCounter: \u001b[0m          frag 1 trials=    915;  accepts= 0.0874;  energy_drop/trial=   0.00232\n",
      "\u001b[0mprotocols.rna.denovo.RNA_FragmentMonteCarlo: \u001b[0m\u001b[34mBeginning round 9 of 10\u001b[0m\n",
      "\u001b[0mprotocols.moves.TrialCounter: \u001b[0m          frag 1 trials=    908;  accepts= 0.0286;  energy_drop/trial=   0.00402\n",
      "\u001b[0mprotocols.rna.denovo.RNA_FragmentMonteCarlo: \u001b[0m\u001b[34mBeginning round 10 of 10\u001b[0m\n",
      "\u001b[0mprotocols.moves.TrialCounter: \u001b[0m          frag 1 trials=    915;  accepts= 0.1005;  energy_drop/trial=   0.00019\n",
      "\u001b[0mprotocols.rna.denovo.RNA_FragmentMonteCarlo: \u001b[0mFinished fragment assembly of S_000005 in 7 seconds.\n",
      "\u001b[0mprotocols.rna.denovo.RNA_FragmentMonteCarlo: \u001b[0mComparing current lores score -91.1244 to automatically determined cutoff: -91.1244 based on 0.2 quantile from 22 models so far\n",
      "\u001b[0mprotocols.rna.denovo.RNA_FragmentMonteCarlo: \u001b[0m\n",
      "------------------------------------------------------------\n",
      " Scores                       Weight   Raw Score Wghtd.Score\n",
      "------------------------------------------------------------\n",
      " rna_data_backbone            1.000       0.000       0.000\n",
      " rna_vdw                      1.000       2.420       2.420\n",
      " rna_base_backbone            1.000      -9.791      -9.791\n",
      " rna_backbone_backbone        1.000       0.000       0.000\n",
      " rna_repulsive                1.000       0.000       0.000\n",
      " rna_base_pair                1.000     -51.831     -51.831\n",
      " rna_base_axis                0.200     -33.412      -6.682\n",
      " rna_base_stagger             1.000     -26.810     -26.810\n",
      " rna_base_stack               1.000      -3.503      -3.503\n",
      " rna_base_stack_axis          0.200     -22.702      -4.540\n",
      " rna_rg                       1.000       9.372       9.372\n",
      " atom_pair_constraint         1.000       0.000       0.000\n",
      " base_pair_constraint         1.000       0.000       0.000\n",
      " linear_chainbreak            5.000       0.048       0.240\n",
      "---------------------------------------------------\n",
      " Total weighted score:                      -91.124\n",
      "\u001b[0mprotocols.rna.denovo.RNA_FragmentMonteCarlo: \u001b[0m\n",
      "\u001b[0mprotocols.rna.denovo.movers.RNA_Minimizer: \u001b[0mOrienting 2' hydroxyls...\n",
      "\u001b[0mprotocols.rna.denovo.movers.RNA_Minimizer: \u001b[0mMinimizing...round= 1\n",
      "\u001b[0mprotocols.rna.denovo.movers.RNA_Minimizer: \u001b[0mOrienting 2' hydroxyls...\n",
      "\u001b[0mprotocols.rna.denovo.movers.RNA_Minimizer: \u001b[0mMinimizing...round= 2\n",
      "\u001b[0mprotocols.rna.denovo.movers.RNA_Minimizer: \u001b[0m\n",
      "------------------------------------------------------------\n",
      " Scores                       Weight   Raw Score Wghtd.Score\n",
      "------------------------------------------------------------\n",
      " fa_atr                       0.210    -202.785     -42.585\n",
      " fa_rep                       0.200      56.182      11.236\n",
      " fa_intra_rep                 0.003     166.828       0.484\n",
      " lk_nonpolar                  0.250      -5.589      -1.397\n",
      " fa_elec_rna_phos_phos        1.700       0.263       0.447\n",
      " rna_torsion                  1.000       3.398       3.398\n",
      " suiteness_bonus              1.000       0.000       0.000\n",
      " rna_sugar_close              0.820       3.648       2.991\n",
      " fa_stack                     0.130    -207.102     -26.923\n",
      " stack_elec                   0.760      -1.042      -0.792\n",
      " geom_sol_fast                0.170      73.832      12.551\n",
      " hbond_sr_bb_sc               0.960       0.000       0.000\n",
      " hbond_lr_bb_sc               0.960      -1.165      -1.118\n",
      " hbond_sc                     0.960     -21.809     -20.937\n",
      " ref                          1.000      50.440      50.440\n",
      " free_suite                   2.000       0.000       0.000\n",
      " free_2HOprime                1.000       0.000       0.000\n",
      " intermol                     1.000       0.000       0.000\n",
      " other_pose                   1.000       0.000       0.000\n",
      " loop_close                   1.000       0.000       0.000\n",
      " linear_chainbreak            5.000       0.005       0.026\n",
      "---------------------------------------------------\n",
      " Total weighted score:                      -12.179\n",
      "\u001b[0mprotocols.rna.denovo.movers.RNA_Minimizer: \u001b[0mRNA minimizer finished in 4 seconds.\n",
      "\u001b[0mprotocols.rna.denovo.RNA_DeNovoProtocol: \u001b[0mMaking silent struct for S_000015\n",
      "\u001b[0mprotocols.rna.denovo.RNA_DeNovoProtocol: \u001b[0mOutputting to silent file: outputs/stem_loop.out\n",
      "\u001b[0mprotocols.rna.setup.RNA_MonteCarloJobDistributor: \u001b[0m\n",
      "\u001b[0mprotocols.rna.setup.RNA_MonteCarloJobDistributor: \u001b[0m\u001b[32mEmbarking on structure 6 of 10\u001b[0m\n",
      "\u001b[0mprotocols.rna.denovo.RNA_FragmentMonteCarlo: \u001b[0mNumber of moving residues: 5\n",
      "\u001b[0mprotocols.rna.denovo.RNA_FragmentMonteCarlo: \u001b[0mNumber of moving chunks: 0\n",
      "\u001b[0mprotocols.rna.denovo.RNA_FragmentMonteCarlo: \u001b[0mUsing 10000 cycles in de novo modeling.\n",
      "\u001b[0mprotocols.rna.denovo.movers.RNA_DeNovoMasterMover: \u001b[0mHeating up... 42 cycles.\n",
      "\u001b[0mprotocols.rna.denovo.RNA_FragmentMonteCarlo: \u001b[0mBeginning main loop...\n",
      "\u001b[0mprotocols.rna.denovo.RNA_FragmentMonteCarlo: \u001b[0m\u001b[34mBeginning round 1 of 10\u001b[0m\n",
      "\u001b[0mprotocols.moves.TrialCounter: \u001b[0m          frag 3 trials=    905;  accepts= 0.1171;  energy_drop/trial=  -0.00815\n",
      "\u001b[0mprotocols.rna.denovo.RNA_FragmentMonteCarlo: \u001b[0m\u001b[34mBeginning round 2 of 10\u001b[0m\n",
      "\u001b[0mprotocols.moves.TrialCounter: \u001b[0m          frag 3 trials=    902;  accepts= 0.0787;  energy_drop/trial=   0.00797\n",
      "\u001b[0mprotocols.rna.denovo.RNA_FragmentMonteCarlo: \u001b[0mChecking base pairs early! Result: 1\n",
      "\u001b[0mprotocols.rna.denovo.RNA_FragmentMonteCarlo: \u001b[0m\u001b[34mBeginning round 3 of 10\u001b[0m\n",
      "\u001b[0mprotocols.moves.TrialCounter: \u001b[0m          frag 3 trials=    901;  accepts= 0.0588;  energy_drop/trial=   0.00468\n",
      "\u001b[0mprotocols.rna.denovo.RNA_FragmentMonteCarlo: \u001b[0m\u001b[34mBeginning round 4 of 10\u001b[0m\n",
      "\u001b[0mprotocols.rna.denovo.RNA_FragmentMonteCarlo: \u001b[0mFragment size: 2\n",
      "\u001b[0mprotocols.moves.TrialCounter: \u001b[0m          frag 2 trials=    906;  accepts= 0.0596;  energy_drop/trial=   0.00353\n",
      "\u001b[0mprotocols.rna.denovo.RNA_FragmentMonteCarlo: \u001b[0m\u001b[34mBeginning round 5 of 10\u001b[0m\n",
      "\u001b[0mprotocols.moves.TrialCounter: \u001b[0m          frag 2 trials=    891;  accepts= 0.0393;  energy_drop/trial=   0.00408\n",
      "\u001b[0mprotocols.rna.denovo.RNA_FragmentMonteCarlo: \u001b[0mChecking loop closure with tolerance of 12 Angstroms! Result: 1\n",
      "\u001b[0mprotocols.rna.denovo.RNA_FragmentMonteCarlo: \u001b[0m\u001b[34mBeginning round 6 of 10\u001b[0m\n",
      "\u001b[0mprotocols.moves.TrialCounter: \u001b[0m          frag 2 trials=    903;  accepts= 0.0465;  energy_drop/trial=   0.02471\n",
      "\u001b[0mprotocols.rna.denovo.RNA_FragmentMonteCarlo: \u001b[0m\u001b[34mBeginning round 7 of 10\u001b[0m\n",
      "\u001b[0mprotocols.rna.denovo.RNA_FragmentMonteCarlo: \u001b[0mFragment size: 1\n",
      "\u001b[0mprotocols.moves.TrialCounter: \u001b[0m          frag 1 trials=    905;  accepts= 0.0762;  energy_drop/trial=   0.00540\n",
      "\u001b[0mprotocols.rna.denovo.RNA_FragmentMonteCarlo: \u001b[0m\u001b[34mBeginning round 8 of 10\u001b[0m\n",
      "\u001b[0mprotocols.moves.TrialCounter: \u001b[0m          frag 1 trials=    899;  accepts= 0.0456;  energy_drop/trial=   0.00834\n",
      "\u001b[0mprotocols.rna.denovo.RNA_FragmentMonteCarlo: \u001b[0m\u001b[34mBeginning round 9 of 10\u001b[0m\n",
      "\u001b[0mprotocols.moves.TrialCounter: \u001b[0m          frag 1 trials=    900;  accepts= 0.0344;  energy_drop/trial=   0.00695\n",
      "\u001b[0mprotocols.rna.denovo.RNA_FragmentMonteCarlo: \u001b[0m\u001b[34mBeginning round 10 of 10\u001b[0m\n",
      "\u001b[0mprotocols.moves.TrialCounter: \u001b[0m          frag 1 trials=    894;  accepts= 0.1174;  energy_drop/trial=   0.00646\n",
      "\u001b[0mprotocols.rna.denovo.RNA_FragmentMonteCarlo: \u001b[0mFinished fragment assembly of S_000006 in 6 seconds.\n",
      "\u001b[0mprotocols.rna.denovo.RNA_FragmentMonteCarlo: \u001b[0mComparing current lores score -87.8902 to automatically determined cutoff: -91.1244 based on 0.2 quantile from 23 models so far\n",
      "\u001b[0mprotocols.rna.denovo.RNA_FragmentMonteCarlo: \u001b[0mFailed score filter.\n",
      "\u001b[0mprotocols.rna.denovo.RNA_FragmentMonteCarlo: \u001b[0m\u001b[31mDid not pass filters. Trying the model again: trial 2 out of 10\u001b[0m\n",
      "\u001b[0mprotocols.rna.denovo.movers.RNA_DeNovoMasterMover: \u001b[0mHeating up... 42 cycles.\n",
      "\u001b[0mprotocols.rna.denovo.RNA_FragmentMonteCarlo: \u001b[0mBeginning main loop...\n",
      "\u001b[0mprotocols.rna.denovo.RNA_FragmentMonteCarlo: \u001b[0m\u001b[34mBeginning round 1 of 10\u001b[0m\n",
      "\u001b[0mprotocols.rna.denovo.RNA_FragmentMonteCarlo: \u001b[0mFragment size: 3\n",
      "\u001b[0mprotocols.moves.TrialCounter: \u001b[0m          frag 3 trials=    901;  accepts= 0.2642;  energy_drop/trial=  -0.14535\n",
      "\u001b[0mprotocols.rna.denovo.RNA_FragmentMonteCarlo: \u001b[0m\u001b[34mBeginning round 2 of 10\u001b[0m\n",
      "\u001b[0mprotocols.moves.TrialCounter: \u001b[0m          frag 3 trials=    896;  accepts= 0.2087;  energy_drop/trial=   0.00120\n",
      "\u001b[0mprotocols.rna.denovo.RNA_FragmentMonteCarlo: \u001b[0mChecking base pairs early! Result: 1\n",
      "\u001b[0mprotocols.rna.denovo.RNA_FragmentMonteCarlo: \u001b[0m\u001b[34mBeginning round 3 of 10\u001b[0m\n",
      "\u001b[0mprotocols.moves.TrialCounter: \u001b[0m          frag 3 trials=    896;  accepts= 0.1842;  energy_drop/trial=   0.00266\n",
      "\u001b[0mprotocols.rna.denovo.RNA_FragmentMonteCarlo: \u001b[0m\u001b[34mBeginning round 4 of 10\u001b[0m\n",
      "\u001b[0mprotocols.rna.denovo.RNA_FragmentMonteCarlo: \u001b[0mFragment size: 2\n",
      "\u001b[0mprotocols.moves.TrialCounter: \u001b[0m          frag 2 trials=    888;  accepts= 0.2140;  energy_drop/trial=   0.02087\n",
      "\u001b[0mprotocols.rna.denovo.RNA_FragmentMonteCarlo: \u001b[0m\u001b[34mBeginning round 5 of 10\u001b[0m\n",
      "\u001b[0mprotocols.moves.TrialCounter: \u001b[0m          frag 2 trials=    896;  accepts= 0.2031;  energy_drop/trial=   0.01614\n",
      "\u001b[0mprotocols.rna.denovo.RNA_FragmentMonteCarlo: \u001b[0mChecking loop closure with tolerance of 12 Angstroms! Result: 1\n",
      "\u001b[0mprotocols.rna.denovo.RNA_FragmentMonteCarlo: \u001b[0m\u001b[34mBeginning round 6 of 10\u001b[0m\n",
      "\u001b[0mprotocols.moves.TrialCounter: \u001b[0m          frag 2 trials=    897;  accepts= 0.1148;  energy_drop/trial=   0.00577\n",
      "\u001b[0mprotocols.rna.denovo.RNA_FragmentMonteCarlo: \u001b[0m\u001b[34mBeginning round 7 of 10\u001b[0m\n",
      "\u001b[0mprotocols.rna.denovo.RNA_FragmentMonteCarlo: \u001b[0mFragment size: 1\n",
      "\u001b[0mprotocols.moves.TrialCounter: \u001b[0m          frag 1 trials=    895;  accepts= 0.1475;  energy_drop/trial=   0.01753\n",
      "\u001b[0mprotocols.rna.denovo.RNA_FragmentMonteCarlo: \u001b[0m\u001b[34mBeginning round 8 of 10\u001b[0m\n",
      "\u001b[0mprotocols.moves.TrialCounter: \u001b[0m          frag 1 trials=    896;  accepts= 0.1283;  energy_drop/trial=   0.00659\n",
      "\u001b[0mprotocols.rna.denovo.RNA_FragmentMonteCarlo: \u001b[0m\u001b[34mBeginning round 9 of 10\u001b[0m\n",
      "\u001b[0mprotocols.moves.TrialCounter: \u001b[0m          frag 1 trials=    911;  accepts= 0.1196;  energy_drop/trial=   0.00646\n",
      "\u001b[0mprotocols.rna.denovo.RNA_FragmentMonteCarlo: \u001b[0m\u001b[34mBeginning round 10 of 10\u001b[0m\n",
      "\u001b[0mprotocols.moves.TrialCounter: \u001b[0m          frag 1 trials=    903;  accepts= 0.2004;  energy_drop/trial=   0.00994\n",
      "\u001b[0mprotocols.rna.denovo.RNA_FragmentMonteCarlo: \u001b[0mFinished fragment assembly of S_000006 in 6 seconds.\n",
      "\u001b[0mprotocols.rna.denovo.RNA_FragmentMonteCarlo: \u001b[0mComparing current lores score -89.318 to automatically determined cutoff: -91.1244 based on 0.2 quantile from 24 models so far\n",
      "\u001b[0mprotocols.rna.denovo.RNA_FragmentMonteCarlo: \u001b[0mFailed score filter.\n",
      "\u001b[0mprotocols.rna.denovo.RNA_FragmentMonteCarlo: \u001b[0m\u001b[31mDid not pass filters. Trying the model again: trial 3 out of 10\u001b[0m\n",
      "\u001b[0mprotocols.rna.denovo.movers.RNA_DeNovoMasterMover: \u001b[0mHeating up... 42 cycles.\n",
      "\u001b[0mprotocols.rna.denovo.RNA_FragmentMonteCarlo: \u001b[0mBeginning main loop...\n",
      "\u001b[0mprotocols.rna.denovo.RNA_FragmentMonteCarlo: \u001b[0m\u001b[34mBeginning round 1 of 10\u001b[0m\n",
      "\u001b[0mprotocols.rna.denovo.RNA_FragmentMonteCarlo: \u001b[0mFragment size: 3\n",
      "\u001b[0mprotocols.moves.TrialCounter: \u001b[0m          frag 3 trials=    902;  accepts= 0.1530;  energy_drop/trial=  -0.01022\n",
      "\u001b[0mprotocols.rna.denovo.RNA_FragmentMonteCarlo: \u001b[0m\u001b[34mBeginning round 2 of 10\u001b[0m\n",
      "\u001b[0mprotocols.moves.TrialCounter: \u001b[0m          frag 3 trials=    906;  accepts= 0.0949;  energy_drop/trial=  -0.00907\n",
      "\u001b[0mprotocols.rna.denovo.RNA_FragmentMonteCarlo: \u001b[0mChecking base pairs early! Result: 1\n",
      "\u001b[0mprotocols.rna.denovo.RNA_FragmentMonteCarlo: \u001b[0m\u001b[34mBeginning round 3 of 10\u001b[0m\n",
      "\u001b[0mprotocols.moves.TrialCounter: \u001b[0m          frag 3 trials=    901;  accepts= 0.0655;  energy_drop/trial=   0.00510\n",
      "\u001b[0mprotocols.rna.denovo.RNA_FragmentMonteCarlo: \u001b[0m\u001b[34mBeginning round 4 of 10\u001b[0m\n",
      "\u001b[0mprotocols.rna.denovo.RNA_FragmentMonteCarlo: \u001b[0mFragment size: 2\n",
      "\u001b[0mprotocols.moves.TrialCounter: \u001b[0m          frag 2 trials=    904;  accepts= 0.0321;  energy_drop/trial=   0.00447\n",
      "\u001b[0mprotocols.rna.denovo.RNA_FragmentMonteCarlo: \u001b[0m\u001b[34mBeginning round 5 of 10\u001b[0m\n",
      "\u001b[0mprotocols.moves.TrialCounter: \u001b[0m          frag 2 trials=    901;  accepts= 0.0588;  energy_drop/trial=   0.00068\n",
      "\u001b[0mprotocols.rna.denovo.RNA_FragmentMonteCarlo: \u001b[0mChecking loop closure with tolerance of 12 Angstroms! Result: 1\n",
      "\u001b[0mprotocols.rna.denovo.RNA_FragmentMonteCarlo: \u001b[0m\u001b[34mBeginning round 6 of 10\u001b[0m\n",
      "\u001b[0mprotocols.moves.TrialCounter: \u001b[0m          frag 2 trials=    895;  accepts= 0.0324;  energy_drop/trial=   0.00250\n",
      "\u001b[0mprotocols.rna.denovo.RNA_FragmentMonteCarlo: \u001b[0m\u001b[34mBeginning round 7 of 10\u001b[0m\n",
      "\u001b[0mprotocols.rna.denovo.RNA_FragmentMonteCarlo: \u001b[0mFragment size: 1\n",
      "\u001b[0mprotocols.moves.TrialCounter: \u001b[0m          frag 1 trials=    894;  accepts= 0.0570;  energy_drop/trial=   0.00361\n",
      "\u001b[0mprotocols.rna.denovo.RNA_FragmentMonteCarlo: \u001b[0m\u001b[34mBeginning round 8 of 10\u001b[0m\n",
      "\u001b[0mprotocols.moves.TrialCounter: \u001b[0m          frag 1 trials=    913;  accepts= 0.0591;  energy_drop/trial=   0.00757\n",
      "\u001b[0mprotocols.rna.denovo.RNA_FragmentMonteCarlo: \u001b[0m\u001b[34mBeginning round 9 of 10\u001b[0m\n",
      "\u001b[0mprotocols.moves.TrialCounter: \u001b[0m          frag 1 trials=    901;  accepts= 0.0466;  energy_drop/trial=   0.00820\n",
      "\u001b[0mprotocols.rna.denovo.RNA_FragmentMonteCarlo: \u001b[0m\u001b[34mBeginning round 10 of 10\u001b[0m\n",
      "\u001b[0mprotocols.moves.TrialCounter: \u001b[0m          frag 1 trials=    893;  accepts= 0.0717;  energy_drop/trial=   0.00566\n",
      "\u001b[0mprotocols.rna.denovo.RNA_FragmentMonteCarlo: \u001b[0mFinished fragment assembly of S_000006 in 6 seconds.\n",
      "\u001b[0mprotocols.rna.denovo.RNA_FragmentMonteCarlo: \u001b[0mComparing current lores score -89.333 to automatically determined cutoff: -91.1003 based on 0.2 quantile from 25 models so far\n",
      "\u001b[0mprotocols.rna.denovo.RNA_FragmentMonteCarlo: \u001b[0mFailed score filter.\n",
      "\u001b[0mprotocols.rna.denovo.RNA_FragmentMonteCarlo: \u001b[0m\u001b[31mDid not pass filters. Trying the model again: trial 4 out of 10\u001b[0m\n",
      "\u001b[0mprotocols.rna.denovo.movers.RNA_DeNovoMasterMover: \u001b[0mHeating up... 42 cycles.\n",
      "\u001b[0mprotocols.rna.denovo.RNA_FragmentMonteCarlo: \u001b[0mBeginning main loop...\n",
      "\u001b[0mprotocols.rna.denovo.RNA_FragmentMonteCarlo: \u001b[0m\u001b[34mBeginning round 1 of 10\u001b[0m\n",
      "\u001b[0mprotocols.rna.denovo.RNA_FragmentMonteCarlo: \u001b[0mFragment size: 3\n",
      "\u001b[0mprotocols.moves.TrialCounter: \u001b[0m          frag 3 trials=    905;  accepts= 0.2939;  energy_drop/trial=  -0.03060\n",
      "\u001b[0mprotocols.rna.denovo.RNA_FragmentMonteCarlo: \u001b[0m\u001b[34mBeginning round 2 of 10\u001b[0m\n",
      "\u001b[0mprotocols.moves.TrialCounter: \u001b[0m          frag 3 trials=    897;  accepts= 0.2575;  energy_drop/trial=   0.00046\n",
      "\u001b[0mprotocols.rna.denovo.RNA_FragmentMonteCarlo: \u001b[0mChecking base pairs early! Result: 1\n",
      "\u001b[0mprotocols.rna.denovo.RNA_FragmentMonteCarlo: \u001b[0m\u001b[34mBeginning round 3 of 10\u001b[0m\n",
      "\u001b[0mprotocols.moves.TrialCounter: \u001b[0m          frag 3 trials=    901;  accepts= 0.1398;  energy_drop/trial=   0.00079\n",
      "\u001b[0mprotocols.rna.denovo.RNA_FragmentMonteCarlo: \u001b[0m\u001b[34mBeginning round 4 of 10\u001b[0m\n",
      "\u001b[0mprotocols.rna.denovo.RNA_FragmentMonteCarlo: \u001b[0mFragment size: 2\n",
      "\u001b[0mprotocols.moves.TrialCounter: \u001b[0m          frag 2 trials=    898;  accepts= 0.1782;  energy_drop/trial=   0.01059\n",
      "\u001b[0mprotocols.rna.denovo.RNA_FragmentMonteCarlo: \u001b[0m\u001b[34mBeginning round 5 of 10\u001b[0m\n",
      "\u001b[0mprotocols.moves.TrialCounter: \u001b[0m          frag 2 trials=    895;  accepts= 0.1598;  energy_drop/trial=   0.01658\n",
      "\u001b[0mprotocols.rna.denovo.RNA_FragmentMonteCarlo: \u001b[0mChecking loop closure with tolerance of 12 Angstroms! Result: 1\n",
      "\u001b[0mprotocols.rna.denovo.RNA_FragmentMonteCarlo: \u001b[0m\u001b[34mBeginning round 6 of 10\u001b[0m\n",
      "\u001b[0mprotocols.moves.TrialCounter: \u001b[0m          frag 2 trials=    907;  accepts= 0.1114;  energy_drop/trial=   0.00411\n",
      "\u001b[0mprotocols.rna.denovo.RNA_FragmentMonteCarlo: \u001b[0m\u001b[34mBeginning round 7 of 10\u001b[0m\n",
      "\u001b[0mprotocols.rna.denovo.RNA_FragmentMonteCarlo: \u001b[0mFragment size: 1\n",
      "\u001b[0mprotocols.moves.TrialCounter: \u001b[0m          frag 1 trials=    898;  accepts= 0.1247;  energy_drop/trial=   0.01030\n",
      "\u001b[0mprotocols.rna.denovo.RNA_FragmentMonteCarlo: \u001b[0m\u001b[34mBeginning round 8 of 10\u001b[0m\n",
      "\u001b[0mprotocols.moves.TrialCounter: \u001b[0m          frag 1 trials=    907;  accepts= 0.1389;  energy_drop/trial=  -0.00125\n",
      "\u001b[0mprotocols.rna.denovo.RNA_FragmentMonteCarlo: \u001b[0m\u001b[34mBeginning round 9 of 10\u001b[0m\n",
      "\u001b[0mprotocols.moves.TrialCounter: \u001b[0m          frag 1 trials=    918;  accepts= 0.1383;  energy_drop/trial=  -0.00170\n",
      "\u001b[0mprotocols.rna.denovo.RNA_FragmentMonteCarlo: \u001b[0m\u001b[34mBeginning round 10 of 10\u001b[0m\n",
      "\u001b[0mprotocols.moves.TrialCounter: \u001b[0m          frag 1 trials=    891;  accepts= 0.2514;  energy_drop/trial=   0.01313\n",
      "\u001b[0mprotocols.rna.denovo.RNA_FragmentMonteCarlo: \u001b[0mFinished fragment assembly of S_000006 in 5 seconds.\n",
      "\u001b[0mprotocols.rna.denovo.RNA_FragmentMonteCarlo: \u001b[0mComparing current lores score -89.048 to automatically determined cutoff: -91.1003 based on 0.2 quantile from 26 models so far\n",
      "\u001b[0mprotocols.rna.denovo.RNA_FragmentMonteCarlo: \u001b[0mFailed score filter.\n",
      "\u001b[0mprotocols.rna.denovo.RNA_FragmentMonteCarlo: \u001b[0m\u001b[31mDid not pass filters. Trying the model again: trial 5 out of 10\u001b[0m\n",
      "\u001b[0mprotocols.rna.denovo.movers.RNA_DeNovoMasterMover: \u001b[0mHeating up... 42 cycles.\n",
      "\u001b[0mprotocols.rna.denovo.RNA_FragmentMonteCarlo: \u001b[0mBeginning main loop...\n",
      "\u001b[0mprotocols.rna.denovo.RNA_FragmentMonteCarlo: \u001b[0m\u001b[34mBeginning round 1 of 10\u001b[0m\n",
      "\u001b[0mprotocols.rna.denovo.RNA_FragmentMonteCarlo: \u001b[0mFragment size: 3\n",
      "\u001b[0mprotocols.moves.TrialCounter: \u001b[0m          frag 3 trials=    905;  accepts= 0.1326;  energy_drop/trial=  -0.01584\n",
      "\u001b[0mprotocols.rna.denovo.RNA_FragmentMonteCarlo: \u001b[0m\u001b[34mBeginning round 2 of 10\u001b[0m\n",
      "\u001b[0mprotocols.moves.TrialCounter: \u001b[0m          frag 3 trials=    895;  accepts= 0.0961;  energy_drop/trial=  -0.00434\n",
      "\u001b[0mprotocols.rna.denovo.RNA_FragmentMonteCarlo: \u001b[0mChecking base pairs early! Result: 1\n",
      "\u001b[0mprotocols.rna.denovo.RNA_FragmentMonteCarlo: \u001b[0m\u001b[34mBeginning round 3 of 10\u001b[0m\n",
      "\u001b[0mprotocols.moves.TrialCounter: \u001b[0m          frag 3 trials=    891;  accepts= 0.0808;  energy_drop/trial=   0.00096\n",
      "\u001b[0mprotocols.rna.denovo.RNA_FragmentMonteCarlo: \u001b[0m\u001b[34mBeginning round 4 of 10\u001b[0m\n",
      "\u001b[0mprotocols.rna.denovo.RNA_FragmentMonteCarlo: \u001b[0mFragment size: 2\n",
      "\u001b[0mprotocols.moves.TrialCounter: \u001b[0m          frag 2 trials=    899;  accepts= 0.0267;  energy_drop/trial=   0.00092\n",
      "\u001b[0mprotocols.rna.denovo.RNA_FragmentMonteCarlo: \u001b[0m\u001b[34mBeginning round 5 of 10\u001b[0m\n",
      "\u001b[0mprotocols.moves.TrialCounter: \u001b[0m          frag 2 trials=    881;  accepts= 0.0511;  energy_drop/trial=   0.01427\n",
      "\u001b[0mprotocols.rna.denovo.RNA_FragmentMonteCarlo: \u001b[0mChecking loop closure with tolerance of 12 Angstroms! Result: 1\n",
      "\u001b[0mprotocols.rna.denovo.RNA_FragmentMonteCarlo: \u001b[0m\u001b[34mBeginning round 6 of 10\u001b[0m\n",
      "\u001b[0mprotocols.moves.TrialCounter: \u001b[0m          frag 2 trials=    918;  accepts= 0.0632;  energy_drop/trial=   0.00650\n",
      "\u001b[0mprotocols.rna.denovo.RNA_FragmentMonteCarlo: \u001b[0m\u001b[34mBeginning round 7 of 10\u001b[0m\n",
      "\u001b[0mprotocols.rna.denovo.RNA_FragmentMonteCarlo: \u001b[0mFragment size: 1\n",
      "\u001b[0mprotocols.moves.TrialCounter: \u001b[0m          frag 1 trials=    912;  accepts= 0.0603;  energy_drop/trial=   0.00217\n",
      "\u001b[0mprotocols.rna.denovo.RNA_FragmentMonteCarlo: \u001b[0m\u001b[34mBeginning round 8 of 10\u001b[0m\n",
      "\u001b[0mprotocols.moves.TrialCounter: \u001b[0m          frag 1 trials=    907;  accepts= 0.0529;  energy_drop/trial=   0.00955\n",
      "\u001b[0mprotocols.rna.denovo.RNA_FragmentMonteCarlo: \u001b[0m\u001b[34mBeginning round 9 of 10\u001b[0m\n",
      "\u001b[0mprotocols.moves.TrialCounter: \u001b[0m          frag 1 trials=    901;  accepts= 0.0633;  energy_drop/trial=   0.00419\n",
      "\u001b[0mprotocols.rna.denovo.RNA_FragmentMonteCarlo: \u001b[0m\u001b[34mBeginning round 10 of 10\u001b[0m\n",
      "\u001b[0mprotocols.moves.TrialCounter: \u001b[0m          frag 1 trials=    885;  accepts= 0.1153;  energy_drop/trial=  -0.00158\n",
      "\u001b[0mprotocols.rna.denovo.RNA_FragmentMonteCarlo: \u001b[0mFinished fragment assembly of S_000006 in 6 seconds.\n",
      "\u001b[0mprotocols.rna.denovo.RNA_FragmentMonteCarlo: \u001b[0mComparing current lores score -86.1987 to automatically determined cutoff: -91.1003 based on 0.2 quantile from 27 models so far\n",
      "\u001b[0mprotocols.rna.denovo.RNA_FragmentMonteCarlo: \u001b[0mFailed score filter.\n",
      "\u001b[0mprotocols.rna.denovo.RNA_FragmentMonteCarlo: \u001b[0m\u001b[31mDid not pass filters. Trying the model again: trial 6 out of 10\u001b[0m\n",
      "\u001b[0mprotocols.rna.denovo.movers.RNA_DeNovoMasterMover: \u001b[0mHeating up... 42 cycles.\n",
      "\u001b[0mprotocols.rna.denovo.RNA_FragmentMonteCarlo: \u001b[0mBeginning main loop...\n",
      "\u001b[0mprotocols.rna.denovo.RNA_FragmentMonteCarlo: \u001b[0m\u001b[34mBeginning round 1 of 10\u001b[0m\n",
      "\u001b[0mprotocols.rna.denovo.RNA_FragmentMonteCarlo: \u001b[0mFragment size: 3\n",
      "\u001b[0mprotocols.moves.TrialCounter: \u001b[0m          frag 3 trials=    893;  accepts= 0.3684;  energy_drop/trial=  -0.05196\n",
      "\u001b[0mprotocols.rna.denovo.RNA_FragmentMonteCarlo: \u001b[0m\u001b[34mBeginning round 2 of 10\u001b[0m\n",
      "\u001b[0mprotocols.moves.TrialCounter: \u001b[0m          frag 3 trials=    896;  accepts= 0.2567;  energy_drop/trial=   0.00592\n",
      "\u001b[0mprotocols.rna.denovo.RNA_FragmentMonteCarlo: \u001b[0mChecking base pairs early! Result: 1\n",
      "\u001b[0mprotocols.rna.denovo.RNA_FragmentMonteCarlo: \u001b[0m\u001b[34mBeginning round 3 of 10\u001b[0m\n",
      "\u001b[0mprotocols.moves.TrialCounter: \u001b[0m          frag 3 trials=    901;  accepts= 0.1898;  energy_drop/trial=   0.00602\n",
      "\u001b[0mprotocols.rna.denovo.RNA_FragmentMonteCarlo: \u001b[0m\u001b[34mBeginning round 4 of 10\u001b[0m\n",
      "\u001b[0mprotocols.rna.denovo.RNA_FragmentMonteCarlo: \u001b[0mFragment size: 2\n",
      "\u001b[0mprotocols.moves.TrialCounter: \u001b[0m          frag 2 trials=    878;  accepts= 0.1834;  energy_drop/trial=   0.00334\n",
      "\u001b[0mprotocols.rna.denovo.RNA_FragmentMonteCarlo: \u001b[0m\u001b[34mBeginning round 5 of 10\u001b[0m\n",
      "\u001b[0mprotocols.moves.TrialCounter: \u001b[0m          frag 2 trials=    878;  accepts= 0.1241;  energy_drop/trial=   0.00500\n",
      "\u001b[0mprotocols.rna.denovo.RNA_FragmentMonteCarlo: \u001b[0mChecking loop closure with tolerance of 12 Angstroms! Result: 1\n",
      "\u001b[0mprotocols.rna.denovo.RNA_FragmentMonteCarlo: \u001b[0m\u001b[34mBeginning round 6 of 10\u001b[0m\n",
      "\u001b[0mprotocols.moves.TrialCounter: \u001b[0m          frag 2 trials=    915;  accepts= 0.1628;  energy_drop/trial=   0.01090\n",
      "\u001b[0mprotocols.rna.denovo.RNA_FragmentMonteCarlo: \u001b[0m\u001b[34mBeginning round 7 of 10\u001b[0m\n",
      "\u001b[0mprotocols.rna.denovo.RNA_FragmentMonteCarlo: \u001b[0mFragment size: 1\n",
      "\u001b[0mprotocols.moves.TrialCounter: \u001b[0m          frag 1 trials=    891;  accepts= 0.1829;  energy_drop/trial=   0.01296\n",
      "\u001b[0mprotocols.rna.denovo.RNA_FragmentMonteCarlo: \u001b[0m\u001b[34mBeginning round 8 of 10\u001b[0m\n",
      "\u001b[0mprotocols.moves.TrialCounter: \u001b[0m          frag 1 trials=    900;  accepts= 0.1422;  energy_drop/trial=   0.01386\n",
      "\u001b[0mprotocols.rna.denovo.RNA_FragmentMonteCarlo: \u001b[0m\u001b[34mBeginning round 9 of 10\u001b[0m\n",
      "\u001b[0mprotocols.moves.TrialCounter: \u001b[0m          frag 1 trials=    897;  accepts= 0.1494;  energy_drop/trial=   0.01247\n",
      "\u001b[0mprotocols.rna.denovo.RNA_FragmentMonteCarlo: \u001b[0m\u001b[34mBeginning round 10 of 10\u001b[0m\n",
      "\u001b[0mprotocols.moves.TrialCounter: \u001b[0m          frag 1 trials=    910;  accepts= 0.2132;  energy_drop/trial=  -0.00038\n",
      "\u001b[0mprotocols.rna.denovo.RNA_FragmentMonteCarlo: \u001b[0mFinished fragment assembly of S_000006 in 6 seconds.\n",
      "\u001b[0mprotocols.rna.denovo.RNA_FragmentMonteCarlo: \u001b[0mComparing current lores score -85.1923 to automatically determined cutoff: -91.1003 based on 0.2 quantile from 28 models so far\n",
      "\u001b[0mprotocols.rna.denovo.RNA_FragmentMonteCarlo: \u001b[0mFailed score filter.\n",
      "\u001b[0mprotocols.rna.denovo.RNA_FragmentMonteCarlo: \u001b[0m\u001b[31mDid not pass filters. Trying the model again: trial 7 out of 10\u001b[0m\n",
      "\u001b[0mprotocols.rna.denovo.movers.RNA_DeNovoMasterMover: \u001b[0mHeating up... 42 cycles.\n",
      "\u001b[0mprotocols.rna.denovo.RNA_FragmentMonteCarlo: \u001b[0mBeginning main loop...\n",
      "\u001b[0mprotocols.rna.denovo.RNA_FragmentMonteCarlo: \u001b[0m\u001b[34mBeginning round 1 of 10\u001b[0m\n",
      "\u001b[0mprotocols.rna.denovo.RNA_FragmentMonteCarlo: \u001b[0mFragment size: 3\n",
      "\u001b[0mprotocols.moves.TrialCounter: \u001b[0m          frag 3 trials=    904;  accepts= 0.2190;  energy_drop/trial=  -0.17120\n",
      "\u001b[0mprotocols.rna.denovo.RNA_FragmentMonteCarlo: \u001b[0m\u001b[34mBeginning round 2 of 10\u001b[0m\n",
      "\u001b[0mprotocols.moves.TrialCounter: \u001b[0m          frag 3 trials=    896;  accepts= 0.1004;  energy_drop/trial=   0.00427\n",
      "\u001b[0mprotocols.rna.denovo.RNA_FragmentMonteCarlo: \u001b[0mChecking base pairs early! Result: 1\n",
      "\u001b[0mprotocols.rna.denovo.RNA_FragmentMonteCarlo: \u001b[0m\u001b[34mBeginning round 3 of 10\u001b[0m\n",
      "\u001b[0mprotocols.moves.TrialCounter: \u001b[0m          frag 3 trials=    898;  accepts= 0.1147;  energy_drop/trial=   0.00529\n",
      "\u001b[0mprotocols.rna.denovo.RNA_FragmentMonteCarlo: \u001b[0m\u001b[34mBeginning round 4 of 10\u001b[0m\n",
      "\u001b[0mprotocols.rna.denovo.RNA_FragmentMonteCarlo: \u001b[0mFragment size: 2\n",
      "\u001b[0mprotocols.moves.TrialCounter: \u001b[0m          frag 2 trials=    896;  accepts= 0.1150;  energy_drop/trial=   0.01740\n",
      "\u001b[0mprotocols.rna.denovo.RNA_FragmentMonteCarlo: \u001b[0m\u001b[34mBeginning round 5 of 10\u001b[0m\n",
      "\u001b[0mprotocols.moves.TrialCounter: \u001b[0m          frag 2 trials=    900;  accepts= 0.1089;  energy_drop/trial=   0.00864\n",
      "\u001b[0mprotocols.rna.denovo.RNA_FragmentMonteCarlo: \u001b[0mChecking loop closure with tolerance of 12 Angstroms! Result: 1\n",
      "\u001b[0mprotocols.rna.denovo.RNA_FragmentMonteCarlo: \u001b[0m\u001b[34mBeginning round 6 of 10\u001b[0m\n",
      "\u001b[0mprotocols.moves.TrialCounter: \u001b[0m          frag 2 trials=    887;  accepts= 0.0417;  energy_drop/trial=   0.01265\n",
      "\u001b[0mprotocols.rna.denovo.RNA_FragmentMonteCarlo: \u001b[0m\u001b[34mBeginning round 7 of 10\u001b[0m\n",
      "\u001b[0mprotocols.rna.denovo.RNA_FragmentMonteCarlo: \u001b[0mFragment size: 1\n",
      "\u001b[0mprotocols.moves.TrialCounter: \u001b[0m          frag 1 trials=    905;  accepts= 0.1072;  energy_drop/trial=   0.01097\n",
      "\u001b[0mprotocols.rna.denovo.RNA_FragmentMonteCarlo: \u001b[0m\u001b[34mBeginning round 8 of 10\u001b[0m\n",
      "\u001b[0mprotocols.moves.TrialCounter: \u001b[0m          frag 1 trials=    904;  accepts= 0.0785;  energy_drop/trial=   0.00973\n",
      "\u001b[0mprotocols.rna.denovo.RNA_FragmentMonteCarlo: \u001b[0m\u001b[34mBeginning round 9 of 10\u001b[0m\n",
      "\u001b[0mprotocols.moves.TrialCounter: \u001b[0m          frag 1 trials=    909;  accepts= 0.1166;  energy_drop/trial=   0.00610\n",
      "\u001b[0mprotocols.rna.denovo.RNA_FragmentMonteCarlo: \u001b[0m\u001b[34mBeginning round 10 of 10\u001b[0m\n",
      "\u001b[0mprotocols.moves.TrialCounter: \u001b[0m          frag 1 trials=    905;  accepts= 0.1249;  energy_drop/trial=   0.01110\n",
      "\u001b[0mprotocols.rna.denovo.RNA_FragmentMonteCarlo: \u001b[0mFinished fragment assembly of S_000006 in 6 seconds.\n",
      "\u001b[0mprotocols.rna.denovo.RNA_FragmentMonteCarlo: \u001b[0mComparing current lores score -87.911 to automatically determined cutoff: -91.1003 based on 0.2 quantile from 29 models so far\n",
      "\u001b[0mprotocols.rna.denovo.RNA_FragmentMonteCarlo: \u001b[0mFailed score filter.\n",
      "\u001b[0mprotocols.rna.denovo.RNA_FragmentMonteCarlo: \u001b[0m\u001b[31mDid not pass filters. Trying the model again: trial 8 out of 10\u001b[0m\n",
      "\u001b[0mprotocols.rna.denovo.movers.RNA_DeNovoMasterMover: \u001b[0mHeating up... 42 cycles.\n",
      "\u001b[0mprotocols.rna.denovo.RNA_FragmentMonteCarlo: \u001b[0mBeginning main loop...\n",
      "\u001b[0mprotocols.rna.denovo.RNA_FragmentMonteCarlo: \u001b[0m\u001b[34mBeginning round 1 of 10\u001b[0m\n",
      "\u001b[0mprotocols.rna.denovo.RNA_FragmentMonteCarlo: \u001b[0mFragment size: 3\n",
      "\u001b[0mprotocols.moves.TrialCounter: \u001b[0m          frag 3 trials=    909;  accepts= 0.1969;  energy_drop/trial=  -0.11968\n",
      "\u001b[0mprotocols.rna.denovo.RNA_FragmentMonteCarlo: \u001b[0m\u001b[34mBeginning round 2 of 10\u001b[0m\n",
      "\u001b[0mprotocols.moves.TrialCounter: \u001b[0m          frag 3 trials=    904;  accepts= 0.1261;  energy_drop/trial=   0.01176\n",
      "\u001b[0mprotocols.rna.denovo.RNA_FragmentMonteCarlo: \u001b[0mChecking base pairs early! Result: 1\n",
      "\u001b[0mprotocols.rna.denovo.RNA_FragmentMonteCarlo: \u001b[0m\u001b[34mBeginning round 3 of 10\u001b[0m\n",
      "\u001b[0mprotocols.moves.TrialCounter: \u001b[0m          frag 3 trials=    899;  accepts= 0.0968;  energy_drop/trial=  -0.00348\n",
      "\u001b[0mprotocols.rna.denovo.RNA_FragmentMonteCarlo: \u001b[0m\u001b[34mBeginning round 4 of 10\u001b[0m\n",
      "\u001b[0mprotocols.rna.denovo.RNA_FragmentMonteCarlo: \u001b[0mFragment size: 2\n",
      "\u001b[0mprotocols.moves.TrialCounter: \u001b[0m          frag 2 trials=    893;  accepts= 0.1153;  energy_drop/trial=   0.01616\n",
      "\u001b[0mprotocols.rna.denovo.RNA_FragmentMonteCarlo: \u001b[0m\u001b[34mBeginning round 5 of 10\u001b[0m\n",
      "\u001b[0mprotocols.moves.TrialCounter: \u001b[0m          frag 2 trials=    914;  accepts= 0.0733;  energy_drop/trial=   0.01463\n",
      "\u001b[0mprotocols.rna.denovo.RNA_FragmentMonteCarlo: \u001b[0mChecking loop closure with tolerance of 12 Angstroms! Result: 1\n",
      "\u001b[0mprotocols.rna.denovo.RNA_FragmentMonteCarlo: \u001b[0m\u001b[34mBeginning round 6 of 10\u001b[0m\n",
      "\u001b[0mprotocols.moves.TrialCounter: \u001b[0m          frag 2 trials=    911;  accepts= 0.0856;  energy_drop/trial=   0.00277\n",
      "\u001b[0mprotocols.rna.denovo.RNA_FragmentMonteCarlo: \u001b[0m\u001b[34mBeginning round 7 of 10\u001b[0m\n",
      "\u001b[0mprotocols.rna.denovo.RNA_FragmentMonteCarlo: \u001b[0mFragment size: 1\n",
      "\u001b[0mprotocols.moves.TrialCounter: \u001b[0m          frag 1 trials=    889;  accepts= 0.1181;  energy_drop/trial=   0.00858\n",
      "\u001b[0mprotocols.rna.denovo.RNA_FragmentMonteCarlo: \u001b[0m\u001b[34mBeginning round 8 of 10\u001b[0m\n",
      "\u001b[0mprotocols.moves.TrialCounter: \u001b[0m          frag 1 trials=    898;  accepts= 0.0924;  energy_drop/trial=   0.00293\n",
      "\u001b[0mprotocols.rna.denovo.RNA_FragmentMonteCarlo: \u001b[0m\u001b[34mBeginning round 9 of 10\u001b[0m\n",
      "\u001b[0mprotocols.moves.TrialCounter: \u001b[0m          frag 1 trials=    891;  accepts= 0.1122;  energy_drop/trial=   0.01508\n",
      "\u001b[0mprotocols.rna.denovo.RNA_FragmentMonteCarlo: \u001b[0m\u001b[34mBeginning round 10 of 10\u001b[0m\n",
      "\u001b[0mprotocols.moves.TrialCounter: \u001b[0m          frag 1 trials=    910;  accepts= 0.1209;  energy_drop/trial=   0.00640\n",
      "\u001b[0mprotocols.rna.denovo.RNA_FragmentMonteCarlo: \u001b[0mFinished fragment assembly of S_000006 in 7 seconds.\n",
      "\u001b[0mprotocols.rna.denovo.RNA_FragmentMonteCarlo: \u001b[0mComparing current lores score -88.754 to automatically determined cutoff: -90.9546 based on 0.2 quantile from 30 models so far\n",
      "\u001b[0mprotocols.rna.denovo.RNA_FragmentMonteCarlo: \u001b[0mFailed score filter.\n",
      "\u001b[0mprotocols.rna.denovo.RNA_FragmentMonteCarlo: \u001b[0m\u001b[31mDid not pass filters. Trying the model again: trial 9 out of 10\u001b[0m\n",
      "\u001b[0mprotocols.rna.denovo.movers.RNA_DeNovoMasterMover: \u001b[0mHeating up... 42 cycles.\n",
      "\u001b[0mprotocols.rna.denovo.RNA_FragmentMonteCarlo: \u001b[0mBeginning main loop...\n",
      "\u001b[0mprotocols.rna.denovo.RNA_FragmentMonteCarlo: \u001b[0m\u001b[34mBeginning round 1 of 10\u001b[0m\n",
      "\u001b[0mprotocols.rna.denovo.RNA_FragmentMonteCarlo: \u001b[0mFragment size: 3\n",
      "\u001b[0mprotocols.moves.TrialCounter: \u001b[0m          frag 3 trials=    899;  accepts= 0.3059;  energy_drop/trial=  -0.02331\n",
      "\u001b[0mprotocols.rna.denovo.RNA_FragmentMonteCarlo: \u001b[0m\u001b[34mBeginning round 2 of 10\u001b[0m\n",
      "\u001b[0mprotocols.moves.TrialCounter: \u001b[0m          frag 3 trials=    891;  accepts= 0.2121;  energy_drop/trial=   0.00343\n",
      "\u001b[0mprotocols.rna.denovo.RNA_FragmentMonteCarlo: \u001b[0mChecking base pairs early! Result: 1\n",
      "\u001b[0mprotocols.rna.denovo.RNA_FragmentMonteCarlo: \u001b[0m\u001b[34mBeginning round 3 of 10\u001b[0m\n",
      "\u001b[0mprotocols.moves.TrialCounter: \u001b[0m          frag 3 trials=    897;  accepts= 0.1895;  energy_drop/trial=   0.00679\n",
      "\u001b[0mprotocols.rna.denovo.RNA_FragmentMonteCarlo: \u001b[0m\u001b[34mBeginning round 4 of 10\u001b[0m\n",
      "\u001b[0mprotocols.rna.denovo.RNA_FragmentMonteCarlo: \u001b[0mFragment size: 2\n",
      "\u001b[0mprotocols.moves.TrialCounter: \u001b[0m          frag 2 trials=    928;  accepts= 0.1562;  energy_drop/trial=   0.00462\n",
      "\u001b[0mprotocols.rna.denovo.RNA_FragmentMonteCarlo: \u001b[0m\u001b[34mBeginning round 5 of 10\u001b[0m\n",
      "\u001b[0mprotocols.moves.TrialCounter: \u001b[0m          frag 2 trials=    910;  accepts= 0.1527;  energy_drop/trial=   0.00636\n",
      "\u001b[0mprotocols.rna.denovo.RNA_FragmentMonteCarlo: \u001b[0mChecking loop closure with tolerance of 12 Angstroms! Result: 1\n",
      "\u001b[0mprotocols.rna.denovo.RNA_FragmentMonteCarlo: \u001b[0m\u001b[34mBeginning round 6 of 10\u001b[0m\n",
      "\u001b[0mprotocols.moves.TrialCounter: \u001b[0m          frag 2 trials=    888;  accepts= 0.1216;  energy_drop/trial=   0.00906\n",
      "\u001b[0mprotocols.rna.denovo.RNA_FragmentMonteCarlo: \u001b[0m\u001b[34mBeginning round 7 of 10\u001b[0m\n",
      "\u001b[0mprotocols.rna.denovo.RNA_FragmentMonteCarlo: \u001b[0mFragment size: 1\n",
      "\u001b[0mprotocols.moves.TrialCounter: \u001b[0m          frag 1 trials=    871;  accepts= 0.1274;  energy_drop/trial=   0.00760\n",
      "\u001b[0mprotocols.rna.denovo.RNA_FragmentMonteCarlo: \u001b[0m\u001b[34mBeginning round 8 of 10\u001b[0m\n",
      "\u001b[0mprotocols.moves.TrialCounter: \u001b[0m          frag 1 trials=    898;  accepts= 0.1615;  energy_drop/trial=   0.00803\n",
      "\u001b[0mprotocols.rna.denovo.RNA_FragmentMonteCarlo: \u001b[0m\u001b[34mBeginning round 9 of 10\u001b[0m\n",
      "\u001b[0mprotocols.moves.TrialCounter: \u001b[0m          frag 1 trials=    895;  accepts= 0.1128;  energy_drop/trial=   0.00357\n",
      "\u001b[0mprotocols.rna.denovo.RNA_FragmentMonteCarlo: \u001b[0m\u001b[34mBeginning round 10 of 10\u001b[0m\n",
      "\u001b[0mprotocols.moves.TrialCounter: \u001b[0m          frag 1 trials=    909;  accepts= 0.2574;  energy_drop/trial=   0.00188\n",
      "\u001b[0mprotocols.rna.denovo.RNA_FragmentMonteCarlo: \u001b[0mFinished fragment assembly of S_000006 in 6 seconds.\n",
      "\u001b[0mprotocols.rna.denovo.RNA_FragmentMonteCarlo: \u001b[0mComparing current lores score -90.0468 to automatically determined cutoff: -90.9546 based on 0.2 quantile from 31 models so far\n",
      "\u001b[0mprotocols.rna.denovo.RNA_FragmentMonteCarlo: \u001b[0mFailed score filter.\n",
      "\u001b[0mprotocols.rna.denovo.RNA_FragmentMonteCarlo: \u001b[0m\u001b[31mDid not pass filters. Trying the model again: trial 10 out of 10\u001b[0m\n",
      "\u001b[0mprotocols.rna.denovo.movers.RNA_DeNovoMasterMover: \u001b[0mHeating up... 42 cycles.\n",
      "\u001b[0mprotocols.rna.denovo.RNA_FragmentMonteCarlo: \u001b[0mBeginning main loop...\n",
      "\u001b[0mprotocols.rna.denovo.RNA_FragmentMonteCarlo: \u001b[0m\u001b[34mBeginning round 1 of 10\u001b[0m\n",
      "\u001b[0mprotocols.rna.denovo.RNA_FragmentMonteCarlo: \u001b[0mFragment size: 3\n",
      "\u001b[0mprotocols.moves.TrialCounter: \u001b[0m          frag 3 trials=    905;  accepts= 0.1691;  energy_drop/trial=  -0.05201\n",
      "\u001b[0mprotocols.rna.denovo.RNA_FragmentMonteCarlo: \u001b[0m\u001b[34mBeginning round 2 of 10\u001b[0m\n",
      "\u001b[0mprotocols.moves.TrialCounter: \u001b[0m          frag 3 trials=    901;  accepts= 0.1387;  energy_drop/trial=   0.00617\n",
      "\u001b[0mprotocols.rna.denovo.RNA_FragmentMonteCarlo: \u001b[0mChecking base pairs early! Result: 1\n",
      "\u001b[0mprotocols.rna.denovo.RNA_FragmentMonteCarlo: \u001b[0m\u001b[34mBeginning round 3 of 10\u001b[0m\n",
      "\u001b[0mprotocols.moves.TrialCounter: \u001b[0m          frag 3 trials=    884;  accepts= 0.0577;  energy_drop/trial=   0.00002\n",
      "\u001b[0mprotocols.rna.denovo.RNA_FragmentMonteCarlo: \u001b[0m\u001b[34mBeginning round 4 of 10\u001b[0m\n",
      "\u001b[0mprotocols.rna.denovo.RNA_FragmentMonteCarlo: \u001b[0mFragment size: 2\n",
      "\u001b[0mprotocols.moves.TrialCounter: \u001b[0m          frag 2 trials=    903;  accepts= 0.0277;  energy_drop/trial=   0.00579\n",
      "\u001b[0mprotocols.rna.denovo.RNA_FragmentMonteCarlo: \u001b[0m\u001b[34mBeginning round 5 of 10\u001b[0m\n",
      "\u001b[0mprotocols.moves.TrialCounter: \u001b[0m          frag 2 trials=    923;  accepts= 0.0509;  energy_drop/trial=   0.00058\n",
      "\u001b[0mprotocols.rna.denovo.RNA_FragmentMonteCarlo: \u001b[0mChecking loop closure with tolerance of 12 Angstroms! Result: 1\n",
      "\u001b[0mprotocols.rna.denovo.RNA_FragmentMonteCarlo: \u001b[0m\u001b[34mBeginning round 6 of 10\u001b[0m\n",
      "\u001b[0mprotocols.moves.TrialCounter: \u001b[0m          frag 2 trials=    904;  accepts= 0.0332;  energy_drop/trial=   0.00404\n",
      "\u001b[0mprotocols.rna.denovo.RNA_FragmentMonteCarlo: \u001b[0m\u001b[34mBeginning round 7 of 10\u001b[0m\n",
      "\u001b[0mprotocols.rna.denovo.RNA_FragmentMonteCarlo: \u001b[0mFragment size: 1\n",
      "\u001b[0mprotocols.moves.TrialCounter: \u001b[0m          frag 1 trials=    894;  accepts= 0.0772;  energy_drop/trial=   0.00487\n",
      "\u001b[0mprotocols.rna.denovo.RNA_FragmentMonteCarlo: \u001b[0m\u001b[34mBeginning round 8 of 10\u001b[0m\n",
      "\u001b[0mprotocols.moves.TrialCounter: \u001b[0m          frag 1 trials=    900;  accepts= 0.0322;  energy_drop/trial=   0.00677\n",
      "\u001b[0mprotocols.rna.denovo.RNA_FragmentMonteCarlo: \u001b[0m\u001b[34mBeginning round 9 of 10\u001b[0m\n",
      "\u001b[0mprotocols.moves.TrialCounter: \u001b[0m          frag 1 trials=    889;  accepts= 0.0709;  energy_drop/trial=   0.00658\n",
      "\u001b[0mprotocols.rna.denovo.RNA_FragmentMonteCarlo: \u001b[0m\u001b[34mBeginning round 10 of 10\u001b[0m\n",
      "\u001b[0mprotocols.moves.TrialCounter: \u001b[0m          frag 1 trials=    907;  accepts= 0.0551;  energy_drop/trial=   0.00382\n",
      "\u001b[0mprotocols.rna.denovo.RNA_FragmentMonteCarlo: \u001b[0mFinished fragment assembly of S_000006 in 7 seconds.\n",
      "\u001b[0mprotocols.rna.denovo.RNA_FragmentMonteCarlo: \u001b[0mComparing current lores score -94.4195 to automatically determined cutoff: -91.1003 based on 0.2 quantile from 32 models so far\n",
      "\u001b[0mprotocols.rna.denovo.RNA_FragmentMonteCarlo: \u001b[0m\n",
      "------------------------------------------------------------\n",
      " Scores                       Weight   Raw Score Wghtd.Score\n",
      "------------------------------------------------------------\n",
      " rna_data_backbone            1.000       0.000       0.000\n",
      " rna_vdw                      1.000       5.106       5.106\n",
      " rna_base_backbone            1.000      -7.911      -7.911\n",
      " rna_backbone_backbone        1.000       0.000       0.000\n",
      " rna_repulsive                1.000       0.000       0.000\n",
      " rna_base_pair                1.000     -58.015     -58.015\n",
      " rna_base_axis                0.200     -36.136      -7.227\n",
      " rna_base_stagger             1.000     -27.638     -27.638\n",
      " rna_base_stack               1.000      -3.503      -3.503\n",
      " rna_base_stack_axis          0.200     -22.787      -4.557\n",
      " rna_rg                       1.000       8.668       8.668\n",
      " atom_pair_constraint         1.000       0.000       0.000\n",
      " base_pair_constraint         1.000       0.000       0.000\n",
      " linear_chainbreak            5.000       0.132       0.658\n",
      "---------------------------------------------------\n",
      " Total weighted score:                      -94.420\n",
      "\u001b[0mprotocols.rna.denovo.RNA_FragmentMonteCarlo: \u001b[0m\n",
      "\u001b[0mprotocols.rna.denovo.movers.RNA_Minimizer: \u001b[0mOrienting 2' hydroxyls...\n",
      "\u001b[0mprotocols.rna.denovo.movers.RNA_Minimizer: \u001b[0mMinimizing...round= 1\n",
      "\u001b[0mprotocols.rna.denovo.movers.RNA_Minimizer: \u001b[0mOrienting 2' hydroxyls...\n",
      "\u001b[0mprotocols.rna.denovo.movers.RNA_Minimizer: \u001b[0mMinimizing...round= 2\n",
      "\u001b[0mprotocols.rna.denovo.movers.RNA_Minimizer: \u001b[0m\n",
      "------------------------------------------------------------\n",
      " Scores                       Weight   Raw Score Wghtd.Score\n",
      "------------------------------------------------------------\n",
      " fa_atr                       0.210    -210.742     -44.256\n",
      " fa_rep                       0.200      55.495      11.099\n",
      " fa_intra_rep                 0.003     664.439       1.927\n",
      " lk_nonpolar                  0.250      -7.290      -1.823\n",
      " fa_elec_rna_phos_phos        1.700       0.349       0.593\n",
      " rna_torsion                  1.000       5.620       5.620\n",
      " suiteness_bonus              1.000       0.000       0.000\n",
      " rna_sugar_close              0.820       3.709       3.041\n",
      " fa_stack                     0.130    -228.548     -29.711\n",
      " stack_elec                   0.760      -1.130      -0.859\n",
      " geom_sol_fast                0.170      72.140      12.264\n",
      " hbond_sr_bb_sc               0.960       0.000       0.000\n",
      " hbond_lr_bb_sc               0.960      -0.500      -0.480\n",
      " hbond_sc                     0.960     -21.573     -20.710\n",
      " ref                          1.000      50.440      50.440\n",
      " free_suite                   2.000       0.000       0.000\n",
      " free_2HOprime                1.000       0.000       0.000\n",
      " intermol                     1.000       0.000       0.000\n",
      " other_pose                   1.000       0.000       0.000\n",
      " loop_close                   1.000       0.000       0.000\n",
      " linear_chainbreak            5.000       0.005       0.026\n",
      "---------------------------------------------------\n",
      " Total weighted score:                      -12.829\n",
      "\u001b[0mprotocols.rna.denovo.movers.RNA_Minimizer: \u001b[0mRNA minimizer finished in 3 seconds.\n",
      "\u001b[0mprotocols.rna.denovo.RNA_DeNovoProtocol: \u001b[0mMaking silent struct for S_000016\n",
      "\u001b[0mprotocols.rna.denovo.RNA_DeNovoProtocol: \u001b[0mOutputting to silent file: outputs/stem_loop.out\n",
      "\u001b[0mprotocols.rna.setup.RNA_MonteCarloJobDistributor: \u001b[0m\n",
      "\u001b[0mprotocols.rna.setup.RNA_MonteCarloJobDistributor: \u001b[0m\u001b[32mEmbarking on structure 7 of 10\u001b[0m\n",
      "\u001b[0mprotocols.rna.denovo.RNA_FragmentMonteCarlo: \u001b[0mNumber of moving residues: 5\n",
      "\u001b[0mprotocols.rna.denovo.RNA_FragmentMonteCarlo: \u001b[0mNumber of moving chunks: 0\n",
      "\u001b[0mprotocols.rna.denovo.RNA_FragmentMonteCarlo: \u001b[0mUsing 10000 cycles in de novo modeling.\n",
      "\u001b[0mprotocols.rna.denovo.movers.RNA_DeNovoMasterMover: \u001b[0mHeating up... 42 cycles.\n",
      "\u001b[0mprotocols.rna.denovo.RNA_FragmentMonteCarlo: \u001b[0mBeginning main loop...\n",
      "\u001b[0mprotocols.rna.denovo.RNA_FragmentMonteCarlo: \u001b[0m\u001b[34mBeginning round 1 of 10\u001b[0m\n",
      "\u001b[0mprotocols.moves.TrialCounter: \u001b[0m          frag 3 trials=    898;  accepts= 0.2695;  energy_drop/trial=  -0.02659\n",
      "\u001b[0mprotocols.rna.denovo.RNA_FragmentMonteCarlo: \u001b[0m\u001b[34mBeginning round 2 of 10\u001b[0m\n",
      "\u001b[0mprotocols.moves.TrialCounter: \u001b[0m          frag 3 trials=    895;  accepts= 0.1821;  energy_drop/trial=   0.00804\n",
      "\u001b[0mprotocols.rna.denovo.RNA_FragmentMonteCarlo: \u001b[0mChecking base pairs early! Result: 1\n",
      "\u001b[0mprotocols.rna.denovo.RNA_FragmentMonteCarlo: \u001b[0m\u001b[34mBeginning round 3 of 10\u001b[0m\n",
      "\u001b[0mprotocols.moves.TrialCounter: \u001b[0m          frag 3 trials=    919;  accepts= 0.1621;  energy_drop/trial=   0.00739\n",
      "\u001b[0mprotocols.rna.denovo.RNA_FragmentMonteCarlo: \u001b[0m\u001b[34mBeginning round 4 of 10\u001b[0m\n",
      "\u001b[0mprotocols.rna.denovo.RNA_FragmentMonteCarlo: \u001b[0mFragment size: 2\n",
      "\u001b[0mprotocols.moves.TrialCounter: \u001b[0m          frag 2 trials=    919;  accepts= 0.1491;  energy_drop/trial=   0.01368\n",
      "\u001b[0mprotocols.rna.denovo.RNA_FragmentMonteCarlo: \u001b[0m\u001b[34mBeginning round 5 of 10\u001b[0m\n",
      "\u001b[0mprotocols.moves.TrialCounter: \u001b[0m          frag 2 trials=    910;  accepts= 0.1231;  energy_drop/trial=   0.00785\n",
      "\u001b[0mprotocols.rna.denovo.RNA_FragmentMonteCarlo: \u001b[0mChecking loop closure with tolerance of 12 Angstroms! Result: 1\n",
      "\u001b[0mprotocols.rna.denovo.RNA_FragmentMonteCarlo: \u001b[0m\u001b[34mBeginning round 6 of 10\u001b[0m\n",
      "\u001b[0mprotocols.moves.TrialCounter: \u001b[0m          frag 2 trials=    899;  accepts= 0.1179;  energy_drop/trial=   0.00571\n",
      "\u001b[0mprotocols.rna.denovo.RNA_FragmentMonteCarlo: \u001b[0m\u001b[34mBeginning round 7 of 10\u001b[0m\n",
      "\u001b[0mprotocols.rna.denovo.RNA_FragmentMonteCarlo: \u001b[0mFragment size: 1\n",
      "\u001b[0mprotocols.moves.TrialCounter: \u001b[0m          frag 1 trials=    895;  accepts= 0.1385;  energy_drop/trial=   0.01038\n",
      "\u001b[0mprotocols.rna.denovo.RNA_FragmentMonteCarlo: \u001b[0m\u001b[34mBeginning round 8 of 10\u001b[0m\n",
      "\u001b[0mprotocols.moves.TrialCounter: \u001b[0m          frag 1 trials=    892;  accepts= 0.1121;  energy_drop/trial=   0.00454\n",
      "\u001b[0mprotocols.rna.denovo.RNA_FragmentMonteCarlo: \u001b[0m\u001b[34mBeginning round 9 of 10\u001b[0m\n",
      "\u001b[0mprotocols.moves.TrialCounter: \u001b[0m          frag 1 trials=    901;  accepts= 0.1776;  energy_drop/trial=   0.01901\n",
      "\u001b[0mprotocols.rna.denovo.RNA_FragmentMonteCarlo: \u001b[0m\u001b[34mBeginning round 10 of 10\u001b[0m\n",
      "\u001b[0mprotocols.moves.TrialCounter: \u001b[0m          frag 1 trials=    885;  accepts= 0.1910;  energy_drop/trial=   0.00191\n",
      "\u001b[0mprotocols.rna.denovo.RNA_FragmentMonteCarlo: \u001b[0mFinished fragment assembly of S_000007 in 6 seconds.\n",
      "\u001b[0mprotocols.rna.denovo.RNA_FragmentMonteCarlo: \u001b[0mComparing current lores score -90.0243 to automatically determined cutoff: -91.1003 based on 0.2 quantile from 33 models so far\n",
      "\u001b[0mprotocols.rna.denovo.RNA_FragmentMonteCarlo: \u001b[0mFailed score filter.\n",
      "\u001b[0mprotocols.rna.denovo.RNA_FragmentMonteCarlo: \u001b[0m\u001b[31mDid not pass filters. Trying the model again: trial 2 out of 10\u001b[0m\n",
      "\u001b[0mprotocols.rna.denovo.movers.RNA_DeNovoMasterMover: \u001b[0mHeating up... 42 cycles.\n",
      "\u001b[0mprotocols.rna.denovo.RNA_FragmentMonteCarlo: \u001b[0mBeginning main loop...\n",
      "\u001b[0mprotocols.rna.denovo.RNA_FragmentMonteCarlo: \u001b[0m\u001b[34mBeginning round 1 of 10\u001b[0m\n",
      "\u001b[0mprotocols.rna.denovo.RNA_FragmentMonteCarlo: \u001b[0mFragment size: 3\n",
      "\u001b[0mprotocols.moves.TrialCounter: \u001b[0m          frag 3 trials=    894;  accepts= 0.3020;  energy_drop/trial=  -0.01466\n",
      "\u001b[0mprotocols.rna.denovo.RNA_FragmentMonteCarlo: \u001b[0m\u001b[34mBeginning round 2 of 10\u001b[0m\n",
      "\u001b[0mprotocols.moves.TrialCounter: \u001b[0m          frag 3 trials=    914;  accepts= 0.2046;  energy_drop/trial=   0.00502\n",
      "\u001b[0mprotocols.rna.denovo.RNA_FragmentMonteCarlo: \u001b[0mChecking base pairs early! Result: 1\n",
      "\u001b[0mprotocols.rna.denovo.RNA_FragmentMonteCarlo: \u001b[0m\u001b[34mBeginning round 3 of 10\u001b[0m\n",
      "\u001b[0mprotocols.moves.TrialCounter: \u001b[0m          frag 3 trials=    911;  accepts= 0.1625;  energy_drop/trial=   0.01345\n",
      "\u001b[0mprotocols.rna.denovo.RNA_FragmentMonteCarlo: \u001b[0m\u001b[34mBeginning round 4 of 10\u001b[0m\n",
      "\u001b[0mprotocols.rna.denovo.RNA_FragmentMonteCarlo: \u001b[0mFragment size: 2\n",
      "\u001b[0mprotocols.moves.TrialCounter: \u001b[0m          frag 2 trials=    908;  accepts= 0.1938;  energy_drop/trial=   0.00254\n",
      "\u001b[0mprotocols.rna.denovo.RNA_FragmentMonteCarlo: \u001b[0m\u001b[34mBeginning round 5 of 10\u001b[0m\n",
      "\u001b[0mprotocols.moves.TrialCounter: \u001b[0m          frag 2 trials=    900;  accepts= 0.1656;  energy_drop/trial=   0.00792\n",
      "\u001b[0mprotocols.rna.denovo.RNA_FragmentMonteCarlo: \u001b[0mChecking loop closure with tolerance of 12 Angstroms! Result: 1\n",
      "\u001b[0mprotocols.rna.denovo.RNA_FragmentMonteCarlo: \u001b[0m\u001b[34mBeginning round 6 of 10\u001b[0m\n",
      "\u001b[0mprotocols.moves.TrialCounter: \u001b[0m          frag 2 trials=    917;  accepts= 0.1189;  energy_drop/trial=   0.01190\n",
      "\u001b[0mprotocols.rna.denovo.RNA_FragmentMonteCarlo: \u001b[0m\u001b[34mBeginning round 7 of 10\u001b[0m\n",
      "\u001b[0mprotocols.rna.denovo.RNA_FragmentMonteCarlo: \u001b[0mFragment size: 1\n",
      "\u001b[0mprotocols.moves.TrialCounter: \u001b[0m          frag 1 trials=    914;  accepts= 0.1663;  energy_drop/trial=   0.00125\n",
      "\u001b[0mprotocols.rna.denovo.RNA_FragmentMonteCarlo: \u001b[0m\u001b[34mBeginning round 8 of 10\u001b[0m\n",
      "\u001b[0mprotocols.moves.TrialCounter: \u001b[0m          frag 1 trials=    905;  accepts= 0.1481;  energy_drop/trial=  -0.00058\n",
      "\u001b[0mprotocols.rna.denovo.RNA_FragmentMonteCarlo: \u001b[0m\u001b[34mBeginning round 9 of 10\u001b[0m\n",
      "\u001b[0mprotocols.moves.TrialCounter: \u001b[0m          frag 1 trials=    908;  accepts= 0.1366;  energy_drop/trial=   0.02556\n",
      "\u001b[0mprotocols.rna.denovo.RNA_FragmentMonteCarlo: \u001b[0m\u001b[34mBeginning round 10 of 10\u001b[0m\n",
      "\u001b[0mprotocols.moves.TrialCounter: \u001b[0m          frag 1 trials=    902;  accepts= 0.2106;  energy_drop/trial=   0.00068\n",
      "\u001b[0mprotocols.rna.denovo.RNA_FragmentMonteCarlo: \u001b[0mFinished fragment assembly of S_000007 in 6 seconds.\n",
      "\u001b[0mprotocols.rna.denovo.RNA_FragmentMonteCarlo: \u001b[0mComparing current lores score -91.7874 to automatically determined cutoff: -91.1244 based on 0.2 quantile from 34 models so far\n",
      "\u001b[0mprotocols.rna.denovo.RNA_FragmentMonteCarlo: \u001b[0m\n",
      "------------------------------------------------------------\n",
      " Scores                       Weight   Raw Score Wghtd.Score\n",
      "------------------------------------------------------------\n",
      " rna_data_backbone            1.000       0.000       0.000\n",
      " rna_vdw                      1.000       0.056       0.056\n",
      " rna_base_backbone            1.000      -7.142      -7.142\n",
      " rna_backbone_backbone        1.000       0.000       0.000\n",
      " rna_repulsive                1.000       0.000       0.000\n",
      " rna_base_pair                1.000     -52.425     -52.425\n",
      " rna_base_axis                0.200     -32.962      -6.592\n",
      " rna_base_stagger             1.000     -27.205     -27.205\n",
      " rna_base_stack               1.000      -3.503      -3.503\n",
      " rna_base_stack_axis          0.200     -21.465      -4.293\n",
      " rna_rg                       1.000       8.748       8.748\n",
      " atom_pair_constraint         1.000       0.000       0.000\n",
      " base_pair_constraint         1.000       0.000       0.000\n",
      " linear_chainbreak            5.000       0.114       0.569\n",
      "---------------------------------------------------\n",
      " Total weighted score:                      -91.787\n",
      "\u001b[0mprotocols.rna.denovo.RNA_FragmentMonteCarlo: \u001b[0m\n",
      "\u001b[0mprotocols.rna.denovo.movers.RNA_Minimizer: \u001b[0mOrienting 2' hydroxyls...\n",
      "\u001b[0mprotocols.rna.denovo.movers.RNA_Minimizer: \u001b[0mMinimizing...round= 1\n",
      "\u001b[0mprotocols.rna.denovo.movers.RNA_Minimizer: \u001b[0mOrienting 2' hydroxyls...\n",
      "\u001b[0mprotocols.rna.denovo.movers.RNA_Minimizer: \u001b[0mMinimizing...round= 2\n",
      "\u001b[0mprotocols.rna.denovo.movers.RNA_Minimizer: \u001b[0m\n",
      "------------------------------------------------------------\n",
      " Scores                       Weight   Raw Score Wghtd.Score\n",
      "------------------------------------------------------------\n",
      " fa_atr                       0.210    -210.969     -44.304\n",
      " fa_rep                       0.200      56.415      11.283\n",
      " fa_intra_rep                 0.003     150.392       0.436\n",
      " lk_nonpolar                  0.250      -7.509      -1.877\n",
      " fa_elec_rna_phos_phos        1.700       0.452       0.768\n",
      " rna_torsion                  1.000       3.375       3.375\n",
      " suiteness_bonus              1.000       0.000       0.000\n",
      " rna_sugar_close              0.820       4.120       3.379\n",
      " fa_stack                     0.130    -227.779     -29.611\n",
      " stack_elec                   0.760      -0.934      -0.710\n",
      " geom_sol_fast                0.170      73.909      12.564\n",
      " hbond_sr_bb_sc               0.960       0.000       0.000\n",
      " hbond_lr_bb_sc               0.960      -0.631      -0.606\n",
      " hbond_sc                     0.960     -22.279     -21.388\n",
      " ref                          1.000      50.440      50.440\n",
      " free_suite                   2.000       0.000       0.000\n",
      " free_2HOprime                1.000       0.000       0.000\n",
      " intermol                     1.000       0.000       0.000\n",
      " other_pose                   1.000       0.000       0.000\n",
      " loop_close                   1.000       0.000       0.000\n",
      " linear_chainbreak            5.000       0.005       0.024\n",
      "---------------------------------------------------\n",
      " Total weighted score:                      -16.227\n",
      "\u001b[0mprotocols.rna.denovo.movers.RNA_Minimizer: \u001b[0mRNA minimizer finished in 3 seconds.\n",
      "\u001b[0mprotocols.rna.denovo.RNA_DeNovoProtocol: \u001b[0mMaking silent struct for S_000017\n",
      "\u001b[0mprotocols.rna.denovo.RNA_DeNovoProtocol: \u001b[0mOutputting to silent file: outputs/stem_loop.out\n",
      "\u001b[0mprotocols.rna.setup.RNA_MonteCarloJobDistributor: \u001b[0m\n",
      "\u001b[0mprotocols.rna.setup.RNA_MonteCarloJobDistributor: \u001b[0m\u001b[32mEmbarking on structure 8 of 10\u001b[0m\n",
      "\u001b[0mprotocols.rna.denovo.RNA_FragmentMonteCarlo: \u001b[0mNumber of moving residues: 5\n",
      "\u001b[0mprotocols.rna.denovo.RNA_FragmentMonteCarlo: \u001b[0mNumber of moving chunks: 0\n",
      "\u001b[0mprotocols.rna.denovo.RNA_FragmentMonteCarlo: \u001b[0mUsing 10000 cycles in de novo modeling.\n",
      "\u001b[0mprotocols.rna.denovo.movers.RNA_DeNovoMasterMover: \u001b[0mHeating up... 42 cycles.\n",
      "\u001b[0mprotocols.rna.denovo.RNA_FragmentMonteCarlo: \u001b[0mBeginning main loop...\n",
      "\u001b[0mprotocols.rna.denovo.RNA_FragmentMonteCarlo: \u001b[0m\u001b[34mBeginning round 1 of 10\u001b[0m\n",
      "\u001b[0mprotocols.moves.TrialCounter: \u001b[0m          frag 3 trials=    900;  accepts= 0.1833;  energy_drop/trial=  -0.03416\n",
      "\u001b[0mprotocols.rna.denovo.RNA_FragmentMonteCarlo: \u001b[0m\u001b[34mBeginning round 2 of 10\u001b[0m\n",
      "\u001b[0mprotocols.moves.TrialCounter: \u001b[0m          frag 3 trials=    903;  accepts= 0.0543;  energy_drop/trial=  -0.00269\n",
      "\u001b[0mprotocols.rna.denovo.RNA_FragmentMonteCarlo: \u001b[0mChecking base pairs early! Result: 1\n",
      "\u001b[0mprotocols.rna.denovo.RNA_FragmentMonteCarlo: \u001b[0m\u001b[34mBeginning round 3 of 10\u001b[0m\n",
      "\u001b[0mprotocols.moves.TrialCounter: \u001b[0m          frag 3 trials=    892;  accepts= 0.0919;  energy_drop/trial=   0.00405\n",
      "\u001b[0mprotocols.rna.denovo.RNA_FragmentMonteCarlo: \u001b[0m\u001b[34mBeginning round 4 of 10\u001b[0m\n",
      "\u001b[0mprotocols.rna.denovo.RNA_FragmentMonteCarlo: \u001b[0mFragment size: 2\n",
      "\u001b[0mprotocols.moves.TrialCounter: \u001b[0m          frag 2 trials=    905;  accepts= 0.0674;  energy_drop/trial=   0.00671\n",
      "\u001b[0mprotocols.rna.denovo.RNA_FragmentMonteCarlo: \u001b[0m\u001b[34mBeginning round 5 of 10\u001b[0m\n",
      "\u001b[0mprotocols.moves.TrialCounter: \u001b[0m          frag 2 trials=    918;  accepts= 0.0871;  energy_drop/trial=   0.00196\n",
      "\u001b[0mprotocols.rna.denovo.RNA_FragmentMonteCarlo: \u001b[0mChecking loop closure with tolerance of 12 Angstroms! Result: 1\n",
      "\u001b[0mprotocols.rna.denovo.RNA_FragmentMonteCarlo: \u001b[0m\u001b[34mBeginning round 6 of 10\u001b[0m\n",
      "\u001b[0mprotocols.moves.TrialCounter: \u001b[0m          frag 2 trials=    906;  accepts= 0.0342;  energy_drop/trial=   0.00638\n",
      "\u001b[0mprotocols.rna.denovo.RNA_FragmentMonteCarlo: \u001b[0m\u001b[34mBeginning round 7 of 10\u001b[0m\n",
      "\u001b[0mprotocols.rna.denovo.RNA_FragmentMonteCarlo: \u001b[0mFragment size: 1\n",
      "\u001b[0mprotocols.moves.TrialCounter: \u001b[0m          frag 1 trials=    901;  accepts= 0.0877;  energy_drop/trial=   0.01291\n",
      "\u001b[0mprotocols.rna.denovo.RNA_FragmentMonteCarlo: \u001b[0m\u001b[34mBeginning round 8 of 10\u001b[0m\n",
      "\u001b[0mprotocols.moves.TrialCounter: \u001b[0m          frag 1 trials=    896;  accepts= 0.0815;  energy_drop/trial=   0.00907\n",
      "\u001b[0mprotocols.rna.denovo.RNA_FragmentMonteCarlo: \u001b[0m\u001b[34mBeginning round 9 of 10\u001b[0m\n",
      "\u001b[0mprotocols.moves.TrialCounter: \u001b[0m          frag 1 trials=    904;  accepts= 0.0586;  energy_drop/trial=   0.00875\n",
      "\u001b[0mprotocols.rna.denovo.RNA_FragmentMonteCarlo: \u001b[0m\u001b[34mBeginning round 10 of 10\u001b[0m\n",
      "\u001b[0mprotocols.moves.TrialCounter: \u001b[0m          frag 1 trials=    912;  accepts= 0.0746;  energy_drop/trial=  -0.00811\n",
      "\u001b[0mprotocols.rna.denovo.RNA_FragmentMonteCarlo: \u001b[0mFinished fragment assembly of S_000008 in 7 seconds.\n",
      "\u001b[0mprotocols.rna.denovo.RNA_FragmentMonteCarlo: \u001b[0mComparing current lores score -97.3472 to automatically determined cutoff: -91.1244 based on 0.2 quantile from 35 models so far\n",
      "\u001b[0mprotocols.rna.denovo.RNA_FragmentMonteCarlo: \u001b[0m\n",
      "------------------------------------------------------------\n",
      " Scores                       Weight   Raw Score Wghtd.Score\n",
      "------------------------------------------------------------\n",
      " rna_data_backbone            1.000       0.000       0.000\n",
      " rna_vdw                      1.000       2.756       2.756\n",
      " rna_base_backbone            1.000      -8.634      -8.634\n",
      " rna_backbone_backbone        1.000       0.000       0.000\n",
      " rna_repulsive                1.000       0.000       0.000\n",
      " rna_base_pair                1.000     -57.623     -57.623\n",
      " rna_base_axis                0.200     -34.588      -6.918\n",
      " rna_base_stagger             1.000     -28.338     -28.338\n",
      " rna_base_stack               1.000      -3.503      -3.503\n",
      " rna_base_stack_axis          0.200     -22.332      -4.466\n",
      " rna_rg                       1.000       8.947       8.947\n",
      " atom_pair_constraint         1.000       0.000       0.000\n",
      " base_pair_constraint         1.000       0.000       0.000\n",
      " linear_chainbreak            5.000       0.086       0.432\n",
      "---------------------------------------------------\n",
      " Total weighted score:                      -97.347\n",
      "\u001b[0mprotocols.rna.denovo.RNA_FragmentMonteCarlo: \u001b[0m\n",
      "\u001b[0mprotocols.rna.denovo.movers.RNA_Minimizer: \u001b[0mOrienting 2' hydroxyls...\n",
      "\u001b[0mprotocols.rna.denovo.movers.RNA_Minimizer: \u001b[0mMinimizing...round= 1\n",
      "\u001b[0mprotocols.rna.denovo.movers.RNA_Minimizer: \u001b[0mOrienting 2' hydroxyls...\n",
      "\u001b[0mprotocols.rna.denovo.movers.RNA_Minimizer: \u001b[0mMinimizing...round= 2\n",
      "\u001b[0mprotocols.rna.denovo.movers.RNA_Minimizer: \u001b[0m\n",
      "------------------------------------------------------------\n",
      " Scores                       Weight   Raw Score Wghtd.Score\n",
      "------------------------------------------------------------\n",
      " fa_atr                       0.210    -213.669     -44.870\n",
      " fa_rep                       0.200      57.454      11.491\n",
      " fa_intra_rep                 0.003     180.164       0.522\n",
      " lk_nonpolar                  0.250      -8.156      -2.039\n",
      " fa_elec_rna_phos_phos        1.700       0.546       0.928\n",
      " rna_torsion                  1.000       4.517       4.517\n",
      " suiteness_bonus              1.000       0.000       0.000\n",
      " rna_sugar_close              0.820       3.658       3.000\n",
      " fa_stack                     0.130    -232.938     -30.282\n",
      " stack_elec                   0.760      -1.202      -0.913\n",
      " geom_sol_fast                0.170      74.637      12.688\n",
      " hbond_sr_bb_sc               0.960       0.000       0.000\n",
      " hbond_lr_bb_sc               0.960      -0.299      -0.287\n",
      " hbond_sc                     0.960     -22.053     -21.171\n",
      " ref                          1.000      50.440      50.440\n",
      " free_suite                   2.000       0.000       0.000\n",
      " free_2HOprime                1.000       0.000       0.000\n",
      " intermol                     1.000       0.000       0.000\n",
      " other_pose                   1.000       0.000       0.000\n",
      " loop_close                   1.000       0.000       0.000\n",
      " linear_chainbreak            5.000       0.005       0.027\n",
      "---------------------------------------------------\n",
      " Total weighted score:                      -15.950\n",
      "\u001b[0mprotocols.rna.denovo.movers.RNA_Minimizer: \u001b[0mRNA minimizer finished in 3 seconds.\n",
      "\u001b[0mprotocols.rna.denovo.RNA_DeNovoProtocol: \u001b[0mMaking silent struct for S_000018\n",
      "\u001b[0mprotocols.rna.denovo.RNA_DeNovoProtocol: \u001b[0mOutputting to silent file: outputs/stem_loop.out\n",
      "\u001b[0mprotocols.rna.setup.RNA_MonteCarloJobDistributor: \u001b[0m\n",
      "\u001b[0mprotocols.rna.setup.RNA_MonteCarloJobDistributor: \u001b[0m\u001b[32mEmbarking on structure 9 of 10\u001b[0m\n",
      "\u001b[0mprotocols.rna.denovo.RNA_FragmentMonteCarlo: \u001b[0mNumber of moving residues: 5\n",
      "\u001b[0mprotocols.rna.denovo.RNA_FragmentMonteCarlo: \u001b[0mNumber of moving chunks: 0\n",
      "\u001b[0mprotocols.rna.denovo.RNA_FragmentMonteCarlo: \u001b[0mUsing 10000 cycles in de novo modeling.\n",
      "\u001b[0mprotocols.rna.denovo.movers.RNA_DeNovoMasterMover: \u001b[0mHeating up... 42 cycles.\n",
      "\u001b[0mprotocols.rna.denovo.RNA_FragmentMonteCarlo: \u001b[0mBeginning main loop...\n",
      "\u001b[0mprotocols.rna.denovo.RNA_FragmentMonteCarlo: \u001b[0m\u001b[34mBeginning round 1 of 10\u001b[0m\n",
      "\u001b[0mprotocols.moves.TrialCounter: \u001b[0m          frag 3 trials=    890;  accepts= 0.2921;  energy_drop/trial=  -0.02343\n",
      "\u001b[0mprotocols.rna.denovo.RNA_FragmentMonteCarlo: \u001b[0m\u001b[34mBeginning round 2 of 10\u001b[0m\n",
      "\u001b[0mprotocols.moves.TrialCounter: \u001b[0m          frag 3 trials=    894;  accepts= 0.2103;  energy_drop/trial=   0.00337\n",
      "\u001b[0mprotocols.rna.denovo.RNA_FragmentMonteCarlo: \u001b[0mChecking base pairs early! Result: 1\n",
      "\u001b[0mprotocols.rna.denovo.RNA_FragmentMonteCarlo: \u001b[0m\u001b[34mBeginning round 3 of 10\u001b[0m\n",
      "\u001b[0mprotocols.moves.TrialCounter: \u001b[0m          frag 3 trials=    912;  accepts= 0.1886;  energy_drop/trial=   0.00700\n",
      "\u001b[0mprotocols.rna.denovo.RNA_FragmentMonteCarlo: \u001b[0m\u001b[34mBeginning round 4 of 10\u001b[0m\n",
      "\u001b[0mprotocols.rna.denovo.RNA_FragmentMonteCarlo: \u001b[0mFragment size: 2\n",
      "\u001b[0mprotocols.moves.TrialCounter: \u001b[0m          frag 2 trials=    908;  accepts= 0.1443;  energy_drop/trial=   0.00850\n",
      "\u001b[0mprotocols.rna.denovo.RNA_FragmentMonteCarlo: \u001b[0m\u001b[34mBeginning round 5 of 10\u001b[0m\n",
      "\u001b[0mprotocols.moves.TrialCounter: \u001b[0m          frag 2 trials=    904;  accepts= 0.1527;  energy_drop/trial=   0.00892\n",
      "\u001b[0mprotocols.rna.denovo.RNA_FragmentMonteCarlo: \u001b[0mChecking loop closure with tolerance of 12 Angstroms! Result: 1\n",
      "\u001b[0mprotocols.rna.denovo.RNA_FragmentMonteCarlo: \u001b[0m\u001b[34mBeginning round 6 of 10\u001b[0m\n",
      "\u001b[0mprotocols.moves.TrialCounter: \u001b[0m          frag 2 trials=    899;  accepts= 0.1046;  energy_drop/trial=   0.00174\n",
      "\u001b[0mprotocols.rna.denovo.RNA_FragmentMonteCarlo: \u001b[0m\u001b[34mBeginning round 7 of 10\u001b[0m\n",
      "\u001b[0mprotocols.rna.denovo.RNA_FragmentMonteCarlo: \u001b[0mFragment size: 1\n",
      "\u001b[0mprotocols.moves.TrialCounter: \u001b[0m          frag 1 trials=    900;  accepts= 0.1756;  energy_drop/trial=   0.00726\n",
      "\u001b[0mprotocols.rna.denovo.RNA_FragmentMonteCarlo: \u001b[0m\u001b[34mBeginning round 8 of 10\u001b[0m\n",
      "\u001b[0mprotocols.moves.TrialCounter: \u001b[0m          frag 1 trials=    905;  accepts= 0.1304;  energy_drop/trial=   0.01126\n",
      "\u001b[0mprotocols.rna.denovo.RNA_FragmentMonteCarlo: \u001b[0m\u001b[34mBeginning round 9 of 10\u001b[0m\n",
      "\u001b[0mprotocols.moves.TrialCounter: \u001b[0m          frag 1 trials=    907;  accepts= 0.1433;  energy_drop/trial=   0.00653\n",
      "\u001b[0mprotocols.rna.denovo.RNA_FragmentMonteCarlo: \u001b[0m\u001b[34mBeginning round 10 of 10\u001b[0m\n",
      "\u001b[0mprotocols.moves.TrialCounter: \u001b[0m          frag 1 trials=    906;  accepts= 0.2152;  energy_drop/trial=   0.00479\n",
      "\u001b[0mprotocols.rna.denovo.RNA_FragmentMonteCarlo: \u001b[0mFinished fragment assembly of S_000009 in 8 seconds.\n",
      "\u001b[0mprotocols.rna.denovo.RNA_FragmentMonteCarlo: \u001b[0mComparing current lores score -91.0191 to automatically determined cutoff: -91.1244 based on 0.2 quantile from 36 models so far\n",
      "\u001b[0mprotocols.rna.denovo.RNA_FragmentMonteCarlo: \u001b[0mFailed score filter.\n",
      "\u001b[0mprotocols.rna.denovo.RNA_FragmentMonteCarlo: \u001b[0m\u001b[31mDid not pass filters. Trying the model again: trial 2 out of 10\u001b[0m\n",
      "\u001b[0mprotocols.rna.denovo.movers.RNA_DeNovoMasterMover: \u001b[0mHeating up... 42 cycles.\n",
      "\u001b[0mprotocols.rna.denovo.RNA_FragmentMonteCarlo: \u001b[0mBeginning main loop...\n",
      "\u001b[0mprotocols.rna.denovo.RNA_FragmentMonteCarlo: \u001b[0m\u001b[34mBeginning round 1 of 10\u001b[0m\n",
      "\u001b[0mprotocols.rna.denovo.RNA_FragmentMonteCarlo: \u001b[0mFragment size: 3\n",
      "\u001b[0mprotocols.moves.TrialCounter: \u001b[0m          frag 3 trials=    908;  accepts= 0.1652;  energy_drop/trial=  -0.02244\n",
      "\u001b[0mprotocols.rna.denovo.RNA_FragmentMonteCarlo: \u001b[0m\u001b[34mBeginning round 2 of 10\u001b[0m\n",
      "\u001b[0mprotocols.moves.TrialCounter: \u001b[0m          frag 3 trials=    908;  accepts= 0.1388;  energy_drop/trial=   0.01026\n",
      "\u001b[0mprotocols.rna.denovo.RNA_FragmentMonteCarlo: \u001b[0mChecking base pairs early! Result: 1\n",
      "\u001b[0mprotocols.rna.denovo.RNA_FragmentMonteCarlo: \u001b[0m\u001b[34mBeginning round 3 of 10\u001b[0m\n",
      "\u001b[0mprotocols.moves.TrialCounter: \u001b[0m          frag 3 trials=    907;  accepts= 0.0981;  energy_drop/trial=   0.00616\n",
      "\u001b[0mprotocols.rna.denovo.RNA_FragmentMonteCarlo: \u001b[0m\u001b[34mBeginning round 4 of 10\u001b[0m\n",
      "\u001b[0mprotocols.rna.denovo.RNA_FragmentMonteCarlo: \u001b[0mFragment size: 2\n",
      "\u001b[0mprotocols.moves.TrialCounter: \u001b[0m          frag 2 trials=    895;  accepts= 0.0983;  energy_drop/trial=   0.00876\n",
      "\u001b[0mprotocols.rna.denovo.RNA_FragmentMonteCarlo: \u001b[0m\u001b[34mBeginning round 5 of 10\u001b[0m\n",
      "\u001b[0mprotocols.moves.TrialCounter: \u001b[0m          frag 2 trials=    879;  accepts= 0.0535;  energy_drop/trial=   0.00370\n",
      "\u001b[0mprotocols.rna.denovo.RNA_FragmentMonteCarlo: \u001b[0mChecking loop closure with tolerance of 12 Angstroms! Result: 1\n",
      "\u001b[0mprotocols.rna.denovo.RNA_FragmentMonteCarlo: \u001b[0m\u001b[34mBeginning round 6 of 10\u001b[0m\n",
      "\u001b[0mprotocols.moves.TrialCounter: \u001b[0m          frag 2 trials=    904;  accepts= 0.0841;  energy_drop/trial=   0.01281\n",
      "\u001b[0mprotocols.rna.denovo.RNA_FragmentMonteCarlo: \u001b[0m\u001b[34mBeginning round 7 of 10\u001b[0m\n",
      "\u001b[0mprotocols.rna.denovo.RNA_FragmentMonteCarlo: \u001b[0mFragment size: 1\n",
      "\u001b[0mprotocols.moves.TrialCounter: \u001b[0m          frag 1 trials=    895;  accepts= 0.1352;  energy_drop/trial=   0.01113\n",
      "\u001b[0mprotocols.rna.denovo.RNA_FragmentMonteCarlo: \u001b[0m\u001b[34mBeginning round 8 of 10\u001b[0m\n",
      "\u001b[0mprotocols.moves.TrialCounter: \u001b[0m          frag 1 trials=    886;  accepts= 0.1129;  energy_drop/trial=   0.00384\n",
      "\u001b[0mprotocols.rna.denovo.RNA_FragmentMonteCarlo: \u001b[0m\u001b[34mBeginning round 9 of 10\u001b[0m\n",
      "\u001b[0mprotocols.moves.TrialCounter: \u001b[0m          frag 1 trials=    898;  accepts= 0.0679;  energy_drop/trial=   0.01461\n",
      "\u001b[0mprotocols.rna.denovo.RNA_FragmentMonteCarlo: \u001b[0m\u001b[34mBeginning round 10 of 10\u001b[0m\n",
      "\u001b[0mprotocols.moves.TrialCounter: \u001b[0m          frag 1 trials=    893;  accepts= 0.1422;  energy_drop/trial=   0.01164\n",
      "\u001b[0mprotocols.rna.denovo.RNA_FragmentMonteCarlo: \u001b[0mFinished fragment assembly of S_000009 in 7 seconds.\n",
      "\u001b[0mprotocols.rna.denovo.RNA_FragmentMonteCarlo: \u001b[0mComparing current lores score -85.9899 to automatically determined cutoff: -91.1244 based on 0.2 quantile from 37 models so far\n",
      "\u001b[0mprotocols.rna.denovo.RNA_FragmentMonteCarlo: \u001b[0mFailed score filter.\n",
      "\u001b[0mprotocols.rna.denovo.RNA_FragmentMonteCarlo: \u001b[0m\u001b[31mDid not pass filters. Trying the model again: trial 3 out of 10\u001b[0m\n",
      "\u001b[0mprotocols.rna.denovo.movers.RNA_DeNovoMasterMover: \u001b[0mHeating up... 42 cycles.\n",
      "\u001b[0mprotocols.rna.denovo.RNA_FragmentMonteCarlo: \u001b[0mBeginning main loop...\n",
      "\u001b[0mprotocols.rna.denovo.RNA_FragmentMonteCarlo: \u001b[0m\u001b[34mBeginning round 1 of 10\u001b[0m\n",
      "\u001b[0mprotocols.rna.denovo.RNA_FragmentMonteCarlo: \u001b[0mFragment size: 3\n",
      "\u001b[0mprotocols.moves.TrialCounter: \u001b[0m          frag 3 trials=    894;  accepts= 0.1756;  energy_drop/trial=  -0.04131\n",
      "\u001b[0mprotocols.rna.denovo.RNA_FragmentMonteCarlo: \u001b[0m\u001b[34mBeginning round 2 of 10\u001b[0m\n",
      "\u001b[0mprotocols.moves.TrialCounter: \u001b[0m          frag 3 trials=    895;  accepts= 0.1039;  energy_drop/trial=  -0.00168\n",
      "\u001b[0mprotocols.rna.denovo.RNA_FragmentMonteCarlo: \u001b[0mChecking base pairs early! Result: 1\n",
      "\u001b[0mprotocols.rna.denovo.RNA_FragmentMonteCarlo: \u001b[0m\u001b[34mBeginning round 3 of 10\u001b[0m\n",
      "\u001b[0mprotocols.moves.TrialCounter: \u001b[0m          frag 3 trials=    903;  accepts= 0.1030;  energy_drop/trial=   0.01568\n",
      "\u001b[0mprotocols.rna.denovo.RNA_FragmentMonteCarlo: \u001b[0m\u001b[34mBeginning round 4 of 10\u001b[0m\n",
      "\u001b[0mprotocols.rna.denovo.RNA_FragmentMonteCarlo: \u001b[0mFragment size: 2\n",
      "\u001b[0mprotocols.moves.TrialCounter: \u001b[0m          frag 2 trials=    894;  accepts= 0.0358;  energy_drop/trial=   0.00607\n",
      "\u001b[0mprotocols.rna.denovo.RNA_FragmentMonteCarlo: \u001b[0m\u001b[34mBeginning round 5 of 10\u001b[0m\n",
      "\u001b[0mprotocols.moves.TrialCounter: \u001b[0m          frag 2 trials=    905;  accepts= 0.0773;  energy_drop/trial=   0.00739\n",
      "\u001b[0mprotocols.rna.denovo.RNA_FragmentMonteCarlo: \u001b[0mChecking loop closure with tolerance of 12 Angstroms! Result: 1\n",
      "\u001b[0mprotocols.rna.denovo.RNA_FragmentMonteCarlo: \u001b[0m\u001b[34mBeginning round 6 of 10\u001b[0m\n",
      "\u001b[0mprotocols.moves.TrialCounter: \u001b[0m          frag 2 trials=    877;  accepts= 0.0422;  energy_drop/trial=   0.00798\n",
      "\u001b[0mprotocols.rna.denovo.RNA_FragmentMonteCarlo: \u001b[0m\u001b[34mBeginning round 7 of 10\u001b[0m\n",
      "\u001b[0mprotocols.rna.denovo.RNA_FragmentMonteCarlo: \u001b[0mFragment size: 1\n",
      "\u001b[0mprotocols.moves.TrialCounter: \u001b[0m          frag 1 trials=    905;  accepts= 0.0210;  energy_drop/trial=   0.00690\n",
      "\u001b[0mprotocols.rna.denovo.RNA_FragmentMonteCarlo: \u001b[0m\u001b[34mBeginning round 8 of 10\u001b[0m\n",
      "\u001b[0mprotocols.moves.TrialCounter: \u001b[0m          frag 1 trials=    894;  accepts= 0.0570;  energy_drop/trial=   0.00920\n",
      "\u001b[0mprotocols.rna.denovo.RNA_FragmentMonteCarlo: \u001b[0m\u001b[34mBeginning round 9 of 10\u001b[0m\n",
      "\u001b[0mprotocols.moves.TrialCounter: \u001b[0m          frag 1 trials=    896;  accepts= 0.0480;  energy_drop/trial=   0.01077\n",
      "\u001b[0mprotocols.rna.denovo.RNA_FragmentMonteCarlo: \u001b[0m\u001b[34mBeginning round 10 of 10\u001b[0m\n",
      "\u001b[0mprotocols.moves.TrialCounter: \u001b[0m          frag 1 trials=    916;  accepts= 0.1015;  energy_drop/trial=   0.00025\n",
      "\u001b[0mprotocols.rna.denovo.RNA_FragmentMonteCarlo: \u001b[0mFinished fragment assembly of S_000009 in 6 seconds.\n",
      "\u001b[0mprotocols.rna.denovo.RNA_FragmentMonteCarlo: \u001b[0mComparing current lores score -91.9203 to automatically determined cutoff: -91.7874 based on 0.2 quantile from 38 models so far\n",
      "\u001b[0mprotocols.rna.denovo.RNA_FragmentMonteCarlo: \u001b[0m\n",
      "------------------------------------------------------------\n",
      " Scores                       Weight   Raw Score Wghtd.Score\n",
      "------------------------------------------------------------\n",
      " rna_data_backbone            1.000       0.000       0.000\n",
      " rna_vdw                      1.000       0.276       0.276\n",
      " rna_base_backbone            1.000      -5.036      -5.036\n",
      " rna_backbone_backbone        1.000       0.000       0.000\n",
      " rna_repulsive                1.000       0.000       0.000\n",
      " rna_base_pair                1.000     -53.071     -53.071\n",
      " rna_base_axis                0.200     -34.565      -6.913\n",
      " rna_base_stagger             1.000     -28.465     -28.465\n",
      " rna_base_stack               1.000      -3.503      -3.503\n",
      " rna_base_stack_axis          0.200     -22.961      -4.592\n",
      " rna_rg                       1.000       9.230       9.230\n",
      " atom_pair_constraint         1.000       0.000       0.000\n",
      " base_pair_constraint         1.000       0.000       0.000\n",
      " linear_chainbreak            5.000       0.031       0.153\n",
      "---------------------------------------------------\n",
      " Total weighted score:                      -91.920\n",
      "\u001b[0mprotocols.rna.denovo.RNA_FragmentMonteCarlo: \u001b[0m\n",
      "\u001b[0mprotocols.rna.denovo.movers.RNA_Minimizer: \u001b[0mOrienting 2' hydroxyls...\n",
      "\u001b[0mprotocols.rna.denovo.movers.RNA_Minimizer: \u001b[0mMinimizing...round= 1\n",
      "\u001b[0mprotocols.rna.denovo.movers.RNA_Minimizer: \u001b[0mOrienting 2' hydroxyls...\n",
      "\u001b[0mprotocols.rna.denovo.movers.RNA_Minimizer: \u001b[0mMinimizing...round= 2\n",
      "\u001b[0mprotocols.rna.denovo.movers.RNA_Minimizer: \u001b[0m\n",
      "------------------------------------------------------------\n",
      " Scores                       Weight   Raw Score Wghtd.Score\n",
      "------------------------------------------------------------\n",
      " fa_atr                       0.210    -213.265     -44.786\n",
      " fa_rep                       0.200      56.255      11.251\n",
      " fa_intra_rep                 0.003     932.297       2.704\n",
      " lk_nonpolar                  0.250      -4.778      -1.194\n",
      " fa_elec_rna_phos_phos        1.700       0.224       0.381\n",
      " rna_torsion                  1.000       5.784       5.784\n",
      " suiteness_bonus              1.000       0.000       0.000\n",
      " rna_sugar_close              0.820       3.729       3.058\n",
      " fa_stack                     0.130    -226.979     -29.507\n",
      " stack_elec                   0.760      -1.369      -1.040\n",
      " geom_sol_fast                0.170      72.846      12.384\n",
      " hbond_sr_bb_sc               0.960       0.000       0.000\n",
      " hbond_lr_bb_sc               0.960      -0.880      -0.845\n",
      " hbond_sc                     0.960     -20.273     -19.462\n",
      " ref                          1.000      50.440      50.440\n",
      " free_suite                   2.000       0.000       0.000\n",
      " free_2HOprime                1.000       0.000       0.000\n",
      " intermol                     1.000       0.000       0.000\n",
      " other_pose                   1.000       0.000       0.000\n",
      " loop_close                   1.000       0.000       0.000\n",
      " linear_chainbreak            5.000       0.055       0.277\n",
      "---------------------------------------------------\n",
      " Total weighted score:                      -10.557\n",
      "\u001b[0mprotocols.rna.denovo.movers.RNA_Minimizer: \u001b[0mRNA minimizer finished in 3 seconds.\n",
      "\u001b[0mprotocols.rna.denovo.RNA_DeNovoProtocol: \u001b[0mMaking silent struct for S_000019\n",
      "\u001b[0mprotocols.rna.denovo.RNA_DeNovoProtocol: \u001b[0mOutputting to silent file: outputs/stem_loop.out\n",
      "\u001b[0mprotocols.rna.setup.RNA_MonteCarloJobDistributor: \u001b[0m\n",
      "\u001b[0mprotocols.rna.setup.RNA_MonteCarloJobDistributor: \u001b[0m\u001b[32mEmbarking on structure 10 of 10\u001b[0m\n",
      "\u001b[0mprotocols.rna.denovo.RNA_FragmentMonteCarlo: \u001b[0mNumber of moving residues: 5\n",
      "\u001b[0mprotocols.rna.denovo.RNA_FragmentMonteCarlo: \u001b[0mNumber of moving chunks: 0\n",
      "\u001b[0mprotocols.rna.denovo.RNA_FragmentMonteCarlo: \u001b[0mUsing 10000 cycles in de novo modeling.\n",
      "\u001b[0mprotocols.rna.denovo.movers.RNA_DeNovoMasterMover: \u001b[0mHeating up... 42 cycles.\n",
      "\u001b[0mprotocols.rna.denovo.RNA_FragmentMonteCarlo: \u001b[0mBeginning main loop...\n",
      "\u001b[0mprotocols.rna.denovo.RNA_FragmentMonteCarlo: \u001b[0m\u001b[34mBeginning round 1 of 10\u001b[0m\n",
      "\u001b[0mprotocols.moves.TrialCounter: \u001b[0m          frag 3 trials=    900;  accepts= 0.2944;  energy_drop/trial=  -0.02921\n",
      "\u001b[0mprotocols.rna.denovo.RNA_FragmentMonteCarlo: \u001b[0m\u001b[34mBeginning round 2 of 10\u001b[0m\n",
      "\u001b[0mprotocols.moves.TrialCounter: \u001b[0m          frag 3 trials=    878;  accepts= 0.1993;  energy_drop/trial=   0.00128\n",
      "\u001b[0mprotocols.rna.denovo.RNA_FragmentMonteCarlo: \u001b[0mChecking base pairs early! Result: 1\n",
      "\u001b[0mprotocols.rna.denovo.RNA_FragmentMonteCarlo: \u001b[0m\u001b[34mBeginning round 3 of 10\u001b[0m\n",
      "\u001b[0mprotocols.moves.TrialCounter: \u001b[0m          frag 3 trials=    903;  accepts= 0.1916;  energy_drop/trial=   0.00346\n",
      "\u001b[0mprotocols.rna.denovo.RNA_FragmentMonteCarlo: \u001b[0m\u001b[34mBeginning round 4 of 10\u001b[0m\n",
      "\u001b[0mprotocols.rna.denovo.RNA_FragmentMonteCarlo: \u001b[0mFragment size: 2\n",
      "\u001b[0mprotocols.moves.TrialCounter: \u001b[0m          frag 2 trials=    914;  accepts= 0.2133;  energy_drop/trial=   0.01186\n",
      "\u001b[0mprotocols.rna.denovo.RNA_FragmentMonteCarlo: \u001b[0m\u001b[34mBeginning round 5 of 10\u001b[0m\n",
      "\u001b[0mprotocols.moves.TrialCounter: \u001b[0m          frag 2 trials=    899;  accepts= 0.1780;  energy_drop/trial=   0.00083\n",
      "\u001b[0mprotocols.rna.denovo.RNA_FragmentMonteCarlo: \u001b[0mChecking loop closure with tolerance of 12 Angstroms! Result: 1\n",
      "\u001b[0mprotocols.rna.denovo.RNA_FragmentMonteCarlo: \u001b[0m\u001b[34mBeginning round 6 of 10\u001b[0m\n",
      "\u001b[0mprotocols.moves.TrialCounter: \u001b[0m          frag 2 trials=    898;  accepts= 0.1336;  energy_drop/trial=   0.00585\n",
      "\u001b[0mprotocols.rna.denovo.RNA_FragmentMonteCarlo: \u001b[0m\u001b[34mBeginning round 7 of 10\u001b[0m\n",
      "\u001b[0mprotocols.rna.denovo.RNA_FragmentMonteCarlo: \u001b[0mFragment size: 1\n",
      "\u001b[0mprotocols.moves.TrialCounter: \u001b[0m          frag 1 trials=    896;  accepts= 0.1953;  energy_drop/trial=   0.00676\n",
      "\u001b[0mprotocols.rna.denovo.RNA_FragmentMonteCarlo: \u001b[0m\u001b[34mBeginning round 8 of 10\u001b[0m\n",
      "\u001b[0mprotocols.moves.TrialCounter: \u001b[0m          frag 1 trials=    907;  accepts= 0.1731;  energy_drop/trial=   0.00852\n",
      "\u001b[0mprotocols.rna.denovo.RNA_FragmentMonteCarlo: \u001b[0m\u001b[34mBeginning round 9 of 10\u001b[0m\n",
      "\u001b[0mprotocols.moves.TrialCounter: \u001b[0m          frag 1 trials=    895;  accepts= 0.1620;  energy_drop/trial=   0.00826\n",
      "\u001b[0mprotocols.rna.denovo.RNA_FragmentMonteCarlo: \u001b[0m\u001b[34mBeginning round 10 of 10\u001b[0m\n",
      "\u001b[0mprotocols.moves.TrialCounter: \u001b[0m          frag 1 trials=    908;  accepts= 0.1795;  energy_drop/trial=   0.00086\n",
      "\u001b[0mprotocols.rna.denovo.RNA_FragmentMonteCarlo: \u001b[0mFinished fragment assembly of S_000010 in 6 seconds.\n",
      "\u001b[0mprotocols.rna.denovo.RNA_FragmentMonteCarlo: \u001b[0mComparing current lores score -88.6103 to automatically determined cutoff: -91.7874 based on 0.2 quantile from 39 models so far\n",
      "\u001b[0mprotocols.rna.denovo.RNA_FragmentMonteCarlo: \u001b[0mFailed score filter.\n",
      "\u001b[0mprotocols.rna.denovo.RNA_FragmentMonteCarlo: \u001b[0m\u001b[31mDid not pass filters. Trying the model again: trial 2 out of 10\u001b[0m\n",
      "\u001b[0mprotocols.rna.denovo.movers.RNA_DeNovoMasterMover: \u001b[0mHeating up... 42 cycles.\n",
      "\u001b[0mprotocols.rna.denovo.RNA_FragmentMonteCarlo: \u001b[0mBeginning main loop...\n",
      "\u001b[0mprotocols.rna.denovo.RNA_FragmentMonteCarlo: \u001b[0m\u001b[34mBeginning round 1 of 10\u001b[0m\n",
      "\u001b[0mprotocols.rna.denovo.RNA_FragmentMonteCarlo: \u001b[0mFragment size: 3\n",
      "\u001b[0mprotocols.moves.TrialCounter: \u001b[0m          frag 3 trials=    898;  accepts= 0.1069;  energy_drop/trial=  -0.02033\n",
      "\u001b[0mprotocols.rna.denovo.RNA_FragmentMonteCarlo: \u001b[0m\u001b[34mBeginning round 2 of 10\u001b[0m\n",
      "\u001b[0mprotocols.moves.TrialCounter: \u001b[0m          frag 3 trials=    890;  accepts= 0.1258;  energy_drop/trial=   0.01112\n",
      "\u001b[0mprotocols.rna.denovo.RNA_FragmentMonteCarlo: \u001b[0mChecking base pairs early! Result: 1\n",
      "\u001b[0mprotocols.rna.denovo.RNA_FragmentMonteCarlo: \u001b[0m\u001b[34mBeginning round 3 of 10\u001b[0m\n",
      "\u001b[0mprotocols.moves.TrialCounter: \u001b[0m          frag 3 trials=    895;  accepts= 0.0626;  energy_drop/trial=   0.01057\n",
      "\u001b[0mprotocols.rna.denovo.RNA_FragmentMonteCarlo: \u001b[0m\u001b[34mBeginning round 4 of 10\u001b[0m\n",
      "\u001b[0mprotocols.rna.denovo.RNA_FragmentMonteCarlo: \u001b[0mFragment size: 2\n",
      "\u001b[0mprotocols.moves.TrialCounter: \u001b[0m          frag 2 trials=    896;  accepts= 0.0603;  energy_drop/trial=   0.00142\n",
      "\u001b[0mprotocols.rna.denovo.RNA_FragmentMonteCarlo: \u001b[0m\u001b[34mBeginning round 5 of 10\u001b[0m\n",
      "\u001b[0mprotocols.moves.TrialCounter: \u001b[0m          frag 2 trials=    895;  accepts= 0.0358;  energy_drop/trial=   0.00381\n",
      "\u001b[0mprotocols.rna.denovo.RNA_FragmentMonteCarlo: \u001b[0mChecking loop closure with tolerance of 12 Angstroms! Result: 1\n",
      "\u001b[0mprotocols.rna.denovo.RNA_FragmentMonteCarlo: \u001b[0m\u001b[34mBeginning round 6 of 10\u001b[0m\n",
      "\u001b[0mprotocols.moves.TrialCounter: \u001b[0m          frag 2 trials=    913;  accepts= 0.0624;  energy_drop/trial=   0.00167\n",
      "\u001b[0mprotocols.rna.denovo.RNA_FragmentMonteCarlo: \u001b[0m\u001b[34mBeginning round 7 of 10\u001b[0m\n",
      "\u001b[0mprotocols.rna.denovo.RNA_FragmentMonteCarlo: \u001b[0mFragment size: 1\n",
      "\u001b[0mprotocols.moves.TrialCounter: \u001b[0m          frag 1 trials=    891;  accepts= 0.0920;  energy_drop/trial=   0.01310\n",
      "\u001b[0mprotocols.rna.denovo.RNA_FragmentMonteCarlo: \u001b[0m\u001b[34mBeginning round 8 of 10\u001b[0m\n",
      "\u001b[0mprotocols.moves.TrialCounter: \u001b[0m          frag 1 trials=    887;  accepts= 0.0552;  energy_drop/trial=   0.01865\n",
      "\u001b[0mprotocols.rna.denovo.RNA_FragmentMonteCarlo: \u001b[0m\u001b[34mBeginning round 9 of 10\u001b[0m\n",
      "\u001b[0mprotocols.moves.TrialCounter: \u001b[0m          frag 1 trials=    906;  accepts= 0.0353;  energy_drop/trial=   0.01329\n",
      "\u001b[0mprotocols.rna.denovo.RNA_FragmentMonteCarlo: \u001b[0m\u001b[34mBeginning round 10 of 10\u001b[0m\n",
      "\u001b[0mprotocols.moves.TrialCounter: \u001b[0m          frag 1 trials=    900;  accepts= 0.0867;  energy_drop/trial=  -0.00025\n",
      "\u001b[0mprotocols.rna.denovo.RNA_FragmentMonteCarlo: \u001b[0mFinished fragment assembly of S_000010 in 8 seconds.\n",
      "\u001b[0mprotocols.rna.denovo.RNA_FragmentMonteCarlo: \u001b[0mComparing current lores score -90.3844 to automatically determined cutoff: -91.1244 based on 0.2 quantile from 40 models so far\n",
      "\u001b[0mprotocols.rna.denovo.RNA_FragmentMonteCarlo: \u001b[0mFailed score filter.\n",
      "\u001b[0mprotocols.rna.denovo.RNA_FragmentMonteCarlo: \u001b[0m\u001b[31mDid not pass filters. Trying the model again: trial 3 out of 10\u001b[0m\n",
      "\u001b[0mprotocols.rna.denovo.movers.RNA_DeNovoMasterMover: \u001b[0mHeating up... 42 cycles.\n",
      "\u001b[0mprotocols.rna.denovo.RNA_FragmentMonteCarlo: \u001b[0mBeginning main loop...\n",
      "\u001b[0mprotocols.rna.denovo.RNA_FragmentMonteCarlo: \u001b[0m\u001b[34mBeginning round 1 of 10\u001b[0m\n",
      "\u001b[0mprotocols.rna.denovo.RNA_FragmentMonteCarlo: \u001b[0mFragment size: 3\n",
      "\u001b[0mprotocols.moves.TrialCounter: \u001b[0m          frag 3 trials=    907;  accepts= 0.2712;  energy_drop/trial=  -0.02289\n",
      "\u001b[0mprotocols.rna.denovo.RNA_FragmentMonteCarlo: \u001b[0m\u001b[34mBeginning round 2 of 10\u001b[0m\n",
      "\u001b[0mprotocols.moves.TrialCounter: \u001b[0m          frag 3 trials=    909;  accepts= 0.2024;  energy_drop/trial=   0.01466\n",
      "\u001b[0mprotocols.rna.denovo.RNA_FragmentMonteCarlo: \u001b[0mChecking base pairs early! Result: 1\n",
      "\u001b[0mprotocols.rna.denovo.RNA_FragmentMonteCarlo: \u001b[0m\u001b[34mBeginning round 3 of 10\u001b[0m\n",
      "\u001b[0mprotocols.moves.TrialCounter: \u001b[0m          frag 3 trials=    900;  accepts= 0.1533;  energy_drop/trial=   0.00649\n",
      "\u001b[0mprotocols.rna.denovo.RNA_FragmentMonteCarlo: \u001b[0m\u001b[34mBeginning round 4 of 10\u001b[0m\n",
      "\u001b[0mprotocols.rna.denovo.RNA_FragmentMonteCarlo: \u001b[0mFragment size: 2\n",
      "\u001b[0mprotocols.moves.TrialCounter: \u001b[0m          frag 2 trials=    909;  accepts= 0.1815;  energy_drop/trial=   0.01124\n",
      "\u001b[0mprotocols.rna.denovo.RNA_FragmentMonteCarlo: \u001b[0m\u001b[34mBeginning round 5 of 10\u001b[0m\n",
      "\u001b[0mprotocols.moves.TrialCounter: \u001b[0m          frag 2 trials=    886;  accepts= 0.2020;  energy_drop/trial=   0.01881\n",
      "\u001b[0mprotocols.rna.denovo.RNA_FragmentMonteCarlo: \u001b[0mChecking loop closure with tolerance of 12 Angstroms! Result: 1\n",
      "\u001b[0mprotocols.rna.denovo.RNA_FragmentMonteCarlo: \u001b[0m\u001b[34mBeginning round 6 of 10\u001b[0m\n",
      "\u001b[0mprotocols.moves.TrialCounter: \u001b[0m          frag 2 trials=    918;  accepts= 0.1416;  energy_drop/trial=  -0.00005\n",
      "\u001b[0mprotocols.rna.denovo.RNA_FragmentMonteCarlo: \u001b[0m\u001b[34mBeginning round 7 of 10\u001b[0m\n",
      "\u001b[0mprotocols.rna.denovo.RNA_FragmentMonteCarlo: \u001b[0mFragment size: 1\n",
      "\u001b[0mprotocols.moves.TrialCounter: \u001b[0m          frag 1 trials=    907;  accepts= 0.1841;  energy_drop/trial=   0.00801\n",
      "\u001b[0mprotocols.rna.denovo.RNA_FragmentMonteCarlo: \u001b[0m\u001b[34mBeginning round 8 of 10\u001b[0m\n",
      "\u001b[0mprotocols.moves.TrialCounter: \u001b[0m          frag 1 trials=    900;  accepts= 0.1700;  energy_drop/trial=   0.00025\n",
      "\u001b[0mprotocols.rna.denovo.RNA_FragmentMonteCarlo: \u001b[0m\u001b[34mBeginning round 9 of 10\u001b[0m\n",
      "\u001b[0mprotocols.moves.TrialCounter: \u001b[0m          frag 1 trials=    897;  accepts= 0.1583;  energy_drop/trial=   0.00243\n",
      "\u001b[0mprotocols.rna.denovo.RNA_FragmentMonteCarlo: \u001b[0m\u001b[34mBeginning round 10 of 10\u001b[0m\n",
      "\u001b[0mprotocols.moves.TrialCounter: \u001b[0m          frag 1 trials=    896;  accepts= 0.2042;  energy_drop/trial=  -0.00533\n",
      "\u001b[0mprotocols.rna.denovo.RNA_FragmentMonteCarlo: \u001b[0mFinished fragment assembly of S_000010 in 7 seconds.\n",
      "\u001b[0mprotocols.rna.denovo.RNA_FragmentMonteCarlo: \u001b[0mComparing current lores score -89.4019 to automatically determined cutoff: -91.1244 based on 0.2 quantile from 41 models so far\n",
      "\u001b[0mprotocols.rna.denovo.RNA_FragmentMonteCarlo: \u001b[0mFailed score filter.\n",
      "\u001b[0mprotocols.rna.denovo.RNA_FragmentMonteCarlo: \u001b[0m\u001b[31mDid not pass filters. Trying the model again: trial 4 out of 10\u001b[0m\n",
      "\u001b[0mprotocols.rna.denovo.movers.RNA_DeNovoMasterMover: \u001b[0mHeating up... 42 cycles.\n",
      "\u001b[0mprotocols.rna.denovo.RNA_FragmentMonteCarlo: \u001b[0mBeginning main loop...\n",
      "\u001b[0mprotocols.rna.denovo.RNA_FragmentMonteCarlo: \u001b[0m\u001b[34mBeginning round 1 of 10\u001b[0m\n",
      "\u001b[0mprotocols.rna.denovo.RNA_FragmentMonteCarlo: \u001b[0mFragment size: 3\n",
      "\u001b[0mprotocols.moves.TrialCounter: \u001b[0m          frag 3 trials=    901;  accepts= 0.1765;  energy_drop/trial=  -0.03647\n",
      "\u001b[0mprotocols.rna.denovo.RNA_FragmentMonteCarlo: \u001b[0m\u001b[34mBeginning round 2 of 10\u001b[0m\n",
      "\u001b[0mprotocols.moves.TrialCounter: \u001b[0m          frag 3 trials=    902;  accepts= 0.1519;  energy_drop/trial=   0.00565\n",
      "\u001b[0mprotocols.rna.denovo.RNA_FragmentMonteCarlo: \u001b[0mChecking base pairs early! Result: 1\n",
      "\u001b[0mprotocols.rna.denovo.RNA_FragmentMonteCarlo: \u001b[0m\u001b[34mBeginning round 3 of 10\u001b[0m\n",
      "\u001b[0mprotocols.moves.TrialCounter: \u001b[0m          frag 3 trials=    891;  accepts= 0.0438;  energy_drop/trial=  -0.00142\n",
      "\u001b[0mprotocols.rna.denovo.RNA_FragmentMonteCarlo: \u001b[0m\u001b[34mBeginning round 4 of 10\u001b[0m\n",
      "\u001b[0mprotocols.rna.denovo.RNA_FragmentMonteCarlo: \u001b[0mFragment size: 2\n",
      "\u001b[0mprotocols.moves.TrialCounter: \u001b[0m          frag 2 trials=    889;  accepts= 0.0607;  energy_drop/trial=   0.00160\n",
      "\u001b[0mprotocols.rna.denovo.RNA_FragmentMonteCarlo: \u001b[0m\u001b[34mBeginning round 5 of 10\u001b[0m\n",
      "\u001b[0mprotocols.moves.TrialCounter: \u001b[0m          frag 2 trials=    903;  accepts= 0.0997;  energy_drop/trial=   0.00652\n",
      "\u001b[0mprotocols.rna.denovo.RNA_FragmentMonteCarlo: \u001b[0mChecking loop closure with tolerance of 12 Angstroms! Result: 1\n",
      "\u001b[0mprotocols.rna.denovo.RNA_FragmentMonteCarlo: \u001b[0m\u001b[34mBeginning round 6 of 10\u001b[0m\n",
      "\u001b[0mprotocols.moves.TrialCounter: \u001b[0m          frag 2 trials=    905;  accepts= 0.1017;  energy_drop/trial=   0.00338\n",
      "\u001b[0mprotocols.rna.denovo.RNA_FragmentMonteCarlo: \u001b[0m\u001b[34mBeginning round 7 of 10\u001b[0m\n",
      "\u001b[0mprotocols.rna.denovo.RNA_FragmentMonteCarlo: \u001b[0mFragment size: 1\n",
      "\u001b[0mprotocols.moves.TrialCounter: \u001b[0m          frag 1 trials=    893;  accepts= 0.0918;  energy_drop/trial=   0.00957\n",
      "\u001b[0mprotocols.rna.denovo.RNA_FragmentMonteCarlo: \u001b[0m\u001b[34mBeginning round 8 of 10\u001b[0m\n",
      "\u001b[0mprotocols.moves.TrialCounter: \u001b[0m          frag 1 trials=    908;  accepts= 0.0529;  energy_drop/trial=   0.00659\n",
      "\u001b[0mprotocols.rna.denovo.RNA_FragmentMonteCarlo: \u001b[0m\u001b[34mBeginning round 9 of 10\u001b[0m\n",
      "\u001b[0mprotocols.moves.TrialCounter: \u001b[0m          frag 1 trials=    894;  accepts= 0.0649;  energy_drop/trial=   0.00802\n",
      "\u001b[0mprotocols.rna.denovo.RNA_FragmentMonteCarlo: \u001b[0m\u001b[34mBeginning round 10 of 10\u001b[0m\n",
      "\u001b[0mprotocols.moves.TrialCounter: \u001b[0m          frag 1 trials=    910;  accepts= 0.1538;  energy_drop/trial=   0.00415\n",
      "\u001b[0mprotocols.rna.denovo.RNA_FragmentMonteCarlo: \u001b[0mFinished fragment assembly of S_000010 in 7 seconds.\n",
      "\u001b[0mprotocols.rna.denovo.RNA_FragmentMonteCarlo: \u001b[0mComparing current lores score -88.4029 to automatically determined cutoff: -91.1244 based on 0.2 quantile from 42 models so far\n",
      "\u001b[0mprotocols.rna.denovo.RNA_FragmentMonteCarlo: \u001b[0mFailed score filter.\n",
      "\u001b[0mprotocols.rna.denovo.RNA_FragmentMonteCarlo: \u001b[0m\u001b[31mDid not pass filters. Trying the model again: trial 5 out of 10\u001b[0m\n",
      "\u001b[0mprotocols.rna.denovo.movers.RNA_DeNovoMasterMover: \u001b[0mHeating up... 42 cycles.\n",
      "\u001b[0mprotocols.rna.denovo.RNA_FragmentMonteCarlo: \u001b[0mBeginning main loop...\n",
      "\u001b[0mprotocols.rna.denovo.RNA_FragmentMonteCarlo: \u001b[0m\u001b[34mBeginning round 1 of 10\u001b[0m\n",
      "\u001b[0mprotocols.rna.denovo.RNA_FragmentMonteCarlo: \u001b[0mFragment size: 3\n",
      "\u001b[0mprotocols.moves.TrialCounter: \u001b[0m          frag 3 trials=    903;  accepts= 0.1395;  energy_drop/trial=  -0.00951\n",
      "\u001b[0mprotocols.rna.denovo.RNA_FragmentMonteCarlo: \u001b[0m\u001b[34mBeginning round 2 of 10\u001b[0m\n",
      "\u001b[0mprotocols.moves.TrialCounter: \u001b[0m          frag 3 trials=    893;  accepts= 0.0739;  energy_drop/trial=   0.01648\n",
      "\u001b[0mprotocols.rna.denovo.RNA_FragmentMonteCarlo: \u001b[0mChecking base pairs early! Result: 1\n",
      "\u001b[0mprotocols.rna.denovo.RNA_FragmentMonteCarlo: \u001b[0m\u001b[34mBeginning round 3 of 10\u001b[0m\n",
      "\u001b[0mprotocols.moves.TrialCounter: \u001b[0m          frag 3 trials=    907;  accepts= 0.0496;  energy_drop/trial=   0.00070\n",
      "\u001b[0mprotocols.rna.denovo.RNA_FragmentMonteCarlo: \u001b[0m\u001b[34mBeginning round 4 of 10\u001b[0m\n",
      "\u001b[0mprotocols.rna.denovo.RNA_FragmentMonteCarlo: \u001b[0mFragment size: 2\n",
      "\u001b[0mprotocols.moves.TrialCounter: \u001b[0m          frag 2 trials=    904;  accepts= 0.0896;  energy_drop/trial=   0.01028\n",
      "\u001b[0mprotocols.rna.denovo.RNA_FragmentMonteCarlo: \u001b[0m\u001b[34mBeginning round 5 of 10\u001b[0m\n",
      "\u001b[0mprotocols.moves.TrialCounter: \u001b[0m          frag 2 trials=    906;  accepts= 0.0740;  energy_drop/trial=   0.01057\n",
      "\u001b[0mprotocols.rna.denovo.RNA_FragmentMonteCarlo: \u001b[0mChecking loop closure with tolerance of 12 Angstroms! Result: 1\n",
      "\u001b[0mprotocols.rna.denovo.RNA_FragmentMonteCarlo: \u001b[0m\u001b[34mBeginning round 6 of 10\u001b[0m\n",
      "\u001b[0mprotocols.moves.TrialCounter: \u001b[0m          frag 2 trials=    903;  accepts= 0.0609;  energy_drop/trial=   0.01206\n",
      "\u001b[0mprotocols.rna.denovo.RNA_FragmentMonteCarlo: \u001b[0m\u001b[34mBeginning round 7 of 10\u001b[0m\n",
      "\u001b[0mprotocols.rna.denovo.RNA_FragmentMonteCarlo: \u001b[0mFragment size: 1\n",
      "\u001b[0mprotocols.moves.TrialCounter: \u001b[0m          frag 1 trials=    914;  accepts= 0.0514;  energy_drop/trial=   0.02141\n",
      "\u001b[0mprotocols.rna.denovo.RNA_FragmentMonteCarlo: \u001b[0m\u001b[34mBeginning round 8 of 10\u001b[0m\n",
      "\u001b[0mprotocols.moves.TrialCounter: \u001b[0m          frag 1 trials=    909;  accepts= 0.0583;  energy_drop/trial=   0.00667\n",
      "\u001b[0mprotocols.rna.denovo.RNA_FragmentMonteCarlo: \u001b[0m\u001b[34mBeginning round 9 of 10\u001b[0m\n",
      "\u001b[0mprotocols.moves.TrialCounter: \u001b[0m          frag 1 trials=    912;  accepts= 0.0537;  energy_drop/trial=   0.00310\n",
      "\u001b[0mprotocols.rna.denovo.RNA_FragmentMonteCarlo: \u001b[0m\u001b[34mBeginning round 10 of 10\u001b[0m\n",
      "\u001b[0mprotocols.moves.TrialCounter: \u001b[0m          frag 1 trials=    898;  accepts= 0.0668;  energy_drop/trial=   0.00388\n",
      "\u001b[0mprotocols.rna.denovo.RNA_FragmentMonteCarlo: \u001b[0mFinished fragment assembly of S_000010 in 6 seconds.\n",
      "\u001b[0mprotocols.rna.denovo.RNA_FragmentMonteCarlo: \u001b[0mComparing current lores score -90.0788 to automatically determined cutoff: -91.1244 based on 0.2 quantile from 43 models so far\n",
      "\u001b[0mprotocols.rna.denovo.RNA_FragmentMonteCarlo: \u001b[0mFailed score filter.\n",
      "\u001b[0mprotocols.rna.denovo.RNA_FragmentMonteCarlo: \u001b[0m\u001b[31mDid not pass filters. Trying the model again: trial 6 out of 10\u001b[0m\n",
      "\u001b[0mprotocols.rna.denovo.movers.RNA_DeNovoMasterMover: \u001b[0mHeating up... 42 cycles.\n",
      "\u001b[0mprotocols.rna.denovo.RNA_FragmentMonteCarlo: \u001b[0mBeginning main loop...\n",
      "\u001b[0mprotocols.rna.denovo.RNA_FragmentMonteCarlo: \u001b[0m\u001b[34mBeginning round 1 of 10\u001b[0m\n",
      "\u001b[0mprotocols.rna.denovo.RNA_FragmentMonteCarlo: \u001b[0mFragment size: 3\n",
      "\u001b[0mprotocols.moves.TrialCounter: \u001b[0m          frag 3 trials=    901;  accepts= 0.2708;  energy_drop/trial=  -0.13368\n",
      "\u001b[0mprotocols.rna.denovo.RNA_FragmentMonteCarlo: \u001b[0m\u001b[34mBeginning round 2 of 10\u001b[0m\n",
      "\u001b[0mprotocols.moves.TrialCounter: \u001b[0m          frag 3 trials=    898;  accepts= 0.2038;  energy_drop/trial=   0.01013\n",
      "\u001b[0mprotocols.rna.denovo.RNA_FragmentMonteCarlo: \u001b[0mChecking base pairs early! Result: 1\n",
      "\u001b[0mprotocols.rna.denovo.RNA_FragmentMonteCarlo: \u001b[0m\u001b[34mBeginning round 3 of 10\u001b[0m\n",
      "\u001b[0mprotocols.moves.TrialCounter: \u001b[0m          frag 3 trials=    913;  accepts= 0.2092;  energy_drop/trial=   0.00911\n",
      "\u001b[0mprotocols.rna.denovo.RNA_FragmentMonteCarlo: \u001b[0m\u001b[34mBeginning round 4 of 10\u001b[0m\n",
      "\u001b[0mprotocols.rna.denovo.RNA_FragmentMonteCarlo: \u001b[0mFragment size: 2\n",
      "\u001b[0mprotocols.moves.TrialCounter: \u001b[0m          frag 2 trials=    894;  accepts= 0.1510;  energy_drop/trial=   0.00275\n",
      "\u001b[0mprotocols.rna.denovo.RNA_FragmentMonteCarlo: \u001b[0m\u001b[34mBeginning round 5 of 10\u001b[0m\n",
      "\u001b[0mprotocols.moves.TrialCounter: \u001b[0m          frag 2 trials=    891;  accepts= 0.1403;  energy_drop/trial=   0.00532\n",
      "\u001b[0mprotocols.rna.denovo.RNA_FragmentMonteCarlo: \u001b[0mChecking loop closure with tolerance of 12 Angstroms! Result: 1\n",
      "\u001b[0mprotocols.rna.denovo.RNA_FragmentMonteCarlo: \u001b[0m\u001b[34mBeginning round 6 of 10\u001b[0m\n",
      "\u001b[0mprotocols.moves.TrialCounter: \u001b[0m          frag 2 trials=    900;  accepts= 0.1022;  energy_drop/trial=   0.00647\n",
      "\u001b[0mprotocols.rna.denovo.RNA_FragmentMonteCarlo: \u001b[0m\u001b[34mBeginning round 7 of 10\u001b[0m\n",
      "\u001b[0mprotocols.rna.denovo.RNA_FragmentMonteCarlo: \u001b[0mFragment size: 1\n",
      "\u001b[0mprotocols.moves.TrialCounter: \u001b[0m          frag 1 trials=    895;  accepts= 0.1061;  energy_drop/trial=   0.00951\n",
      "\u001b[0mprotocols.rna.denovo.RNA_FragmentMonteCarlo: \u001b[0m\u001b[34mBeginning round 8 of 10\u001b[0m\n",
      "\u001b[0mprotocols.moves.TrialCounter: \u001b[0m          frag 1 trials=    901;  accepts= 0.1565;  energy_drop/trial=   0.01272\n",
      "\u001b[0mprotocols.rna.denovo.RNA_FragmentMonteCarlo: \u001b[0m\u001b[34mBeginning round 9 of 10\u001b[0m\n",
      "\u001b[0mprotocols.moves.TrialCounter: \u001b[0m          frag 1 trials=    898;  accepts= 0.1459;  energy_drop/trial=   0.02775\n",
      "\u001b[0mprotocols.rna.denovo.RNA_FragmentMonteCarlo: \u001b[0m\u001b[34mBeginning round 10 of 10\u001b[0m\n",
      "\u001b[0mprotocols.moves.TrialCounter: \u001b[0m          frag 1 trials=    898;  accepts= 0.2249;  energy_drop/trial=   0.00573\n",
      "\u001b[0mprotocols.rna.denovo.RNA_FragmentMonteCarlo: \u001b[0mFinished fragment assembly of S_000010 in 7 seconds.\n",
      "\u001b[0mprotocols.rna.denovo.RNA_FragmentMonteCarlo: \u001b[0mComparing current lores score -89.001 to automatically determined cutoff: -91.1244 based on 0.2 quantile from 44 models so far\n",
      "\u001b[0mprotocols.rna.denovo.RNA_FragmentMonteCarlo: \u001b[0mFailed score filter.\n",
      "\u001b[0mprotocols.rna.denovo.RNA_FragmentMonteCarlo: \u001b[0m\u001b[31mDid not pass filters. Trying the model again: trial 7 out of 10\u001b[0m\n",
      "\u001b[0mprotocols.rna.denovo.movers.RNA_DeNovoMasterMover: \u001b[0mHeating up... 42 cycles.\n",
      "\u001b[0mprotocols.rna.denovo.RNA_FragmentMonteCarlo: \u001b[0mBeginning main loop...\n",
      "\u001b[0mprotocols.rna.denovo.RNA_FragmentMonteCarlo: \u001b[0m\u001b[34mBeginning round 1 of 10\u001b[0m\n",
      "\u001b[0mprotocols.rna.denovo.RNA_FragmentMonteCarlo: \u001b[0mFragment size: 3\n",
      "\u001b[0mprotocols.moves.TrialCounter: \u001b[0m          frag 3 trials=    901;  accepts= 0.2908;  energy_drop/trial=  -0.01154\n",
      "\u001b[0mprotocols.rna.denovo.RNA_FragmentMonteCarlo: \u001b[0m\u001b[34mBeginning round 2 of 10\u001b[0m\n",
      "\u001b[0mprotocols.moves.TrialCounter: \u001b[0m          frag 3 trials=    901;  accepts= 0.2253;  energy_drop/trial=  -0.00026\n",
      "\u001b[0mprotocols.rna.denovo.RNA_FragmentMonteCarlo: \u001b[0mChecking base pairs early! Result: 1\n",
      "\u001b[0mprotocols.rna.denovo.RNA_FragmentMonteCarlo: \u001b[0m\u001b[34mBeginning round 3 of 10\u001b[0m\n",
      "\u001b[0mprotocols.moves.TrialCounter: \u001b[0m          frag 3 trials=    910;  accepts= 0.2176;  energy_drop/trial=   0.00408\n",
      "\u001b[0mprotocols.rna.denovo.RNA_FragmentMonteCarlo: \u001b[0m\u001b[34mBeginning round 4 of 10\u001b[0m\n",
      "\u001b[0mprotocols.rna.denovo.RNA_FragmentMonteCarlo: \u001b[0mFragment size: 2\n",
      "\u001b[0mprotocols.moves.TrialCounter: \u001b[0m          frag 2 trials=    898;  accepts= 0.1871;  energy_drop/trial=   0.02081\n",
      "\u001b[0mprotocols.rna.denovo.RNA_FragmentMonteCarlo: \u001b[0m\u001b[34mBeginning round 5 of 10\u001b[0m\n",
      "\u001b[0mprotocols.moves.TrialCounter: \u001b[0m          frag 2 trials=    901;  accepts= 0.1731;  energy_drop/trial=   0.01200\n",
      "\u001b[0mprotocols.rna.denovo.RNA_FragmentMonteCarlo: \u001b[0mChecking loop closure with tolerance of 12 Angstroms! Result: 1\n",
      "\u001b[0mprotocols.rna.denovo.RNA_FragmentMonteCarlo: \u001b[0m\u001b[34mBeginning round 6 of 10\u001b[0m\n",
      "\u001b[0mprotocols.moves.TrialCounter: \u001b[0m          frag 2 trials=    897;  accepts= 0.1304;  energy_drop/trial=   0.00451\n",
      "\u001b[0mprotocols.rna.denovo.RNA_FragmentMonteCarlo: \u001b[0m\u001b[34mBeginning round 7 of 10\u001b[0m\n",
      "\u001b[0mprotocols.rna.denovo.RNA_FragmentMonteCarlo: \u001b[0mFragment size: 1\n",
      "\u001b[0mprotocols.moves.TrialCounter: \u001b[0m          frag 1 trials=    898;  accepts= 0.1114;  energy_drop/trial=   0.00928\n",
      "\u001b[0mprotocols.rna.denovo.RNA_FragmentMonteCarlo: \u001b[0m\u001b[34mBeginning round 8 of 10\u001b[0m\n",
      "\u001b[0mprotocols.moves.TrialCounter: \u001b[0m          frag 1 trials=    895;  accepts= 0.1441;  energy_drop/trial=   0.01042\n",
      "\u001b[0mprotocols.rna.denovo.RNA_FragmentMonteCarlo: \u001b[0m\u001b[34mBeginning round 9 of 10\u001b[0m\n",
      "\u001b[0mprotocols.moves.TrialCounter: \u001b[0m          frag 1 trials=    900;  accepts= 0.1400;  energy_drop/trial=   0.01827\n",
      "\u001b[0mprotocols.rna.denovo.RNA_FragmentMonteCarlo: \u001b[0m\u001b[34mBeginning round 10 of 10\u001b[0m\n",
      "\u001b[0mprotocols.moves.TrialCounter: \u001b[0m          frag 1 trials=    899;  accepts= 0.2514;  energy_drop/trial=   0.00157\n",
      "\u001b[0mprotocols.rna.denovo.RNA_FragmentMonteCarlo: \u001b[0mFinished fragment assembly of S_000010 in 8 seconds.\n",
      "\u001b[0mprotocols.rna.denovo.RNA_FragmentMonteCarlo: \u001b[0mComparing current lores score -90.4988 to automatically determined cutoff: -91.1003 based on 0.2 quantile from 45 models so far\n",
      "\u001b[0mprotocols.rna.denovo.RNA_FragmentMonteCarlo: \u001b[0mFailed score filter.\n",
      "\u001b[0mprotocols.rna.denovo.RNA_FragmentMonteCarlo: \u001b[0m\u001b[31mDid not pass filters. Trying the model again: trial 8 out of 10\u001b[0m\n",
      "\u001b[0mprotocols.rna.denovo.movers.RNA_DeNovoMasterMover: \u001b[0mHeating up... 42 cycles.\n",
      "\u001b[0mprotocols.rna.denovo.RNA_FragmentMonteCarlo: \u001b[0mBeginning main loop...\n",
      "\u001b[0mprotocols.rna.denovo.RNA_FragmentMonteCarlo: \u001b[0m\u001b[34mBeginning round 1 of 10\u001b[0m\n",
      "\u001b[0mprotocols.rna.denovo.RNA_FragmentMonteCarlo: \u001b[0mFragment size: 3\n",
      "\u001b[0mprotocols.moves.TrialCounter: \u001b[0m          frag 3 trials=    908;  accepts= 0.2445;  energy_drop/trial=  -0.01489\n",
      "\u001b[0mprotocols.rna.denovo.RNA_FragmentMonteCarlo: \u001b[0m\u001b[34mBeginning round 2 of 10\u001b[0m\n",
      "\u001b[0mprotocols.moves.TrialCounter: \u001b[0m          frag 3 trials=    900;  accepts= 0.2011;  energy_drop/trial=   0.00373\n",
      "\u001b[0mprotocols.rna.denovo.RNA_FragmentMonteCarlo: \u001b[0mChecking base pairs early! Result: 1\n",
      "\u001b[0mprotocols.rna.denovo.RNA_FragmentMonteCarlo: \u001b[0m\u001b[34mBeginning round 3 of 10\u001b[0m\n",
      "\u001b[0mprotocols.moves.TrialCounter: \u001b[0m          frag 3 trials=    919;  accepts= 0.1926;  energy_drop/trial=   0.00195\n",
      "\u001b[0mprotocols.rna.denovo.RNA_FragmentMonteCarlo: \u001b[0m\u001b[34mBeginning round 4 of 10\u001b[0m\n",
      "\u001b[0mprotocols.rna.denovo.RNA_FragmentMonteCarlo: \u001b[0mFragment size: 2\n",
      "\u001b[0mprotocols.moves.TrialCounter: \u001b[0m          frag 2 trials=    903;  accepts= 0.2082;  energy_drop/trial=   0.01001\n",
      "\u001b[0mprotocols.rna.denovo.RNA_FragmentMonteCarlo: \u001b[0m\u001b[34mBeginning round 5 of 10\u001b[0m\n",
      "\u001b[0mprotocols.moves.TrialCounter: \u001b[0m          frag 2 trials=    901;  accepts= 0.1776;  energy_drop/trial=   0.00502\n",
      "\u001b[0mprotocols.rna.denovo.RNA_FragmentMonteCarlo: \u001b[0mChecking loop closure with tolerance of 12 Angstroms! Result: 1\n",
      "\u001b[0mprotocols.rna.denovo.RNA_FragmentMonteCarlo: \u001b[0m\u001b[34mBeginning round 6 of 10\u001b[0m\n",
      "\u001b[0mprotocols.moves.TrialCounter: \u001b[0m          frag 2 trials=    908;  accepts= 0.1388;  energy_drop/trial=   0.00790\n",
      "\u001b[0mprotocols.rna.denovo.RNA_FragmentMonteCarlo: \u001b[0m\u001b[34mBeginning round 7 of 10\u001b[0m\n",
      "\u001b[0mprotocols.rna.denovo.RNA_FragmentMonteCarlo: \u001b[0mFragment size: 1\n",
      "\u001b[0mprotocols.moves.TrialCounter: \u001b[0m          frag 1 trials=    902;  accepts= 0.1619;  energy_drop/trial=  -0.00007\n",
      "\u001b[0mprotocols.rna.denovo.RNA_FragmentMonteCarlo: \u001b[0m\u001b[34mBeginning round 8 of 10\u001b[0m\n",
      "\u001b[0mprotocols.moves.TrialCounter: \u001b[0m          frag 1 trials=    909;  accepts= 0.1540;  energy_drop/trial=   0.00224\n",
      "\u001b[0mprotocols.rna.denovo.RNA_FragmentMonteCarlo: \u001b[0m\u001b[34mBeginning round 9 of 10\u001b[0m\n",
      "\u001b[0mprotocols.moves.TrialCounter: \u001b[0m          frag 1 trials=    881;  accepts= 0.1464;  energy_drop/trial=  -0.00073\n",
      "\u001b[0mprotocols.rna.denovo.RNA_FragmentMonteCarlo: \u001b[0m\u001b[34mBeginning round 10 of 10\u001b[0m\n",
      "\u001b[0mprotocols.moves.TrialCounter: \u001b[0m          frag 1 trials=    883;  accepts= 0.2299;  energy_drop/trial=   0.01987\n",
      "\u001b[0mprotocols.rna.denovo.RNA_FragmentMonteCarlo: \u001b[0mFinished fragment assembly of S_000010 in 7 seconds.\n",
      "\u001b[0mprotocols.rna.denovo.RNA_FragmentMonteCarlo: \u001b[0mComparing current lores score -86.6308 to automatically determined cutoff: -91.1003 based on 0.2 quantile from 46 models so far\n",
      "\u001b[0mprotocols.rna.denovo.RNA_FragmentMonteCarlo: \u001b[0mFailed score filter.\n",
      "\u001b[0mprotocols.rna.denovo.RNA_FragmentMonteCarlo: \u001b[0m\u001b[31mDid not pass filters. Trying the model again: trial 9 out of 10\u001b[0m\n",
      "\u001b[0mprotocols.rna.denovo.movers.RNA_DeNovoMasterMover: \u001b[0mHeating up... 42 cycles.\n",
      "\u001b[0mprotocols.rna.denovo.RNA_FragmentMonteCarlo: \u001b[0mBeginning main loop...\n",
      "\u001b[0mprotocols.rna.denovo.RNA_FragmentMonteCarlo: \u001b[0m\u001b[34mBeginning round 1 of 10\u001b[0m\n",
      "\u001b[0mprotocols.rna.denovo.RNA_FragmentMonteCarlo: \u001b[0mFragment size: 3\n",
      "\u001b[0mprotocols.moves.TrialCounter: \u001b[0m          frag 3 trials=    902;  accepts= 0.1486;  energy_drop/trial=  -0.01940\n",
      "\u001b[0mprotocols.rna.denovo.RNA_FragmentMonteCarlo: \u001b[0m\u001b[34mBeginning round 2 of 10\u001b[0m\n",
      "\u001b[0mprotocols.moves.TrialCounter: \u001b[0m          frag 3 trials=    893;  accepts= 0.0784;  energy_drop/trial=   0.00524\n",
      "\u001b[0mprotocols.rna.denovo.RNA_FragmentMonteCarlo: \u001b[0mChecking base pairs early! Result: 1\n",
      "\u001b[0mprotocols.rna.denovo.RNA_FragmentMonteCarlo: \u001b[0m\u001b[34mBeginning round 3 of 10\u001b[0m\n",
      "\u001b[0mprotocols.moves.TrialCounter: \u001b[0m          frag 3 trials=    911;  accepts= 0.0724;  energy_drop/trial=   0.00105\n",
      "\u001b[0mprotocols.rna.denovo.RNA_FragmentMonteCarlo: \u001b[0m\u001b[34mBeginning round 4 of 10\u001b[0m\n",
      "\u001b[0mprotocols.rna.denovo.RNA_FragmentMonteCarlo: \u001b[0mFragment size: 2\n",
      "\u001b[0mprotocols.moves.TrialCounter: \u001b[0m          frag 2 trials=    899;  accepts= 0.0690;  energy_drop/trial=   0.02012\n",
      "\u001b[0mprotocols.rna.denovo.RNA_FragmentMonteCarlo: \u001b[0m\u001b[34mBeginning round 5 of 10\u001b[0m\n",
      "\u001b[0mprotocols.moves.TrialCounter: \u001b[0m          frag 2 trials=    902;  accepts= 0.0565;  energy_drop/trial=   0.01008\n",
      "\u001b[0mprotocols.rna.denovo.RNA_FragmentMonteCarlo: \u001b[0mChecking loop closure with tolerance of 12 Angstroms! Result: 1\n",
      "\u001b[0mprotocols.rna.denovo.RNA_FragmentMonteCarlo: \u001b[0m\u001b[34mBeginning round 6 of 10\u001b[0m\n",
      "\u001b[0mprotocols.moves.TrialCounter: \u001b[0m          frag 2 trials=    893;  accepts= 0.0437;  energy_drop/trial=   0.00134\n",
      "\u001b[0mprotocols.rna.denovo.RNA_FragmentMonteCarlo: \u001b[0m\u001b[34mBeginning round 7 of 10\u001b[0m\n",
      "\u001b[0mprotocols.rna.denovo.RNA_FragmentMonteCarlo: \u001b[0mFragment size: 1\n",
      "\u001b[0mprotocols.moves.TrialCounter: \u001b[0m          frag 1 trials=    885;  accepts= 0.0870;  energy_drop/trial=   0.00652\n",
      "\u001b[0mprotocols.rna.denovo.RNA_FragmentMonteCarlo: \u001b[0m\u001b[34mBeginning round 8 of 10\u001b[0m\n",
      "\u001b[0mprotocols.moves.TrialCounter: \u001b[0m          frag 1 trials=    914;  accepts= 0.0536;  energy_drop/trial=   0.00753\n",
      "\u001b[0mprotocols.rna.denovo.RNA_FragmentMonteCarlo: \u001b[0m\u001b[34mBeginning round 9 of 10\u001b[0m\n",
      "\u001b[0mprotocols.moves.TrialCounter: \u001b[0m          frag 1 trials=    889;  accepts= 0.0529;  energy_drop/trial=   0.01637\n",
      "\u001b[0mprotocols.rna.denovo.RNA_FragmentMonteCarlo: \u001b[0m\u001b[34mBeginning round 10 of 10\u001b[0m\n",
      "\u001b[0mprotocols.moves.TrialCounter: \u001b[0m          frag 1 trials=    905;  accepts= 0.0917;  energy_drop/trial=   0.00344\n",
      "\u001b[0mprotocols.rna.denovo.RNA_FragmentMonteCarlo: \u001b[0mFinished fragment assembly of S_000010 in 6 seconds.\n",
      "\u001b[0mprotocols.rna.denovo.RNA_FragmentMonteCarlo: \u001b[0mComparing current lores score -87.0646 to automatically determined cutoff: -91.1003 based on 0.2 quantile from 47 models so far\n",
      "\u001b[0mprotocols.rna.denovo.RNA_FragmentMonteCarlo: \u001b[0mFailed score filter.\n",
      "\u001b[0mprotocols.rna.denovo.RNA_FragmentMonteCarlo: \u001b[0m\u001b[31mDid not pass filters. Trying the model again: trial 10 out of 10\u001b[0m\n",
      "\u001b[0mprotocols.rna.denovo.movers.RNA_DeNovoMasterMover: \u001b[0mHeating up... 42 cycles.\n",
      "\u001b[0mprotocols.rna.denovo.RNA_FragmentMonteCarlo: \u001b[0mBeginning main loop...\n",
      "\u001b[0mprotocols.rna.denovo.RNA_FragmentMonteCarlo: \u001b[0m\u001b[34mBeginning round 1 of 10\u001b[0m\n",
      "\u001b[0mprotocols.rna.denovo.RNA_FragmentMonteCarlo: \u001b[0mFragment size: 3\n",
      "\u001b[0mprotocols.moves.TrialCounter: \u001b[0m          frag 3 trials=    913;  accepts= 0.3384;  energy_drop/trial=  -0.08144\n",
      "\u001b[0mprotocols.rna.denovo.RNA_FragmentMonteCarlo: \u001b[0m\u001b[34mBeginning round 2 of 10\u001b[0m\n",
      "\u001b[0mprotocols.moves.TrialCounter: \u001b[0m          frag 3 trials=    912;  accepts= 0.2018;  energy_drop/trial=   0.00538\n",
      "\u001b[0mprotocols.rna.denovo.RNA_FragmentMonteCarlo: \u001b[0mChecking base pairs early! Result: 1\n",
      "\u001b[0mprotocols.rna.denovo.RNA_FragmentMonteCarlo: \u001b[0m\u001b[34mBeginning round 3 of 10\u001b[0m\n",
      "\u001b[0mprotocols.moves.TrialCounter: \u001b[0m          frag 3 trials=    895;  accepts= 0.1732;  energy_drop/trial=   0.00574\n",
      "\u001b[0mprotocols.rna.denovo.RNA_FragmentMonteCarlo: \u001b[0m\u001b[34mBeginning round 4 of 10\u001b[0m\n",
      "\u001b[0mprotocols.rna.denovo.RNA_FragmentMonteCarlo: \u001b[0mFragment size: 2\n",
      "\u001b[0mprotocols.moves.TrialCounter: \u001b[0m          frag 2 trials=    912;  accepts= 0.1974;  energy_drop/trial=   0.01849\n",
      "\u001b[0mprotocols.rna.denovo.RNA_FragmentMonteCarlo: \u001b[0m\u001b[34mBeginning round 5 of 10\u001b[0m\n",
      "\u001b[0mprotocols.moves.TrialCounter: \u001b[0m          frag 2 trials=    912;  accepts= 0.1623;  energy_drop/trial=   0.00482\n",
      "\u001b[0mprotocols.rna.denovo.RNA_FragmentMonteCarlo: \u001b[0mChecking loop closure with tolerance of 12 Angstroms! Result: 1\n",
      "\u001b[0mprotocols.rna.denovo.RNA_FragmentMonteCarlo: \u001b[0m\u001b[34mBeginning round 6 of 10\u001b[0m\n",
      "\u001b[0mprotocols.moves.TrialCounter: \u001b[0m          frag 2 trials=    898;  accepts= 0.1414;  energy_drop/trial=   0.00312\n",
      "\u001b[0mprotocols.rna.denovo.RNA_FragmentMonteCarlo: \u001b[0m\u001b[34mBeginning round 7 of 10\u001b[0m\n",
      "\u001b[0mprotocols.rna.denovo.RNA_FragmentMonteCarlo: \u001b[0mFragment size: 1\n",
      "\u001b[0mprotocols.moves.TrialCounter: \u001b[0m          frag 1 trials=    903;  accepts= 0.1584;  energy_drop/trial=   0.01173\n",
      "\u001b[0mprotocols.rna.denovo.RNA_FragmentMonteCarlo: \u001b[0m\u001b[34mBeginning round 8 of 10\u001b[0m\n",
      "\u001b[0mprotocols.moves.TrialCounter: \u001b[0m          frag 1 trials=    894;  accepts= 0.1174;  energy_drop/trial=   0.02140\n",
      "\u001b[0mprotocols.rna.denovo.RNA_FragmentMonteCarlo: \u001b[0m\u001b[34mBeginning round 9 of 10\u001b[0m\n",
      "\u001b[0mprotocols.moves.TrialCounter: \u001b[0m          frag 1 trials=    890;  accepts= 0.1674;  energy_drop/trial=   0.01587\n",
      "\u001b[0mprotocols.rna.denovo.RNA_FragmentMonteCarlo: \u001b[0m\u001b[34mBeginning round 10 of 10\u001b[0m\n",
      "\u001b[0mprotocols.moves.TrialCounter: \u001b[0m          frag 1 trials=    921;  accepts= 0.2465;  energy_drop/trial=   0.00308\n",
      "\u001b[0mprotocols.rna.denovo.RNA_FragmentMonteCarlo: \u001b[0mFinished fragment assembly of S_000010 in 6 seconds.\n",
      "\u001b[0mprotocols.rna.denovo.RNA_FragmentMonteCarlo: \u001b[0mComparing current lores score -87.9397 to automatically determined cutoff: -91.1003 based on 0.2 quantile from 48 models so far\n",
      "\u001b[0mprotocols.rna.denovo.RNA_FragmentMonteCarlo: \u001b[0mFailed score filter.\n",
      "\u001b[0mprotocols.rna.denovo.RNA_FragmentMonteCarlo: \u001b[0m\n",
      "------------------------------------------------------------\n",
      " Scores                       Weight   Raw Score Wghtd.Score\n",
      "------------------------------------------------------------\n",
      " rna_data_backbone            1.000       0.000       0.000\n",
      " rna_vdw                      1.000       0.003       0.003\n",
      " rna_base_backbone            1.000      -2.987      -2.987\n",
      " rna_backbone_backbone        1.000       0.000       0.000\n",
      " rna_repulsive                1.000       0.000       0.000\n",
      " rna_base_pair                1.000     -52.934     -52.934\n",
      " rna_base_axis                0.200     -31.866      -6.373\n",
      " rna_base_stagger             1.000     -27.222     -27.222\n",
      " rna_base_stack               1.000      -3.503      -3.503\n",
      " rna_base_stack_axis          0.200     -21.876      -4.375\n",
      " rna_rg                       1.000       8.762       8.762\n",
      " atom_pair_constraint         1.000       0.000       0.000\n",
      " base_pair_constraint         1.000       0.000       0.000\n",
      " linear_chainbreak            5.000       0.138       0.689\n",
      "---------------------------------------------------\n",
      " Total weighted score:                      -87.940\n",
      "\u001b[0mprotocols.rna.denovo.RNA_FragmentMonteCarlo: \u001b[0m\n",
      "\u001b[0mprotocols.rna.denovo.movers.RNA_Minimizer: \u001b[0mOrienting 2' hydroxyls...\n",
      "\u001b[0mprotocols.rna.denovo.movers.RNA_Minimizer: \u001b[0mMinimizing...round= 1\n",
      "\u001b[0mprotocols.rna.denovo.movers.RNA_Minimizer: \u001b[0mOrienting 2' hydroxyls...\n",
      "\u001b[0mprotocols.rna.denovo.movers.RNA_Minimizer: \u001b[0mMinimizing...round= 2\n",
      "\u001b[0mprotocols.rna.denovo.movers.RNA_Minimizer: \u001b[0m\n",
      "------------------------------------------------------------\n",
      " Scores                       Weight   Raw Score Wghtd.Score\n",
      "------------------------------------------------------------\n",
      " fa_atr                       0.210    -211.413     -44.397\n",
      " fa_rep                       0.200      56.224      11.245\n",
      " fa_intra_rep                 0.003     148.592       0.431\n",
      " lk_nonpolar                  0.250      -8.003      -2.001\n",
      " fa_elec_rna_phos_phos        1.700       0.387       0.658\n",
      " rna_torsion                  1.000       3.443       3.443\n",
      " suiteness_bonus              1.000       0.000       0.000\n",
      " rna_sugar_close              0.820       3.769       3.091\n",
      " fa_stack                     0.130    -230.719     -29.993\n",
      " stack_elec                   0.760      -0.805      -0.612\n",
      " geom_sol_fast                0.170      74.933      12.739\n",
      " hbond_sr_bb_sc               0.960       0.000       0.000\n",
      " hbond_lr_bb_sc               0.960      -0.407      -0.390\n",
      " hbond_sc                     0.960     -22.544     -21.643\n",
      " ref                          1.000      50.440      50.440\n",
      " free_suite                   2.000       0.000       0.000\n",
      " free_2HOprime                1.000       0.000       0.000\n",
      " intermol                     1.000       0.000       0.000\n",
      " other_pose                   1.000       0.000       0.000\n",
      " loop_close                   1.000       0.000       0.000\n",
      " linear_chainbreak            5.000       0.005       0.024\n",
      "---------------------------------------------------\n",
      " Total weighted score:                      -16.966\n",
      "\u001b[0mprotocols.rna.denovo.movers.RNA_Minimizer: \u001b[0mRNA minimizer finished in 3 seconds.\n",
      "\u001b[0mprotocols.rna.denovo.RNA_DeNovoProtocol: \u001b[0mMaking silent struct for S_000020\n",
      "\u001b[0mprotocols.rna.denovo.RNA_DeNovoProtocol: \u001b[0mOutputting to silent file: outputs/stem_loop.out\n"
     ]
    }
   ],
   "source": [
    "rna_de_novo_pose = rna_de_novo_setup.pose()\n",
    "rna_de_novo_protocol.apply(rna_de_novo_pose)"
   ]
  },
  {
   "cell_type": "markdown",
   "metadata": {},
   "source": [
    "Now that we've generated RNA structures with the FARFAR protocol, let's look at the top scoring structures and compare to those that you generated earlier in this module. \n",
    "\n",
    "Run the following to get the poses from the silent file that FARFAR wrote to."
   ]
  },
  {
   "cell_type": "code",
   "execution_count": 59,
   "metadata": {},
   "outputs": [],
   "source": [
    "poses = poses_from_silent(\"outputs/stem_loop.out\")"
   ]
  },
  {
   "cell_type": "markdown",
   "metadata": {},
   "source": [
    "**Exercise**: Get the best scoring pose generated from FARFAR by iterating through the poses above with a loop (`for pose in poses`...). Make use of the rna_hires_sf that was generated earlier in this notebook to score these structures. Compare the best score with the the score of the `frag_pose` you generated in the previous section. Which is better?"
   ]
  },
  {
   "cell_type": "code",
   "execution_count": 60,
   "metadata": {
    "nbgrader": {
     "grade": true,
     "grade_id": "cell-1f6ca941a1ef90b6",
     "locked": false,
     "points": 0,
     "schema_version": 3,
     "solution": true
    }
   },
   "outputs": [
    {
     "name": "stdout",
     "output_type": "stream",
     "text": [
      "\u001b[0mcore.io.silent.SilentFileData: \u001b[0mReading all structures from outputs/stem_loop.out\n",
      "\u001b[0mcore.io.silent.SilentFileData: \u001b[0mFinished reading 20 structures from outputs/stem_loop.out\n"
     ]
    }
   ],
   "source": [
    "### BEGIN SOLUTION\n",
    "# Get the best scoring pose from fragment assembly\n",
    "best_pose = Pose()\n",
    "best_score = 100000 # Some high value\n",
    "for pose in poses:\n",
    "    cur_score = rna_hires_sf(pose)\n",
    "    if cur_score < best_score:\n",
    "        best_pose = pose\n",
    "        best_score = cur_score\n",
    "### END SOLUTION"
   ]
  },
  {
   "cell_type": "code",
   "execution_count": 61,
   "metadata": {
    "nbgrader": {
     "grade": true,
     "grade_id": "cell-c48c7d1410546aef",
     "locked": false,
     "points": 0,
     "schema_version": 3,
     "solution": true
    },
    "scrolled": true
   },
   "outputs": [
    {
     "name": "stdout",
     "output_type": "stream",
     "text": [
      "-11.241039337616563\n",
      "-16.965964080330625\n"
     ]
    }
   ],
   "source": [
    "### BEGIN SOLUTION\n",
    "print(rna_hires_sf(frag_pose))\n",
    "print(best_score)\n",
    "### END SOLUTION"
   ]
  },
  {
   "cell_type": "markdown",
   "metadata": {},
   "source": [
    "The FARFAR protocol in this section can generate structures with an improved Rosetta score in part because it uses an optimized number of fragment assembly moves for each structure, and in large part because we initialized this run with an idealized A-form helix for the stem portion of our structure. Let's take a look to see what the best pose we generated looks like using the PyMOLMover."
   ]
  },
  {
   "cell_type": "code",
   "execution_count": 62,
   "metadata": {},
   "outputs": [],
   "source": [
    "farfar_pmm = PyMOLMover()\n",
    "farfar_pmm.set_PyMOL_model_name('farfar_pose')\n",
    "farfar_pmm.apply(best_pose)"
   ]
  },
  {
   "cell_type": "markdown",
   "metadata": {},
   "source": [
    "**Exercise**: What motifs and features can you see in the best pose for this sequence from our 10 FARFAR models? What features are missing? How might we recover those features?"
   ]
  },
  {
   "cell_type": "code",
   "execution_count": null,
   "metadata": {},
   "outputs": [],
   "source": []
  },
  {
   "cell_type": "markdown",
   "metadata": {},
   "source": [
    "**Chapter contributors:**\n",
    "\n",
    "- Ramya Rangan (Stanford University)\n",
    "- Matt Adrianowycz (Stanford University)"
   ]
  },
  {
   "cell_type": "markdown",
   "metadata": {},
   "source": [
    "<!--NAVIGATION-->\n",
    "< [RosettaCarbohydrates: Modeling and Design](http://nbviewer.jupyter.org/github/RosettaCommons/PyRosetta.notebooks/blob/master/notebooks/13.02-Glycan-Modeling-and-Design.ipynb) | [Contents](toc.ipynb) | [Index](index.ipynb) | [Modeling Membrane Proteins](http://nbviewer.jupyter.org/github/RosettaCommons/PyRosetta.notebooks/blob/master/notebooks/15.00-Modeling-Membrane-Proteins.ipynb) ><p><a href=\"https://colab.research.google.com/github/RosettaCommons/PyRosetta.notebooks/blob/master/notebooks/14.00-RNA-Basics.ipynb\"><img align=\"left\" src=\"https://colab.research.google.com/assets/colab-badge.svg\" alt=\"Open in Colab\" title=\"Open in Google Colaboratory\"></a>"
   ]
  }
 ],
 "metadata": {
  "celltoolbar": "Create Assignment",
  "kernelspec": {
   "display_name": "Python 3",
   "language": "python",
   "name": "python3"
  },
  "language_info": {
   "codemirror_mode": {
    "name": "ipython",
    "version": 3
   },
   "file_extension": ".py",
   "mimetype": "text/x-python",
   "name": "python",
   "nbconvert_exporter": "python",
   "pygments_lexer": "ipython3",
   "version": "3.7.1"
  },
  "toc": {
   "base_numbering": 1,
   "nav_menu": {},
   "number_sections": true,
   "sideBar": true,
   "skip_h1_title": false,
   "title_cell": "Table of Contents",
   "title_sidebar": "Contents",
   "toc_cell": false,
   "toc_position": {
    "height": "470px",
    "left": "48px",
    "top": "110px",
    "width": "267.984px"
   },
   "toc_section_display": true,
   "toc_window_display": true
  }
 },
 "nbformat": 4,
 "nbformat_minor": 4
}
